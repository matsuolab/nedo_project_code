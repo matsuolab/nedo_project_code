{
 "cells": [
  {
   "cell_type": "code",
   "execution_count": null,
   "metadata": {},
   "outputs": [],
   "source": [
    "\n",
    "%load_ext autoreload\n",
    "%autoreload 2\n",
    "from loaders.loaders import *\n",
    "#from dataset_dict import dataset_dict, output_path\n",
    "#from loaders.RecordDistributor import RecordDistributor\n",
    "#from loaders.CleanedEnglishDataset import WikiBookEn\n",
    "from loaders.OtherDatasets import *\n",
    "#from loaders.PilePythonDataset import PilePythonDataset"
   ]
  },
  {
   "cell_type": "code",
   "execution_count": null,
   "metadata": {},
   "outputs": [],
   "source": [
    "from datasets import load_dataset\n",
    "from loaders.RandomEnglishDataset import RandomEnglishDataset\n",
    "#ds= load_dataset(\"suolyer/pile_stackexchange\",streaming=True,split=\"validation\")\n",
    "#ds = load_dataset(\"Muennighoff/flan\",streaming=True,split=\"train\")\n",
    "#ds=RandomEnglishDataset()\n",
    "\n",
    "#ds = load_dataset(\"kanhatakeyama/TanukiCorpus\",streaming=True,split=\"train\")\n",
    "ds = load_dataset(\"hatakeyama-llm-team/PMC\",streaming=True,split=\"train\")"
   ]
  },
  {
   "cell_type": "code",
   "execution_count": null,
   "metadata": {},
   "outputs": [],
   "source": [
    "ds=PMCDataset2()"
   ]
  },
  {
   "cell_type": "code",
   "execution_count": null,
   "metadata": {},
   "outputs": [],
   "source": [
    "len(ds.dataset)"
   ]
  },
  {
   "cell_type": "code",
   "execution_count": null,
   "metadata": {},
   "outputs": [],
   "source": [
    "loader=(iter(ds))"
   ]
  },
  {
   "cell_type": "code",
   "execution_count": null,
   "metadata": {},
   "outputs": [],
   "source": [
    "for i in range(1000):\n",
    "    print(next(loader))\n",
    "    #break"
   ]
  },
  {
   "cell_type": "code",
   "execution_count": null,
   "metadata": {},
   "outputs": [],
   "source": []
  },
  {
   "cell_type": "code",
   "execution_count": null,
   "metadata": {},
   "outputs": [],
   "source": [
    "next(ds.loader)"
   ]
  },
  {
   "cell_type": "code",
   "execution_count": null,
   "metadata": {},
   "outputs": [],
   "source": [
    "\n",
    "loader=iter(ds)"
   ]
  },
  {
   "cell_type": "code",
   "execution_count": null,
   "metadata": {},
   "outputs": [],
   "source": []
  },
  {
   "cell_type": "code",
   "execution_count": null,
   "metadata": {},
   "outputs": [],
   "source": [
    "import json\n",
    "out_path=\"../data/eng/eng.jsonl\"\n",
    "out_path=\"/data/hatakeyama/python/eng_corpus/eng.jsonl\"\n",
    "from tqdm import tqdm\n",
    "for i in tqdm(range(10**5)):\n",
    "    t=next(loader)[\"text\"]\n",
    "    if t==\"\":\n",
    "        continue\n",
    "\n",
    "    with open(out_path,\"a\") as f:\n",
    "        f.write(json.dumps({\"text\":t},ensure_ascii=False)+\"\\n\")"
   ]
  },
  {
   "cell_type": "code",
   "execution_count": null,
   "metadata": {},
   "outputs": [],
   "source": []
  }
 ],
 "metadata": {
  "kernelspec": {
   "display_name": "textprocess",
   "language": "python",
   "name": "python3"
  },
  "language_info": {
   "codemirror_mode": {
    "name": "ipython",
    "version": 3
   },
   "file_extension": ".py",
   "mimetype": "text/x-python",
   "name": "python",
   "nbconvert_exporter": "python",
   "pygments_lexer": "ipython3",
   "version": "3.12.2"
  }
 },
 "nbformat": 4,
 "nbformat_minor": 2
}
