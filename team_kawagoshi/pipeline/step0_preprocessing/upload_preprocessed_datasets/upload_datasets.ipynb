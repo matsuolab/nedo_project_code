{
 "cells": [
  {
   "cell_type": "code",
   "execution_count": 4,
   "metadata": {},
   "outputs": [
    {
     "name": "stdout",
     "output_type": "stream",
     "text": [
      "\u001b[33mDEPRECATION: Loading egg at /home/ubuntu/miniconda3/envs/.venv/lib/python3.11/site-packages/megatron_core-0.2.0-py3.11.egg is deprecated. pip 24.3 will enforce this behaviour change. A possible replacement is to use pip for package installation.. Discussion can be found at https://github.com/pypa/pip/issues/12330\u001b[0m\u001b[33m\n",
      "\u001b[0m"
     ]
    }
   ],
   "source": [
    "# 必要なライブラリをインストール\n",
    "!pip install -qU \"huggingface_hub[cli]\" datasets"
   ]
  },
  {
   "cell_type": "code",
   "execution_count": 5,
   "metadata": {},
   "outputs": [],
   "source": [
    "REPOSITORY_NAME = \"test_preprocessed_wiki_dataset_gz\"\n",
    "DATASET_PATH = \"~/ucllm_nedo_prod/pipeline/step0_preprocessing/output/filterd_documents/results.filtering.jsonl.gz\""
   ]
  },
  {
   "cell_type": "code",
   "execution_count": null,
   "metadata": {},
   "outputs": [],
   "source": [
    "!huggingface-cli login"
   ]
  },
  {
   "cell_type": "code",
   "execution_count": 6,
   "metadata": {},
   "outputs": [
    {
     "name": "stdout",
     "output_type": "stream",
     "text": [
      "https://huggingface.co/datasets/kawagoshi-llm-team/test_preprocessed_wiki_dataset_gz/blob/main/results.filtering.jsonl.gz\n"
     ]
    }
   ],
   "source": [
    "# REPOSITORY_NAMEが存在しない場合は新規作成される\n",
    "# REPOSITORY_NAMEが存在する場合は、データが上書きされる\n",
    "!huggingface-cli upload --quiet --repo-type=dataset $REPOSITORY_NAME $DATASET_PATH "
   ]
  }
 ],
 "metadata": {
  "kernelspec": {
   "display_name": "Python 3",
   "language": "python",
   "name": "python3"
  },
  "language_info": {
   "codemirror_mode": {
    "name": "ipython",
    "version": 3
   },
   "file_extension": ".py",
   "mimetype": "text/x-python",
   "name": "python",
   "nbconvert_exporter": "python",
   "pygments_lexer": "ipython3",
   "version": "3.11.8"
  }
 },
 "nbformat": 4,
 "nbformat_minor": 2
}
