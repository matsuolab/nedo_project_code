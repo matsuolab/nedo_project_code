{
  "cells": [
    {
      "cell_type": "markdown",
      "metadata": {
        "id": "Badj8wMmOx-Y"
      },
      "source": [
        "#0.環境構築"
      ]
    },
    {
      "cell_type": "markdown",
      "metadata": {
        "id": "903-p8-KQMv5"
      },
      "source": [
        "##0-1.まずは以下のサイトよりDeepInfraのアカウントを作成してください。\n",
        "\n",
        "https://deepinfra.com/"
      ]
    },
    {
      "cell_type": "markdown",
      "metadata": {
        "id": "TQXBxqZeRNrD"
      },
      "source": [
        "##0-2.以下よりAPI KEYを取得してセルにセットしてください。\n",
        "\n",
        "https://deepinfra.com/dash/api_keys"
      ]
    },
    {
      "cell_type": "code",
      "execution_count": null,
      "metadata": {
        "id": "pmuen0OJRmzS"
      },
      "outputs": [],
      "source": [
        "DEEPINFRA_API_KEY = \"eeS07GRd50jqPKjdtINo6jBfcPXS2tig\""
      ]
    },
    {
      "cell_type": "markdown",
      "metadata": {
        "id": "vWtoHEdDcDYQ"
      },
      "source": [
        "##0-3.Google Driveをマウント"
      ]
    },
    {
      "cell_type": "code",
      "execution_count": null,
      "metadata": {
        "colab": {
          "base_uri": "https://localhost:8080/"
        },
        "id": "JZQM2SVEcIAm",
        "outputId": "a71b5494-2519-4dfe-85be-f42cc6cf9993"
      },
      "outputs": [
        {
          "output_type": "stream",
          "name": "stdout",
          "text": [
            "Mounted at /content/drive\n"
          ]
        }
      ],
      "source": [
        "from google.colab import drive\n",
        "drive.mount('/content/drive')"
      ]
    },
    {
      "cell_type": "markdown",
      "metadata": {
        "id": "xCQXX0fzcw72"
      },
      "source": [
        "エクセルファイルの保存先パスを設定してください。"
      ]
    },
    {
      "cell_type": "code",
      "execution_count": null,
      "metadata": {
        "id": "V2UcVHvGcqlH"
      },
      "outputs": [],
      "source": [
        "G_FOLDER = \"/content/drive/MyDrive/松尾研/geniac/データチーム/インストラクションデータ\""
      ]
    },
    {
      "cell_type": "markdown",
      "metadata": {
        "id": "COVCQ0P1SIJ7"
      },
      "source": [
        "##0-4.以下のコードで必要なライブラリのインストールと、APIのテスト実行を行います。"
      ]
    },
    {
      "cell_type": "code",
      "execution_count": null,
      "metadata": {
        "colab": {
          "base_uri": "https://localhost:8080/"
        },
        "id": "bkJRo-EnP5Ub",
        "outputId": "37840a33-1065-4718-e88d-f55584ab4895"
      },
      "outputs": [
        {
          "output_type": "stream",
          "name": "stdout",
          "text": [
            "\u001b[2K     \u001b[90m━━━━━━━━━━━━━━━━━━━━━━━━━━━━━━━━━━━━━━━━\u001b[0m \u001b[32m320.3/320.3 kB\u001b[0m \u001b[31m4.7 MB/s\u001b[0m eta \u001b[36m0:00:00\u001b[0m\n",
            "\u001b[2K     \u001b[90m━━━━━━━━━━━━━━━━━━━━━━━━━━━━━━━━━━━━━━━━\u001b[0m \u001b[32m542.0/542.0 kB\u001b[0m \u001b[31m11.2 MB/s\u001b[0m eta \u001b[36m0:00:00\u001b[0m\n",
            "\u001b[2K     \u001b[90m━━━━━━━━━━━━━━━━━━━━━━━━━━━━━━━━━━━━━━━━\u001b[0m \u001b[32m75.6/75.6 kB\u001b[0m \u001b[31m8.5 MB/s\u001b[0m eta \u001b[36m0:00:00\u001b[0m\n",
            "\u001b[2K     \u001b[90m━━━━━━━━━━━━━━━━━━━━━━━━━━━━━━━━━━━━━━━━\u001b[0m \u001b[32m116.3/116.3 kB\u001b[0m \u001b[31m10.4 MB/s\u001b[0m eta \u001b[36m0:00:00\u001b[0m\n",
            "\u001b[2K     \u001b[90m━━━━━━━━━━━━━━━━━━━━━━━━━━━━━━━━━━━━━━━━\u001b[0m \u001b[32m194.1/194.1 kB\u001b[0m \u001b[31m8.7 MB/s\u001b[0m eta \u001b[36m0:00:00\u001b[0m\n",
            "\u001b[2K     \u001b[90m━━━━━━━━━━━━━━━━━━━━━━━━━━━━━━━━━━━━━━━━\u001b[0m \u001b[32m134.8/134.8 kB\u001b[0m \u001b[31m12.8 MB/s\u001b[0m eta \u001b[36m0:00:00\u001b[0m\n",
            "\u001b[2K     \u001b[90m━━━━━━━━━━━━━━━━━━━━━━━━━━━━━━━━━━━━━━━━\u001b[0m \u001b[32m401.2/401.2 kB\u001b[0m \u001b[31m10.9 MB/s\u001b[0m eta \u001b[36m0:00:00\u001b[0m\n",
            "\u001b[2K     \u001b[90m━━━━━━━━━━━━━━━━━━━━━━━━━━━━━━━━━━━━━━━━\u001b[0m \u001b[32m77.9/77.9 kB\u001b[0m \u001b[31m8.6 MB/s\u001b[0m eta \u001b[36m0:00:00\u001b[0m\n",
            "\u001b[2K     \u001b[90m━━━━━━━━━━━━━━━━━━━━━━━━━━━━━━━━━━━━━━━━\u001b[0m \u001b[32m58.3/58.3 kB\u001b[0m \u001b[31m6.9 MB/s\u001b[0m eta \u001b[36m0:00:00\u001b[0m\n",
            "\u001b[?25h"
          ]
        }
      ],
      "source": [
        "!pip install -qU openai datasets"
      ]
    },
    {
      "cell_type": "code",
      "execution_count": null,
      "metadata": {
        "id": "ZCZYnBU1Oq_O"
      },
      "outputs": [],
      "source": [
        "# Assume openai>=1.0.0\n",
        "from openai import OpenAI\n",
        "\n",
        "# Create an OpenAI client with your deepinfra token and endpoint\n",
        "openai = OpenAI(\n",
        "    api_key=DEEPINFRA_API_KEY,\n",
        "    base_url=\"https://api.deepinfra.com/v1/openai\",\n",
        ")"
      ]
    },
    {
      "cell_type": "code",
      "execution_count": null,
      "metadata": {
        "colab": {
          "base_uri": "https://localhost:8080/"
        },
        "id": "vGu9qHSwbbAP",
        "outputId": "99e54ba7-3091-46c9-a6ca-4080d14f8b80"
      },
      "outputs": [
        {
          "output_type": "stream",
          "name": "stdout",
          "text": [
            " 回答:\\1\n",
            "\n",
            "文法的には正しい文章です。\n"
          ]
        }
      ],
      "source": [
        "chat_completion = openai.chat.completions.create(\n",
        "    model=\"mistralai/Mixtral-8x22B-Instruct-v0.1\",\n",
        "    messages=[{\"role\": \"system\", \"content\": \"あなたは日本語で回答するAIボットです。\"},\n",
        "     {\"role\": \"user\", \"content\": \"以下の文章が文法的に正しいかどうかを評価してください。文法的に正しい場合には1を、誤りを含んでいる場合には0を選択してください。  本件に関しましては、貴社のご要望を踏まえて最適なソリューションをご提案させていただきます次第でございます。\"}],\n",
        ")\n",
        "\n",
        "print(chat_completion.choices[0].message.content)"
      ]
    },
    {
      "cell_type": "markdown",
      "metadata": {
        "id": "YzB9ImkTesTA"
      },
      "source": [
        "#1.データ生成処理の実行"
      ]
    },
    {
      "cell_type": "markdown",
      "metadata": {
        "id": "DxiV6f6NfJ7X"
      },
      "source": [
        "##1-1.プロンプト準備"
      ]
    },
    {
      "cell_type": "markdown",
      "metadata": {
        "id": "zX5aJMAgg7zS"
      },
      "source": [
        "言語理解でのプロンプト例"
      ]
    },
    {
      "cell_type": "code",
      "execution_count": null,
      "metadata": {
        "id": "Y-FY7UBefJE7"
      },
      "outputs": [],
      "source": [
        "PROMPT_TEMPLATE = \"\"\"\n",
        "以下のタスク指示例を参考に、10種類の多様な質問文（input）の文のペアと回答文（output）のスコアを生成してください。\n",
        "\n",
        "要件は以下の通りです：\n",
        "1. 各文で動詞を繰り返さないようにしてください。\n",
        "2. 質問文は、多様なビジネスシーンを想定してください。\n",
        "3. ビジネスで使用する言葉遣いで回答してください。\n",
        "4. です・ます調で回答してください。\n",
        "5. 全ての文は100語以内にしてください。\n",
        "6. タスク指示例のとおり、\"id\", \"instruction\", \"input\", \"output\"をJson形式で回答してください。\n",
        "7. タスク指示例のとおり、\"id\"は1以上の連続した整数値にしてください。\n",
        "8. タスク指示例のとおり、\"instruction\"は固定値にしてください。\n",
        "9. タスク指示例のとおり、\"input\"は100語以内の文のペアにしてください。\n",
        "10. タスク指示例のとおり、\"output\"のスコアは質問文（input）の文のペアの類似度をスコア基準に従って0.0~5.0の数値で評価してください。\n",
        "\n",
        "スコア基準：\n",
        " 4.5以上5.0以下: ほぼ同義\n",
        " 3.5以上4.5未満: 関連が強いが、細かい点で異なる\n",
        " 2.5以上3.5未満: 関連はあるが、重要な部分で異なる\n",
        " 1.5以上2.5未満: 関連性は少しあるが、大部分が異なる\n",
        " 0.5以上1.5未満: ほとんど関連性がない\n",
        " 0.5未満0.0以上: 無関係\n",
        "\n",
        "タスク指示例：\n",
        "$FewShotExamples\n",
        "\"\"\""
      ]
    },
    {
      "cell_type": "code",
      "execution_count": null,
      "metadata": {
        "id": "ykY8WJRrhAmW"
      },
      "outputs": [],
      "source": [
        "FEWSHOT_EXAMPLES = [\n",
        "  {\n",
        "    \"id\": 1,\n",
        "    \"instruction\": \"\"\"以下の質問文（input）の文のペアの類似度を0.0から5.0までのスコアで評価して回答（output）してください。\n",
        "スコアの基準は以下の通りです。\n",
        " 4.5以上5.0以下: ほぼ同義\n",
        " 3.5以上4.5未満: 関連が強いが、細かい点で異なる\n",
        " 2.5以上3.5未満: 関連はあるが、重要な部分で異なる\n",
        " 1.5以上2.5未満: 関連性は少しあるが、大部分が異なる\n",
        " 0.5以上1.5未満: ほとんど関連性がない\n",
        " 0.5未満0.0以上: 無関係\"\"\",\n",
        "    \"input\": \"彼は仕事で成功を収めるために懸命に働きました。彼は職場で良い結果を出すために一生懸命努力しました。\",\n",
        "    \"output\": 4.8\n",
        "  },\n",
        "  {\n",
        "    \"id\": 2,\n",
        "    \"instruction\": \"\"\"以下の質問文（input）の文のペアの類似度を0.0から5.0までのスコアで評価して回答（output）してください。\n",
        "スコアの基準は以下の通りです。\n",
        " 4.5以上5.0以下: ほぼ同義\n",
        " 3.5以上4.5未満: 関連が強いが、細かい点で異なる\n",
        " 2.5以上3.5未満: 関連はあるが、重要な部分で異なる\n",
        " 1.5以上2.5未満: 関連性は少しあるが、大部分が異なる\n",
        " 0.5以上1.5未満: ほとんど関連性がない\n",
        " 0.5未満0.0以上: 無関係\"\"\",\n",
        "    \"input\": \"彼女は食品会社で働いており、新規顧客の獲得に取り組んでいます。彼女は顧客拡大戦略の打ち立てに力を入れています。\",\n",
        "    \"output\": 3.6\n",
        "  },\n",
        "  {\n",
        "    \"id\": 3,\n",
        "    \"instruction\": \"\"\"以下の質問文（input）の文のペアの類似度を0.0から5.0までのスコアで評価して回答（output）してください。\n",
        "スコアの基準は以下の通りです。\n",
        " 4.5以上5.0以下: ほぼ同義\n",
        " 3.5以上4.5未満: 関連が強いが、細かい点で異なる\n",
        " 2.5以上3.5未満: 関連はあるが、重要な部分で異なる\n",
        " 1.5以上2.5未満: 関連性は少しあるが、大部分が異なる\n",
        " 0.5以上1.5未満: ほとんど関連性がない\n",
        " 0.5未満0.0以上: 無関係\"\"\",\n",
        "    \"input\": \"彼は2年前にベンチャー起業を立ち上げ、現在事業の多角化に取り組んでいます。彼は昨年度の実績が認められて、取締役専務から副社長に昇格しました。\",\n",
        "    \"output\": 0.2\n",
        "  }\n",
        "]"
      ]
    },
    {
      "cell_type": "markdown",
      "metadata": {
        "id": "AVTk8bDYfg1t"
      },
      "source": [
        "##1-2.データ生成処理の実行"
      ]
    },
    {
      "cell_type": "markdown",
      "metadata": {
        "id": "tXqlWgh9ibD_"
      },
      "source": [
        "パラメーターをセット"
      ]
    },
    {
      "cell_type": "code",
      "execution_count": null,
      "metadata": {
        "id": "7hnSt_aTiUfq"
      },
      "outputs": [],
      "source": [
        "TEMPERATURE=1 #temperature to use for sampling. 0 means the output is deterministic. Values greater than 1 encourage more diversity\n",
        "MAX_TOKENS=10000\n",
        "LOOP_NUM=1 #1回あたり10件データを生成"
      ]
    },
    {
      "cell_type": "code",
      "execution_count": null,
      "metadata": {
        "id": "_EHtNXw2h5fT"
      },
      "outputs": [],
      "source": [
        "def run_model(PROMPT_TEMPLATE, TEMPERATURE=1, MAX_TOKENS=10000):\n",
        "\n",
        "    chat_completion = openai.chat.completions.create(\n",
        "        model=\"mistralai/Mixtral-8x22B-Instruct-v0.1\",\n",
        "        messages=[{\"role\": \"system\", \"content\": \"あなたは日本語の学習データセットを生成する専門家です。\"},\n",
        "         {\"role\": \"user\", \"content\": PROMPT_TEMPLATE}],\n",
        "        temperature=TEMPERATURE,#temperature to use for sampling. 0 means the output is deterministic. Values greater than 1 encourage more diversity\n",
        "        top_p=0.9,#0 < top_p ≤ 1 Sample from the set of tokens with highest probability such that sum of probabilies is higher than p. Lower values focus on the most probable tokens.Higher values sample more low-probability tokens\n",
        "        max_tokens=MAX_TOKENS,\n",
        "        frequency_penalty=1.3,#-2 ≤ presence_penalty ≤ 2 Positive values penalize new tokens based on how many times they appear in the text so far, increasing the model's likelihood to talk about new topics.\n",
        "        presence_penalty=1.3 #-2 ≤ presence_penalty ≤ 2 Positive values penalize new tokens based on whether they appear in the text so far, increasing the model's likelihood to talk about new topics.\n",
        "        )\n",
        "\n",
        "    output = chat_completion.choices[0].message.content\n",
        "\n",
        "    return output"
      ]
    },
    {
      "cell_type": "code",
      "execution_count": null,
      "metadata": {
        "colab": {
          "base_uri": "https://localhost:8080/",
          "height": 706
        },
        "id": "n48LR43DfJG8",
        "outputId": "8315d5ee-51c3-4f71-c96d-d1f7f64bacab"
      },
      "outputs": [
        {
          "output_type": "stream",
          "name": "stdout",
          "text": [
            " [{'id': 1, 'instruction': '以下の質問文（input）の文のペアの類似度を0.0から5.0までのスコアで評価して回答（output）してください。\\nスコアの基準は以下の通りです。\\n 4.5以上5.0以下: ほぼ同義\\n 3.5以上4.5未満: 関連が強いが、細かい点で異なる\\n 2.5以上3.5未満: 関連はあるが、重要な部分で異なる\\n 1.5以上2.5未満: 関連性は少しあるが、大部分が異なる\\n 0.5以上1.5未満: ほとんど関連性がない\\n 0.5未満0.0以上: 無関係', 'input': '彼女はインフラ開発事業に就いており、国際市場への進出を計画しています。彼女は海外拠点の設立に向けた法的手続きを推進しています。', 'output': 4.3},\n",
            "{'id': 2, 'instruction': '以下の質問文（input）の文のペアの類似度を0.0から5.0までのスコアで評価して回答（output）してください。\\nスコアの基準は以下の通りです。\\n 4.5以上5.0以下: ほぼ同義\\n 3.5以上4.5未満: 関連が強いが、細かい点で異なる\\n 2.5以上3.5未満: 関連はあるが、重要な部分で異なる\\n 1.5以上2.5未満: 関連性は少しあるが、大部分が異なる\\n 0.5以上1.5未満: ほとんど関連性がない\\n 0.5未満0.0以上: 無関係', 'input': '彼はITサービス企業のマネージャーであり、 Organization's Goals の達成に向けた新規事業策定を行っています。彼は最近Organization's Strategies の決定に多大な影響力を与えました。', 'output': 4.0},\n",
            "{'id': 3, 'instruction': '以下の質問文（input）の文のペアの類似度を0.0から5.0までのスコアで評価して回答（output）してください。\\nスコアの基準は以下の通りです。\\n 4.5以上5.0以下: ほぼ同義\\n 3.5以上4.5未満: 関連が強いが、細かい点で異なる\\n 2.5以上3.5未満: 関連はあるが、重要な部分で異なる\\n 1.5以上2.5未満: 関連性は少しあるが、大部分が異なる\\n 0.5以上1.5未満: ほとんど関連性がない\\n 0.5未満0.0以上: 無関係', 'input': '彼女は共同ファンディング事業に就いており、再資金調達を進めています。彼女は最近他社との提携を決定し、事業規模の拡大に向けた取り組みを開始しました。', 'output': 2.7},\n",
            "{'id': 4, 'instruction': '以下の質問文（input）の文のペアの類似度を0.0から5.0までのスコアで評価して回答（output）してください。\\nスコアの基準は以下の通りです。\\n 4.5以上5.0以下: ほぼ同義\\n 3.5以上4.5未満: 関連が強いが、細かい点で異なる\\n 2.5以上3.5未満: 関連はあるが、重要な部分で異なる\\n 1.5以上2.5未満: 関連性は少しあるが、大部分が異なる\\n 0.5以上1.5未満: ほとんど関連性がない\\n 0.5未満0.0以上: 無関係', 'input': '彼は自動車会社に勤め、新車開発に取り組んでいます。彼は最近電気自動車の開発を推進し、将来への対応策を考えています。', 'output': 3.4},\n",
            "{'id': 5, 'instruction': '以下の質問文（input）の文のペアの類似度を0.0から5.0までのスコアで評価して回答（output）してください。\\nスコアの基準は以下の通りです。\\n 4.5以上5.0以下: ほぼ同義\\n 3.5以上4.5未満: 関連が強いが、細かい点で異なる\\n 2.5以上3.5未満: 関連はあるが、重要な部分で異なる\\n 1.5以上2.5未満: 関連性は少しあるが、大部分が異なる\\n 0.5以上1.5未満: ほとんど関連性がない\\n 0.5未満0.0以上: 無関係', 'input': '彼女は医薬品会社に勤め、新製品開発に取り組んでいます。彼女は最近移植人工器官の開発を推進し、社会課題への解決策を模索しています。', 'output': 3.7},\n",
            "{'id': 6, 'instruction': '以下の質問文（input）の文のペアの類似度を0.0から5.0までのスコアで評価して回答（output）してください。\\nスコアの基準は以下の通りです。\\n 4.5以上5.0以下: ほぼ同義\\n 3.5以上4.5未満: 関連が強いが、細かい点で異なる\\n 2.5以上3.5未満: 関連はあるが、重要な部分で異なる\\n 1.5以上2.5未満: 関連性は少しあるが、大部分が異なる\\n 0.5以上1.5未満: ほとんど関連性がない\\n 0.5未満0.0以上: 無関係', 'input': '彼は起業家であり、最近金融科学技術会社を設立しました。彼は社会課題への解決策を模索する事業の立ち上げを進めています。', 'output': 4.2},\n",
            "{'id': 7, 'instruction': '以下の質問文（input）の文のペアの類似度を0.0から5.0までのスコアで評価して回答（output）してください。\\nスコアの基準は以下の通りです。\\n 4.5以上5.0以下: ほぼ同義\\n 3.5以上4.5未満: 関連が強いが、細かい点で異なる\\n 2.5以上3.5未満: 関連はあるが、重要な部分で異なる\\n 1.5以上2.5未満: 関連性は少しあるが、大部分が異なる\\n 0.5以上1.5未満: ほとんど関連性がない\\n 0.5未満0.0以上: 無関係', 'input': '彼女は教育事業を手掛けており、学びのプラットフォームの提供を行っています。彼女は最近ウェブサイト改善を進め、今後の成長への стратеジーを実行しています。', 'output': 3.8},\n",
            "{'id': 8, 'instruction': '以下の質問文（input）の文のペアの類似度を0.0から5.0までのスコアで評価して回答（output）してください。\\nスコアの基準は以下の通りです。\\n 4.5以上5.0以下: ほぼ同義\\n 3.5以上4.5未満: 関連が強いが、細かい点で異なる\\n 2.5以上3.5未満: 関連はあるが、重要な部分で異なる\\n 1.5以上2.5未満: 関連性は少しあるが、大部分が異なる\\n 0.5以上1.5未満: ほとんど関連性がない\\n 0.5未満0.0以上: 無関係', 'input': '彼女は飲食事業に就いており、新品開発に取り組んでいます。彼女は最近定番メニューへのアップデートを決定し、売上高向上への取り組みを始めました。', 'output': 3.9},\n",
            "{'id': 9, 'instruction': '以下の質問文（input）の文のペアの類似度を0.0から5.0までのスコアで評価して回答（output）してください。\\nスコアの基準は以下の通りです。\\n 4.5以上5.0以下: ほぼ同義\\n 3.5以上4.5未満: 関連が強いが、細かい点で異なる\\n 2.5以上3.5未満: 関連はあるが、重要な部分で異なる\\n 1.5以上2.5未満: 関連性は少しあるが、大部分が異なる\\n 0.5以上1.5未満: ほとんど関連性がない\\n 0.5未満0.0以上: 無関係', 'input': '彼女は医療事業に就いており、新製品開発に取り組んでいます。彼女は最近病院内での使用に特化した器具の開発を進め、治療効果の向上に取り組んでいます。', 'output': 3.6},\n",
            "{'id': 10, 'instruction': '以下の質問文（input）の文のペアの類似度を0.0から5.0までのスコアで評価して回答（output）してください。\\nスコアの基準は以下の通りです。\\n 4.5以上5.0以下: ほぼ同義\\n 3.5以上4.5未満: 関連が強いが、細かい点で異なる\\n 2.5以上3.5未満: 関連はあるが、重要な部分で異なる\\n 1.5以上2.5未満: 関連性は少しあるが、大部分が異なる\\n 0.5以上1.5未満: ほとんど関連性がない\\n 0.5未満0.0以上: 無関係', 'input': '彼女はITコンサルティング会社に勤め、新規事業立ち上げに取り組んでいます。彼女は最近データ解析の提供を開始し、デジタル変革への対応策を模索しています。', 'output': 4.0}]\n",
            "Expected object or value\n",
            "Error parsing JSON: 0\n",
            " [{'id': 1, 'instruction': '以下の質問文（input）の文のペアの類似度を0.0から5.0までのスコアで評価して回答（output）してください。\\nスコアの基準は以下の通りです。\\n 4.5以上5.0以下: ほぼ同義\\n 3.5以上4.5未満: 関連が強いが、細かい点で異なる\\n 2.5以上3.5未満: 関連はあるが、重要な部分で異なる\\n 1.5以上2.5未満: 関連性は少しあるが、大部分が異なる\\n 0.5以上1.5未満: ほとんど関連性がない\\n 0.5未満0.0以上: 無関係', 'input': '彼女はプレゼン資料の作成に取り組み、最後まで完成させました。彼女は長時間働き、プレゼン資料を完成させました。', 'output': 4.9}, {'id': 2, 'instruction': '以下の質問文（input）の文のペアの類似度を0.0から5.0までのスコアで評価して回答（output）してください。\\nスコアの基準は以下の通りです。\\n 4.5以上5.0以下: ほぼ同義\\n 3.5以上4.5未満: 関連が強いが、細かい点で異なる\\n 2.5以上3.5未満: 関連はあるが、重要な部分で異なる\\n 1.5以上2.5未満: 関連性は少しあるが、大部分が異なる\\n 0.5以上1.5未満: ほとんど関連性がない\\n 0.5未満0.0以上: 無関係', 'input': '彼らは現在の会社の業界におけるリーダーシップを取得するために全社的に取り組んでいます。彼らは業界内で優れたSUCCESSを目指し、複数の取引先と協力して活動を行っています。', 'output': 3.8}, {'id': 3, 'instruction': '以下の質問文（input）の文のペアの類似度を0.0から5.0までのスコアで評価して回答（output）してください。\\nスコアの基準は以下の通りです。\\n 4.5以上5.0以下: ほぼ同義\\n 3.5以上4.5未満: 関連が強いが、細かい点で異なる\\n 2.5以上3.5未満: 関連はあるが、重要な部分で異なる\\n 1.5以上2.5未満: 関連性は少しあるが、大部分が異なる\\n 0.5以上1.5未満: ほとんど関連性がない\\n 0.5未満0.0以上: 無関係', 'input': '彼女は外資系企業に就職し、現在新たなチャレンジを追っています。彼女は海外事業を展開することに成功し、新規サービスの開発に取り組んでいます。', 'output': 0.1}, {'id': 4, 'instruction': '以下の質問文（input）の文のペアの類似度を0.0から5.0までのスコアで評価して回答（output）してください。\\nスコアの基準は以下の通りです。\\n 4.5以上5.0以下: ほぼ同義\\n 3.5以上4.5未満: 関連が強いが、細かい点で異なる\\n 2.5以上3.5未満: 関連はあるが、重要な部分で異なる\\n 1.5以上2.5未満: 関連性は少しあるが、大部分が異なる\\n 0.5以上1.5未満: ほとんど関連性がない\\n 0.5未満0.0以上: 無関係', 'input': '彼らは研究開発部門に携わり、新製品の開発に力を入れています。彼らは組織内の協力体制を強化し、社内研究開発機構の改善に取り組んでいます。', 'output': 4.2}, {'id': 5, 'instruction': '以下の質問文（input）の文のペアの類似度を0.0から5.0までのスコアで評価して回答（output）してください。\\nスコアの基準は以下の通りです。\\n 4.5以上5.0以下: ほぼ同義\\n 3.5以上4.5未満: 関連が強いが、細かい点で異なる\\n 2.5以上3.5未満: 関連はあるが、重要な部分で異なる\\n 1.5以上2.5未満: 関連性は少しあるが、大部分が異なる\\n 0.5以上1.5未満: ほとんど関連性がない\\n 0.5未満0.0以上: 無関係', 'input': '彼女は新規事業開発チームに所属し、最近取引先とのネゴシエーションに成功しました。彼女は現在社内展開のための導入を検討しています。', 'output': 2.6}, {'id': 6, 'instruction': '以下の質問文（input）の文のペアの類似度を0.0から5.0までのスコアで評価して回答（output）してください。\\nスコアの基準は以下の通りです。\\n 4.5以上5.0以下: ほぼ同義\\n 3.5以上4.5未満: 関連が強いが、細かい点で異なる\\n 2.5以上3.5未満: 関連はあるが、重要な部分で異なる\\n 1.5以上2.5未満: 関連性は少しあるが、大部分が異なる\\n 0.5以上1.5未満: ほとんど関連性がない\\n 0.5未満0.0以上: 無関係', 'input': '彼女は最近中国で企業内の研修を受け、経営スキルを高めました。彼女は現在新規市場の開拓に取り組んでいます。', 'output': 0.8}, {'id': 7, 'instruction': '以下の質問文（input）の文のペアの類似度を0.0から5.0までのスコアで評価して回答（output）してください。\\nスコアの基準は以下の通りです。\\n 4.5以上5.0以下: ほぼ同義\\n 3.5以上4.5未満: 関連が強いが、細かい点で異なる\\n 2.5以上3.5未満: 関連はあるが、重要な部分で異なる\\n 1.5以上2.5未満: 関連性は少しあるが、大部分が異なる\\n 0.5以上1.5未満: ほとんど関連性がない\\n 0.5未満0.0以上: 無関係', 'input': '彼は新規事業開発チームに所属し、最近取引先とのネゴシエーションに成功しました。彼は現在社内展開のための導入を検討しています。', 'output': 2.6}, {'id': 8, 'instruction': '以下の質問文（input）の文のペアの類似度を0.0から5.0までのスコアで評価して回答（output）してください。\\nスコアの基準は以下の通りです。\\n 4.5以上5.0以下: ほぼ同義\\n 3.5以上4.5未満: 関連が強いが、細かい点で異なる\\n 2.5以上3.5未満: 関連はあるが、重要な部分で異なる\\n 1.5以上2.5未満: 関連性は少しあるが、大部分が異なる\\n 0.5以上1.5未満: ほとんど関連性がない\\n 0.5未満0.0以上: 無関係', 'input': '彼女は最近中国で企業内の研修を受け、経営スキルを高めました。彼女は現在新規市場の開拓に取り組んでいます。', 'output': 0.8}, {'id': 9, 'instruction': '以下の質問文（input）の文のペアの類似度を0.0から5.0までのスコアで評価して回答（output）してください。\\nスコアの基準は以下の通りです。\\n 4.5以上5.0以下: ほぼ同義\\n 3.5以上4.5未満: 関連が強いが、細かい点で異なる\\n 2.5以上3.5未満: 関連はあるが、重要な部分で異なる\\n 1.5以上2.5未満: 関連性は少しあるが、大部分が異なる\\n 0.5以上1.5未満: ほとんど関連性がない\\n 0.5未満0.0以上: 無関係', 'input': '彼女は新規市場に入ることに成功し、経常利益を高めました。彼女は現在、取引先とのパートナーシップ構築に取り組んでいます。', 'output': 1.4}, {'id': 10, 'instruction': '以下の質問文（input）の文のペアの類似度を0.0から5.0までのスコアで評価して回答（output）してください。\\nスコアの基準は以下の通りです。\\n 4.5以上5.0以下: ほぼ同義\\n 3.5以上4.5未満: 関連が強いが、細かい点で異なる\\n 2.5以上3.5未満: 関連はあるが、重要な部分で異なる\\n 1.5以上2.5未満: 関連性は少しあるが、大部分が異なる\\n 0.5以上1.5未満: ほとんど関連性がない\\n 0.5未満0.0以上: 無関係', 'input': '彼女は企業内の研修を受け、新規市場の開拓に取り組んでいます。彼女は現在取引先とのネゴシエーションに成功し、導入を検討しています。', 'output': 2.6}]\n",
            "Expected object or value\n",
            "Error parsing JSON: 1\n",
            " [{'id': 1, 'instruction': '以下の質問文（input）の文のペアの類似度を0.0から5.0までのスコアで評価して回答（output）してください。\\nスコアの基準は以下の通りです。\\n 4.5以上5.0以下: ほぼ同義\\n 3.5以上4.5未満: 関連が強いが、細かい点で異なる\\n 2.5以上3.5未満: 関連はあるが、重要な部分で異なる\\n 1.5以上2.5未満: 関連性は少しあるが、大部分が異なる\\n 0.5以上1.5未満: ほとんど関連性がない\\n 0.5未満0.0以上: 無関係', 'input': '彼女は新規事業開発に取り組んでおり、市場調査の結果を分析しています。彼女は事業の成功を目指して市場分析を積極的に行っています。', 'output': 4.6}, {'id': 2, 'instruction': '以下の質問文（input）の文のペアの類似度を0.0から5.0までのスコアで評価して回答（output）してください。\\nスコアの基準は以下の通りです。\\n 4.5以上5.0以下: ほぼ同義\\n 3.5以上4.5未満: 関連が強いが、細かい点で異なる\\n 2.5以上3.5未満: 関連はあるが、重要な部分で異なる\\n 1.5以上2.5未満: 関連性は少しあるが、大部分が異なる\\n 0.5以上1.5未満: ほとんど関連性がない\\n 0.5未満0.0以上: 無関係', 'input': '彼らはコミュニケーションツールを利用してメンバー間で情報共有を行っており、業務効率化に努めています。彼らは一般的なツールではなく、独自のツールを開発した結果、業務の生産性が向上しました。', 'output': 3.8}, {'id': 3, 'instruction': '以下の質問文（input）の文のペアの類似度を0.0から5.0までのスコアで評価して回答（output）してください。\\nスコアの基準は以下の通りです。\\n 4.5以上5.0以下: ほぼ同義\\n 3.5以上4.5未満: 関連が強いが、細かい点で異なる\\n 2.5以上3.5未満: 関連はあるが、重要な部分で異なる\\n 1.5以上2.5未満: 関連性は少しあるが、大部分が異なる\\n 0.5以上1.5未満: ほとんど関連性がない\\n 0.5未満0.0以上: 無関係', 'input': '彼女は海外の支社を創立するにあたり、当該国の法律や税制を把握しています。彼女は現地でのビジネス展開に向けて、市場調査を行っています。', 'output': 3.1}, {'id': 4, 'instruction': '以下の質問文（input）の文のペアの類似度を0.0から5.0までのスコアで評価して回答（output）してください。\\nスコアの基準は以下の通りです。\\n 4.5以上5.0以下: ほぼ同義\\n 3.5以上4.5未満: 関連が強いが、細かい点で異なる\\n 2.5以上3.5未満: 関連はあるが、重要な部分で異なる\\n 1.5以上2.5未満: 関連性は少しあるが、大部分が異なる\\n 0.5以上1.5未満: ほとんど関連性がない\\n 0.5未満0.0以上: 無関係', 'input': '彼女は新製品開発に取り組んでおり、コンシューマーからのフィードバックを反映しています。彼女は改善作業に従事し、製品の修正案を策定しています。', 'output': 4.7}, {'id': 5, 'instruction': '以下の質問文（input）の文のペアの類似度を0.0から5.0までのスコアで評価して回答（output）してください。\\nスコアの基準は以下の通りです。\\n 4.5以上5.0以下: ほぼ同義\\n 3.5以上4.5未満: 関連が強いが、細かい点で異なる\\n 2.5以上3.5未満: 関連はあるが、重要な部分で異なる\\n 1.5以上2.5未満: 関連性は少しあるが、大部分が異なる\\n 0.5以上1.5未満: ほとんど関連性がない\\n 0.5未満0.0以上: 無関係', 'input': '彼女は意外な機会を逃さず、企業のグロースに寄与しています。彼女は様々なプロジェクトに参加していることで、新たなビジネスチャンスを見出しました。', 'output': 4.3}, {'id': 6, 'instruction': '以下の質問文（input）の文のペアの類似度を0.0から5.0までのスコアで評価して回答（output）してください。\\nスコアの基準は以下の通りです。\\n 4.5以上5.0以下: ほぼ同義\\n 3.5以上4.5未満: 関連が強いが、細かい点で異なる\\n 2.5以上3.5未満: 関連はあるが、重要な部分で異なる\\n 1.5以上2.5未満: 関連性は少しあるが、大部分が異なる\\n 0.5以上1.5未満: ほとんど関連性がない\\n 0.5未満0.0以上: 無関係', 'input': '彼らは自社製品の販売網を拡大し、現地のフラグシップストアを展開しています。彼らは新規店舗の開拓に成功し、顧客の訪問率を向上させました。', 'output': 4.2}, {'id': 7, 'instruction': '以下の質問文（input）の文のペアの類似度を0.0から5.0までのスコアで評価して回答（output）してください。\\nスコアの基準は以下の通りです。\\n 4.5以上5.0以下: ほぼ同義\\n 3.5以上4.5未満: 関連が強いが、細かい点で異なる\\n 2.5以上3.5未満: 関連はあるが、重要な部分で異なる\\n 1.5以上2.5未満: 関連性は少しあるが、大部分が異なる\\n 0.5以上1.5未満: ほとんど関連性がない\\n 0.5未満0.0以上: 無関係', 'input': '彼女は意外な出来事に直面し、新たなビジネスモデルを構想しました。彼女は現状を打破する決断を下し、新たな展開を行いました。', 'output': 4.4}, {'id': 8, 'instruction': '以下の質問文（input）の文のペアの類似度を0.0から5.0までのスコアで評価して回答（output）してください。\\nスコアの基準は以下の通りです。\\n 4.5以上5.0以下: ほぼ同義\\n 3.5以上4.5未満: 関連が強いが、細かい点で異なる\\n 2.5以上3.5未満: 関連はあるが、重要な部分で異なる\\n 1.5以上2.5未満: 関連性は少しあるが、大部分が異なる\\n 0.5以上1.5未満: ほとんど関連性がない\\n 0.5未満0.0以上: 無関係', 'input': '彼女は新たな市場への進出を決断し、事業計画を立案しました。彼女は、業界革新を行うことで、新たな収益源を確保しました。', 'output': 4.9}, {'id': 9, 'instruction': '以下の質問文（input）の文のペアの類似度を0.0から5.0までのスコアで評価して回答（output）してください。\\nスコアの基準は以下の通りです。\\n 4.5以上5.0以下: ほぼ同義\\n 3.5以上4.5未満: 関連が強いが、細かい点で異なる\\n 2.5以上3.5未満: 関連はあるが、重要な部分で異なる\\n 1.5以上2.5未満: 関連性は少しあるが、大部分が異なる\\n 0.5以上1.5未満: ほとんど関連性がない\\n 0.5未満0.0以上: 無関係', 'input': '彼女は課題に直面し、新たな戦略を打ち出しました。彼女は、効果的なソリューションの実現を目指して努力しています。', 'output': 4.6}, {'id': 10, 'instruction': '以下の質問文（input）の文のペアの類似度を0.0から5.0までのスコアで評価して回答（output）してください。\\nスコアの基準は以下の通りです。\\n 4.5以上5.0以下: ほぼ同義\\n 3.5以上4.5未満: 関連が強いが、細かい点で異なる\\n 2.5以上3.5未満: 関連はあるが、重要な部分で異なる\\n 1.5以上2.5未満: 関連性は少しあるが、大部分が異なる\\n 0.5以上1.5未満: ほとんど関連性がない\\n 0.5未満0.0以上: 無関係', 'input': '彼らは長期戦略を打ち出し、企業の持続的な成長を目指しています。彼らは、既存事業のリーダーシップを確保しつつ新規事業にも参入しました。', 'output': 4.8}]\n",
            "Expected object or value\n",
            "Error parsing JSON: 2\n"
          ]
        },
        {
          "output_type": "error",
          "ename": "ValueError",
          "evalue": "No objects to concatenate",
          "traceback": [
            "\u001b[0;31m---------------------------------------------------------------------------\u001b[0m",
            "\u001b[0;31mValueError\u001b[0m                                Traceback (most recent call last)",
            "\u001b[0;32m<ipython-input-59-4469b3a7c9ba>\u001b[0m in \u001b[0;36m<cell line: 32>\u001b[0;34m()\u001b[0m\n\u001b[1;32m     30\u001b[0m \u001b[0;34m\u001b[0m\u001b[0m\n\u001b[1;32m     31\u001b[0m \u001b[0;34m\u001b[0m\u001b[0m\n\u001b[0;32m---> 32\u001b[0;31m \u001b[0mdf_final\u001b[0m \u001b[0;34m=\u001b[0m \u001b[0mpd\u001b[0m\u001b[0;34m.\u001b[0m\u001b[0mconcat\u001b[0m\u001b[0;34m(\u001b[0m\u001b[0mdf_list\u001b[0m\u001b[0;34m)\u001b[0m\u001b[0;34m\u001b[0m\u001b[0;34m\u001b[0m\u001b[0m\n\u001b[0m\u001b[1;32m     33\u001b[0m \u001b[0;34m\u001b[0m\u001b[0m\n\u001b[1;32m     34\u001b[0m \u001b[0mdf_final\u001b[0m\u001b[0;34m.\u001b[0m\u001b[0mhead\u001b[0m\u001b[0;34m(\u001b[0m\u001b[0;34m)\u001b[0m\u001b[0;34m\u001b[0m\u001b[0;34m\u001b[0m\u001b[0m\n",
            "\u001b[0;32m/usr/local/lib/python3.10/dist-packages/pandas/core/reshape/concat.py\u001b[0m in \u001b[0;36mconcat\u001b[0;34m(objs, axis, join, ignore_index, keys, levels, names, verify_integrity, sort, copy)\u001b[0m\n\u001b[1;32m    370\u001b[0m         \u001b[0mcopy\u001b[0m \u001b[0;34m=\u001b[0m \u001b[0;32mFalse\u001b[0m\u001b[0;34m\u001b[0m\u001b[0;34m\u001b[0m\u001b[0m\n\u001b[1;32m    371\u001b[0m \u001b[0;34m\u001b[0m\u001b[0m\n\u001b[0;32m--> 372\u001b[0;31m     op = _Concatenator(\n\u001b[0m\u001b[1;32m    373\u001b[0m         \u001b[0mobjs\u001b[0m\u001b[0;34m,\u001b[0m\u001b[0;34m\u001b[0m\u001b[0;34m\u001b[0m\u001b[0m\n\u001b[1;32m    374\u001b[0m         \u001b[0maxis\u001b[0m\u001b[0;34m=\u001b[0m\u001b[0maxis\u001b[0m\u001b[0;34m,\u001b[0m\u001b[0;34m\u001b[0m\u001b[0;34m\u001b[0m\u001b[0m\n",
            "\u001b[0;32m/usr/local/lib/python3.10/dist-packages/pandas/core/reshape/concat.py\u001b[0m in \u001b[0;36m__init__\u001b[0;34m(self, objs, axis, join, keys, levels, names, ignore_index, verify_integrity, copy, sort)\u001b[0m\n\u001b[1;32m    427\u001b[0m \u001b[0;34m\u001b[0m\u001b[0m\n\u001b[1;32m    428\u001b[0m         \u001b[0;32mif\u001b[0m \u001b[0mlen\u001b[0m\u001b[0;34m(\u001b[0m\u001b[0mobjs\u001b[0m\u001b[0;34m)\u001b[0m \u001b[0;34m==\u001b[0m \u001b[0;36m0\u001b[0m\u001b[0;34m:\u001b[0m\u001b[0;34m\u001b[0m\u001b[0;34m\u001b[0m\u001b[0m\n\u001b[0;32m--> 429\u001b[0;31m             \u001b[0;32mraise\u001b[0m \u001b[0mValueError\u001b[0m\u001b[0;34m(\u001b[0m\u001b[0;34m\"No objects to concatenate\"\u001b[0m\u001b[0;34m)\u001b[0m\u001b[0;34m\u001b[0m\u001b[0;34m\u001b[0m\u001b[0m\n\u001b[0m\u001b[1;32m    430\u001b[0m \u001b[0;34m\u001b[0m\u001b[0m\n\u001b[1;32m    431\u001b[0m         \u001b[0;32mif\u001b[0m \u001b[0mkeys\u001b[0m \u001b[0;32mis\u001b[0m \u001b[0;32mNone\u001b[0m\u001b[0;34m:\u001b[0m\u001b[0;34m\u001b[0m\u001b[0;34m\u001b[0m\u001b[0m\n",
            "\u001b[0;31mValueError\u001b[0m: No objects to concatenate"
          ]
        }
      ],
      "source": [
        "from string import Template\n",
        "from datetime import datetime\n",
        "import pandas as pd\n",
        "import json\n",
        "\n",
        "df_list = []\n",
        "\n",
        "### few-shot template ###\n",
        "formatted_prompt_template = Template(PROMPT_TEMPLATE).substitute(FewShotExamples=FEWSHOT_EXAMPLES)\n",
        "\n",
        "for i in range(LOOP_NUM):\n",
        "\n",
        "    ### JSON形式で出力が出てこないケースがあるため、3回までリトライ ###\n",
        "    for retry_i in range(3):\n",
        "\n",
        "        ### LLMによるデータ生成処理 ###\n",
        "        output = run_model(formatted_prompt_template, TEMPERATURE, MAX_TOKENS)\n",
        "        print(output)\n",
        "\n",
        "        try:\n",
        "            #output = json.loads(output)\n",
        "            df_output = pd.read_json(output)\n",
        "            df_list.append(df_output)\n",
        "            print(f\"Success parsing JSON\")\n",
        "            break\n",
        "        except Exception as e:\n",
        "            print(e)\n",
        "            print(f\"Error parsing JSON: {retry_i}\")\n",
        "            continue\n",
        "\n",
        "\n",
        "df_final = pd.concat(df_list)\n",
        "\n",
        "df_final.head()"
      ]
    },
    {
      "cell_type": "markdown",
      "metadata": {
        "id": "NuVdONsrfpg9"
      },
      "source": [
        "##1-3.データの保存"
      ]
    },
    {
      "cell_type": "code",
      "execution_count": null,
      "metadata": {
        "id": "1hRLXUN1fJJC"
      },
      "outputs": [],
      "source": [
        "import datetime\n",
        "\n",
        "# Get the current datetime\n",
        "now = datetime.datetime.now()\n",
        "\n",
        "# Format the datetime as a string\n",
        "timestamp = now.strftime(\"%Y-%m-%d_%H-%M-%S\")\n",
        "\n",
        "# Create the filename with the timestamp\n",
        "filename = f\"/generated_data_{timestamp}.xlsx\"\n",
        "\n",
        "# Save the DataFrame to an Excel file with the timestamped filename\n",
        "df_final.to_excel(G_FOLDER + filename, index=False)\n",
        "\n",
        "print(f\"File saved as: {filename}\")"
      ]
    }
  ],
  "metadata": {
    "colab": {
      "provenance": [],
      "toc_visible": true
    },
    "kernelspec": {
      "display_name": "Python 3",
      "name": "python3"
    },
    "language_info": {
      "name": "python"
    }
  },
  "nbformat": 4,
  "nbformat_minor": 0
}