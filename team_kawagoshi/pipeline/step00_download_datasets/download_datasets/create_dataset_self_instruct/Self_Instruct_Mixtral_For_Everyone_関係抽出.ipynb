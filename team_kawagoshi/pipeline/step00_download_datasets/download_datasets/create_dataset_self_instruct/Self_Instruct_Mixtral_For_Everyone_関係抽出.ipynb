{
  "cells": [
    {
      "cell_type": "markdown",
      "metadata": {
        "id": "Badj8wMmOx-Y"
      },
      "source": [
        "#0.環境構築"
      ]
    },
    {
      "cell_type": "markdown",
      "metadata": {
        "id": "903-p8-KQMv5"
      },
      "source": [
        "##0-1.まずは以下のサイトよりDeepInfraのアカウントを作成してください。\n",
        "\n",
        "https://deepinfra.com/"
      ]
    },
    {
      "cell_type": "markdown",
      "metadata": {
        "id": "TQXBxqZeRNrD"
      },
      "source": [
        "##0-2.以下よりAPI KEYを取得してセルにセットしてください。\n",
        "\n",
        "https://deepinfra.com/dash/api_keys"
      ]
    },
    {
      "cell_type": "code",
      "execution_count": null,
      "metadata": {
        "id": "pmuen0OJRmzS"
      },
      "outputs": [],
      "source": [
        "DEEPINFRA_API_KEY = \"cHv2ftIYyvvzPIHatIJbQZ8ImSducJGg\""
      ]
    },
    {
      "cell_type": "markdown",
      "metadata": {
        "id": "vWtoHEdDcDYQ"
      },
      "source": [
        "##0-3.Google Driveをマウント"
      ]
    },
    {
      "cell_type": "code",
      "execution_count": null,
      "metadata": {
        "colab": {
          "base_uri": "https://localhost:8080/"
        },
        "id": "JZQM2SVEcIAm",
        "outputId": "2fc8a7c3-2d7a-4547-fba5-2ab5b3437b67"
      },
      "outputs": [
        {
          "name": "stdout",
          "output_type": "stream",
          "text": [
            "Mounted at /content/drive\n"
          ]
        }
      ],
      "source": [
        "from google.colab import drive\n",
        "drive.mount('/content/drive')"
      ]
    },
    {
      "cell_type": "markdown",
      "metadata": {
        "id": "xCQXX0fzcw72"
      },
      "source": [
        "エクセルファイルの保存先パスを設定してください。"
      ]
    },
    {
      "cell_type": "code",
      "execution_count": null,
      "metadata": {
        "id": "V2UcVHvGcqlH"
      },
      "outputs": [],
      "source": [
        "G_FOLDER = \"/content/drive/MyDrive\""
      ]
    },
    {
      "cell_type": "markdown",
      "metadata": {
        "id": "COVCQ0P1SIJ7"
      },
      "source": [
        "##0-4.以下のコードで必要なライブラリのインストールと、APIのテスト実行を行います。"
      ]
    },
    {
      "cell_type": "code",
      "execution_count": null,
      "metadata": {
        "colab": {
          "base_uri": "https://localhost:8080/"
        },
        "id": "bkJRo-EnP5Ub",
        "outputId": "69a9f572-11eb-4ad0-a06f-c6ee1f10dc87"
      },
      "outputs": [
        {
          "name": "stdout",
          "output_type": "stream",
          "text": [
            "\u001b[2K     \u001b[90m━━━━━━━━━━━━━━━━━━━━━━━━━━━━━━━━━━━━━━━━\u001b[0m \u001b[32m320.6/320.6 kB\u001b[0m \u001b[31m4.9 MB/s\u001b[0m eta \u001b[36m0:00:00\u001b[0m\n",
            "\u001b[2K     \u001b[90m━━━━━━━━━━━━━━━━━━━━━━━━━━━━━━━━━━━━━━━━\u001b[0m \u001b[32m542.0/542.0 kB\u001b[0m \u001b[31m25.2 MB/s\u001b[0m eta \u001b[36m0:00:00\u001b[0m\n",
            "\u001b[2K     \u001b[90m━━━━━━━━━━━━━━━━━━━━━━━━━━━━━━━━━━━━━━━━\u001b[0m \u001b[32m75.6/75.6 kB\u001b[0m \u001b[31m11.6 MB/s\u001b[0m eta \u001b[36m0:00:00\u001b[0m\n",
            "\u001b[2K     \u001b[90m━━━━━━━━━━━━━━━━━━━━━━━━━━━━━━━━━━━━━━━━\u001b[0m \u001b[32m116.3/116.3 kB\u001b[0m \u001b[31m16.5 MB/s\u001b[0m eta \u001b[36m0:00:00\u001b[0m\n",
            "\u001b[2K     \u001b[90m━━━━━━━━━━━━━━━━━━━━━━━━━━━━━━━━━━━━━━━━\u001b[0m \u001b[32m194.1/194.1 kB\u001b[0m \u001b[31m23.1 MB/s\u001b[0m eta \u001b[36m0:00:00\u001b[0m\n",
            "\u001b[2K     \u001b[90m━━━━━━━━━━━━━━━━━━━━━━━━━━━━━━━━━━━━━━━━\u001b[0m \u001b[32m134.8/134.8 kB\u001b[0m \u001b[31m18.5 MB/s\u001b[0m eta \u001b[36m0:00:00\u001b[0m\n",
            "\u001b[2K     \u001b[90m━━━━━━━━━━━━━━━━━━━━━━━━━━━━━━━━━━━━━━━━\u001b[0m \u001b[32m401.2/401.2 kB\u001b[0m \u001b[31m38.1 MB/s\u001b[0m eta \u001b[36m0:00:00\u001b[0m\n",
            "\u001b[2K     \u001b[90m━━━━━━━━━━━━━━━━━━━━━━━━━━━━━━━━━━━━━━━━\u001b[0m \u001b[32m77.9/77.9 kB\u001b[0m \u001b[31m10.4 MB/s\u001b[0m eta \u001b[36m0:00:00\u001b[0m\n",
            "\u001b[2K     \u001b[90m━━━━━━━━━━━━━━━━━━━━━━━━━━━━━━━━━━━━━━━━\u001b[0m \u001b[32m58.3/58.3 kB\u001b[0m \u001b[31m6.9 MB/s\u001b[0m eta \u001b[36m0:00:00\u001b[0m\n",
            "\u001b[?25h"
          ]
        }
      ],
      "source": [
        "!pip install -qU openai datasets"
      ]
    },
    {
      "cell_type": "code",
      "execution_count": null,
      "metadata": {
        "id": "ZCZYnBU1Oq_O"
      },
      "outputs": [],
      "source": [
        "# Assume openai>=1.0.0\n",
        "from openai import OpenAI\n",
        "\n",
        "# Create an OpenAI client with your deepinfra token and endpoint\n",
        "openai = OpenAI(\n",
        "    api_key=DEEPINFRA_API_KEY,\n",
        "    base_url=\"https://api.deepinfra.com/v1/openai\",\n",
        ")"
      ]
    },
    {
      "cell_type": "code",
      "execution_count": null,
      "metadata": {
        "colab": {
          "base_uri": "https://localhost:8080/"
        },
        "id": "vGu9qHSwbbAP",
        "outputId": "6910680b-9681-480f-c18a-c484953e0f08"
      },
      "outputs": [
        {
          "name": "stdout",
          "output_type": "stream",
          "text": [
            " 1\n"
          ]
        }
      ],
      "source": [
        "chat_completion = openai.chat.completions.create(\n",
        "    model=\"mistralai/Mixtral-8x22B-Instruct-v0.1\",\n",
        "    messages=[{\"role\": \"system\", \"content\": \"あなたは日本語で回答するAIボットです。\"},\n",
        "     {\"role\": \"user\", \"content\": \"以下の文章が文法的に正しいかどうかを評価してください。文法的に正しい場合には1を、誤りを含んでいる場合には0を選択してください。  本件に関しましては、貴社のご要望を踏まえて最適なソリューションをご提案させていただきます次第でございます。\"}],\n",
        ")\n",
        "\n",
        "print(chat_completion.choices[0].message.content)"
      ]
    },
    {
      "cell_type": "markdown",
      "metadata": {
        "id": "YzB9ImkTesTA"
      },
      "source": [
        "#1.データ生成処理の実行"
      ]
    },
    {
      "cell_type": "markdown",
      "metadata": {
        "id": "DxiV6f6NfJ7X"
      },
      "source": [
        "##1-1.プロンプト準備（関係抽出）"
      ]
    },
    {
      "cell_type": "markdown",
      "metadata": {
        "id": "zX5aJMAgg7zS"
      },
      "source": [
        "言語理解でのプロンプト例"
      ]
    },
    {
      "cell_type": "code",
      "execution_count": null,
      "metadata": {
        "id": "Y-FY7UBefJE7"
      },
      "outputs": [],
      "source": [
        "PROMPT_TEMPLATE = \"\"\"\n",
        "以下のタスク指示例を参考に、10種類の多様なinputとoutputを考えてください。これらのタスク指示はGPTモデルに与えられ、その指示を完了するためのGPTモデルを評価します。\n",
        "\n",
        "要件は以下の通りです：\n",
        "1.文章を読み、人物、場所、組織などのエンティティを名詞や固有名詞から特定してください。\n",
        "2.エンティティ間の関係を識別する際には、動詞（「働いている」など）、前置詞（「で」、「に」など）、または接続詞を関係を示すキーワードとして使用してください。\n",
        "3.各エンティティペアとその間の関係を括弧で囲み、カンマで区切って列挙してください。動詞が直接的なアクションを示す場合、その動詞を使用し、前置詞や接続詞が場所や方法を指定する場合、それを利用してください。\n",
        "4.関係が不明確または文脈上不確かな場合は、そのエンティティペアはリストに含めないでください。\n",
        "5.正確なエンティティと関係の識別には文の全体的な文脈を理解し、適切な品詞を使用して関係を表現することが求められます。\n",
        "6.日本語だけを使った文章が求められます。\n",
        "7.ビジネス文書やニュース記事の文章を想定しています。\n",
        "\n",
        "多様性を与えるヒントは以下のとおりです。:\n",
        "1.文章の種類：ニュース記事、ビジネス文書、技術レポート、学術論文、ブログ記事、SNS投稿など、異なるジャンルの文章を含める。\n",
        "2.エンティティの種類：人物（政治家、スポーツ選手、科学者など）、場所（都市、国、建物など）、組織（企業、団体、政府機関、プロジェクトなど）などを含める。\n",
        "3.関係の種類：職業、役職、勤務地、目的、手段、期間、結果、条件など、さまざまな関係を網羅する。\n",
        "4.長さと複雑さ：簡単な文章から複雑な文章まで、バリエーションを持たせる。\n",
        "5.文体：フォーマル、インフォーマル、説明など、異なる文体の文章を含める。\n",
        "6.時制：現在、過去、未来の時制に配慮した文章を含める。\n",
        "7.言語の多様性：エンティティ関係が異なる言い回しで表現した文章を含める。\n",
        "\n",
        "タスク指示例：\n",
        "$FewShotExamples\n",
        "\n",
        "回答フォーマット例(JSON):\n",
        "[\n",
        "  {\n",
        "    \"id\": 1,\n",
        "    \"instruction\": \"以下の文章から、エンティティ間の関係を見つけてエンティティペアと関係の種類を示してください。\",\n",
        "    \"input\": \"<入力文章>\",\n",
        "    \"output\": \"<エンティティ, 関係, エンティティ>\"\n",
        "  },\n",
        "  {\n",
        "    \"id\": 2,\n",
        "    \"instruction\": \"以下の文章から、エンティティ間の関係を見つけてエンティティペアと関係の種類を示してください。\",\n",
        "    \"input\": \"<入力文章>\",\n",
        "    \"output\": \"<エンティティ, 関係, エンティティ>\"\n",
        "  },\n",
        "  {\n",
        "    \"id\": 3,\n",
        "    \"instruction\": \"以下の文章から、エンティティ間の関係を見つけてエンティティペアと関係の種類を示してください。\",\n",
        "    \"input\": \"<入力文章>\",\n",
        "    \"output\": \"<エンティティ, 関係, エンティティ>\"\n",
        "  },\n",
        "  {\n",
        "    \"id\": 4,\n",
        "    \"instruction\": \"以下の文章から、エンティティ間の関係を見つけてエンティティペアと関係の種類を示してください。\",\n",
        "    \"input\": \"<入力文章>\",\n",
        "    \"output\": \"<エンティティ, 関係, エンティティ>\"\n",
        "  },\n",
        "  {\n",
        "    \"id\": 5,\n",
        "    \"instruction\": \"以下の文章から、エンティティ間の関係を見つけてエンティティペアと関係の種類を示してください。\",\n",
        "    \"input\": \"<入力文章>\",\n",
        "    \"output\": \"<エンティティ, 関係, エンティティ>\"\n",
        "  },\n",
        "  {\n",
        "    \"id\": 6,\n",
        "    \"instruction\": \"以下の文章から、エンティティ間の関係を見つけてエンティティペアと関係の種類を示してください。\",\n",
        "    \"input\": \"<入力文章>\",\n",
        "    \"output\": \"<エンティティ, 関係, エンティティ>\"\n",
        "  },\n",
        "  {\n",
        "    \"id\": 7,\n",
        "    \"instruction\": \"以下の文章から、エンティティ間の関係を見つけてエンティティペアと関係の種類を示してください。\",\n",
        "    \"input\": \"<入力文章>\",\n",
        "    \"output\": \"<エンティティ, 関係, エンティティ>\"\n",
        "  },\n",
        "  {\n",
        "    \"id\": 8,\n",
        "    \"instruction\": \"以下の文章から、エンティティ間の関係を見つけてエンティティペアと関係の種類を示してください。\",\n",
        "    \"input\": \"<入力文章>\",\n",
        "    \"output\": \"<エンティティ, 関係, エンティティ>\"\n",
        "  },\n",
        "  {\n",
        "    \"id\": 9,\n",
        "    \"instruction\": \"以下の文章から、エンティティ間の関係を見つけてエンティティペアと関係の種類を示してください。\",\n",
        "    \"input\": \"<入力文章>\",\n",
        "    \"output\": \"<エンティティ, 関係, エンティティ>\"\n",
        "  },\n",
        "  {\n",
        "    \"id\": 10,\n",
        "    \"instruction\": \"以下の文章から、エンティティ間の関係を見つけてエンティティペアと関係の種類を示してください。\",\n",
        "    \"input\": \"<入力文章>\",\n",
        "    \"output\": \"<エンティティ, 関係, エンティティ>\"\n",
        "  }\n",
        "]\n",
        "\"\"\""
      ]
    },
    {
      "cell_type": "code",
      "execution_count": null,
      "metadata": {
        "id": "ykY8WJRrhAmW"
      },
      "outputs": [],
      "source": [
        "FEWSHOT_EXAMPLES = [\n",
        "  {\n",
        "    \"id\": 1,\n",
        "    \"instruction\": \"以下の文章から、エンティティ間の関係を見つけてエンティティペアと関係の種類を示してください。\",\n",
        "    \"input\": \"大谷翔平はロサンゼルス・ドジャースのプロ野球選手であり、ロサンゼルスに住んでいます。\",\n",
        "    \"output\": \"(大谷翔平, 職業, プロ野球選手)\\n(大谷翔平, 勤務, ロサンゼルス・ドジャース)\\n(大谷翔平, 住む, ロサンゼルス)\"\n",
        "  },\n",
        "  {\n",
        "    \"id\": 2,\n",
        "    \"instruction\": \"以下の文章から、エンティティ間の関係を見つけてエンティティペアと関係の種類を示してください。\",\n",
        "    \"input\": \"孫正義はソフトバンクグループ株式会社の代表取締役会長兼社長であり、佐賀県鳥栖市出身の実業家です。\",\n",
        "    \"output\": \"(孫正義, 役職, 代表取締役会長兼社長)\\n(孫正義, 勤務, ソフトバンクグループ株式会社)\\n(孫正義, 出身, 佐賀県鳥栖市)\\n(孫正義, 職業, 実業家)\"\n",
        "  },\n",
        "  {\n",
        "    \"id\": 3,\n",
        "    \"instruction\": \"以下の文章から、エンティティ間の関係を見つけてエンティティペアと関係の種類を示してください。\",\n",
        "    \"input\": \"松尾研は「知能を創る」ことを目指し、ウェブ研究から始まり、企業データ、ディープラーニングなどの先駆的な研究を行っています。\",\n",
        "    \"output\": \"(松尾研, 目的, 知能を創る)\\n(松尾研, 研究, ウェブ)\\n(松尾研, 研究, 企業データ)\\n(松尾研, 研究, ディープラーニング)\"\n",
        "  },\n",
        "  {\n",
        "    \"id\": 4,\n",
        "    \"instruction\": \"以下の文章から、エンティティ間の関係を見つけてエンティティペアと関係の種類を示してください。\",\n",
        "    \"input\": \"新型コロナウイルスは2019年に中国で発見されて全世界に拡散しました。\",\n",
        "    \"output\": \"(新型コロナウイルス, 時期, 2019年)\\n(新型コロナウイルス, 場所, 中国)\\n(新型コロナウイルス, 拡散, 全世界)\"\n",
        "  },\n",
        "  {\n",
        "    \"id\": 5,\n",
        "    \"instruction\": \"以下の文章から、エンティティ間の関係を見つけてエンティティペアと関係の種類を示してください。\",\n",
        "    \"input\": \"APEC首脳会議等に出席するためサンフランシスコを訪問中の岸田文雄内閣総理大臣は、グーグル社のスンダー・ピチャイCEOと会談をしました。\",\n",
        "    \"output\": \"(岸田文雄, 目的, APEC首脳会議)\\n(岸田文雄, 訪問, サンフランシスコ)\\n(岸田文雄, 役職, 内閣総理大臣)\\n(岸田文雄, 会談, スンダー・ピチャイ)\\n(スンダー・ピチャイ, 勤務, グーグル社)\\n(スンダー・ピチャイ, 役職, CEO)\"\n",
        "  },\n",
        "  {\n",
        "    \"id\": 6,\n",
        "    \"instruction\": \"以下の文章から、エンティティ間の関係を見つけてエンティティペアと関係の種類を示してください。\",\n",
        "    \"input\": \"サイバーエージェントはAI研究開発組織を設立し、数多くの論文を発表しています。\",\n",
        "    \"output\": \"(サイバーエージェント, 設立, AI研究開発組織)\\n(AI研究開発組織, 発表, 論文)\"\n",
        "  },\n",
        "  {\n",
        "    \"id\": 7,\n",
        "    \"instruction\": \"以下の文章から、エンティティ間の関係を見つけてエンティティペアと関係の種類を示してください。\",\n",
        "    \"input\": \"日本サッカー協会は、サッカーを通じて豊かなスポーツ文化を創造し、人々の心身の健全な発達と社会の発展に貢献することを理念としています。\",\n",
        "    \"output\": \"(日本サッカー協会, 理念, 豊かなスポーツ文化の創造)\\n(日本サッカー協会, 手段, サッカー)\\n(日本サッカー協会, 目的, 心身の健全な発達)\\n(日本サッカー協会, 目的, 社会の発展の貢献)\"\n",
        "  },\n",
        "  {\n",
        "    \"id\": 8,\n",
        "    \"instruction\": \"以下の文章から、エンティティ間の関係を見つけてエンティティペアと関係の種類を示してください。\",\n",
        "    \"input\": \"日本政府は、アップルとグーグルが寡占するスマートフォンのモバイルエコシステムを規制する「スマホソフトウェア競争促進法案」を国会に提出しました。\",\n",
        "    \"output\": \"(日本政府, 提出, スマホソフトウェア競争促進法案)\\n(アップル, 状態, 寡占)\\n(グーグル, 状態, 寡占)\\n(スマホソフトウェア競争促進法案, 目的, モバイルエコシステムを規制)\\n(スマホソフトウェア競争促進法案, 提出, 国会)\"\n",
        "  },\n",
        "  {\n",
        "    \"id\": 9,\n",
        "    \"instruction\": \"以下の文章から、エンティティ間の関係を見つけてエンティティペアと関係の種類を示してください。\",\n",
        "    \"input\": \"東京メトロ東西線は、線路の切り替え工事のため5月11日から12日に東陽町駅から西葛西駅間で終日運休し、振替輸送が行われます。\",\n",
        "    \"output\": \"(東京メトロ東西線, 理由, 線路の切り替え工事)\\n(線路の切り替え工事, 期間, 5月11日から12日)\\n(東京メトロ東西線, 区間, 東陽町駅から西葛西駅間)\\n(線路の切り替え工事, 手段, 振替輸送)\"\n",
        "  },\n",
        "  {\n",
        "    \"id\": 10,\n",
        "    \"instruction\": \"以下の文章から、エンティティ間の関係を見つけてエンティティペアと関係の種類を示してください。\",\n",
        "    \"input\": \"浅草は隅田川のほとりに栄える街であり、雷門がある浅草寺を中心としたエリアです。\",\n",
        "    \"output\": \"(浅草, 位置, 隅田川のほとり)\\n(浅草, 特徴, 栄える街)\\n(戦争時, 保有, 雷門)\\n(浅草, 中心, 浅草寺)\"\n",
        "  }\n",
        "]"
      ]
    },
    {
      "cell_type": "markdown",
      "metadata": {
        "id": "AVTk8bDYfg1t"
      },
      "source": [
        "##1-2.データ生成処理の実行"
      ]
    },
    {
      "cell_type": "markdown",
      "metadata": {
        "id": "tXqlWgh9ibD_"
      },
      "source": [
        "パラメーターをセット"
      ]
    },
    {
      "cell_type": "code",
      "execution_count": null,
      "metadata": {
        "id": "7hnSt_aTiUfq"
      },
      "outputs": [],
      "source": [
        "TEMPERATURE=1 #temperature to use for sampling. 0 means the output is deterministic. Values greater than 1 encourage more diversity\n",
        "MAX_TOKENS=60000\n",
        "LOOP_NUM = 10 #1回あたり10件データを生成"
      ]
    },
    {
      "cell_type": "code",
      "execution_count": null,
      "metadata": {
        "id": "_EHtNXw2h5fT"
      },
      "outputs": [],
      "source": [
        "def run_model(PROMPT_TEMPLATE, TEMPERATURE=1, MAX_TOKENS=10000):\n",
        "\n",
        "    chat_completion = openai.chat.completions.create(\n",
        "        model=\"mistralai/Mixtral-8x22B-Instruct-v0.1\",\n",
        "        messages=[{\"role\": \"system\", \"content\": \"あなたは日本語の学習データセットを生成する専門家です。\"},\n",
        "         {\"role\": \"user\", \"content\": PROMPT_TEMPLATE}],\n",
        "        temperature=TEMPERATURE,#temperature to use for sampling. 0 means the output is deterministic. Values greater than 1 encourage more diversity\n",
        "        top_p=0.9,#0 < top_p ≤ 1 Sample from the set of tokens with highest probability such that sum of probabilies is higher than p. Lower values focus on the most probable tokens.Higher values sample more low-probability tokens\n",
        "        max_tokens=MAX_TOKENS,\n",
        "        frequency_penalty=1.3,#-2 ≤ presence_penalty ≤ 2 Positive values penalize new tokens based on how many times they appear in the text so far, increasing the model's likelihood to talk about new topics.\n",
        "        presence_penalty=1.3 #-2 ≤ presence_penalty ≤ 2 Positive values penalize new tokens based on whether they appear in the text so far, increasing the model's likelihood to talk about new topics.\n",
        "        )\n",
        "\n",
        "    output = chat_completion.choices[0].message.content\n",
        "\n",
        "    return output"
      ]
    },
    {
      "cell_type": "code",
      "execution_count": null,
      "metadata": {
        "colab": {
          "background_save": true
        },
        "id": "n48LR43DfJG8"
      },
      "outputs": [],
      "source": [
        "from string import Template\n",
        "from datetime import datetime\n",
        "import pandas as pd\n",
        "import json\n",
        "\n",
        "df_list = []\n",
        "\n",
        "### few-shot template ###\n",
        "formatted_prompt_template = Template(PROMPT_TEMPLATE).substitute(FewShotExamples=FEWSHOT_EXAMPLES)\n",
        "\n",
        "for i in range(LOOP_NUM):\n",
        "\n",
        "    ### JSON形式で出力が出てこないケースがあるため、3回までリトライ ###\n",
        "    for retry_i in range(3):\n",
        "\n",
        "        ### LLMによるデータ生成処理 ###\n",
        "        output = run_model(formatted_prompt_template, TEMPERATURE, MAX_TOKENS)\n",
        "        print(output)\n",
        "\n",
        "        try:\n",
        "            #output = json.loads(output)\n",
        "            df_output = pd.read_json(output)\n",
        "            df_list.append(df_output)\n",
        "            print(f\"Success parsing JSON\")\n",
        "            break\n",
        "        except Exception as e:\n",
        "            print(e)\n",
        "            print(f\"Error parsing JSON: {retry_i}\")\n",
        "            continue\n",
        "\n",
        "\n",
        "df_final = pd.concat(df_list)\n",
        "\n",
        "df_final.head()"
      ]
    },
    {
      "cell_type": "markdown",
      "metadata": {
        "id": "NuVdONsrfpg9"
      },
      "source": [
        "##1-3.データの保存"
      ]
    },
    {
      "cell_type": "code",
      "execution_count": null,
      "metadata": {
        "colab": {
          "background_save": true
        },
        "id": "1hRLXUN1fJJC"
      },
      "outputs": [],
      "source": [
        "import datetime\n",
        "\n",
        "# Get the current datetime\n",
        "now = datetime.datetime.now()\n",
        "\n",
        "# Format the datetime as a string\n",
        "timestamp = now.strftime(\"%Y-%m-%d_%H-%M-%S\")\n",
        "\n",
        "# Create the filename with the timestamp\n",
        "filename = f\"/generated_data_{timestamp}.xlsx\"\n",
        "\n",
        "# Save the DataFrame to an Excel file with the timestamped filename\n",
        "df_final.to_excel(G_FOLDER + filename, index=False)\n",
        "\n",
        "print(f\"File saved as: {filename}\")"
      ]
    }
  ],
  "metadata": {
    "colab": {
      "provenance": []
    },
    "kernelspec": {
      "display_name": "Python 3",
      "name": "python3"
    },
    "language_info": {
      "name": "python"
    }
  },
  "nbformat": 4,
  "nbformat_minor": 0
}