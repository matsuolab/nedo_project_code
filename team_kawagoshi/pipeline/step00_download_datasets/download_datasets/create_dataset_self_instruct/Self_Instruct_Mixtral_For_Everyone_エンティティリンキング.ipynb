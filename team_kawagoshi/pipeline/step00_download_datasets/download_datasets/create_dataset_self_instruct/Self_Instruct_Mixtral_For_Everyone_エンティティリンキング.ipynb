{
  "cells": [
    {
      "cell_type": "markdown",
      "metadata": {
        "id": "Badj8wMmOx-Y"
      },
      "source": [
        "#0.環境構築"
      ]
    },
    {
      "cell_type": "markdown",
      "metadata": {
        "id": "903-p8-KQMv5"
      },
      "source": [
        "##0-1.まずは以下のサイトよりDeepInfraのアカウントを作成してください。\n",
        "\n",
        "https://deepinfra.com/"
      ]
    },
    {
      "cell_type": "markdown",
      "metadata": {
        "id": "TQXBxqZeRNrD"
      },
      "source": [
        "##0-2.以下よりAPI KEYを取得してセルにセットしてください。\n",
        "\n",
        "https://deepinfra.com/dash/api_keys"
      ]
    },
    {
      "cell_type": "code",
      "execution_count": null,
      "metadata": {
        "id": "pmuen0OJRmzS"
      },
      "outputs": [],
      "source": [
        "DEEPINFRA_API_KEY = \"cHv2ftIYyvvzPIHatIJbQZ8ImSducJGg\""
      ]
    },
    {
      "cell_type": "markdown",
      "metadata": {
        "id": "vWtoHEdDcDYQ"
      },
      "source": [
        "##0-3.Google Driveをマウント"
      ]
    },
    {
      "cell_type": "code",
      "execution_count": null,
      "metadata": {
        "colab": {
          "base_uri": "https://localhost:8080/"
        },
        "id": "JZQM2SVEcIAm",
        "outputId": "2fc8a7c3-2d7a-4547-fba5-2ab5b3437b67"
      },
      "outputs": [
        {
          "name": "stdout",
          "output_type": "stream",
          "text": [
            "Mounted at /content/drive\n"
          ]
        }
      ],
      "source": [
        "from google.colab import drive\n",
        "drive.mount('/content/drive')"
      ]
    },
    {
      "cell_type": "markdown",
      "metadata": {
        "id": "xCQXX0fzcw72"
      },
      "source": [
        "エクセルファイルの保存先パスを設定してください。"
      ]
    },
    {
      "cell_type": "code",
      "execution_count": null,
      "metadata": {
        "id": "V2UcVHvGcqlH"
      },
      "outputs": [],
      "source": [
        "G_FOLDER = \"/content/drive/MyDrive\""
      ]
    },
    {
      "cell_type": "markdown",
      "metadata": {
        "id": "COVCQ0P1SIJ7"
      },
      "source": [
        "##0-4.以下のコードで必要なライブラリのインストールと、APIのテスト実行を行います。"
      ]
    },
    {
      "cell_type": "code",
      "execution_count": null,
      "metadata": {
        "colab": {
          "base_uri": "https://localhost:8080/"
        },
        "id": "bkJRo-EnP5Ub",
        "outputId": "69a9f572-11eb-4ad0-a06f-c6ee1f10dc87"
      },
      "outputs": [
        {
          "name": "stdout",
          "output_type": "stream",
          "text": [
            "\u001b[2K     \u001b[90m━━━━━━━━━━━━━━━━━━━━━━━━━━━━━━━━━━━━━━━━\u001b[0m \u001b[32m320.6/320.6 kB\u001b[0m \u001b[31m4.9 MB/s\u001b[0m eta \u001b[36m0:00:00\u001b[0m\n",
            "\u001b[2K     \u001b[90m━━━━━━━━━━━━━━━━━━━━━━━━━━━━━━━━━━━━━━━━\u001b[0m \u001b[32m542.0/542.0 kB\u001b[0m \u001b[31m25.2 MB/s\u001b[0m eta \u001b[36m0:00:00\u001b[0m\n",
            "\u001b[2K     \u001b[90m━━━━━━━━━━━━━━━━━━━━━━━━━━━━━━━━━━━━━━━━\u001b[0m \u001b[32m75.6/75.6 kB\u001b[0m \u001b[31m11.6 MB/s\u001b[0m eta \u001b[36m0:00:00\u001b[0m\n",
            "\u001b[2K     \u001b[90m━━━━━━━━━━━━━━━━━━━━━━━━━━━━━━━━━━━━━━━━\u001b[0m \u001b[32m116.3/116.3 kB\u001b[0m \u001b[31m16.5 MB/s\u001b[0m eta \u001b[36m0:00:00\u001b[0m\n",
            "\u001b[2K     \u001b[90m━━━━━━━━━━━━━━━━━━━━━━━━━━━━━━━━━━━━━━━━\u001b[0m \u001b[32m194.1/194.1 kB\u001b[0m \u001b[31m23.1 MB/s\u001b[0m eta \u001b[36m0:00:00\u001b[0m\n",
            "\u001b[2K     \u001b[90m━━━━━━━━━━━━━━━━━━━━━━━━━━━━━━━━━━━━━━━━\u001b[0m \u001b[32m134.8/134.8 kB\u001b[0m \u001b[31m18.5 MB/s\u001b[0m eta \u001b[36m0:00:00\u001b[0m\n",
            "\u001b[2K     \u001b[90m━━━━━━━━━━━━━━━━━━━━━━━━━━━━━━━━━━━━━━━━\u001b[0m \u001b[32m401.2/401.2 kB\u001b[0m \u001b[31m38.1 MB/s\u001b[0m eta \u001b[36m0:00:00\u001b[0m\n",
            "\u001b[2K     \u001b[90m━━━━━━━━━━━━━━━━━━━━━━━━━━━━━━━━━━━━━━━━\u001b[0m \u001b[32m77.9/77.9 kB\u001b[0m \u001b[31m10.4 MB/s\u001b[0m eta \u001b[36m0:00:00\u001b[0m\n",
            "\u001b[2K     \u001b[90m━━━━━━━━━━━━━━━━━━━━━━━━━━━━━━━━━━━━━━━━\u001b[0m \u001b[32m58.3/58.3 kB\u001b[0m \u001b[31m6.9 MB/s\u001b[0m eta \u001b[36m0:00:00\u001b[0m\n",
            "\u001b[?25h"
          ]
        }
      ],
      "source": [
        "!pip install -qU openai datasets"
      ]
    },
    {
      "cell_type": "code",
      "execution_count": null,
      "metadata": {
        "id": "ZCZYnBU1Oq_O"
      },
      "outputs": [],
      "source": [
        "# Assume openai>=1.0.0\n",
        "from openai import OpenAI\n",
        "\n",
        "# Create an OpenAI client with your deepinfra token and endpoint\n",
        "openai = OpenAI(\n",
        "    api_key=DEEPINFRA_API_KEY,\n",
        "    base_url=\"https://api.deepinfra.com/v1/openai\",\n",
        ")"
      ]
    },
    {
      "cell_type": "code",
      "execution_count": null,
      "metadata": {
        "colab": {
          "base_uri": "https://localhost:8080/"
        },
        "id": "vGu9qHSwbbAP",
        "outputId": "6910680b-9681-480f-c18a-c484953e0f08"
      },
      "outputs": [
        {
          "name": "stdout",
          "output_type": "stream",
          "text": [
            " 1\n"
          ]
        }
      ],
      "source": [
        "chat_completion = openai.chat.completions.create(\n",
        "    model=\"mistralai/Mixtral-8x22B-Instruct-v0.1\",\n",
        "    messages=[{\"role\": \"system\", \"content\": \"あなたは日本語で回答するAIボットです。\"},\n",
        "     {\"role\": \"user\", \"content\": \"以下の文章が文法的に正しいかどうかを評価してください。文法的に正しい場合には1を、誤りを含んでいる場合には0を選択してください。  本件に関しましては、貴社のご要望を踏まえて最適なソリューションをご提案させていただきます次第でございます。\"}],\n",
        ")\n",
        "\n",
        "print(chat_completion.choices[0].message.content)"
      ]
    },
    {
      "cell_type": "markdown",
      "metadata": {
        "id": "YzB9ImkTesTA"
      },
      "source": [
        "#1.データ生成処理の実行"
      ]
    },
    {
      "cell_type": "markdown",
      "metadata": {
        "id": "-S_zravA8tKA"
      },
      "source": [
        "##1-1.プロンプト準備（エンティティリンキング）"
      ]
    },
    {
      "cell_type": "code",
      "execution_count": null,
      "metadata": {
        "id": "DEX5NNw881K7"
      },
      "outputs": [],
      "source": [
        "PROMPT_TEMPLATE = \"\"\"\n",
        "以下のタスク指示例を参考に、10種類の多様なinputとoutputを考えてください。これらのタスク指示はGPTモデルに与えられ、その指示を完了するためのGPTモデルを評価します。\n",
        "\n",
        "要件は以下の通りです：\n",
        "1.与えられたテキストから固有表現を全て抽出します。\n",
        "2.抽出した固有表現を知識ベース内で対応するエンティティにリンクします。\n",
        "3.回答は「固有表現（種類, QID）」の形式で示してください。\n",
        "4.与えられるテキストは一文としてください。\n",
        "5.日本語だけを使った文章が求められます。\n",
        "6.ビジネス文書やニュース記事の文章を想定しています。\n",
        "\n",
        "多様性を与えるヒントは以下のとおりです。:\n",
        "多様性を与えるヒントは以下のとおりです。:\n",
        "1.文章の種類：ニュース記事、ビジネス文書、技術レポート、学術論文、ブログ記事、SNS投稿など、異なるジャンルの文章を含める。\n",
        "2.エンティティの種類：人物（政治家、スポーツ選手、科学者など）、場所（都市、国、建物など）、組織（企業、団体、政府機関、プロジェクトなど）などを含める。\n",
        "3.関係の種類：職業、役職、勤務地、目的、手段、期間、結果、条件など、さまざまな関係を網羅する。\n",
        "4.長さと複雑さ：簡単な文章から複雑な文章まで、バリエーションを持たせる。\n",
        "5.文体：フォーマル、インフォーマル、説明など、異なる文体の文章を含める。\n",
        "6.時制：現在、過去、未来の時制に配慮した文章を含める。\n",
        "7.言語の多様性：エンティティ関係が異なる言い回しで表現した文章を含める。\n",
        "\n",
        "タスク指示例：\n",
        "$FewShotExamples\n",
        "\n",
        "回答フォーマット例(JSON):\n",
        "[\n",
        "  {\n",
        "    \"id\": 1,\n",
        "    \"instruction\": \"以下の文章から、エンティティ間の関係を見つけてエンティティペアと関係の種類を示してください。\",\n",
        "    \"input\": \"<入力文章>\",\n",
        "    \"output\": \"<固有表現（種類, QID）>\"\n",
        "  },\n",
        "  {\n",
        "    \"id\": 2,\n",
        "    \"instruction\": \"以下の文章から、エンティティ間の関係を見つけてエンティティペアと関係の種類を示してください。\",\n",
        "    \"input\": \"<入力文章>\",\n",
        "    \"output\": \"<固有表現（種類, QID）>\"\n",
        "  },\n",
        "  {\n",
        "    \"id\": 3,\n",
        "    \"instruction\": \"以下の文章から、エンティティ間の関係を見つけてエンティティペアと関係の種類を示してください。\",\n",
        "    \"input\": \"<入力文章>\",\n",
        "    \"output\": \"<固有表現（種類, QID）>\"\n",
        "  },\n",
        "  {\n",
        "    \"id\": 4,\n",
        "    \"instruction\": \"以下の文章から、エンティティ間の関係を見つけてエンティティペアと関係の種類を示してください。\",\n",
        "    \"input\": \"<入力文章>\",\n",
        "    \"output\": \"<固有表現（種類, QID）>\"\n",
        "  },\n",
        "  {\n",
        "    \"id\": 5,\n",
        "    \"instruction\": \"以下の文章から、エンティティ間の関係を見つけてエンティティペアと関係の種類を示してください。\",\n",
        "    \"input\": \"<入力文章>\",\n",
        "    \"output\": \"<固有表現（種類, QID）>\"\n",
        "  },\n",
        "  {\n",
        "    \"id\": 6,\n",
        "    \"instruction\": \"以下の文章から、エンティティ間の関係を見つけてエンティティペアと関係の種類を示してください。\",\n",
        "    \"input\": \"<入力文章>\",\n",
        "    \"output\": \"<固有表現（種類, QID）>\"\n",
        "  },\n",
        "  {\n",
        "    \"id\": 7,\n",
        "    \"instruction\": \"以下の文章から、エンティティ間の関係を見つけてエンティティペアと関係の種類を示してください。\",\n",
        "    \"input\": \"<入力文章>\",\n",
        "    \"output\": \"<固有表現（種類, QID）>\"\n",
        "  },\n",
        "  {\n",
        "    \"id\": 8,\n",
        "    \"instruction\": \"以下の文章から、エンティティ間の関係を見つけてエンティティペアと関係の種類を示してください。\",\n",
        "    \"input\": \"<入力文章>\",\n",
        "    \"output\": \"<固有表現（種類, QID）>\"\n",
        "  },\n",
        "  {\n",
        "    \"id\": 9,\n",
        "    \"instruction\": \"以下の文章から、エンティティ間の関係を見つけてエンティティペアと関係の種類を示してください。\",\n",
        "    \"input\": \"<入力文章>\",\n",
        "    \"output\": \"<固有表現（種類, QID）>\"\n",
        "  },\n",
        "  {\n",
        "    \"id\": 10,\n",
        "    \"instruction\": \"以下の文章から、エンティティ間の関係を見つけてエンティティペアと関係の種類を示してください。\",\n",
        "    \"input\": \"<入力文章>\",\n",
        "    \"output\": \"<固有表現（種類, QID）>\"\n",
        "  }\n",
        "]\n",
        "\"\"\""
      ]
    },
    {
      "cell_type": "code",
      "execution_count": null,
      "metadata": {
        "id": "6LQAxO9f84U-"
      },
      "outputs": [],
      "source": [
        "FEWSHOT_EXAMPLES = [\n",
        " {\n",
        "    \"id\": 1,\n",
        "    \"instruction\": \"与えられたテキストから固有表現（組織名、人名、地名、固有物名、日付表現、時刻表現、金額表現、割合表現）をすべて抽出し、知識ベース内の該当エンティティにリンクしてください。回答は「固有表現（種類, 知識ベースエンティティ）」の形式で示してください。\",\n",
        "    \"input\": \"豊田章男はトヨタ自動車の代表取締役会長であり、愛知県豊田市に本社を置いています。\",\n",
        "    \"output\": \"豊田章男（人名, Q418622）\\nトヨタ自動車（組織名, Q53268）\\n愛知県（地名, Q80434）\\n豊田市（地名, Q201117）\"\n",
        "  },\n",
        "  {\n",
        "    \"id\": 2,\n",
        "    \"instruction\": \"与えられたテキストから固有表現（組織名、人名、地名、固有物名、日付表現、時刻表現、金額表現、割合表現）をすべて抽出し、知識ベース内の該当エンティティにリンクしてください。回答は「固有表現（種類, 知識ベースエンティティ）」の形式で示してください。\",\n",
        "    \"input\": \"福沢諭吉は仕事でアメリカ合衆国に行くために、日本円を米ドルに両替しました。\",\n",
        "    \"output\": \"福沢諭吉（人名, Q355447）\\nアメリカ合衆国（地名, Q30）\\n日本円（通貨, Q8146）\\n米ドル（通貨, Q4917）\"\n",
        "  },\n",
        "  {\n",
        "    \"id\": 3,\n",
        "    \"instruction\": \"与えられたテキストから固有表現（組織名、人名、地名、固有物名、日付表現、時刻表現、金額表現、割合表現）をすべて抽出し、知識ベース内の該当エンティティにリンクしてください。回答は「固有表現（種類, 知識ベースエンティティ）」の形式で示してください。\",\n",
        "    \"input\": \"Appleは2024年5月7日にAI向けチップとして設計されたM4チップ搭載モデルのiPadを発表しました。\",\n",
        "    \"output\": \"Apple（組織名, Q312)\\n2024年5月7日（日付表現, NIL)\\nM4チップ（固有物名, Q125823861\\niPad（固有物名, Q2796)\"\n",
        "  },\n",
        "  {\n",
        "    \"id\": 4,\n",
        "    \"instruction\": \"与えられたテキストから固有表現（組織名、人名、地名、固有物名、日付表現、時刻表現、金額表現、割合表現）をすべて抽出し、知識ベース内の該当エンティティにリンクしてください。回答は「固有表現（種類, 知識ベースエンティティ）」の形式で示してください。\",\n",
        "    \"input\": \"日本では4月1日に新年度が始まります。入社式や入学式が行われ、新入生や新入社員が新たな生活をスタートする重要な節目となります。\",\n",
        "    \"output\": \"日本（地名, Q17）\\n4月1日（日付表現, Q2510）\\n入社式（固有物名, Q11389005）\\n入学式（固有物名, Q11388885）\\n新入生（固有物名, NIL）\\n新入社員（固有物名, Q11255181）\"\n",
        "  },\n",
        "  {\n",
        "    \"id\": 5,\n",
        "    \"instruction\": \"与えられたテキストから固有表現（組織名、人名、地名、固有物名、日付表現、時刻表現、金額表現、割合表現）をすべて抽出し、知識ベース内の該当エンティティにリンクしてください。回答は「固有表現（種類, 知識ベースエンティティ）」の形式で示してください。\",\n",
        "    \"input\": \"2024.05.10に太陽フレアが連続発生したことにより、通信衛星やGPSに影響を与える恐れがあります。\",\n",
        "    \"output\": \"2024.05.10（日付表現, NIL）\\n太陽フレア（固有物名, Q119830）\\n通信衛星（固有物名, Q149918）\\nGPS（固有物名, Q18822）\"\n",
        "  },\n",
        "  {\n",
        "    \"id\": 6,\n",
        "    \"instruction\": \"与えられたテキストから固有表現（組織名、人名、地名、固有物名、日付表現、時刻表現、金額表現、割合表現）をすべて抽出し、知識ベース内の該当エンティティにリンクしてください。回答は「固有表現（種類, 知識ベースエンティティ）」の形式で示してください。\",\n",
        "    \"input\": \"東海旅客鉄道の営業利益は東日本旅客鉄道の約1.7倍の5330億円に上ります。\",\n",
        "    \"output\": \"東海旅客鉄道（組織名, Q513679）\\n東日本旅客鉄道（組織名, Q499071）\\n1.7倍（割合表現, NIL）\\n5330億円（金額表現, NIL）\"\n",
        "  },\n",
        "  {\n",
        "    \"id\": 7,\n",
        "    \"instruction\": \"与えられたテキストから固有表現（組織名、人名、地名、固有物名、日付表現、時刻表現、金額表現、割合表現）をすべて抽出し、知識ベース内の該当エンティティにリンクしてください。回答は「固有表現（種類, 知識ベースエンティティ）」の形式で示してください。\",\n",
        "    \"input\": \"関東大震災は、1923年9月1日11時58分に発生した地震であり、東京を中心に広い範囲で甚大な被害をもたらしました。\",\n",
        "    \"output\": \"東日本大震災（固有物名, Q3742341）\\n1923年9月1日（日付表現, NIL）\\n11時58分（時刻表現, NIL）\\n東京（地名, Q7473516）\"\n",
        "  },\n",
        "  {\n",
        "    \"id\": 8,\n",
        "    \"instruction\": \"与えられたテキストから固有表現（組織名、人名、地名、固有物名、日付表現、時刻表現、金額表現、割合表現）をすべて抽出し、知識ベース内の該当エンティティにリンクしてください。回答は「固有表現（種類, 知識ベースエンティティ）」の形式で示してください。\",\n",
        "    \"input\": \"日本では「仕事でChatGPT などの生成AI ツールを職場で使用している」と回答した人の割合は38%でした。\",\n",
        "    \"output\": \"日本（地名, Q17）\\nChatGPT（固有物名, Q115564437）\\n生成AIツール（固有物名, NIL）\\n職場（固有物名, Q628858）\\n38%（割合表現, NIL）\"\n",
        "  },\n",
        "  {\n",
        "    \"id\": 9,\n",
        "    \"instruction\": \"与えられたテキストから固有表現（組織名、人名、地名、固有物名、日付表現、時刻表現、金額表現、割合表現）をすべて抽出し、知識ベース内の該当エンティティにリンクしてください。回答は「固有表現（種類, 知識ベースエンティティ）」の形式で示してください。\",\n",
        "    \"input\": \"アジャイル開発の現場でスクラムを取り入れている企業は約半数です。\",\n",
        "    \"output\": \"アジャイル開発（固有物名, Q30232）\\n現場（固有物名, NIL）\\nスクラム（固有物名, Q460387）\\n企業（固有物名, Q3477367）\\n約半数（割合表現, NIL）\"\n",
        "  },\n",
        "  {\n",
        "    \"id\": 10,\n",
        "    \"instruction\": \"与えられたテキストから固有表現（組織名、人名、地名、固有物名、日付表現、時刻表現、金額表現、割合表現）をすべて抽出し、知識ベース内の該当エンティティにリンクしてください。回答は「固有表現（種類, 知識ベースエンティティ）」の形式で示してください。\",\n",
        "    \"input\": \"海外では1000億円超えの資金調達をするスタートアップ企業が続出しています。\",\n",
        "    \"output\": \"海外（地名, Q113641827）\\n1000億円超え（金額表現, NIL）\\nスタートアップ企業（固有物名, Q129238）\"\n",
        "  }\n",
        "]"
      ]
    },
    {
      "cell_type": "markdown",
      "metadata": {
        "id": "AVTk8bDYfg1t"
      },
      "source": [
        "##1-2.データ生成処理の実行"
      ]
    },
    {
      "cell_type": "markdown",
      "metadata": {
        "id": "tXqlWgh9ibD_"
      },
      "source": [
        "パラメーターをセット"
      ]
    },
    {
      "cell_type": "code",
      "execution_count": null,
      "metadata": {
        "id": "7hnSt_aTiUfq"
      },
      "outputs": [],
      "source": [
        "TEMPERATURE=1 #temperature to use for sampling. 0 means the output is deterministic. Values greater than 1 encourage more diversity\n",
        "MAX_TOKENS=60000\n",
        "LOOP_NUM = 10 #1回あたり10件データを生成"
      ]
    },
    {
      "cell_type": "code",
      "execution_count": null,
      "metadata": {
        "id": "_EHtNXw2h5fT"
      },
      "outputs": [],
      "source": [
        "def run_model(PROMPT_TEMPLATE, TEMPERATURE=1, MAX_TOKENS=10000):\n",
        "\n",
        "    chat_completion = openai.chat.completions.create(\n",
        "        model=\"mistralai/Mixtral-8x22B-Instruct-v0.1\",\n",
        "        messages=[{\"role\": \"system\", \"content\": \"あなたは日本語の学習データセットを生成する専門家です。\"},\n",
        "         {\"role\": \"user\", \"content\": PROMPT_TEMPLATE}],\n",
        "        temperature=TEMPERATURE,#temperature to use for sampling. 0 means the output is deterministic. Values greater than 1 encourage more diversity\n",
        "        top_p=0.9,#0 < top_p ≤ 1 Sample from the set of tokens with highest probability such that sum of probabilies is higher than p. Lower values focus on the most probable tokens.Higher values sample more low-probability tokens\n",
        "        max_tokens=MAX_TOKENS,\n",
        "        frequency_penalty=1.3,#-2 ≤ presence_penalty ≤ 2 Positive values penalize new tokens based on how many times they appear in the text so far, increasing the model's likelihood to talk about new topics.\n",
        "        presence_penalty=1.3 #-2 ≤ presence_penalty ≤ 2 Positive values penalize new tokens based on whether they appear in the text so far, increasing the model's likelihood to talk about new topics.\n",
        "        )\n",
        "\n",
        "    output = chat_completion.choices[0].message.content\n",
        "\n",
        "    return output"
      ]
    },
    {
      "cell_type": "code",
      "execution_count": null,
      "metadata": {
        "colab": {
          "background_save": true
        },
        "id": "n48LR43DfJG8"
      },
      "outputs": [],
      "source": [
        "from string import Template\n",
        "from datetime import datetime\n",
        "import pandas as pd\n",
        "import json\n",
        "\n",
        "df_list = []\n",
        "\n",
        "### few-shot template ###\n",
        "formatted_prompt_template = Template(PROMPT_TEMPLATE).substitute(FewShotExamples=FEWSHOT_EXAMPLES)\n",
        "\n",
        "for i in range(LOOP_NUM):\n",
        "\n",
        "    ### JSON形式で出力が出てこないケースがあるため、3回までリトライ ###\n",
        "    for retry_i in range(3):\n",
        "\n",
        "        ### LLMによるデータ生成処理 ###\n",
        "        output = run_model(formatted_prompt_template, TEMPERATURE, MAX_TOKENS)\n",
        "        print(output)\n",
        "\n",
        "        try:\n",
        "            #output = json.loads(output)\n",
        "            df_output = pd.read_json(output)\n",
        "            df_list.append(df_output)\n",
        "            print(f\"Success parsing JSON\")\n",
        "            break\n",
        "        except Exception as e:\n",
        "            print(e)\n",
        "            print(f\"Error parsing JSON: {retry_i}\")\n",
        "            continue\n",
        "\n",
        "\n",
        "df_final = pd.concat(df_list)\n",
        "\n",
        "df_final.head()"
      ]
    },
    {
      "cell_type": "markdown",
      "metadata": {
        "id": "NuVdONsrfpg9"
      },
      "source": [
        "##1-3.データの保存"
      ]
    },
    {
      "cell_type": "code",
      "execution_count": null,
      "metadata": {
        "colab": {
          "background_save": true
        },
        "id": "1hRLXUN1fJJC"
      },
      "outputs": [],
      "source": [
        "import datetime\n",
        "\n",
        "# Get the current datetime\n",
        "now = datetime.datetime.now()\n",
        "\n",
        "# Format the datetime as a string\n",
        "timestamp = now.strftime(\"%Y-%m-%d_%H-%M-%S\")\n",
        "\n",
        "# Create the filename with the timestamp\n",
        "filename = f\"/generated_data_{timestamp}.xlsx\"\n",
        "\n",
        "# Save the DataFrame to an Excel file with the timestamped filename\n",
        "df_final.to_excel(G_FOLDER + filename, index=False)\n",
        "\n",
        "print(f\"File saved as: {filename}\")"
      ]
    }
  ],
  "metadata": {
    "colab": {
      "provenance": []
    },
    "kernelspec": {
      "display_name": "Python 3",
      "name": "python3"
    },
    "language_info": {
      "name": "python"
    }
  },
  "nbformat": 4,
  "nbformat_minor": 0
}