{
  "cells": [
    {
      "cell_type": "code",
      "execution_count": null,
      "metadata": {
        "colab": {
          "base_uri": "https://localhost:8080/"
        },
        "id": "N4abATMbsTzI",
        "outputId": "66eae6fd-e004-41aa-b4b1-0b55cb2f64b7"
      },
      "outputs": [],
      "source": [
        "!pip install pypdf2\n",
        "!pip install requests\n",
        "!pip install pycryptodom"
      ]
    },
    {
      "cell_type": "code",
      "execution_count": null,
      "metadata": {},
      "outputs": [],
      "source": [
        "!pip install beautifulsoup4\n",
        "!pip install joblib"
      ]
    },
    {
      "cell_type": "code",
      "execution_count": null,
      "metadata": {},
      "outputs": [],
      "source": [
        "import os\n",
        "import pathlib\n",
        "\n",
        "# カレントディレクトリを取得\n",
        "current_dir = pathlib.Path(os.getcwd())\n",
        "# カレントディレクトリの親ディレクトリを取得して ROOT_PATH とする\n",
        "ROOT_PATH = current_dir.parent\n",
        "# OUTPUT_PATH を設定\n",
        "OUTPUT_PATH = os.path.join(ROOT_PATH, \"output\")\n",
        "\n",
        "# ダウンロードするPDFファイルを保存するディレクトリのパス\n",
        "download_dir = os.path.join(OUTPUT_PATH, 'pdf_downloads')\n",
        "if not os.path.exists(download_dir):\n",
        "    os.makedirs(download_dir)"
      ]
    },
    {
      "cell_type": "code",
      "execution_count": null,
      "metadata": {
        "id": "0D6dP1LEKQ9r"
      },
      "outputs": [],
      "source": [
        "import requests\n",
        "import os\n",
        "from bs4 import BeautifulSoup\n",
        "from joblib import Parallel, delayed\n",
        "\n",
        "# クロールするウェブサイトのURL\n",
        "urls = [\"https://data.e-gov.go.jp/data/dataset/?q=報告書&res_format=PDF&res_license_id=cc-by&sort=score+desc%2C+metadata_modified+desc-20\",\n",
        "        \"https://data.e-gov.go.jp/data/dataset/?q=報告書&res_format=PDF&res_license_id=gjstu&sort=score+desc%2C+metadata_modified+desc-20\",\n",
        "        \"https://data.e-gov.go.jp/data/dataset/?q=報告書&res_format=PDF&res_license_id=CC-BY&sort=score+desc%2C+metadata_modified+desc-20\",\n",
        "        \"https://data.e-gov.go.jp/data/dataset/?q=白書&res_format=PDF&res_license_id=cc-by&sort=score+desc%2C+metadata_modified+desc-20\",\n",
        "        \"https://data.e-gov.go.jp/data/dataset/?q=白書&res_format=PDF&res_license_id=gjstu&sort=score+desc%2C+metadata_modified+desc-20\",\n",
        "        \"https://data.e-gov.go.jp/data/dataset/?q=白書&res_format=PDF&res_license_id=CC-BY&sort=score+desc%2C+metadata_modified+desc-20\",]\n",
        "\n",
        "# クロールするぺージ数\n",
        "last_pages = [211, 40, 4, 108, 10, 9]\n",
        "\n",
        "def crawl_pages(url, last_page=384, output_dir=\"pdf_downloads\"):\n",
        "    crawl_search_pdf(url, output_dir=output_dir)\n",
        "    print(\"page1をクロールしました。\")\n",
        "    for next in range(2, last_page+1):\n",
        "        next_url = url + \"&page=\" + str(next)\n",
        "        crawl_search_pdf(next_url, output_dir=output_dir)\n",
        "        print(\"page\" + str(next) + \"をクロールしました。\")\n",
        "\n",
        "def crawl_search_pdf(url, output_dir=\"pdf_downloads\"):\n",
        "    \"\"\"指定されたURLからPDFリンクを見つける\"\"\"\n",
        "    response = requests.get(url)\n",
        "    soup = BeautifulSoup(response.text, 'html.parser')\n",
        "    li_tag = soup.find_all('li', class_='list_dataset_item')\n",
        "    \n",
        "    for target in li_tag:\n",
        "        for link in target.find_all('a', string=['PDF', 'pdf'], href=True):\n",
        "            href = link.get('href')\n",
        "            crawl_all_pdfs(\"https://data.e-gov.go.jp\"+href, output_dir=output_dir)\n",
        "    \n",
        "def crawl_all_pdfs(url, output_dir=\"pdf_downloads\"):\n",
        "    \"\"\"指定されたURLからPDFリンクを見つけてダウンロードする\"\"\"\n",
        "    response = requests.get(url)\n",
        "    soup = BeautifulSoup(response.text, 'html.parser')\n",
        "    li_tag = soup.find_all('li', class_='list_dataset_item resource-item')\n",
        "\n",
        "    # PDFリンクのリストをリスト内包表記で抽出\n",
        "    pdf_links = [[link.get('href') for link in target.find_all('a') if link.get('href').endswith('.pdf')] for target in li_tag]\n",
        "    filtered_pdf_links = [element for element in pdf_links if element]\n",
        "    Parallel(n_jobs=1, verbose=0)([delayed(write_pdf_links_to_file)(pdf_link[0], output_dir) for pdf_link in filtered_pdf_links])\n",
        "\n",
        "def write_pdf_links_to_file(pdf_link, output_dir=\"pdf_downloads\"):\n",
        "    download_file = os.path.join(output_dir, 'urls.txt') \n",
        "    # PDFリンクをファイルに書き込む\n",
        "    with open(download_file, \"a\", encoding=\"utf-8\") as file:\n",
        "        file.write(pdf_link + \"\\n\")  # \"\\n\" は新しい行を開始します\n",
        "\n",
        "# クローリングを開始する\n",
        "for url, last_page in zip(urls,last_pages):\n",
        "    crawl_pages(url, last_page=last_page, output_dir=download_dir)"
      ]
    },
    {
      "cell_type": "code",
      "execution_count": null,
      "metadata": {},
      "outputs": [],
      "source": [
        "import requests\n",
        "import PyPDF2\n",
        "import re\n",
        "import json\n",
        "import os\n",
        "from io import BytesIO\n",
        "\n",
        "def extract_text_from_pdf_with_pypdf2(url):\n",
        "    # PDFファイルをダウンロードする\n",
        "    response = requests.get(url)\n",
        "    response.raise_for_status()  # HTTPエラーをチェック\n",
        "    texts = []\n",
        "    json_text = {}\n",
        "    # ダウンロードしたPDFファイルをメモリ上で開く\n",
        "    with BytesIO(response.content) as f:\n",
        "        # PyPDF2を使用してPDFファイルを読み込む\n",
        "        pdf_reader = PyPDF2.PdfReader(f)\n",
        "        text = \"\"\n",
        "        \n",
        "        # 各ページからテキストを抽出\n",
        "        for page_num in range(len(pdf_reader.pages)):\n",
        "            page = pdf_reader.pages[page_num]\n",
        "            text += page.extract_text() if page.extract_text() else ''\n",
        "        \n",
        "    without_kaigyou_text = text.replace('\\n', '')\n",
        "    cleaned_text = re.sub(r'\\.\\.+', '', without_kaigyou_text)\n",
        "\n",
        "    json_text['text'] = cleaned_text \n",
        "    texts.append(json_text)\n",
        "    return texts\n",
        "\n",
        "# 使用例\n",
        "# if not os.path.exists(download_dir):\n",
        "#     os.makedirs(download_dir)\n",
        "\n",
        "# url = \"https://www.ppc.go.jp/files/pdf/nichibeiou_ekkyouiten_report.pdf\"\n",
        "# texts = extract_text_from_pdf_with_pypdf2(url)\n",
        "# # JSONLファイルに保存\n",
        "# with open(os.path.join(download_dir, 'scraped_data.jsonl'), 'a', encoding='utf-8') as file:\n",
        "#     for data in texts:\n",
        "#         json_line = json.dumps(data, ensure_ascii=False)  # JSON形式の文字列に変換\n",
        "#         file.write(json_line + '\\n')  \n",
        "# print(texts[0])  \n",
        "\n",
        "# urls.txtに保存されたURLからPDFをダウンロードしてテキストを抽出\n",
        "with open(os.path.join(download_dir, 'urls.txt'), 'r', encoding='utf-8') as file:\n",
        "    urls = file.readlines()\n",
        "    for url in urls:\n",
        "        try:\n",
        "            texts = extract_text_from_pdf_with_pypdf2(url.replace('\\n', ''))\n",
        "            # JSONLファイルに保存\n",
        "            with open(os.path.join(download_dir, 'scraped_data.jsonl'), 'a', encoding='utf-8') as file:\n",
        "                for data in texts:\n",
        "                    json_line = json.dumps(data, ensure_ascii=False)  # JSON形式の文字列に変換\n",
        "                    file.write(json_line + '\\n')\n",
        "        except Exception as e:\n",
        "            print(str(e.args) +  url)\n",
        "            continue"
      ]
    },
    {
      "cell_type": "code",
      "execution_count": null,
      "metadata": {},
      "outputs": [],
      "source": [
        "# def download_pdf(link):\n",
        "#     \"\"\"PDFファイルをダウンロードする関数\"\"\"\n",
        "#     response = requests.get(link)\n",
        "#     filename = link.split('/')[-1]\n",
        "#     with open(os.path.join(OUTPUT_PATH, filename), 'wb') as f:\n",
        "#         f.write(response.content)\n",
        "#     print(f\"{filename} をダウンロードしました。\")"
      ]
    }
  ],
  "metadata": {
    "colab": {
      "provenance": []
    },
    "kernelspec": {
      "display_name": "Python 3",
      "name": "python3"
    },
    "language_info": {
      "codemirror_mode": {
        "name": "ipython",
        "version": 3
      },
      "file_extension": ".py",
      "mimetype": "text/x-python",
      "name": "python",
      "nbconvert_exporter": "python",
      "pygments_lexer": "ipython3",
      "version": "3.11.8"
    }
  },
  "nbformat": 4,
  "nbformat_minor": 0
}
