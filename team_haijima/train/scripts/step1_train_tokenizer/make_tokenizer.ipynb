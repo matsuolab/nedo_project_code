{
 "cells": [
  {
   "cell_type": "markdown",
   "id": "3c2ed34b-98ab-4918-bc71-b67c257e3611",
   "metadata": {},
   "source": [
    "# 日本語とコードをマージ"
   ]
  },
  {
   "cell_type": "code",
   "execution_count": 1,
   "id": "d6c6a980-0642-4c4c-baa6-eb9cefc0af0d",
   "metadata": {},
   "outputs": [],
   "source": [
    "import math"
   ]
  },
  {
   "cell_type": "markdown",
   "id": "c337a507-e16c-4cf6-9098-a29479ea8ba9",
   "metadata": {},
   "source": [
    "## 各言語の語彙を読み込む"
   ]
  },
  {
   "cell_type": "code",
   "execution_count": 20,
   "id": "9f759cd9-c0c3-4bcb-80d3-39e1d9c30403",
   "metadata": {},
   "outputs": [],
   "source": [
    "with open('./japanese.vocab') as f:\n",
    "    japanese_vocab = list(filter(lambda x:len(x)==2, map(lambda x:x.split('\\t'), f.read().strip().split('\\n'))))\n",
    "with open('./code.vocab') as f:\n",
    "    code_vocab = list(filter(lambda x:len(x)==2, map(lambda x:x.split('\\t'), f.read().strip().split('\\n'))))"
   ]
  },
  {
   "cell_type": "code",
   "execution_count": 21,
   "id": "92e10fb5-7021-4a31-8e6b-9faf2f59fc2c",
   "metadata": {},
   "outputs": [],
   "source": [
    "for v in japanese_vocab:\n",
    "    v[1] = float(v[1])\n",
    "for v in code_vocab:\n",
    "    v[1] = float(v[1])"
   ]
  },
  {
   "cell_type": "code",
   "execution_count": 22,
   "id": "35bff135-5b0f-45e7-9773-ff07aef6fe26",
   "metadata": {},
   "outputs": [],
   "source": [
    "special_vocab = dict(filter(lambda x: x[1] == 0, sorted(japanese_vocab, key=lambda x:x[0])))\n",
    "japanese_vocab = dict(filter(lambda x: x[1] != 0, sorted(japanese_vocab, key=lambda x:x[0])))\n",
    "code_vocab = dict(filter(lambda x: x[1] != 0, sorted(code_vocab, key=lambda x:x[0])))"
   ]
  },
  {
   "cell_type": "code",
   "execution_count": 23,
   "id": "64176dc7-329d-4377-87ce-36ad13f461cd",
   "metadata": {},
   "outputs": [],
   "source": [
    "special_vocab['\\n'] : 0.0"
   ]
  },
  {
   "cell_type": "code",
   "execution_count": 24,
   "id": "8dbf3965-8726-4a59-baaa-4cfe81eaf062",
   "metadata": {},
   "outputs": [],
   "source": [
    "# 日本語とコードの比率は 7:1 程度．"
   ]
  },
  {
   "cell_type": "markdown",
   "id": "23e59d03-2ec1-4365-8bcc-ae33680bd227",
   "metadata": {},
   "source": [
    "## 確率を調整して語彙をマージ"
   ]
  },
  {
   "cell_type": "code",
   "execution_count": 25,
   "id": "3348d8b3-e9f8-4ba7-af16-69cab336a0c2",
   "metadata": {},
   "outputs": [],
   "source": [
    "all_vocab = {}\n",
    "\n",
    "# for t, p in special_vocab.items():\n",
    "#     all_vocab[t] = p\n",
    "\n",
    "for t, p in japanese_vocab.items():\n",
    "    all_vocab[t] = p + math.log(7/8)\n",
    "\n",
    "for t, p in code_vocab.items():\n",
    "    if t not in all_vocab:\n",
    "        all_vocab[t] = p + math.log(1/8)\n",
    "    else:\n",
    "        all_vocab[t] = math.log(math.exp(p + math.log(1/8)) + math.exp(all_vocab[t]))"
   ]
  },
  {
   "cell_type": "code",
   "execution_count": 26,
   "id": "f023d94a-2fdc-4234-8e9d-aa7cb21c60ac",
   "metadata": {},
   "outputs": [
    {
     "data": {
      "text/plain": [
       "0.9941953655852239"
      ]
     },
     "execution_count": 26,
     "metadata": {},
     "output_type": "execute_result"
    }
   ],
   "source": [
    "P = 0\n",
    "for t, p in all_vocab.items():\n",
    "    P += math.exp(p)\n",
    "P"
   ]
  },
  {
   "cell_type": "code",
   "execution_count": 27,
   "id": "1110dec0-bfb9-49db-81e3-b20c0a819c2f",
   "metadata": {},
   "outputs": [],
   "source": [
    "all_vocab = sorted(list(all_vocab.items()), key=lambda x:x[0])"
   ]
  },
  {
   "cell_type": "code",
   "execution_count": 28,
   "id": "02661f74-a9ca-498d-9782-48005fa8f326",
   "metadata": {},
   "outputs": [
    {
     "data": {
      "text/plain": [
       "[('!', -6.514357077257914),\n",
       " ('!!', -8.552822579732048),\n",
       " ('!!!', -10.226643593722958),\n",
       " ('!!!!', -11.899231392624523),\n",
       " ('!!!!!', -12.290731392624522),\n",
       " ('!!」', -11.393431392624523),\n",
       " ('!!︎', -12.863131392624522),\n",
       " ('!!️', -12.394931392624523),\n",
       " ('!?', -9.912491392624522),\n",
       " ('!?」', -12.332231392624523),\n",
       " ('!」', -9.022391392624522),\n",
       " ('!』', -10.575831392624522),\n",
       " ('!【', -11.816131392624523),\n",
       " ('!】', -11.716731392624522),\n",
       " ('\"', -6.3098584126173485),\n",
       " ('\"\"', -12.284431392624523),\n",
       " ('\"\"\"', -9.344411541679836),\n",
       " ('\"#', -11.325791541679836),\n",
       " ('\"#!\"', -14.705341541679836),\n",
       " ('\"#\"', -13.622541541679837),\n",
       " ('\"#\">', -13.286441541679837),\n",
       " ('\"$', -13.491341541679835),\n",
       " ('\"%', -11.815461541679836),\n",
       " ('\",', -9.068037360427505),\n",
       " ('\",\"', -9.977230848998115),\n",
       " ('\",\"\\\\', -15.096241541679836),\n",
       " ('\":', -10.387931392624523),\n",
       " ('\":\"', -10.029711168949317),\n",
       " ('\":\"\",\"', -11.976431392624523),\n",
       " ('\";', -10.503231541679837),\n",
       " ('\">', -8.13570195470334),\n",
       " ('\">#', -12.278360280747242),\n",
       " ('\">$', -14.893941541679837),\n",
       " ('\">&', -12.739641541679836),\n",
       " ('\">&#', -13.789641541679837),\n",
       " ('\">@', -15.096141541679836),\n",
       " ('\">«', -15.043641541679836),\n",
       " ('\">¶', -15.028741541679835),\n",
       " ('\"@', -14.241741541679836),\n",
       " ('\"\\\\', -11.932351541679836),\n",
       " ('\"\\\\\"\"', -15.242841541679836),\n",
       " ('\"\\\\\\\\', -14.574441541679835),\n",
       " ('\"|\"', -15.592241541679837),\n",
       " ('#', -8.129027649505412),\n",
       " ('##', -13.213841541679836),\n",
       " ('###', -14.389241541679835),\n",
       " ('########', -15.549741541679836),\n",
       " ('#########', -16.011741541679836),\n",
       " ('##########', -15.105241541679836),\n",
       " ('###########', -15.714741541679837),\n",
       " ('############', -15.447241541679837),\n",
       " ('#############', -15.818541541679837),\n",
       " ('##############', -15.230841541679837),\n",
       " ('###############', -14.018941541679837),\n",
       " ('################', -12.033451541679836),\n",
       " ('$', -9.867526031311687),\n",
       " ('$$', -13.559841541679836),\n",
       " (\"$',\", -13.640441541679836),\n",
       " ('$\\\\', -14.788741541679837),\n",
       " ('%', -7.390457638454564),\n",
       " ('%\">', -13.309441541679837),\n",
       " ('%,', -11.578951541679837),\n",
       " ('%,#', -14.649041541679836),\n",
       " ('%;', -10.082861541679836),\n",
       " ('&', -7.719654480242523),\n",
       " ('&#', -11.42198093444919),\n",
       " ('&&', -13.203141541679836),\n",
       " (\"'\", -6.885931211282419),\n",
       " ('\\'\"\\'', -14.792141541679836),\n",
       " (\"'#\", -12.539541541679837),\n",
       " (\"'#'\", -14.868441541679836),\n",
       " (\"'$\", -14.114641541679836),\n",
       " (\"'%\", -12.037151541679837),\n",
       " (\"''\", -11.704731392624522),\n",
       " (\"'''\", -11.34779992401215),\n",
       " (\"'',\", -13.122741541679837),\n",
       " (\"',\", -8.815940117828221),\n",
       " (\"','\", -12.329341541679836),\n",
       " (\"':\", -9.504451541679837),\n",
       " (\"':'\", -13.495841541679836),\n",
       " (\"';\", -12.388231392624522),\n",
       " (\"'?'\", -14.625441541679836),\n",
       " (\"'@'\", -15.300441541679836),\n",
       " (\"'\\\\\", -11.781191541679837),\n",
       " (\"'\\\\''\", -15.967241541679837),\n",
       " (\"'\\\\\\\\\", -15.116641541679837),\n",
       " (\"'\\\\\\\\'\", -14.838741541679836),\n",
       " (\"'_'\", -14.462641541679837),\n",
       " (\"'|'\", -15.119141541679836),\n",
       " (\"'~'\", -15.984441541679836),\n",
       " (',', -5.6260851477489675),\n",
       " (',\"', -10.733431392624523),\n",
       " (',%%', -14.596441541679836),\n",
       " (',,,', -12.614631392624522),\n",
       " ('0', -4.196558149077542),\n",
       " ('1', -4.163917652608947),\n",
       " ('2', -4.453656971434775),\n",
       " ('3', -5.141777796750556),\n",
       " ('4', -5.344929645174167),\n",
       " ('5', -5.287385271746624),\n",
       " ('6', -5.518037645886218),\n",
       " ('7', -5.578082118744977),\n",
       " ('8', -5.494967413943714),\n",
       " ('9', -5.270963388857249),\n",
       " (':', -5.2039252671252765),\n",
       " (':\"%', -14.813741541679835),\n",
       " (':\"\\\\', -14.368341541679836),\n",
       " (':#', -12.512641541679836),\n",
       " ('::', -7.965561541679836),\n",
       " (':::', -11.664231392624522),\n",
       " ('::::', -11.874231392624523),\n",
       " (':::::', -12.003731392624523),\n",
       " ('::::::', -12.111531392624522),\n",
       " (':::::::', -12.007231392624522),\n",
       " ('::::::::', -10.423131392624523),\n",
       " ('::|', -12.794031392624523),\n",
       " ('::~', -12.918141541679836),\n",
       " (':@\"', -15.385641541679837),\n",
       " (':``', -14.369841541679836),\n",
       " (':`~', -14.253741541679837),\n",
       " (';', -6.3062732989036),\n",
       " (';&', -11.101201541679837),\n",
       " (';&#', -11.926128775521459),\n",
       " (';;', -11.618931392624523),\n",
       " (';;;', -11.983431392624523),\n",
       " (';;;;;;;;', -12.584831392624523),\n",
       " (';|&', -13.598341541679837),\n",
       " ('>', -6.492872001073685),\n",
       " ('>$', -14.389841541679836),\n",
       " ('>&', -11.034491541679836),\n",
       " ('>&#', -14.204141541679837),\n",
       " ('>>', -11.126731392624523),\n",
       " ('>>>', -12.862231392624523),\n",
       " ('>_', -12.188431392624523),\n",
       " ('?', -7.010395806883412),\n",
       " ('?!', -11.285931392624523),\n",
       " ('??', -10.17698137477729),\n",
       " ('???', -11.158241834385516),\n",
       " ('????', -12.110531392624523),\n",
       " ('?\\\\', -15.069341541679837),\n",
       " ('?」', -8.986421392624523),\n",
       " ('?』', -11.692531392624522),\n",
       " ('@', -8.387397952749733),\n",
       " ('@%', -14.977541541679836),\n",
       " ('@@', -13.642841541679836),\n",
       " ('@@@', -15.904841541679836),\n",
       " ('@\\\\', -10.696031392624523),\n",
       " ('A', -7.482220388407301),\n",
       " ('AA', -11.279621960112074),\n",
       " ('AAA', -11.561317776782337),\n",
       " ('AAAA', -14.855241541679836),\n",
       " ('AAAAA', -15.873241541679835),\n",
       " ('AAAAAA', -15.838241541679837),\n",
       " ('AAAAAAAA', -15.868441541679836),\n",
       " ('AABB', -15.696841541679836),\n",
       " ('AAC', -15.685641541679836),\n",
       " ('AArch', -14.773541541679837),\n",
       " ('AB', -11.385531358868876),\n",
       " ('ABA', -13.131185887521879),\n",
       " ('ABC', -11.877955068659787),\n",
       " ('ABCMeta', -15.879041541679836),\n",
       " ('ABI', -14.707241541679837),\n",
       " ('ABILITY', -15.899841541679836),\n",
       " ('ABLE', -14.026441541679835),\n",
       " ('ABORT', -15.290841541679836),\n",
       " ('ABS', -12.801120666773175),\n",
       " ('AC', -10.508739472698165),\n",
       " ('ACC', -15.108941541679837),\n",
       " ('ACCEL', -15.830441541679836),\n",
       " ('ACCEPT', -15.236341541679836),\n",
       " ('ACCESS', -14.012041541679837),\n",
       " ('ACCESSOR', -16.067141541679835),\n",
       " ('ACCOUNT', -15.247041541679836),\n",
       " ('ACE', -11.916028639839453),\n",
       " ('ACK', -12.030906245004491),\n",
       " ('ACL', -14.333941541679836),\n",
       " ('ACT', -12.398809872396619),\n",
       " ('ACTION', -13.294841541679837),\n",
       " ('ACTIVATE', -16.076941541679837),\n",
       " ('ACTIVE', -14.386341541679837),\n",
       " ('ACTIVITY', -16.244641541679837),\n",
       " ('AD', -10.692215052302032),\n",
       " ('ADA', -12.816062923933467),\n",
       " ('ADC', -15.122341541679836),\n",
       " ('ADD', -13.186641541679837),\n",
       " ('ADDED', -15.942941541679836),\n",
       " ('ADDR', -14.097741541679836),\n",
       " ('ADDRESS', -13.832241541679837),\n",
       " ('ADJ', -15.402141541679836),\n",
       " ('ADMIN', -14.826741541679835),\n",
       " ('ADP', -15.697541541679836),\n",
       " ('ADT', -15.389941541679836),\n",
       " ('ADV', -15.500641541679837),\n",
       " ('ADVANCE', -16.308141541679834),\n",
       " ('AE', -11.682177159125896),\n",
       " ('AES', -14.661341541679835),\n",
       " ('AF', -11.251820981849109),\n",
       " ('AFC', -12.429731392624523),\n",
       " ('AFTER', -15.629741541679836),\n",
       " ('AG', -11.765897041426353)]"
      ]
     },
     "execution_count": 28,
     "metadata": {},
     "output_type": "execute_result"
    }
   ],
   "source": [
    "all_vocab[:200]"
   ]
  },
  {
   "cell_type": "code",
   "execution_count": 29,
   "id": "5bc5ac43-af68-4279-925b-7bae5902fa33",
   "metadata": {},
   "outputs": [],
   "source": [
    "with open('merged.vocab', 'w') as f:\n",
    "    for t in sorted(special_vocab):\n",
    "        f.write(f'{t}\\t{0}\\n')\n",
    "    for t, p in all_vocab:\n",
    "        f.write(f'{t}\\t{p}\\n')"
   ]
  },
  {
   "cell_type": "code",
   "execution_count": 30,
   "id": "99b138f9-c577-4f9a-8c6f-1dadb4cffb25",
   "metadata": {},
   "outputs": [
    {
     "data": {
      "text/plain": [
       "39600"
      ]
     },
     "execution_count": 30,
     "metadata": {},
     "output_type": "execute_result"
    }
   ],
   "source": [
    "len(japanese_vocab)"
   ]
  },
  {
   "cell_type": "code",
   "execution_count": 31,
   "id": "fe003aa0-baef-4a0c-b886-0b13a9388034",
   "metadata": {},
   "outputs": [
    {
     "data": {
      "text/plain": [
       "18600"
      ]
     },
     "execution_count": 31,
     "metadata": {},
     "output_type": "execute_result"
    }
   ],
   "source": [
    "len(code_vocab)"
   ]
  },
  {
   "cell_type": "code",
   "execution_count": 32,
   "id": "26844cb4-5f11-44db-bdda-288c2a59d093",
   "metadata": {},
   "outputs": [
    {
     "data": {
      "text/plain": [
       "54992"
      ]
     },
     "execution_count": 32,
     "metadata": {},
     "output_type": "execute_result"
    }
   ],
   "source": [
    "len(all_vocab)"
   ]
  },
  {
   "cell_type": "code",
   "execution_count": 33,
   "id": "1a1fdf0e-2023-4ee9-b97f-9c7d2f676f7e",
   "metadata": {},
   "outputs": [
    {
     "data": {
      "text/plain": [
       "15392"
      ]
     },
     "execution_count": 33,
     "metadata": {},
     "output_type": "execute_result"
    }
   ],
   "source": [
    "count_code = 0\n",
    "for t in code_vocab:\n",
    "    if t not in japanese_vocab:\n",
    "        count_code += 1\n",
    "count_code"
   ]
  },
  {
   "cell_type": "code",
   "execution_count": 34,
   "id": "060b5910-aa10-4ddd-b71b-c49f1fdf2d38",
   "metadata": {},
   "outputs": [
    {
     "data": {
      "text/plain": [
       "55392"
      ]
     },
     "execution_count": 34,
     "metadata": {},
     "output_type": "execute_result"
    }
   ],
   "source": [
    "15392 + 39600 + 400"
   ]
  },
  {
   "cell_type": "markdown",
   "id": "1573dc0e-40c8-491d-9c59-f2b2c382dd76",
   "metadata": {},
   "source": [
    "## vocab -> model\n",
    "- 適当なベースモデルを作り，それをベースに作った語彙を突っ込む\n",
    "- もしかするとここで `<pad>` を指定しておくべきだったか．"
   ]
  },
  {
   "cell_type": "code",
   "execution_count": 56,
   "id": "935e1674-67e9-456b-a53c-24deb3d894c2",
   "metadata": {},
   "outputs": [
    {
     "name": "stdout",
     "output_type": "stream",
     "text": [
      "sentencepiece_trainer.cc(78) LOG(INFO) Starts training with : \n",
      "trainer_spec {\n",
      "  input: ./merged.vocab\n",
      "  input_format: \n",
      "  model_prefix: dummy\n",
      "  model_type: UNIGRAM\n",
      "  vocab_size: 4835\n",
      "  self_test_sample_size: 0\n",
      "  character_coverage: 0.9995\n",
      "  input_sentence_size: 0\n",
      "  shuffle_input_sentence: 1\n",
      "  seed_sentencepiece_size: 1000000\n",
      "  shrinking_factor: 0.75\n",
      "  max_sentence_length: 4192\n",
      "  num_threads: 72\n",
      "  num_sub_iterations: 2\n",
      "  max_sentencepiece_length: 1\n",
      "  split_by_unicode_script: 1\n",
      "  split_by_number: 1\n",
      "  split_by_whitespace: 0\n",
      "  split_digits: 1\n",
      "  pretokenization_delimiter: \n",
      "  treat_whitespace_as_suffix: 0\n",
      "  allow_whitespace_only_pieces: 1\n",
      "  user_defined_symbols: \n",
      "\n",
      "  user_defined_symbols: <pad>\n",
      "  user_defined_symbols: <CLS>\n",
      "  user_defined_symbols: <SEP>\n",
      "  user_defined_symbols: <EOD>\n",
      "  user_defined_symbols: <MASK>\n",
      "  required_chars: \n",
      "  byte_fallback: 1\n",
      "  vocabulary_output_piece_score: 1\n",
      "  train_extremely_large_corpus: 1\n",
      "  seed_sentencepieces_file: \n",
      "  hard_vocab_limit: 1\n",
      "  use_all_vocab: 0\n",
      "  unk_id: 0\n",
      "  bos_id: 1\n",
      "  eos_id: 2\n",
      "  pad_id: -1\n",
      "  unk_piece: <unk>\n",
      "  bos_piece: <s>\n",
      "  eos_piece: </s>\n",
      "  pad_piece: <pad>\n",
      "  unk_surface:  ⁇ \n",
      "  enable_differential_privacy: 0\n",
      "  differential_privacy_noise_level: 0\n",
      "  differential_privacy_clipping_threshold: 0\n",
      "}\n",
      "normalizer_spec {\n",
      "  name: identity\n",
      "  add_dummy_prefix: 1\n",
      "  remove_extra_whitespaces: 0\n",
      "  escape_whitespaces: 1\n",
      "  normalization_rule_tsv: \n",
      "}\n",
      "denormalizer_spec {}\n",
      "trainer_interface.cc(353) LOG(INFO) SentenceIterator is not specified. Using MultiFileSentenceIterator.\n",
      "trainer_interface.cc(185) LOG(INFO) Loading corpus: ./merged.vocab\n",
      "trainer_interface.cc(409) LOG(INFO) Loaded all 55393 sentences\n",
      "trainer_interface.cc(425) LOG(INFO) Adding meta_piece: <unk>\n",
      "trainer_interface.cc(425) LOG(INFO) Adding meta_piece: <s>\n",
      "trainer_interface.cc(425) LOG(INFO) Adding meta_piece: </s>\n",
      "trainer_interface.cc(425) LOG(INFO) Adding meta_piece: \n",
      "\n",
      "trainer_interface.cc(425) LOG(INFO) Adding meta_piece: <pad>\n",
      "trainer_interface.cc(425) LOG(INFO) Adding meta_piece: <CLS>\n",
      "trainer_interface.cc(425) LOG(INFO) Adding meta_piece: <SEP>\n",
      "trainer_interface.cc(425) LOG(INFO) Adding meta_piece: <EOD>\n",
      "trainer_interface.cc(425) LOG(INFO) Adding meta_piece: <MASK>\n",
      "trainer_interface.cc(425) LOG(INFO) Adding meta_piece: <0x00>\n",
      "trainer_interface.cc(425) LOG(INFO) Adding meta_piece: <0x01>\n",
      "trainer_interface.cc(425) LOG(INFO) Adding meta_piece: <0x02>\n",
      "trainer_interface.cc(425) LOG(INFO) Adding meta_piece: <0x03>\n",
      "trainer_interface.cc(425) LOG(INFO) Adding meta_piece: <0x04>\n",
      "trainer_interface.cc(425) LOG(INFO) Adding meta_piece: <0x05>\n",
      "trainer_interface.cc(425) LOG(INFO) Adding meta_piece: <0x06>\n",
      "trainer_interface.cc(425) LOG(INFO) Adding meta_piece: <0x07>\n",
      "trainer_interface.cc(425) LOG(INFO) Adding meta_piece: <0x08>\n",
      "trainer_interface.cc(425) LOG(INFO) Adding meta_piece: <0x09>\n",
      "trainer_interface.cc(425) LOG(INFO) Adding meta_piece: <0x0A>\n",
      "trainer_interface.cc(425) LOG(INFO) Adding meta_piece: <0x0B>\n",
      "trainer_interface.cc(425) LOG(INFO) Adding meta_piece: <0x0C>\n",
      "trainer_interface.cc(425) LOG(INFO) Adding meta_piece: <0x0D>\n",
      "trainer_interface.cc(425) LOG(INFO) Adding meta_piece: <0x0E>\n",
      "trainer_interface.cc(425) LOG(INFO) Adding meta_piece: <0x0F>\n",
      "trainer_interface.cc(425) LOG(INFO) Adding meta_piece: <0x10>\n",
      "trainer_interface.cc(425) LOG(INFO) Adding meta_piece: <0x11>\n",
      "trainer_interface.cc(425) LOG(INFO) Adding meta_piece: <0x12>\n",
      "trainer_interface.cc(425) LOG(INFO) Adding meta_piece: <0x13>\n",
      "trainer_interface.cc(425) LOG(INFO) Adding meta_piece: <0x14>\n",
      "trainer_interface.cc(425) LOG(INFO) Adding meta_piece: <0x15>\n",
      "trainer_interface.cc(425) LOG(INFO) Adding meta_piece: <0x16>\n",
      "trainer_interface.cc(425) LOG(INFO) Adding meta_piece: <0x17>\n",
      "trainer_interface.cc(425) LOG(INFO) Adding meta_piece: <0x18>\n",
      "trainer_interface.cc(425) LOG(INFO) Adding meta_piece: <0x19>\n",
      "trainer_interface.cc(425) LOG(INFO) Adding meta_piece: <0x1A>\n",
      "trainer_interface.cc(425) LOG(INFO) Adding meta_piece: <0x1B>\n",
      "trainer_interface.cc(425) LOG(INFO) Adding meta_piece: <0x1C>\n",
      "trainer_interface.cc(425) LOG(INFO) Adding meta_piece: <0x1D>\n",
      "trainer_interface.cc(425) LOG(INFO) Adding meta_piece: <0x1E>\n",
      "trainer_interface.cc(425) LOG(INFO) Adding meta_piece: <0x1F>\n",
      "trainer_interface.cc(425) LOG(INFO) Adding meta_piece: <0x20>\n",
      "trainer_interface.cc(425) LOG(INFO) Adding meta_piece: <0x21>\n",
      "trainer_interface.cc(425) LOG(INFO) Adding meta_piece: <0x22>\n",
      "trainer_interface.cc(425) LOG(INFO) Adding meta_piece: <0x23>\n",
      "trainer_interface.cc(425) LOG(INFO) Adding meta_piece: <0x24>\n",
      "trainer_interface.cc(425) LOG(INFO) Adding meta_piece: <0x25>\n",
      "trainer_interface.cc(425) LOG(INFO) Adding meta_piece: <0x26>\n",
      "trainer_interface.cc(425) LOG(INFO) Adding meta_piece: <0x27>\n",
      "trainer_interface.cc(425) LOG(INFO) Adding meta_piece: <0x28>\n",
      "trainer_interface.cc(425) LOG(INFO) Adding meta_piece: <0x29>\n",
      "trainer_interface.cc(425) LOG(INFO) Adding meta_piece: <0x2A>\n",
      "trainer_interface.cc(425) LOG(INFO) Adding meta_piece: <0x2B>\n",
      "trainer_interface.cc(425) LOG(INFO) Adding meta_piece: <0x2C>\n",
      "trainer_interface.cc(425) LOG(INFO) Adding meta_piece: <0x2D>\n",
      "trainer_interface.cc(425) LOG(INFO) Adding meta_piece: <0x2E>\n",
      "trainer_interface.cc(425) LOG(INFO) Adding meta_piece: <0x2F>\n",
      "trainer_interface.cc(425) LOG(INFO) Adding meta_piece: <0x30>\n",
      "trainer_interface.cc(425) LOG(INFO) Adding meta_piece: <0x31>\n",
      "trainer_interface.cc(425) LOG(INFO) Adding meta_piece: <0x32>\n",
      "trainer_interface.cc(425) LOG(INFO) Adding meta_piece: <0x33>\n",
      "trainer_interface.cc(425) LOG(INFO) Adding meta_piece: <0x34>\n",
      "trainer_interface.cc(425) LOG(INFO) Adding meta_piece: <0x35>\n",
      "trainer_interface.cc(425) LOG(INFO) Adding meta_piece: <0x36>\n",
      "trainer_interface.cc(425) LOG(INFO) Adding meta_piece: <0x37>\n",
      "trainer_interface.cc(425) LOG(INFO) Adding meta_piece: <0x38>\n",
      "trainer_interface.cc(425) LOG(INFO) Adding meta_piece: <0x39>\n",
      "trainer_interface.cc(425) LOG(INFO) Adding meta_piece: <0x3A>\n",
      "trainer_interface.cc(425) LOG(INFO) Adding meta_piece: <0x3B>\n",
      "trainer_interface.cc(425) LOG(INFO) Adding meta_piece: <0x3C>\n",
      "trainer_interface.cc(425) LOG(INFO) Adding meta_piece: <0x3D>\n",
      "trainer_interface.cc(425) LOG(INFO) Adding meta_piece: <0x3E>\n",
      "trainer_interface.cc(425) LOG(INFO) Adding meta_piece: <0x3F>\n",
      "trainer_interface.cc(425) LOG(INFO) Adding meta_piece: <0x40>\n",
      "trainer_interface.cc(425) LOG(INFO) Adding meta_piece: <0x41>\n",
      "trainer_interface.cc(425) LOG(INFO) Adding meta_piece: <0x42>\n",
      "trainer_interface.cc(425) LOG(INFO) Adding meta_piece: <0x43>\n",
      "trainer_interface.cc(425) LOG(INFO) Adding meta_piece: <0x44>\n",
      "trainer_interface.cc(425) LOG(INFO) Adding meta_piece: <0x45>\n",
      "trainer_interface.cc(425) LOG(INFO) Adding meta_piece: <0x46>\n",
      "trainer_interface.cc(425) LOG(INFO) Adding meta_piece: <0x47>\n",
      "trainer_interface.cc(425) LOG(INFO) Adding meta_piece: <0x48>\n",
      "trainer_interface.cc(425) LOG(INFO) Adding meta_piece: <0x49>\n",
      "trainer_interface.cc(425) LOG(INFO) Adding meta_piece: <0x4A>\n",
      "trainer_interface.cc(425) LOG(INFO) Adding meta_piece: <0x4B>\n",
      "trainer_interface.cc(425) LOG(INFO) Adding meta_piece: <0x4C>\n",
      "trainer_interface.cc(425) LOG(INFO) Adding meta_piece: <0x4D>\n",
      "trainer_interface.cc(425) LOG(INFO) Adding meta_piece: <0x4E>\n",
      "trainer_interface.cc(425) LOG(INFO) Adding meta_piece: <0x4F>\n",
      "trainer_interface.cc(425) LOG(INFO) Adding meta_piece: <0x50>\n",
      "trainer_interface.cc(425) LOG(INFO) Adding meta_piece: <0x51>\n",
      "trainer_interface.cc(425) LOG(INFO) Adding meta_piece: <0x52>\n",
      "trainer_interface.cc(425) LOG(INFO) Adding meta_piece: <0x53>\n",
      "trainer_interface.cc(425) LOG(INFO) Adding meta_piece: <0x54>\n",
      "trainer_interface.cc(425) LOG(INFO) Adding meta_piece: <0x55>\n",
      "trainer_interface.cc(425) LOG(INFO) Adding meta_piece: <0x56>\n",
      "trainer_interface.cc(425) LOG(INFO) Adding meta_piece: <0x57>\n",
      "trainer_interface.cc(425) LOG(INFO) Adding meta_piece: <0x58>\n",
      "trainer_interface.cc(425) LOG(INFO) Adding meta_piece: <0x59>\n",
      "trainer_interface.cc(425) LOG(INFO) Adding meta_piece: <0x5A>\n",
      "trainer_interface.cc(425) LOG(INFO) Adding meta_piece: <0x5B>\n",
      "trainer_interface.cc(425) LOG(INFO) Adding meta_piece: <0x5C>\n",
      "trainer_interface.cc(425) LOG(INFO) Adding meta_piece: <0x5D>\n",
      "trainer_interface.cc(425) LOG(INFO) Adding meta_piece: <0x5E>\n",
      "trainer_interface.cc(425) LOG(INFO) Adding meta_piece: <0x5F>\n",
      "trainer_interface.cc(425) LOG(INFO) Adding meta_piece: <0x60>\n",
      "trainer_interface.cc(425) LOG(INFO) Adding meta_piece: <0x61>\n",
      "trainer_interface.cc(425) LOG(INFO) Adding meta_piece: <0x62>\n",
      "trainer_interface.cc(425) LOG(INFO) Adding meta_piece: <0x63>\n",
      "trainer_interface.cc(425) LOG(INFO) Adding meta_piece: <0x64>\n",
      "trainer_interface.cc(425) LOG(INFO) Adding meta_piece: <0x65>\n",
      "trainer_interface.cc(425) LOG(INFO) Adding meta_piece: <0x66>\n",
      "trainer_interface.cc(425) LOG(INFO) Adding meta_piece: <0x67>\n",
      "trainer_interface.cc(425) LOG(INFO) Adding meta_piece: <0x68>\n",
      "trainer_interface.cc(425) LOG(INFO) Adding meta_piece: <0x69>\n",
      "trainer_interface.cc(425) LOG(INFO) Adding meta_piece: <0x6A>\n",
      "trainer_interface.cc(425) LOG(INFO) Adding meta_piece: <0x6B>\n",
      "trainer_interface.cc(425) LOG(INFO) Adding meta_piece: <0x6C>\n",
      "trainer_interface.cc(425) LOG(INFO) Adding meta_piece: <0x6D>\n",
      "trainer_interface.cc(425) LOG(INFO) Adding meta_piece: <0x6E>\n",
      "trainer_interface.cc(425) LOG(INFO) Adding meta_piece: <0x6F>\n",
      "trainer_interface.cc(425) LOG(INFO) Adding meta_piece: <0x70>\n",
      "trainer_interface.cc(425) LOG(INFO) Adding meta_piece: <0x71>\n",
      "trainer_interface.cc(425) LOG(INFO) Adding meta_piece: <0x72>\n",
      "trainer_interface.cc(425) LOG(INFO) Adding meta_piece: <0x73>\n",
      "trainer_interface.cc(425) LOG(INFO) Adding meta_piece: <0x74>\n",
      "trainer_interface.cc(425) LOG(INFO) Adding meta_piece: <0x75>\n",
      "trainer_interface.cc(425) LOG(INFO) Adding meta_piece: <0x76>\n",
      "trainer_interface.cc(425) LOG(INFO) Adding meta_piece: <0x77>\n",
      "trainer_interface.cc(425) LOG(INFO) Adding meta_piece: <0x78>\n",
      "trainer_interface.cc(425) LOG(INFO) Adding meta_piece: <0x79>\n",
      "trainer_interface.cc(425) LOG(INFO) Adding meta_piece: <0x7A>\n",
      "trainer_interface.cc(425) LOG(INFO) Adding meta_piece: <0x7B>\n",
      "trainer_interface.cc(425) LOG(INFO) Adding meta_piece: <0x7C>\n",
      "trainer_interface.cc(425) LOG(INFO) Adding meta_piece: <0x7D>\n",
      "trainer_interface.cc(425) LOG(INFO) Adding meta_piece: <0x7E>\n",
      "trainer_interface.cc(425) LOG(INFO) Adding meta_piece: <0x7F>\n",
      "trainer_interface.cc(425) LOG(INFO) Adding meta_piece: <0x80>\n",
      "trainer_interface.cc(425) LOG(INFO) Adding meta_piece: <0x81>\n",
      "trainer_interface.cc(425) LOG(INFO) Adding meta_piece: <0x82>\n",
      "trainer_interface.cc(425) LOG(INFO) Adding meta_piece: <0x83>\n",
      "trainer_interface.cc(425) LOG(INFO) Adding meta_piece: <0x84>\n",
      "trainer_interface.cc(425) LOG(INFO) Adding meta_piece: <0x85>\n",
      "trainer_interface.cc(425) LOG(INFO) Adding meta_piece: <0x86>\n",
      "trainer_interface.cc(425) LOG(INFO) Adding meta_piece: <0x87>\n",
      "trainer_interface.cc(425) LOG(INFO) Adding meta_piece: <0x88>\n",
      "trainer_interface.cc(425) LOG(INFO) Adding meta_piece: <0x89>\n",
      "trainer_interface.cc(425) LOG(INFO) Adding meta_piece: <0x8A>\n",
      "trainer_interface.cc(425) LOG(INFO) Adding meta_piece: <0x8B>\n",
      "trainer_interface.cc(425) LOG(INFO) Adding meta_piece: <0x8C>\n",
      "trainer_interface.cc(425) LOG(INFO) Adding meta_piece: <0x8D>\n",
      "trainer_interface.cc(425) LOG(INFO) Adding meta_piece: <0x8E>\n",
      "trainer_interface.cc(425) LOG(INFO) Adding meta_piece: <0x8F>\n",
      "trainer_interface.cc(425) LOG(INFO) Adding meta_piece: <0x90>\n",
      "trainer_interface.cc(425) LOG(INFO) Adding meta_piece: <0x91>\n",
      "trainer_interface.cc(425) LOG(INFO) Adding meta_piece: <0x92>\n",
      "trainer_interface.cc(425) LOG(INFO) Adding meta_piece: <0x93>\n",
      "trainer_interface.cc(425) LOG(INFO) Adding meta_piece: <0x94>\n",
      "trainer_interface.cc(425) LOG(INFO) Adding meta_piece: <0x95>\n",
      "trainer_interface.cc(425) LOG(INFO) Adding meta_piece: <0x96>\n",
      "trainer_interface.cc(425) LOG(INFO) Adding meta_piece: <0x97>\n",
      "trainer_interface.cc(425) LOG(INFO) Adding meta_piece: <0x98>\n",
      "trainer_interface.cc(425) LOG(INFO) Adding meta_piece: <0x99>\n",
      "trainer_interface.cc(425) LOG(INFO) Adding meta_piece: <0x9A>\n",
      "trainer_interface.cc(425) LOG(INFO) Adding meta_piece: <0x9B>\n",
      "trainer_interface.cc(425) LOG(INFO) Adding meta_piece: <0x9C>\n",
      "trainer_interface.cc(425) LOG(INFO) Adding meta_piece: <0x9D>\n",
      "trainer_interface.cc(425) LOG(INFO) Adding meta_piece: <0x9E>\n",
      "trainer_interface.cc(425) LOG(INFO) Adding meta_piece: <0x9F>\n",
      "trainer_interface.cc(425) LOG(INFO) Adding meta_piece: <0xA0>\n",
      "trainer_interface.cc(425) LOG(INFO) Adding meta_piece: <0xA1>\n",
      "trainer_interface.cc(425) LOG(INFO) Adding meta_piece: <0xA2>\n",
      "trainer_interface.cc(425) LOG(INFO) Adding meta_piece: <0xA3>\n",
      "trainer_interface.cc(425) LOG(INFO) Adding meta_piece: <0xA4>\n",
      "trainer_interface.cc(425) LOG(INFO) Adding meta_piece: <0xA5>\n",
      "trainer_interface.cc(425) LOG(INFO) Adding meta_piece: <0xA6>\n",
      "trainer_interface.cc(425) LOG(INFO) Adding meta_piece: <0xA7>\n",
      "trainer_interface.cc(425) LOG(INFO) Adding meta_piece: <0xA8>\n",
      "trainer_interface.cc(425) LOG(INFO) Adding meta_piece: <0xA9>\n",
      "trainer_interface.cc(425) LOG(INFO) Adding meta_piece: <0xAA>\n",
      "trainer_interface.cc(425) LOG(INFO) Adding meta_piece: <0xAB>\n",
      "trainer_interface.cc(425) LOG(INFO) Adding meta_piece: <0xAC>\n",
      "trainer_interface.cc(425) LOG(INFO) Adding meta_piece: <0xAD>\n",
      "trainer_interface.cc(425) LOG(INFO) Adding meta_piece: <0xAE>\n",
      "trainer_interface.cc(425) LOG(INFO) Adding meta_piece: <0xAF>\n",
      "trainer_interface.cc(425) LOG(INFO) Adding meta_piece: <0xB0>\n",
      "trainer_interface.cc(425) LOG(INFO) Adding meta_piece: <0xB1>\n",
      "trainer_interface.cc(425) LOG(INFO) Adding meta_piece: <0xB2>\n",
      "trainer_interface.cc(425) LOG(INFO) Adding meta_piece: <0xB3>\n",
      "trainer_interface.cc(425) LOG(INFO) Adding meta_piece: <0xB4>\n",
      "trainer_interface.cc(425) LOG(INFO) Adding meta_piece: <0xB5>\n",
      "trainer_interface.cc(425) LOG(INFO) Adding meta_piece: <0xB6>\n",
      "trainer_interface.cc(425) LOG(INFO) Adding meta_piece: <0xB7>\n",
      "trainer_interface.cc(425) LOG(INFO) Adding meta_piece: <0xB8>\n",
      "trainer_interface.cc(425) LOG(INFO) Adding meta_piece: <0xB9>\n",
      "trainer_interface.cc(425) LOG(INFO) Adding meta_piece: <0xBA>\n",
      "trainer_interface.cc(425) LOG(INFO) Adding meta_piece: <0xBB>\n",
      "trainer_interface.cc(425) LOG(INFO) Adding meta_piece: <0xBC>\n",
      "trainer_interface.cc(425) LOG(INFO) Adding meta_piece: <0xBD>\n",
      "trainer_interface.cc(425) LOG(INFO) Adding meta_piece: <0xBE>\n",
      "trainer_interface.cc(425) LOG(INFO) Adding meta_piece: <0xBF>\n",
      "trainer_interface.cc(425) LOG(INFO) Adding meta_piece: <0xC0>\n",
      "trainer_interface.cc(425) LOG(INFO) Adding meta_piece: <0xC1>\n",
      "trainer_interface.cc(425) LOG(INFO) Adding meta_piece: <0xC2>\n",
      "trainer_interface.cc(425) LOG(INFO) Adding meta_piece: <0xC3>\n",
      "trainer_interface.cc(425) LOG(INFO) Adding meta_piece: <0xC4>\n",
      "trainer_interface.cc(425) LOG(INFO) Adding meta_piece: <0xC5>\n",
      "trainer_interface.cc(425) LOG(INFO) Adding meta_piece: <0xC6>\n",
      "trainer_interface.cc(425) LOG(INFO) Adding meta_piece: <0xC7>\n",
      "trainer_interface.cc(425) LOG(INFO) Adding meta_piece: <0xC8>\n",
      "trainer_interface.cc(425) LOG(INFO) Adding meta_piece: <0xC9>\n",
      "trainer_interface.cc(425) LOG(INFO) Adding meta_piece: <0xCA>\n",
      "trainer_interface.cc(425) LOG(INFO) Adding meta_piece: <0xCB>\n",
      "trainer_interface.cc(425) LOG(INFO) Adding meta_piece: <0xCC>\n",
      "trainer_interface.cc(425) LOG(INFO) Adding meta_piece: <0xCD>\n",
      "trainer_interface.cc(425) LOG(INFO) Adding meta_piece: <0xCE>\n",
      "trainer_interface.cc(425) LOG(INFO) Adding meta_piece: <0xCF>\n",
      "trainer_interface.cc(425) LOG(INFO) Adding meta_piece: <0xD0>\n",
      "trainer_interface.cc(425) LOG(INFO) Adding meta_piece: <0xD1>\n",
      "trainer_interface.cc(425) LOG(INFO) Adding meta_piece: <0xD2>\n",
      "trainer_interface.cc(425) LOG(INFO) Adding meta_piece: <0xD3>\n",
      "trainer_interface.cc(425) LOG(INFO) Adding meta_piece: <0xD4>\n",
      "trainer_interface.cc(425) LOG(INFO) Adding meta_piece: <0xD5>\n",
      "trainer_interface.cc(425) LOG(INFO) Adding meta_piece: <0xD6>\n",
      "trainer_interface.cc(425) LOG(INFO) Adding meta_piece: <0xD7>\n",
      "trainer_interface.cc(425) LOG(INFO) Adding meta_piece: <0xD8>\n",
      "trainer_interface.cc(425) LOG(INFO) Adding meta_piece: <0xD9>\n",
      "trainer_interface.cc(425) LOG(INFO) Adding meta_piece: <0xDA>\n",
      "trainer_interface.cc(425) LOG(INFO) Adding meta_piece: <0xDB>\n",
      "trainer_interface.cc(425) LOG(INFO) Adding meta_piece: <0xDC>\n",
      "trainer_interface.cc(425) LOG(INFO) Adding meta_piece: <0xDD>\n",
      "trainer_interface.cc(425) LOG(INFO) Adding meta_piece: <0xDE>\n",
      "trainer_interface.cc(425) LOG(INFO) Adding meta_piece: <0xDF>\n",
      "trainer_interface.cc(425) LOG(INFO) Adding meta_piece: <0xE0>\n",
      "trainer_interface.cc(425) LOG(INFO) Adding meta_piece: <0xE1>\n",
      "trainer_interface.cc(425) LOG(INFO) Adding meta_piece: <0xE2>\n",
      "trainer_interface.cc(425) LOG(INFO) Adding meta_piece: <0xE3>\n",
      "trainer_interface.cc(425) LOG(INFO) Adding meta_piece: <0xE4>\n",
      "trainer_interface.cc(425) LOG(INFO) Adding meta_piece: <0xE5>\n",
      "trainer_interface.cc(425) LOG(INFO) Adding meta_piece: <0xE6>\n",
      "trainer_interface.cc(425) LOG(INFO) Adding meta_piece: <0xE7>\n",
      "trainer_interface.cc(425) LOG(INFO) Adding meta_piece: <0xE8>\n",
      "trainer_interface.cc(425) LOG(INFO) Adding meta_piece: <0xE9>\n",
      "trainer_interface.cc(425) LOG(INFO) Adding meta_piece: <0xEA>\n",
      "trainer_interface.cc(425) LOG(INFO) Adding meta_piece: <0xEB>\n",
      "trainer_interface.cc(425) LOG(INFO) Adding meta_piece: <0xEC>\n",
      "trainer_interface.cc(425) LOG(INFO) Adding meta_piece: <0xED>\n",
      "trainer_interface.cc(425) LOG(INFO) Adding meta_piece: <0xEE>\n",
      "trainer_interface.cc(425) LOG(INFO) Adding meta_piece: <0xEF>\n",
      "trainer_interface.cc(425) LOG(INFO) Adding meta_piece: <0xF0>\n",
      "trainer_interface.cc(425) LOG(INFO) Adding meta_piece: <0xF1>\n",
      "trainer_interface.cc(425) LOG(INFO) Adding meta_piece: <0xF2>\n",
      "trainer_interface.cc(425) LOG(INFO) Adding meta_piece: <0xF3>\n",
      "trainer_interface.cc(425) LOG(INFO) Adding meta_piece: <0xF4>\n",
      "trainer_interface.cc(425) LOG(INFO) Adding meta_piece: <0xF5>\n",
      "trainer_interface.cc(425) LOG(INFO) Adding meta_piece: <0xF6>\n",
      "trainer_interface.cc(425) LOG(INFO) Adding meta_piece: <0xF7>\n",
      "trainer_interface.cc(425) LOG(INFO) Adding meta_piece: <0xF8>\n",
      "trainer_interface.cc(425) LOG(INFO) Adding meta_piece: <0xF9>\n",
      "trainer_interface.cc(425) LOG(INFO) Adding meta_piece: <0xFA>\n",
      "trainer_interface.cc(425) LOG(INFO) Adding meta_piece: <0xFB>\n",
      "trainer_interface.cc(425) LOG(INFO) Adding meta_piece: <0xFC>\n",
      "trainer_interface.cc(425) LOG(INFO) Adding meta_piece: <0xFD>\n",
      "trainer_interface.cc(425) LOG(INFO) Adding meta_piece: <0xFE>\n",
      "trainer_interface.cc(425) LOG(INFO) Adding meta_piece: <0xFF>\n",
      "trainer_interface.cc(430) LOG(INFO) Normalizing sentences...\n",
      "trainer_interface.cc(539) LOG(INFO) all chars count=1366264\n",
      "trainer_interface.cc(550) LOG(INFO) Done: 99.95% characters are covered.\n",
      "trainer_interface.cc(560) LOG(INFO) Alphabet size=4570\n",
      "trainer_interface.cc(561) LOG(INFO) Final character coverage=0.9995\n",
      "trainer_interface.cc(592) LOG(INFO) Done! preprocessed 55393 sentences.\n",
      "unigram_model_trainer.cc(265) LOG(INFO) Making suffix array...\n",
      "unigram_model_trainer.cc(269) LOG(INFO) Extracting frequent sub strings... node_num=503568\n",
      "unigram_model_trainer.cc(312) LOG(INFO) Initialized 4570 seed sentencepieces\n",
      "unigram_model_trainer.cc(602) LOG(INFO) Using 55393 sentences for EM training\n",
      "unigram_model_trainer.cc(618) LOG(INFO) EM sub_iter=0 size=4570 obj=105.046 num_tokens=1366264 num_tokens/piece=298.964\n",
      "unigram_model_trainer.cc(618) LOG(INFO) EM sub_iter=1 size=4570 obj=105.84 num_tokens=1366264 num_tokens/piece=298.964\n",
      "trainer_interface.cc(687) LOG(INFO) Saving model: dummy.model\n",
      "trainer_interface.cc(699) LOG(INFO) Saving vocabs: dummy.vocab\n",
      "trainer_interface.cc(707) LOG(WARNING) The piece [\n",
      "] contains escaped characters that break the format of dummy.vocab\n"
     ]
    }
   ],
   "source": [
    "! python3 ./llm-jp-tokenizer/scripts/createModel.py \\\n",
    "    --data ./merged.vocab \\\n",
    "    --vocabSize 4835 \\\n",
    "    --maxLength 1 \\\n",
    "    --prefix dummy"
   ]
  },
  {
   "cell_type": "markdown",
   "id": "ba2b212e-8304-4037-89b3-3067ce0031b3",
   "metadata": {},
   "source": [
    "LLM-jp tokenizer のコードを使って語彙からモデルを作る．"
   ]
  },
  {
   "cell_type": "code",
   "execution_count": 64,
   "id": "48618250-ae03-47e7-9553-b5dd22a28db8",
   "metadata": {},
   "outputs": [],
   "source": [
    "! python3 ./llm-jp-tokenizer/scripts/vocab2model.py \\\n",
    "    --vocab merged.vocab \\\n",
    "    --output merged.model \\\n",
    "    --baseModel dummy.model"
   ]
  },
  {
   "cell_type": "markdown",
   "id": "8416cb87-62bc-444d-87cd-5492bb9e5d98",
   "metadata": {},
   "source": [
    "## 使ってみる"
   ]
  },
  {
   "cell_type": "code",
   "execution_count": 1,
   "id": "4ad9ca99-e686-44bf-a1af-6149952f21fe",
   "metadata": {},
   "outputs": [
    {
     "name": "stdout",
     "output_type": "stream",
     "text": [
      "['▁こんにちは', '世界', '!']\n",
      "[17940, 33450, 400]\n",
      "こんにちは世界!\n"
     ]
    }
   ],
   "source": [
    "import sentencepiece as spm\n",
    "\n",
    "sp = spm.SentencePieceProcessor()\n",
    "sp.Load(\"merged.model\")\n",
    "\n",
    "print(sp.EncodeAsPieces('こんにちは世界!'))\n",
    "print(sp.EncodeAsIds('こんにちは世界!'))\n",
    "print(sp.DecodeIds(sp.EncodeAsIds('こんにちは世界!')))"
   ]
  },
  {
   "cell_type": "code",
   "execution_count": 2,
   "id": "052fef5f-bf08-4c78-bb02-da91e0571e80",
   "metadata": {},
   "outputs": [
    {
     "name": "stdout",
     "output_type": "stream",
     "text": [
      "\u001b[31mhello\u001b[0m \u001b[32mworld\u001b[0m\n",
      "\u001b[31mhello red world\u001b[0m\n"
     ]
    }
   ],
   "source": [
    "import termcolor\n",
    "from termcolor import colored\n",
    "print(colored('hello', 'red'), colored('world', 'green'))\n",
    "print(colored(\"hello red world\", 'red'))"
   ]
  },
  {
   "cell_type": "code",
   "execution_count": 3,
   "id": "8a5f9bbe-4975-47d8-a47f-007b531dbdb2",
   "metadata": {},
   "outputs": [],
   "source": [
    "import random"
   ]
  },
  {
   "cell_type": "code",
   "execution_count": 4,
   "id": "6dee6744-6b98-4703-9b9f-fa9613971777",
   "metadata": {},
   "outputs": [
    {
     "name": "stdout",
     "output_type": "stream",
     "text": [
      "\u001b[95m▁\u001b[0m\u001b[90m\n",
      "\u001b[0m\u001b[30m<\u001b[0m\u001b[30mtan\u001b[0m\u001b[90mka\u001b[0m\u001b[37m>\u001b[0m\u001b[96m\n",
      "\u001b[0m\u001b[96m▁\u001b[0m\u001b[95m▁\u001b[0m\u001b[35m▁\u001b[0m\u001b[92m▁\u001b[0m\u001b[31m<\u001b[0m\u001b[30min\u001b[0m\u001b[92mput\u001b[0m\u001b[30m>\u001b[0m\u001b[94mマー\u001b[0m\u001b[34mチャー\u001b[0m\u001b[30mシュ\u001b[0m\u001b[93mは\u001b[0m\u001b[34m税\u001b[0m\u001b[30mの\u001b[0m\u001b[35m基盤\u001b[0m\u001b[96mを\u001b[0m\u001b[91m領地\u001b[0m\u001b[30mから\u001b[0m\u001b[95m家庭\u001b[0m\u001b[32mに変え\u001b[0m\u001b[30m、\u001b[0m\u001b[31m時には\u001b[0m\u001b[95m戦時中\u001b[0m\u001b[30mで\u001b[0m\u001b[92mの\u001b[0m\u001b[95m2\u001b[0m\u001b[91m年に\u001b[0m\u001b[95m1\u001b[0m\u001b[92m回\u001b[0m\u001b[30mに\u001b[0m\u001b[97m王\u001b[0m\u001b[31m税\u001b[0m\u001b[94mを集める\u001b[0m\u001b[30mことで\u001b[0m\u001b[34m農民\u001b[0m\u001b[35mの\u001b[0m\u001b[90m税\u001b[0m\u001b[90mを\u001b[0m\u001b[30m次第に\u001b[0m\u001b[97m増やし\u001b[0m\u001b[91mていった\u001b[0m\u001b[31m。\u001b[0m\u001b[35m<\u001b[0m\u001b[92m/\u001b[0m\u001b[36min\u001b[0m\u001b[34mput\u001b[0m\u001b[92m>\u001b[0m\u001b[32m\n",
      "\u001b[0m\u001b[30m▁\u001b[0m\u001b[90m▁\u001b[0m\u001b[36m▁\u001b[0m\u001b[96m▁\u001b[0m\u001b[36m<\u001b[0m\u001b[36mb\u001b[0m\u001b[35munset\u001b[0m\u001b[94msu\u001b[0m\u001b[30m>\u001b[0m\u001b[34mマー\u001b[0m\u001b[97mチャー\u001b[0m\u001b[96mシュ\u001b[0m\u001b[34mは\u001b[0m\u001b[90m/\u001b[0m\u001b[37m税\u001b[0m\u001b[92mの\u001b[0m\u001b[90m/\u001b[0m\u001b[94m基盤\u001b[0m\u001b[34mを\u001b[0m\u001b[91m/\u001b[0m\u001b[94m領地\u001b[0m\u001b[30mから\u001b[0m\u001b[33m/\u001b[0m\u001b[92m家庭\u001b[0m\u001b[30mに\u001b[0m\u001b[91m/\u001b[0m\u001b[31m変え\u001b[0m\u001b[30m/\u001b[0m\u001b[37m時には\u001b[0m\u001b[36m/\u001b[0m\u001b[93m戦時中\u001b[0m\u001b[35mで\u001b[0m\u001b[37mの\u001b[0m\u001b[90m/\u001b[0m\u001b[97m2\u001b[0m\u001b[30m年に\u001b[0m\u001b[90m/\u001b[0m\u001b[91m1\u001b[0m\u001b[97m回\u001b[0m\u001b[37mに\u001b[0m\u001b[34m/\u001b[0m\u001b[91m王\u001b[0m\u001b[37m/\u001b[0m\u001b[95m税\u001b[0m\u001b[96mを\u001b[0m\u001b[97m/\u001b[0m\u001b[34m集める\u001b[0m\u001b[31m/\u001b[0m\u001b[95mことで\u001b[0m\u001b[33m/\u001b[0m\u001b[37m農民\u001b[0m\u001b[31mの\u001b[0m\u001b[90m/\u001b[0m\u001b[37m税\u001b[0m\u001b[34mを\u001b[0m\u001b[34m/\u001b[0m\u001b[30m次第に\u001b[0m\u001b[35m/\u001b[0m\u001b[97m増やし\u001b[0m\u001b[95mて\u001b[0m\u001b[97m/\u001b[0m\u001b[30mいった\u001b[0m\u001b[90m<\u001b[0m\u001b[90m/\u001b[0m\u001b[31mb\u001b[0m\u001b[33munset\u001b[0m\u001b[31msu\u001b[0m\u001b[37m>\u001b[0m\u001b[31m\n",
      "\u001b[0m\u001b[96m▁\u001b[0m\u001b[36m▁\u001b[0m\u001b[31m▁\u001b[0m\u001b[37m▁\u001b[0m\u001b[30m<\u001b[0m\u001b[37my\u001b[0m\u001b[34momi\u001b[0m\u001b[90m>\u001b[0m\u001b[31mマ\u001b[0m\u001b[90m/\u001b[0m\u001b[30mー\u001b[0m\u001b[37m/\u001b[0m\u001b[32mチャ\u001b[0m\u001b[95m/\u001b[0m\u001b[94mー\u001b[0m\u001b[37m/\u001b[0m\u001b[94mシュ\u001b[0m\u001b[32m/\u001b[0m\u001b[34mワ\u001b[0m\u001b[35m/\u001b[0m\u001b[30mゼ\u001b[0m\u001b[94m/\u001b[0m\u001b[37mイ\u001b[0m\u001b[96m/\u001b[0m\u001b[35mノ\u001b[0m\u001b[33m/\u001b[0m\u001b[30mキ\u001b[0m\u001b[97m/\u001b[0m\u001b[37mバ\u001b[0m\u001b[30m/\u001b[0m\u001b[37mン\u001b[0m\u001b[90m/\u001b[0m\u001b[30mヲ\u001b[0m\u001b[90m/\u001b[0m\u001b[37mリョ\u001b[0m\u001b[95m/\u001b[0m\u001b[95mー\u001b[0m\u001b[94m/\u001b[0m\u001b[33mチ\u001b[0m\u001b[92m/\u001b[0m\u001b[35mカ\u001b[0m\u001b[92m/\u001b[0m\u001b[36mラ\u001b[0m\u001b[33m/\u001b[0m\u001b[34mカ\u001b[0m\u001b[33m/\u001b[0m\u001b[30mテ\u001b[0m\u001b[30m/\u001b[0m\u001b[34mイ\u001b[0m\u001b[97m/\u001b[0m\u001b[34mニ\u001b[0m\u001b[34m/\u001b[0m\u001b[37mカ\u001b[0m\u001b[30m/\u001b[0m\u001b[32mエ\u001b[0m\u001b[32m/\u001b[0m\u001b[31mト\u001b[0m\u001b[95m/\u001b[0m\u001b[92mキ\u001b[0m\u001b[34m/\u001b[0m\u001b[90mニ\u001b[0m\u001b[33m/\u001b[0m\u001b[90mワ\u001b[0m\u001b[36m/\u001b[0m\u001b[30mセ\u001b[0m\u001b[34m/\u001b[0m\u001b[94mン\u001b[0m\u001b[95m/\u001b[0m\u001b[93mジ\u001b[0m\u001b[94m/\u001b[0m\u001b[97mチュ\u001b[0m\u001b[35m/\u001b[0m\u001b[32mー\u001b[0m\u001b[97m/\u001b[0m\u001b[95mデ\u001b[0m\u001b[37m/\u001b[0m\u001b[32mノ\u001b[0m\u001b[30m/\u001b[0m\u001b[94mニ\u001b[0m\u001b[94m/\u001b[0m\u001b[36mネ\u001b[0m\u001b[97m/\u001b[0m\u001b[30mン\u001b[0m\u001b[30m/\u001b[0m\u001b[97mニ\u001b[0m\u001b[37m/\u001b[0m\u001b[30mイ\u001b[0m\u001b[33m/\u001b[0m\u001b[90mッ\u001b[0m\u001b[93m/\u001b[0m\u001b[31mカ\u001b[0m\u001b[97m/\u001b[0m\u001b[34mイ\u001b[0m\u001b[33m/\u001b[0m\u001b[92mニ\u001b[0m\u001b[37m/\u001b[0m\u001b[35mオ\u001b[0m\u001b[36m/\u001b[0m\u001b[30mー\u001b[0m\u001b[95m/\u001b[0m\u001b[97mゼ\u001b[0m\u001b[37m/\u001b[0m\u001b[33mイ\u001b[0m\u001b[90m/\u001b[0m\u001b[95mヲ\u001b[0m\u001b[37m/\u001b[0m\u001b[31mア\u001b[0m\u001b[90m/\u001b[0m\u001b[92mツ\u001b[0m\u001b[97m/\u001b[0m\u001b[92mメ\u001b[0m\u001b[97m/\u001b[0m\u001b[34mル\u001b[0m\u001b[95m/\u001b[0m\u001b[30mコ\u001b[0m\u001b[32m/\u001b[0m\u001b[37mト\u001b[0m\u001b[95m/\u001b[0m\u001b[97mデ\u001b[0m\u001b[30m/\u001b[0m\u001b[94mノ\u001b[0m\u001b[32m/\u001b[0m\u001b[93mー\u001b[0m\u001b[37m/\u001b[0m\u001b[92mミ\u001b[0m\u001b[36m/\u001b[0m\u001b[92mン\u001b[0m\u001b[35m/\u001b[0m\u001b[30mノ\u001b[0m\u001b[32m/\u001b[0m\u001b[34mゼ\u001b[0m\u001b[36m/\u001b[0m\u001b[33mイ\u001b[0m\u001b[95m/\u001b[0m\u001b[30mヲ\u001b[0m\u001b[32m/\u001b[0m\u001b[32mシ\u001b[0m\u001b[37m/\u001b[0m\u001b[31mダ\u001b[0m\u001b[36m/\u001b[0m\u001b[91mイ\u001b[0m\u001b[92m/\u001b[0m\u001b[33mニ\u001b[0m\u001b[33m/\u001b[0m\u001b[94mフ\u001b[0m\u001b[91m/\u001b[0m\u001b[90mヤ\u001b[0m\u001b[33m/\u001b[0m\u001b[92mシ\u001b[0m\u001b[31m/\u001b[0m\u001b[93mテ\u001b[0m\u001b[96m/\u001b[0m\u001b[91mイ\u001b[0m\u001b[32m/\u001b[0m\u001b[36mッ\u001b[0m\u001b[36m/\u001b[0m\u001b[37mタ\u001b[0m\u001b[93m<\u001b[0m\u001b[93m/\u001b[0m\u001b[91my\u001b[0m\u001b[32momi\u001b[0m\u001b[92m>\u001b[0m\u001b[96m\n",
      "\u001b[0m\u001b[97m▁\u001b[0m\u001b[96m▁\u001b[0m\u001b[33m▁\u001b[0m\u001b[96m▁\u001b[0m\u001b[31m<\u001b[0m\u001b[94mcount\u001b[0m\u001b[94m>\u001b[0m\u001b[97mマ\u001b[0m\u001b[93m[\u001b[0m\u001b[90m1\u001b[0m\u001b[96m]\u001b[0m\u001b[30mー\u001b[0m\u001b[36m[\u001b[0m\u001b[90m2\u001b[0m\u001b[91m]\u001b[0m\u001b[34mチャ\u001b[0m\u001b[94m[\u001b[0m\u001b[90m3\u001b[0m\u001b[35m]\u001b[0m\u001b[30mー\u001b[0m\u001b[90m[\u001b[0m\u001b[96m4\u001b[0m\u001b[30m]\u001b[0m\u001b[34mシュ\u001b[0m\u001b[96m[\u001b[0m\u001b[91m5\u001b[0m\u001b[93m]\u001b[0m\u001b[34mワ\u001b[0m\u001b[30m[\u001b[0m\u001b[34m6\u001b[0m\u001b[96m]\u001b[0m\u001b[36mゼ\u001b[0m\u001b[36m[\u001b[0m\u001b[97m7\u001b[0m\u001b[30m]\u001b[0m\u001b[90mイ\u001b[0m\u001b[97m[\u001b[0m\u001b[90m8\u001b[0m\u001b[36m]\u001b[0m\u001b[36mノ\u001b[0m\u001b[33m[\u001b[0m\u001b[90m9\u001b[0m\u001b[93m]\u001b[0m\u001b[33mキ\u001b[0m\u001b[95m[\u001b[0m\u001b[35m1\u001b[0m\u001b[94m0\u001b[0m\u001b[94m]\u001b[0m\u001b[37mバ\u001b[0m\u001b[93m[\u001b[0m\u001b[90m1\u001b[0m\u001b[30m1\u001b[0m\u001b[97m]\u001b[0m\u001b[94mン\u001b[0m\u001b[32m[\u001b[0m\u001b[36m1\u001b[0m\u001b[31m2\u001b[0m\u001b[96m]\u001b[0m\u001b[91mヲ\u001b[0m\u001b[34m[\u001b[0m\u001b[30m1\u001b[0m\u001b[92m3\u001b[0m\u001b[30m]\u001b[0m\u001b[33mリョ\u001b[0m\u001b[32m[\u001b[0m\u001b[90m1\u001b[0m\u001b[37m4\u001b[0m\u001b[93m]\u001b[0m\u001b[34mー\u001b[0m\u001b[97m[\u001b[0m\u001b[30m1\u001b[0m\u001b[30m5\u001b[0m\u001b[31m]\u001b[0m\u001b[95mチ\u001b[0m\u001b[93m[\u001b[0m\u001b[30m1\u001b[0m\u001b[31m6\u001b[0m\u001b[97m]\u001b[0m\u001b[34mカ\u001b[0m\u001b[32m[\u001b[0m\u001b[31m1\u001b[0m\u001b[32m7\u001b[0m\u001b[91m]\u001b[0m\u001b[30mラ\u001b[0m\u001b[95m[\u001b[0m\u001b[92m1\u001b[0m\u001b[33m8\u001b[0m\u001b[30m]\u001b[0m\u001b[36mカ\u001b[0m\u001b[90m[\u001b[0m\u001b[95m1\u001b[0m\u001b[92m9\u001b[0m\u001b[95m]\u001b[0m\u001b[96mテ\u001b[0m\u001b[36m[\u001b[0m\u001b[97m2\u001b[0m\u001b[35m0\u001b[0m\u001b[30m]\u001b[0m\u001b[34mイ\u001b[0m\u001b[95m[\u001b[0m\u001b[33m2\u001b[0m\u001b[32m1\u001b[0m\u001b[36m]\u001b[0m\u001b[97mニ\u001b[0m\u001b[35m[\u001b[0m\u001b[30m2\u001b[0m\u001b[97m2\u001b[0m\u001b[30m]\u001b[0m\u001b[94mカ\u001b[0m\u001b[36m[\u001b[0m\u001b[93m2\u001b[0m\u001b[96m3\u001b[0m\u001b[95m]\u001b[0m\u001b[93mエ\u001b[0m\u001b[37m[\u001b[0m\u001b[93m2\u001b[0m\u001b[91m4\u001b[0m\u001b[31m]\u001b[0m\u001b[37mト\u001b[0m\u001b[30m[\u001b[0m\u001b[37m2\u001b[0m\u001b[93m5\u001b[0m\u001b[97m]\u001b[0m\u001b[97mキ\u001b[0m\u001b[90m[\u001b[0m\u001b[96m2\u001b[0m\u001b[30m6\u001b[0m\u001b[93m]\u001b[0m\u001b[32mニ\u001b[0m\u001b[94m[\u001b[0m\u001b[34m2\u001b[0m\u001b[37m7\u001b[0m\u001b[33m]\u001b[0m\u001b[35mワ\u001b[0m\u001b[92m[\u001b[0m\u001b[30m2\u001b[0m\u001b[30m8\u001b[0m\u001b[34m]\u001b[0m\u001b[37mセ\u001b[0m\u001b[97m[\u001b[0m\u001b[94m2\u001b[0m\u001b[97m9\u001b[0m\u001b[30m]\u001b[0m\u001b[30mン\u001b[0m\u001b[97m[\u001b[0m\u001b[92m3\u001b[0m\u001b[92m0\u001b[0m\u001b[30m]\u001b[0m\u001b[93mジ\u001b[0m\u001b[30m[\u001b[0m\u001b[32m3\u001b[0m\u001b[90m1\u001b[0m\u001b[96m]\u001b[0m\u001b[33mチュ\u001b[0m\u001b[32m[\u001b[0m\u001b[95m3\u001b[0m\u001b[34m2\u001b[0m\u001b[92m]\u001b[0m\u001b[34mー\u001b[0m\u001b[36m[\u001b[0m\u001b[92m3\u001b[0m\u001b[35m3\u001b[0m\u001b[90m]\u001b[0m\u001b[30mデ\u001b[0m\u001b[30m[\u001b[0m\u001b[30m3\u001b[0m\u001b[31m4\u001b[0m\u001b[30m]\u001b[0m\u001b[91mノ\u001b[0m\u001b[91m[\u001b[0m\u001b[36m3\u001b[0m\u001b[93m5\u001b[0m\u001b[90m]\u001b[0m\u001b[93mニ\u001b[0m\u001b[97m[\u001b[0m\u001b[95m3\u001b[0m\u001b[32m6\u001b[0m\u001b[97m]\u001b[0m\u001b[37mネ\u001b[0m\u001b[32m[\u001b[0m\u001b[92m3\u001b[0m\u001b[31m7\u001b[0m\u001b[37m]\u001b[0m\u001b[91mン\u001b[0m\u001b[30m[\u001b[0m\u001b[94m3\u001b[0m\u001b[90m8\u001b[0m\u001b[30m]\u001b[0m\u001b[36mニ\u001b[0m\u001b[90m[\u001b[0m\u001b[34m3\u001b[0m\u001b[31m9\u001b[0m\u001b[33m]\u001b[0m\u001b[31mイ\u001b[0m\u001b[94m[\u001b[0m\u001b[32m4\u001b[0m\u001b[33m0\u001b[0m\u001b[30m]\u001b[0m\u001b[92mッ\u001b[0m\u001b[31m[\u001b[0m\u001b[35m4\u001b[0m\u001b[34m1\u001b[0m\u001b[34m]\u001b[0m\u001b[31mカ\u001b[0m\u001b[92m[\u001b[0m\u001b[97m4\u001b[0m\u001b[90m2\u001b[0m\u001b[96m]\u001b[0m\u001b[94mイ\u001b[0m\u001b[36m[\u001b[0m\u001b[37m4\u001b[0m\u001b[32m3\u001b[0m\u001b[33m]\u001b[0m\u001b[92mニ\u001b[0m\u001b[91m[\u001b[0m\u001b[91m4\u001b[0m\u001b[33m4\u001b[0m\u001b[35m]\u001b[0m\u001b[95mオ\u001b[0m\u001b[90m[\u001b[0m\u001b[36m4\u001b[0m\u001b[37m5\u001b[0m\u001b[91m]\u001b[0m\u001b[92mー\u001b[0m\u001b[33m[\u001b[0m\u001b[94m4\u001b[0m\u001b[96m6\u001b[0m\u001b[32m]\u001b[0m\u001b[34mゼ\u001b[0m\u001b[35m[\u001b[0m\u001b[34m4\u001b[0m\u001b[91m7\u001b[0m\u001b[92m]\u001b[0m\u001b[32mイ\u001b[0m\u001b[93m[\u001b[0m\u001b[35m4\u001b[0m\u001b[92m8\u001b[0m\u001b[91m]\u001b[0m\u001b[97mヲ\u001b[0m\u001b[90m[\u001b[0m\u001b[37m4\u001b[0m\u001b[30m9\u001b[0m\u001b[34m]\u001b[0m\u001b[31mア\u001b[0m\u001b[95m[\u001b[0m\u001b[35m5\u001b[0m\u001b[95m0\u001b[0m\u001b[35m]\u001b[0m\u001b[34mツ\u001b[0m\u001b[34m[\u001b[0m\u001b[97m5\u001b[0m\u001b[96m1\u001b[0m\u001b[30m]\u001b[0m\u001b[35mメ\u001b[0m\u001b[30m[\u001b[0m\u001b[31m5\u001b[0m\u001b[34m2\u001b[0m\u001b[92m]\u001b[0m\u001b[95mル\u001b[0m\u001b[96m[\u001b[0m\u001b[92m5\u001b[0m\u001b[97m3\u001b[0m\u001b[30m]\u001b[0m\u001b[94mコ\u001b[0m\u001b[36m[\u001b[0m\u001b[94m5\u001b[0m\u001b[91m4\u001b[0m\u001b[92m]\u001b[0m\u001b[37mト\u001b[0m\u001b[37m[\u001b[0m\u001b[35m5\u001b[0m\u001b[33m5\u001b[0m\u001b[96m]\u001b[0m\u001b[91mデ\u001b[0m\u001b[91m[\u001b[0m\u001b[32m5\u001b[0m\u001b[31m6\u001b[0m\u001b[30m]\u001b[0m\u001b[30mノ\u001b[0m\u001b[94m[\u001b[0m\u001b[97m5\u001b[0m\u001b[36m7\u001b[0m\u001b[37m]\u001b[0m\u001b[35mー\u001b[0m\u001b[36m[\u001b[0m\u001b[35m5\u001b[0m\u001b[92m8\u001b[0m\u001b[32m]\u001b[0m\u001b[95mミ\u001b[0m\u001b[96m[\u001b[0m\u001b[90m5\u001b[0m\u001b[33m9\u001b[0m\u001b[90m]\u001b[0m\u001b[93mン\u001b[0m\u001b[35m[\u001b[0m\u001b[30m6\u001b[0m\u001b[93m0\u001b[0m\u001b[33m]\u001b[0m\u001b[32mノ\u001b[0m\u001b[36m[\u001b[0m\u001b[30m6\u001b[0m\u001b[90m1\u001b[0m\u001b[96m]\u001b[0m\u001b[93mゼ\u001b[0m\u001b[33m[\u001b[0m\u001b[90m6\u001b[0m\u001b[91m2\u001b[0m\u001b[31m]\u001b[0m\u001b[33mイ\u001b[0m\u001b[95m[\u001b[0m\u001b[36m6\u001b[0m\u001b[94m3\u001b[0m\u001b[33m]\u001b[0m\u001b[95mヲ\u001b[0m\u001b[92m[\u001b[0m\u001b[91m6\u001b[0m\u001b[32m4\u001b[0m\u001b[92m]\u001b[0m\u001b[30mシ\u001b[0m\u001b[30m[\u001b[0m\u001b[95m6\u001b[0m\u001b[94m5\u001b[0m\u001b[93m]\u001b[0m\u001b[91mダ\u001b[0m\u001b[93m[\u001b[0m\u001b[95m6\u001b[0m\u001b[95m6\u001b[0m\u001b[34m]\u001b[0m\u001b[97mイ\u001b[0m\u001b[30m[\u001b[0m\u001b[30m6\u001b[0m\u001b[90m7\u001b[0m\u001b[33m]\u001b[0m\u001b[33mニ\u001b[0m\u001b[94m[\u001b[0m\u001b[37m6\u001b[0m\u001b[30m8\u001b[0m\u001b[31m]\u001b[0m\u001b[34mフ\u001b[0m\u001b[96m[\u001b[0m\u001b[34m6\u001b[0m\u001b[33m9\u001b[0m\u001b[95m]\u001b[0m\u001b[91mヤ\u001b[0m\u001b[96m[\u001b[0m\u001b[97m7\u001b[0m\u001b[35m0\u001b[0m\u001b[91m]\u001b[0m\u001b[36mシ\u001b[0m\u001b[91m[\u001b[0m\u001b[92m7\u001b[0m\u001b[90m1\u001b[0m\u001b[92m]\u001b[0m\u001b[96mテ\u001b[0m\u001b[33m[\u001b[0m\u001b[91m7\u001b[0m\u001b[96m2\u001b[0m\u001b[34m]\u001b[0m\u001b[95mイ\u001b[0m\u001b[34m[\u001b[0m\u001b[30m7\u001b[0m\u001b[36m3\u001b[0m\u001b[34m]\u001b[0m\u001b[34mッ\u001b[0m\u001b[95m[\u001b[0m\u001b[32m7\u001b[0m\u001b[34m4\u001b[0m\u001b[30m]\u001b[0m\u001b[30mタ\u001b[0m\u001b[35m[\u001b[0m\u001b[97m7\u001b[0m\u001b[91m5\u001b[0m\u001b[30m]\u001b[0m\u001b[37m<\u001b[0m\u001b[32m/\u001b[0m\u001b[95mcount\u001b[0m\u001b[34m>\u001b[0m\u001b[91m\n",
      "\u001b[0m\u001b[91m▁\u001b[0m\u001b[33m▁\u001b[0m\u001b[90m▁\u001b[0m\u001b[36m▁\u001b[0m\u001b[32m<\u001b[0m\u001b[36moutput\u001b[0m\u001b[95m>\u001b[0m\u001b[31mオー\u001b[0m\u001b[97mゼ\u001b[0m\u001b[90mイ\u001b[0m\u001b[30mヲ\u001b[0m\u001b[31m/\u001b[0m\u001b[30mアツ\u001b[0m\u001b[95mメル\u001b[0m\u001b[97mコト\u001b[0m\u001b[34mデ\u001b[0m\u001b[94m/\u001b[0m\u001b[94mノー\u001b[0m\u001b[37mミン\u001b[0m\u001b[30mノ\u001b[0m\u001b[35m/\u001b[0m\u001b[95mゼ\u001b[0m\u001b[32mイ\u001b[0m\u001b[97mヲ\u001b[0m\u001b[30mシ\u001b[0m\u001b[94mダイ\u001b[0m\u001b[90mニ\u001b[0m\u001b[36m/\u001b[0m\u001b[93mフ\u001b[0m\u001b[95mヤシ\u001b[0m\u001b[91mテイ\u001b[0m\u001b[96mッタ\u001b[0m\u001b[31m▁\u001b[0m\u001b[94m王\u001b[0m\u001b[30m税\u001b[0m\u001b[93mを\u001b[0m\u001b[97m/\u001b[0m\u001b[30m集める\u001b[0m\u001b[32mことで\u001b[0m\u001b[90m/\u001b[0m\u001b[30m農民\u001b[0m\u001b[32mの\u001b[0m\u001b[32m/\u001b[0m\u001b[31m税\u001b[0m\u001b[36mを\u001b[0m\u001b[33m次第に\u001b[0m\u001b[95m/\u001b[0m\u001b[94m増やし\u001b[0m\u001b[34mていった\u001b[0m\u001b[30m<\u001b[0m\u001b[30m/\u001b[0m\u001b[35moutput\u001b[0m\u001b[32m>\u001b[0m\u001b[33m\n",
      "\u001b[0m\u001b[34m<\u001b[0m\u001b[34m/\u001b[0m\u001b[91mtan\u001b[0m\u001b[32mka\u001b[0m\u001b[33m>\u001b[0m\u001b[36m\n",
      "\u001b[0m\u001b[90m\n",
      "\u001b[0m"
     ]
    }
   ],
   "source": [
    "import unicodedata\n",
    "\n",
    "text = '''\n",
    "<tanka>\n",
    "    <input>マーチャーシュは税の基盤を領地から家庭に変え、時には戦時中での2年に1回に王税を集めることで農民の税を次第に増やしていった。</input>\n",
    "    <bunsetsu>マーチャーシュは/税の/基盤を/領地から/家庭に/変え/時には/戦時中での/2年に/1回に/王/税を/集める/ことで/農民の/税を/次第に/増やして/いった</bunsetsu>\n",
    "    <yomi>マ/ー/チャ/ー/シュ/ワ/ゼ/イ/ノ/キ/バ/ン/ヲ/リョ/ー/チ/カ/ラ/カ/テ/イ/ニ/カ/エ/ト/キ/ニ/ワ/セ/ン/ジ/チュ/ー/デ/ノ/ニ/ネ/ン/ニ/イ/ッ/カ/イ/ニ/オ/ー/ゼ/イ/ヲ/ア/ツ/メ/ル/コ/ト/デ/ノ/ー/ミ/ン/ノ/ゼ/イ/ヲ/シ/ダ/イ/ニ/フ/ヤ/シ/テ/イ/ッ/タ</yomi>\n",
    "    <count>マ[1]ー[2]チャ[3]ー[4]シュ[5]ワ[6]ゼ[7]イ[8]ノ[9]キ[10]バ[11]ン[12]ヲ[13]リョ[14]ー[15]チ[16]カ[17]ラ[18]カ[19]テ[20]イ[21]ニ[22]カ[23]エ[24]ト[25]キ[26]ニ[27]ワ[28]セ[29]ン[30]ジ[31]チュ[32]ー[33]デ[34]ノ[35]ニ[36]ネ[37]ン[38]ニ[39]イ[40]ッ[41]カ[42]イ[43]ニ[44]オ[45]ー[46]ゼ[47]イ[48]ヲ[49]ア[50]ツ[51]メ[52]ル[53]コ[54]ト[55]デ[56]ノ[57]ー[58]ミ[59]ン[60]ノ[61]ゼ[62]イ[63]ヲ[64]シ[65]ダ[66]イ[67]ニ[68]フ[69]ヤ[70]シ[71]テ[72]イ[73]ッ[74]タ[75]</count>\n",
    "    <output>オーゼイヲ/アツメルコトデ/ノーミンノ/ゼイヲシダイニ/フヤシテイッタ 王税を/集めることで/農民の/税を次第に/増やしていった</output>\n",
    "</tanka>\n",
    "\n",
    "'''\n",
    "\n",
    "for s in sp.EncodeAsPieces(unicodedata.normalize('NFKC', text)):\n",
    "    print(colored(s, random.choice(list(termcolor.COLORS.keys()))), end='')"
   ]
  },
  {
   "cell_type": "code",
   "execution_count": 5,
   "id": "7678865b-b6b6-4e00-9a66-10cd2c25db01",
   "metadata": {},
   "outputs": [
    {
     "data": {
      "text/plain": [
       "[16909, 267, 14080, 527]"
      ]
     },
     "execution_count": 5,
     "metadata": {},
     "output_type": "execute_result"
    }
   ],
   "source": [
    "sp.Encode('<s>')"
   ]
  },
  {
   "cell_type": "code",
   "execution_count": 6,
   "id": "b3cf4c8c-d992-4d69-8d39-37896e3cfd80",
   "metadata": {},
   "outputs": [
    {
     "data": {
      "text/plain": [
       "1"
      ]
     },
     "execution_count": 6,
     "metadata": {},
     "output_type": "execute_result"
    }
   ],
   "source": [
    "sp.piece_to_id('<s>')"
   ]
  },
  {
   "cell_type": "code",
   "execution_count": 7,
   "id": "ff9f06cd-5dd1-4c60-8dc3-a448fa1593a8",
   "metadata": {},
   "outputs": [
    {
     "data": {
      "text/plain": [
       "['▁', '<', '/', 's', '>']"
      ]
     },
     "execution_count": 7,
     "metadata": {},
     "output_type": "execute_result"
    }
   ],
   "source": [
    "sp.EncodeAsPieces('</s>')"
   ]
  },
  {
   "cell_type": "code",
   "execution_count": 13,
   "id": "210faef7-c4b8-4f83-a17a-d766470657f9",
   "metadata": {},
   "outputs": [
    {
     "name": "stdout",
     "output_type": "stream",
     "text": [
      "\u001b[30m▁\u001b[0m\u001b[34m<\u001b[0m\u001b[93mtan\u001b[0m\u001b[97mka\u001b[0m\u001b[30m>\u001b[0m"
     ]
    }
   ],
   "source": [
    "import unicodedata\n",
    "\n",
    "text = '''\n",
    "<tanka>\n",
    "'''.strip()\n",
    "\n",
    "for s in sp.EncodeAsPieces(unicodedata.normalize('NFKC', text)):\n",
    "    print(colored(s, random.choice(list(termcolor.COLORS.keys()))), end='')"
   ]
  },
  {
   "cell_type": "code",
   "execution_count": 5,
   "id": "2563ef12-45af-4eb4-80f1-8a15508ef352",
   "metadata": {},
   "outputs": [
    {
     "name": "stdout",
     "output_type": "stream",
     "text": [
      "\u001b[33m▁\u001b[0m\u001b[92m\n",
      "\u001b[0m\u001b[37m[\u001b[0m\u001b[90m構文\u001b[0m\u001b[36m]\u001b[0m\u001b[95m\n",
      "\u001b[0m\u001b[93mイン\u001b[0m\u001b[34mデン\u001b[0m\u001b[35mト\u001b[0m\u001b[30mが\u001b[0m\u001b[33m意味\u001b[0m\u001b[34mを持つ\u001b[0m\u001b[35m「\u001b[0m\u001b[34mオフ\u001b[0m\u001b[36mサイド\u001b[0m\u001b[37mルール\u001b[0m\u001b[37m」\u001b[0m\u001b[30mが特徴的\u001b[0m\u001b[96mである\u001b[0m\u001b[94m。\u001b[0m\u001b[94m\n",
      "\u001b[0m\u001b[37m\n",
      "\u001b[0m\u001b[35m以下に\u001b[0m\u001b[37m、\u001b[0m\u001b[34m階\u001b[0m\u001b[96m乗\u001b[0m\u001b[96m▁\u001b[0m\u001b[96m(\u001b[0m\u001b[94m関数\u001b[0m\u001b[95m名\u001b[0m\u001b[31m:\u001b[0m\u001b[35m▁\u001b[0m\u001b[37mfact\u001b[0m\u001b[36mor\u001b[0m\u001b[31mial\u001b[0m\u001b[95m)\u001b[0m\u001b[32mを\u001b[0m\u001b[97m題材\u001b[0m\u001b[30mに\u001b[0m\u001b[37mC\u001b[0m\u001b[95m言語\u001b[0m\u001b[96mと比較\u001b[0m\u001b[33mした\u001b[0m\u001b[32m例\u001b[0m\u001b[96mを示す\u001b[0m\u001b[90m。\u001b[0m\u001b[34m\n",
      "\u001b[0m\u001b[90m\n",
      "\u001b[0m\u001b[96mPython\u001b[0m\u001b[93mの\u001b[0m\u001b[37mコード\u001b[0m\u001b[93m:\u001b[0m\u001b[93m\n",
      "\u001b[0m\u001b[96m\n",
      "\u001b[0m\u001b[93mdef\u001b[0m\u001b[92m▁\u001b[0m\u001b[30mfact\u001b[0m\u001b[94mor\u001b[0m\u001b[32mial\u001b[0m\u001b[97m(\u001b[0m\u001b[34mx\u001b[0m\u001b[34m)\u001b[0m\u001b[91m:\u001b[0m\u001b[34m\n",
      "\u001b[0m\u001b[35m▁\u001b[0m\u001b[90m▁\u001b[0m\u001b[33m▁\u001b[0m\u001b[96m▁\u001b[0m\u001b[31mif\u001b[0m\u001b[90m▁\u001b[0m\u001b[91mx\u001b[0m\u001b[93m▁\u001b[0m\u001b[34m=\u001b[0m\u001b[91m=\u001b[0m\u001b[93m▁\u001b[0m\u001b[30m0\u001b[0m\u001b[30m:\u001b[0m\u001b[94m\n",
      "\u001b[0m\u001b[30m▁▁▁▁▁▁▁▁\u001b[0m\u001b[93mreturn\u001b[0m\u001b[31m▁\u001b[0m\u001b[36m1\u001b[0m\u001b[32m\n",
      "\u001b[0m\u001b[34m▁\u001b[0m\u001b[37m▁\u001b[0m\u001b[95m▁\u001b[0m\u001b[90m▁\u001b[0m\u001b[96melse\u001b[0m\u001b[35m:\u001b[0m\u001b[31m\n",
      "\u001b[0m\u001b[35m▁▁▁▁▁▁▁▁\u001b[0m\u001b[93mreturn\u001b[0m\u001b[33m▁\u001b[0m\u001b[95mx\u001b[0m\u001b[95m▁\u001b[0m\u001b[96m*\u001b[0m\u001b[31m▁\u001b[0m\u001b[36mfact\u001b[0m\u001b[92mor\u001b[0m\u001b[34mial\u001b[0m\u001b[33m(\u001b[0m\u001b[35mx\u001b[0m\u001b[36m▁\u001b[0m\u001b[30m-\u001b[0m\u001b[36m▁\u001b[0m\u001b[93m1\u001b[0m\u001b[30m)\u001b[0m\u001b[97m\n",
      "\u001b[0m"
     ]
    }
   ],
   "source": [
    "import unicodedata\n",
    "\n",
    "text = '''\n",
    "[構文]\n",
    "インデントが意味を持つ「オフサイドルール」が特徴的である。\n",
    "\n",
    "以下に、階乗 (関数名: factorial)を題材にC言語と比較した例を示す。\n",
    "\n",
    "Pythonのコード:\n",
    "\n",
    "def factorial(x):\n",
    "    if x == 0:\n",
    "        return 1\n",
    "    else:\n",
    "        return x * factorial(x - 1)\n",
    "'''\n",
    "\n",
    "for s in sp.EncodeAsPieces(unicodedata.normalize('NFKC', text)):\n",
    "    print(colored(s, random.choice(list(termcolor.COLORS.keys()))), end='')"
   ]
  },
  {
   "cell_type": "code",
   "execution_count": null,
   "id": "a2f2ee8e-9dd9-4fc9-84ef-9bf93bc2e2fc",
   "metadata": {},
   "outputs": [],
   "source": []
  }
 ],
 "metadata": {
  "kernelspec": {
   "display_name": "Python 3 (ipykernel)",
   "language": "python",
   "name": "python3"
  },
  "language_info": {
   "codemirror_mode": {
    "name": "ipython",
    "version": 3
   },
   "file_extension": ".py",
   "mimetype": "text/x-python",
   "name": "python",
   "nbconvert_exporter": "python",
   "pygments_lexer": "ipython3",
   "version": "3.11.3"
  }
 },
 "nbformat": 4,
 "nbformat_minor": 5
}
