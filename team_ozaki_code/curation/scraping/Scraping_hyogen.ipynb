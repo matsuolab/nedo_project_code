{
  "cells": [
    {
      "cell_type": "code",
      "execution_count": null,
      "metadata": {
        "colab": {
          "base_uri": "https://localhost:8080/"
        },
        "id": "c8RgJRwBeYP5",
        "outputId": "22ee1795-3f51-427a-f7e3-490365270b09"
      },
      "outputs": [
        {
          "output_type": "stream",
          "name": "stdout",
          "text": [
            "Mounted at /content/drive\n"
          ]
        }
      ],
      "source": [
        "#for Google Colab\n",
        "import sys\n",
        "from google.colab import drive\n",
        "from IPython.display import Javascript\n",
        "from pprint import pprint\n",
        "\n",
        "drive.mount('/content/drive')\n",
        "\n",
        "###---- ROOT_PATHを記載 ----###\n",
        "ROOT_PATH = '/content/drive/MyDrive/Scraping/'\n",
        "sys.path.append(ROOT_PATH)"
      ]
    },
    {
      "cell_type": "code",
      "execution_count": null,
      "metadata": {
        "colab": {
          "base_uri": "https://localhost:8080/"
        },
        "id": "itCYtMaRkCiC",
        "outputId": "e29bc7f9-e2b7-46cc-9617-5b44f54f58a9"
      },
      "outputs": [
        {
          "output_type": "stream",
          "name": "stdout",
          "text": [
            "\u001b[2K     \u001b[90m━━━━━━━━━━━━━━━━━━━━━━━━━━━━━━━━━━━━━━━━\u001b[0m \u001b[32m1.0/1.0 MB\u001b[0m \u001b[31m8.5 MB/s\u001b[0m eta \u001b[36m0:00:00\u001b[0m\n",
            "\u001b[2K     \u001b[90m━━━━━━━━━━━━━━━━━━━━━━━━━━━━━━━━━━━━━━━━\u001b[0m \u001b[32m837.8/837.8 kB\u001b[0m \u001b[31m14.1 MB/s\u001b[0m eta \u001b[36m0:00:00\u001b[0m\n",
            "\u001b[2K     \u001b[90m━━━━━━━━━━━━━━━━━━━━━━━━━━━━━━━━━━━━━━━━\u001b[0m \u001b[32m263.8/263.8 kB\u001b[0m \u001b[31m13.3 MB/s\u001b[0m eta \u001b[36m0:00:00\u001b[0m\n",
            "\u001b[2K     \u001b[90m━━━━━━━━━━━━━━━━━━━━━━━━━━━━━━━━━━━━━━━━\u001b[0m \u001b[32m295.0/295.0 kB\u001b[0m \u001b[31m13.9 MB/s\u001b[0m eta \u001b[36m0:00:00\u001b[0m\n",
            "\u001b[?25h"
          ]
        }
      ],
      "source": [
        "!pip install -q trafilatura\n",
        "!pip install -q beautifulsoup4\n",
        "!pip install -q requests"
      ]
    },
    {
      "cell_type": "code",
      "source": [
        "# https://hyogen.info/"
      ],
      "metadata": {
        "id": "wxqdvGryXhiZ"
      },
      "execution_count": null,
      "outputs": []
    },
    {
      "cell_type": "code",
      "source": [
        "# https://hyogen.info/content/872645769"
      ],
      "metadata": {
        "id": "vi5wLCGUHqLX"
      },
      "execution_count": null,
      "outputs": []
    },
    {
      "cell_type": "code",
      "source": [
        "# 1 cate\n",
        "import requests\n",
        "import time\n",
        "from bs4 import BeautifulSoup\n",
        "import re\n",
        "\n",
        "# リンクを格納するリスト\n",
        "urls = []\n",
        "\n",
        "def scrape_pages(base_url):\n",
        "  response = requests.get(base_url)\n",
        "  if response.status_code == 200:\n",
        "    soup = BeautifulSoup(response.text, 'html.parser')\n",
        "    links = soup.find_all('a', href=True)\n",
        "    for link in links:\n",
        "      href = link.get('href')\n",
        "      if re.match(r'^https://hyogen.info/cate/\\d+$', href):\n",
        "        full_url = href\n",
        "        print(href)\n",
        "        urls.append(full_url)\n",
        "    time.sleep(1)\n",
        "\n",
        "# Base URL\n",
        "base_url = 'https://hyogen.info/'\n",
        "scrape_pages(base_url)\n",
        "\n",
        "# for base_url in unique_urls:\n",
        "#   scrape_pages(base_url)"
      ],
      "metadata": {
        "id": "HmoTyL51CAh7"
      },
      "execution_count": null,
      "outputs": []
    },
    {
      "cell_type": "code",
      "source": [
        "# 2 scate\n",
        "import requests\n",
        "import time\n",
        "from bs4 import BeautifulSoup\n",
        "import re\n",
        "\n",
        "# リンクを格納するリスト\n",
        "urls = []\n",
        "\n",
        "def scrape_pages(base_url):\n",
        "  response = requests.get(base_url)\n",
        "  if response.status_code == 200:\n",
        "    soup = BeautifulSoup(response.text, 'html.parser')\n",
        "    links = soup.find_all('a', href=True)\n",
        "    for link in links:\n",
        "      href = link.get('href')\n",
        "      if re.match(r'^https://hyogen.info/scate/\\d+$', href):\n",
        "        full_url = href\n",
        "        # print(href)\n",
        "        urls.append(full_url)\n",
        "    time.sleep(1)\n",
        "\n",
        "# Base URL\n",
        "base_url = 'https://hyogen.info/'\n",
        "# scrape_pages(base_url)\n",
        "\n",
        "for base_url in unique_urls:\n",
        "  scrape_pages(base_url)"
      ],
      "metadata": {
        "id": "KWfa2pHgCAbL"
      },
      "execution_count": null,
      "outputs": []
    },
    {
      "cell_type": "code",
      "source": [
        "# scate\n",
        "unique_urls = list(set(urls))\n",
        "print(len(unique_urls), \"unique movie URLs found.\")"
      ],
      "metadata": {
        "colab": {
          "base_uri": "https://localhost:8080/"
        },
        "id": "D07shEUQCAU5",
        "outputId": "5c99fb3a-7758-47bf-ddf6-a7966dcd6275"
      },
      "execution_count": null,
      "outputs": [
        {
          "output_type": "stream",
          "name": "stdout",
          "text": [
            "4609 unique movie URLs found.\n"
          ]
        }
      ]
    },
    {
      "cell_type": "code",
      "source": [
        "import os\n",
        "\n",
        "# 出力ファイルのパス\n",
        "output_path = '/content/drive/MyDrive/Scraping/input/hyogen_scate.txt'\n",
        "\n",
        "# 出力ディレクトリが存在しない場合、ディレクトリを作成\n",
        "os.makedirs(os.path.dirname(output_path), exist_ok=True)\n",
        "\n",
        "# ファイルにリストの内容を書き込み\n",
        "with open(output_path, 'w', encoding='utf-8') as file:\n",
        "    for url in urls_scate:\n",
        "        file.write(url + '\\n')\n",
        "\n",
        "print(f\"Data has been written to {output_path}.\")\n"
      ],
      "metadata": {
        "colab": {
          "base_uri": "https://localhost:8080/"
        },
        "id": "5LNpG2EYAxNJ",
        "outputId": "d4f89028-03ef-4bfd-9d88-9d3cb409a194"
      },
      "execution_count": null,
      "outputs": [
        {
          "output_type": "stream",
          "name": "stdout",
          "text": [
            "Data has been written to /content/drive/MyDrive/Scraping/input/hyogen_scate.txt.\n"
          ]
        }
      ]
    },
    {
      "cell_type": "code",
      "source": [
        "#3 content\n",
        "import requests\n",
        "import time\n",
        "from bs4 import BeautifulSoup\n",
        "import re\n",
        "\n",
        "# リンクを格納するリスト\n",
        "urls = []\n",
        "\n",
        "def scrape_pages(base_url):\n",
        "  response = requests.get(base_url)\n",
        "  if response.status_code == 200:\n",
        "    soup = BeautifulSoup(response.text, 'html.parser')\n",
        "    links = soup.find_all('a', href=True)\n",
        "    for link in links:\n",
        "      href = link.get('href')\n",
        "      if re.match(r'^https://hyogen.info/content/\\d+$', href):\n",
        "        full_url = href\n",
        "        print(href)\n",
        "        urls.append(full_url)\n",
        "    time.sleep(1)\n",
        "\n",
        "# # Base URL\n",
        "# base_url = 'https://hyogen.info/'\n",
        "\n",
        "for base_url in unique_urls:\n",
        "  scrape_pages(base_url)"
      ],
      "metadata": {
        "id": "HyiY5dAdfsMF"
      },
      "execution_count": null,
      "outputs": []
    },
    {
      "cell_type": "code",
      "source": [
        "import os\n",
        "\n",
        "# 出力ファイルのパス\n",
        "output_path = '/content/drive/MyDrive/Scraping/input/hyogen_content.txt'\n",
        "\n",
        "# 出力ディレクトリが存在しない場合、ディレクトリを作成\n",
        "os.makedirs(os.path.dirname(output_path), exist_ok=True)\n",
        "\n",
        "# ファイルにリストの内容を書き込み\n",
        "with open(output_path, 'w', encoding='utf-8') as file:\n",
        "    for url in unique_urls:\n",
        "        file.write(url + '\\n')\n",
        "\n",
        "print(f\"Data has been written to {output_path}.\")\n"
      ],
      "metadata": {
        "colab": {
          "base_uri": "https://localhost:8080/"
        },
        "id": "NX5xP1vT_nZE",
        "outputId": "97ee75a4-5955-4771-de11-bbf30cda68e8"
      },
      "execution_count": null,
      "outputs": [
        {
          "output_type": "stream",
          "name": "stdout",
          "text": [
            "Data has been written to /content/drive/MyDrive/Scraping/input/hyogen_content.txt.\n"
          ]
        }
      ]
    },
    {
      "cell_type": "code",
      "source": [
        "import requests\n",
        "from bs4 import BeautifulSoup\n",
        "\n",
        "# URLリストファイルのパス\n",
        "url_file_path = '/content/drive/MyDrive/Scraping/input/hyogen_content.txt'\n",
        "\n",
        "# URLファイルを開き、各URLを処理\n",
        "with open(url_file_path, 'r') as file:\n",
        "    for url in file:\n",
        "        url = url.strip()  # 余計な空白や改行を削除\n",
        "        if url:  # URLが空でないことを確認\n",
        "            response = requests.get(url)\n",
        "            soup = BeautifulSoup(response.content, 'html.parser')\n",
        "\n",
        "            # 特定のスタイル属性を持つ<div>を検索\n",
        "            div_style = soup.find('div', style=\"font-size:90%;line-height:1.5em;padding-top:20px;padding-bottom:20px\")\n",
        "            if div_style:\n",
        "                # <div class=\"sentence1\"> を検索\n",
        "                div_sentence1 = soup.find('div', class_='sentence1')\n",
        "                if not div_sentence1:\n",
        "                    print(f\"No 'sentence1' div found for URL: {url}\")\n",
        "                    continue\n",
        "\n",
        "                sentence1_text = div_sentence1.text.strip()\n",
        "\n",
        "                # div内のrubyタグを削除\n",
        "                for ruby in div_style.find_all('ruby'):\n",
        "                    ruby.decompose()\n",
        "                style_text = div_style.text.strip()\n",
        "\n",
        "                # 出力フォーマット\n",
        "                print(f\"{sentence1_text}の使い方：{style_text}\")\n",
        "            else:\n",
        "                print(f\"No suitable 'style' div found for URL: {url}, skipping...\")\n"
      ],
      "metadata": {
        "colab": {
          "base_uri": "https://localhost:8080/",
          "height": 1000
        },
        "id": "4gjFiK7qIIW1",
        "outputId": "9faaf334-6ccd-4b80-d426-1f7cf03ab513"
      },
      "execution_count": null,
      "outputs": [
        {
          "output_type": "stream",
          "name": "stdout",
          "text": [
            "ぐずりと鼻をならしての使い方：......も拾うように、ボツリ、ボツリ、しむさぼるように、それを読んでしまうと、なものを見てしまったという風に頭をふって、次ぎに渡してやった。――子供からの手紙だった。 　ぐずりと鼻をならして、手紙から顔を上げると、カスカスした低い声で、「浅川のためだ。死んだと分ったら、弔い合戦をやるんだ」と云った。その男は図体の大きい、北海道の奥地で色々なことをや......\n",
            "No suitable 'style' div found for URL: https://hyogen.info/content/633500498, skipping...\n",
            "No suitable 'style' div found for URL: https://hyogen.info/content/359455113, skipping...\n",
            "No suitable 'style' div found for URL: https://hyogen.info/content/289686340, skipping...\n",
            "No suitable 'style' div found for URL: https://hyogen.info/content/970633399, skipping...\n",
            "No suitable 'style' div found for URL: https://hyogen.info/content/555982158, skipping...\n",
            "No suitable 'style' div found for URL: https://hyogen.info/content/354022566, skipping...\n",
            "制服から出ている太ももは、まるで腕のように細い。の使い方：......また、ＣＭが始まった。さっきの音楽番組に出ていた大人数のグループが、有名なコンビニチェーンの制服を着て秋の新作弁当を紹介している。ミニスカート風にアレンジされた制服から出ている太ももは、まるで腕のように細い。そんなアイドルたちが、「秋は食欲まんてん！」と微笑みながら、本人たちは絶対に食べないであろう天ぷら弁当やから揚げ弁当を顔の真横に持ってきている。「……でも私、今......\n",
            "（河の）塵芥に混って鳩の死んだのがまるで雲をちぎったように流れていっていた。の使い方：......深いひさしの下を歩いている。芝居小屋の前をすぎると長い木橋があった。海だろうか、河なのだろうか、水の色がとても青すぎる。ぼんやり立って流れを見ていると、目の下をに混って鳩の死んだのがまるで雲をちぎったように流れていっていた。旅空で鳩の流れて行くのを見ている私。ああ何もこの世の中からもとめるもののなくなってしまったいまの私は、別に私のために心を痛めてくれるひともないのだと思うと、私は......\n",
            "No suitable 'style' div found for URL: https://hyogen.info/content/141500712, skipping...\n",
            "（通いなれた女の部屋）この臭いと懶惰が俺の生活に融け込み、同色の色合いみたいに適応を遂げたのである。恰も、動物が己れの穴の温みと臭気とに懶く屈んで眼を閉じているようなものであった。或は、俺の落伍的な怠惰が、その温みを女とこの部屋に染したのかもしれなかった。の使い方：......ら、うちわで俺を煽いだ。来ないことを知ってでもいるような口吻だった。それから、その云い方にも草いきれのような生臭さと、気だるさがあった。　これだ、と俺は考えた。この臭いと懶惰が俺の生活に融け込み、同色の色合いみたいに適応を遂げたのである。恰も、動物が己れの穴の温みと臭気とに懶く屈んで眼を閉じているようなものであった。或は、俺の落伍的な怠惰が、その温みを女とこの部屋に染したのかもしれなかった。しかし、それは絶えず俺を苛立たせる結果をもっていた。　女はゆるくうちわを動かしている。俺は薄べりに背中をつけたまま、することがない。門倉は明日の朝、九州に行くだ......\n",
            "No suitable 'style' div found for URL: https://hyogen.info/content/102518397, skipping...\n",
            "No suitable 'style' div found for URL: https://hyogen.info/content/113658960, skipping...\n",
            "No suitable 'style' div found for URL: https://hyogen.info/content/502918336, skipping...\n",
            "No suitable 'style' div found for URL: https://hyogen.info/content/606754395, skipping...\n",
            "No suitable 'style' div found for URL: https://hyogen.info/content/747729921, skipping...\n",
            "明日は雨かも知れない。重たい風が飄々と吹くの使い方：......めに、何よりもかによりも私の胃のは何か固形物を欲しがっているのだ。ああどんなにしても私は食わなければならない。街中がしそうな食物で埋っているではないか！　明日は雨かも知れない。重たい風が飄々と吹く度に、興奮した私の鼻穴に、すがすがしい秋の果実店からあんなに芳烈な匂いがしてくる。  　　　　　　　　＊  （十月×日） 　焼栗の声がなつかしい頃になった。廓を流して行く......\n",
            "No suitable 'style' div found for URL: https://hyogen.info/content/670344493, skipping...\n",
            "No suitable 'style' div found for URL: https://hyogen.info/content/898709049, skipping...\n",
            "No suitable 'style' div found for URL: https://hyogen.info/content/871662680, skipping...\n",
            "No suitable 'style' div found for URL: https://hyogen.info/content/738317607, skipping...\n",
            "足の遅い爆撃機の護衛などははっきり言って嫌だった。言うなれば鎖につながれているようなものだからだ。の使い方：......機くらいの敵機が毎日のようにやって来るのだ。多い時は三百くらいあったか。こちらはせいぜい五十機だ。戦いはほとんどが邀撃戦だった。しかしこれは俺の性に合っていた。足の遅い爆撃機の護衛などははっきり言って嫌だった。言うなれば鎖につながれているようなものだからだ。その点、邀撃戦となれば、自由に空戦が出来る。俺はいいところへ来たと思った。　邀撃戦は基本的に早い者勝ちだ。敵機来襲の報があれば、搭乗員は一目散に戦闘機に向かって......\n",
            "No suitable 'style' div found for URL: https://hyogen.info/content/706406441, skipping...\n",
            "No suitable 'style' div found for URL: https://hyogen.info/content/436602510, skipping...\n",
            "No suitable 'style' div found for URL: https://hyogen.info/content/729498765, skipping...\n",
            "No suitable 'style' div found for URL: https://hyogen.info/content/588885212, skipping...\n",
            "No suitable 'style' div found for URL: https://hyogen.info/content/893361417, skipping...\n",
            "道々私は唱いにくい音諧を大声で歌ってその友人にきかせました。それが歌えるのは私の気持のいい時に限るのです。の使い方：......の一人と霊南坂を通って帰って来ました。私の処へ寄って本を借りて帰るというのです。ついでに七葉樹の花を見ると云います。この友一人がそれを見はぐしていたからです。 　道々私はいにくいを大声で歌ってその友人にきかせました。それが歌えるのは私の気持のいい時に限るのです。我善坊の方へ来たとき私達は一つの面白い事件にかりました。それはを捕まえた一人の男です。だしぬけに「これ螢ですか」と云って組合せた両の掌の隙を私達の鼻先に突出......\n",
            "どうしても動かすことの出来ぬほど堅固な決心の使い方：......しかに承ったと申し上げて下されい」と言った。 　数馬は傍輩の口から、外記が自分を推してこのたびの役に当らせたのだと聞くや否や、即時に討死をしようと決心した。それがどうしても動かすことの出来ぬほど堅固な決心であった。外記はご恩報じをさせると言ったということである。この詞ははからず聞いたのであるが、実は聞くまでもない、外記がめるには、そう言って薦めるにきまっている......\n",
            "No suitable 'style' div found for URL: https://hyogen.info/content/885220998, skipping...\n",
            "No suitable 'style' div found for URL: https://hyogen.info/content/679738578, skipping...\n",
            "No suitable 'style' div found for URL: https://hyogen.info/content/262298851, skipping...\n",
            "ちょうど朽ち腐れた土台の木に地面の 湿気 が自然に浸み込んで行くように、変な淋しさが今ジメジメと彼の心へ浸み込んで来るのをどうする事も出来なかった。の使い方：......、その時の驚き、そして参り方はかなりに烈しかったが、それだけにそれをはね退けよう、起き上ろうとする心の緊張は一層強く感じられた。然しその緊張の去った今になって、ちょうど朽ち腐れた土台の木に地面の湿気が自然に浸み込んで行くように、変な淋しさが今ジメジメと彼の心へ浸み込んで来るのをどうする事も出来なかった。理窟ではどうする事も出来ない淋しさだった。彼は自分のこれからやらねばならぬ仕事──人類全体の幸福に繫がりのある仕事──人類の進むべき路へ目標を置いて行く仕事──......\n",
            "大きな、まるで岩のような事務机の使い方：......下さい、そして二三日してからきめましょう――」 　白い絹のワイシャツを、帆のように扇風器の風でふくらましたこの頭のげた男は、私を事務机の前に連れて行ってくれた。大きな、まるで岩のような事務机を前にすると、三十五円の憂鬱が身にしみて、玉づけだって何だって出来ますと云った事が、おそろしく思えてきた。小僧が持って来た大きい西洋綴りの帳面を開くと、それは複......\n",
            "美しいママが女の子やおばさんたちの先頭に立ち、きびきびと立ちはたらき、なごやかに客あつかいをしている。の使い方：......焼〔谷〕は、藤野さんやＳさんの〔巣〕であるらしい。　ここも、一日はたらいたのちの疲れを、酒やビールにいやす人びとがぎっしりとつまっていた。　中年……といっても、美しいママが女の子やおばさんたちの先頭に立ち、きびきびと立ちはたらき、なごやかに客あつかいをしている。　われわれは、〔谷〕の鉄板焼とおでんで、かやく飯を食べた。それから、梅田の盛り場をぶらぶらしたのち、「アパートに、今日は東京から家内が来ていますので……」　と、......\n",
            "No suitable 'style' div found for URL: https://hyogen.info/content/674254578, skipping...\n",
            "No suitable 'style' div found for URL: https://hyogen.info/content/825425146, skipping...\n",
            "No suitable 'style' div found for URL: https://hyogen.info/content/167560776, skipping...\n",
            "No suitable 'style' div found for URL: https://hyogen.info/content/787081999, skipping...\n",
            "No suitable 'style' div found for URL: https://hyogen.info/content/504646950, skipping...\n",
            "No suitable 'style' div found for URL: https://hyogen.info/content/581143787, skipping...\n",
            "No suitable 'style' div found for URL: https://hyogen.info/content/534410685, skipping...\n",
            "No suitable 'style' div found for URL: https://hyogen.info/content/736152550, skipping...\n",
            "No suitable 'style' div found for URL: https://hyogen.info/content/415892537, skipping...\n",
            "No suitable 'style' div found for URL: https://hyogen.info/content/270897882, skipping...\n",
            "心頭には老母と妻とのことが浮かんだ。の使い方：......いる殿様の足に力がはいって少し踏み伸ばされるように感じた。これはまただるくおなりになったのだと思ったので、また最初のようにしずかにさすり始めた。このとき長十郎の心頭には老母と妻とのことが浮かんだ。そして殉死者の遺族が主家の優待を受けるということを考えて、それでは家族を安穏な地位において、安んじて死ぬることが出来ると思った。それと同時に長十郎の顔は晴れ晴......\n",
            "言葉はもう完全に大阪弁であったが、語尾に抑揚をつけて長く 曳く話し方は、やはり北陸の 訛りだった。の使い方：......の頭に載せると言った。「ちょっと見んまに、えらい大きなったなあ」　そしてぐるりと家の中を見渡した。「こんだけの家でも、手放すいうたらただみたいなもんやろなあ」　言葉はもう完全に大阪弁であったが、語尾に抑揚をつけて長く曳く話し方は、やはり北陸の訛りだった。それが癖らしく、喜三郎は何度も目をしばたたかせて、「借金のけりはつきそうかいな」　と訊いた。千代は朝食はまだという喜三郎のために、膳を用意した。「抵当に入っとる......\n",
            "久遠は悔しそうな顔をして、挙げた右手の指を閉じたり開いたりしていた。優雅なピアニストの仕草に見えた。の使い方：......僕の前にはスピッツ」久遠が言う。「私と成瀬の前にいるのはどちらでもないな。中間だ」　いや、と雪子は反射的に思った。響さんの前にいるその男はきっと臆病な柴犬よ。　久遠は悔しそうな顔をして、挙げた右手の指を閉じたり開いたりしていた。優雅なピアニストの仕草に見えた。「ど、どけ」小柄な男が怒鳴った。興奮のため声が裏返っている。運転席に入り込もうとした。同時に久遠が足を踏み出した。お互いの身体がぶつかる。男は驚きの声を上げた後......\n",
            "No suitable 'style' div found for URL: https://hyogen.info/content/781808624, skipping...\n",
            "No suitable 'style' div found for URL: https://hyogen.info/content/185026714, skipping...\n",
            "No suitable 'style' div found for URL: https://hyogen.info/content/947427469, skipping...\n",
            "No suitable 'style' div found for URL: https://hyogen.info/content/590677408, skipping...\n",
            "閉めきった温かい部屋の中にいても、雪が降ってきた気配を感じることができた。静かであればあるほど、しんしんと迫ってくる音を聞くのである。の使い方：......五十二のときの子よォ。もうできんと諦めとったときにできたがや。千代からそのことを聞いたときはびっくりしたちゃ。体が震えるほどびっくりしてェ……」　竜夫はすべてを閉めきった温かい部屋の中にいても、雪が降ってきた気配を感じることができた。静かであればあるほど、しんしんと迫ってくる音を聞くのである。その不思議な聴覚は、背が急に伸び始めた半年前から、竜夫の中に芽ばえたものであった。「……雪、降ってきたがや。えらい降っとるちゃ」　竜夫の言葉で、重竜はじっと耳を......\n",
            "瘦せたせいで、露出した背中ははかなげなほど華奢で、肩甲骨の深いくぼみは天使の羽根が生えていたときの名残りに見えた。の使い方：......上げると、花嫁衣裳のドレスの裾をふうわり広げて座っている亜美ちゃんが目に入った。彼女が物悲しげに微笑むと、うるんだ瞳はかがやき、いっそう深く、澄み渡って見えた。瘦せたせいで、露出した背中ははかなげなほど華奢で、肩甲骨の深いくぼみは天使の羽根が生えていたときの名残りに見えた。　私の亜美。「えー……亜美さんは私の母校、駿河崎高校で出会ってからいままで、ずっと親友です。　彼女と初めて会ったのは高校一年生のときで、アイウエオ順で出席番号が......\n",
            "深夜の熱いコーヒーは、何か 懐かしい気がする。何でだろう？　子供のころを思い出す。子供のときは飲まなかったはずなのに、初雪の朝や台風の夜のように、訪れる度に恋しい。の使い方：......上がった。私はぎぎ、と音を立てていすを引き、どさっとすわった。立ち仕事なのですわると突然がくっと力が抜ける。腰のあたりの疲労がじわっと全身に広がるのがわかる。　深夜の熱いコーヒーは、何か懐かしい気がする。何でだろう？　子供のころを思い出す。子供のときは飲まなかったはずなのに、初雪の朝や台風の夜のように、訪れる度に恋しい。　母は言った。「由男ったらね。」「何？」「小説家になるって言うの。」　初耳だった。「そりゃまたどうして。」　私は言った。だいたい弟はまったくの現代っ子で、収入が......\n",
            "No suitable 'style' div found for URL: https://hyogen.info/content/948288841, skipping...\n",
            "持っていた肩掛けのバッグを肩から外して思いきり振った。の使い方：......日、路上でけんかをした。マンションのエントランスから出てすぐまえの路上で、けんか別れのまま帰ろうとした彼の名を大声で呼び、彼が肩をいからせて戻ってきたところを、持っていた肩掛けのバッグを肩から外して思いきり振った。彼の側頭部にぶつけようとしたが当たらず、バッグは勢いよく斜めに下降してアスファルトの地面に落ち、中から飛び出た真っ黒のコンパクトケースが開き小さな鏡が門灯の光を......\n",
            "No suitable 'style' div found for URL: https://hyogen.info/content/568578416, skipping...\n",
            "No suitable 'style' div found for URL: https://hyogen.info/content/713947917, skipping...\n",
            "糸のように細い町筋を、古着屋や芸者屋が軒をつらねている。の使い方：......いっていた男が、安々と息をしているのだ。造船所で働いているのだ。 「この辺に安宿はありませんでしょうか。」 　運送屋のお上さんが、私を宿屋まで案内して行ってくれた。糸のように細い町筋を、古着屋や芸者屋が軒をつらねている。私は造船所に近い山のそばの宿へついた。二階の六畳の古ぼけた床の上に風呂敷包みをおくと、私は雨戸を開けて海を眺めた。明日は尋ねて行ってみようとおもう。私は財布を......\n",
            "日溜まりに坐っていると急に汗が 滲んできたが、体の底には寒気があった。夜、また熱が出るかもしれないと信雄は思った。の使い方：......また水を汲んでくるのである。少年が川の水を汲みあげてズック靴を洗ってくれた。信雄は流れてきた西瓜の皮をぼんやり眺めながら、されるままになって足を投げだしていた。日溜まりに坐っていると急に汗が滲んできたが、体の底には寒気があった。夜、また熱が出るかもしれないと信雄は思った。　少女が信雄の足の指をそっと開き、ちろちろ水を注いだ。ここちよかった。信雄は、こそばい、こそばいと大袈裟に身を捩ってみせた。そしてそのたびに笑い返してくる少女の......\n",
            "森のような茂みの使い方：......れど……。  　かの女は唐突として規矩男から逃げ、武蔵野のとある往還へ出るまでのかの女は、ほとんど真しぐらに馳けた。その間雑木林の下道のゆるやかな坂を曲り、の森のような茂みの傍を通り、仄白い野菊の一ぱい咲いている野原の一片が眼に残り、やがてがくんくん匂って里近くなってきた往還で、かの女はタクシーを拾って、東京の山の手の自宅へ......\n",
            "No suitable 'style' div found for URL: https://hyogen.info/content/637466082, skipping...\n",
            "No suitable 'style' div found for URL: https://hyogen.info/content/465614944, skipping...\n",
            "No suitable 'style' div found for URL: https://hyogen.info/content/931299574, skipping...\n",
            "彼女の細い指は顔に似合わず、円い肉をつけていて、それが月の光をあびて白い虫のように輝いていた。の使い方：......らえることができるのだろうと考えたりしたことを思い起した。そしてまた彼はその便所の横の植え込みのところで、しばらく、互いの両手を渡し合ったことなどを思い起した。彼女の細い指は顔に似合わず、円い肉をつけていて、それが月の光をあびて白い虫のように輝いていた。そして彼女はその指に、急に、全身の力をこめて、彼の手の骨をしめつけ、また力を抜くのだった。　あのような時、二人はこの人生というものを全く知りはしなかった。しかし......\n",
            "自分の身を焼かれる心配のない火事場見物の一人として見ていたの使い方：......切る消防ポンプの白い水柱や硝子窓を打ち割り延焼防止につとめる防火頭巾をまとうた消防夫の姿や、横の広場に濡れた蒲団、家財を運び出す人々のあわてふためいた様子などを自分の身を焼かれる心配のない火事場見物の一人として見ていたのであった。それ故、そのとき彼が他の見物人と同じように、《この建築難の時代に何ということだ。》とか、《あの消防夫、もう少し先の方からぶっこわさなければ、すぐそこ......\n",
            "No suitable 'style' div found for URL: https://hyogen.info/content/774314673, skipping...\n",
            "No suitable 'style' div found for URL: https://hyogen.info/content/980697689, skipping...\n",
            "No suitable 'style' div found for URL: https://hyogen.info/content/655725600, skipping...\n",
            "No suitable 'style' div found for URL: https://hyogen.info/content/634321655, skipping...\n",
            "No suitable 'style' div found for URL: https://hyogen.info/content/507355900, skipping...\n",
            "No suitable 'style' div found for URL: https://hyogen.info/content/932144167, skipping...\n",
            "No suitable 'style' div found for URL: https://hyogen.info/content/404799686, skipping...\n",
            "No suitable 'style' div found for URL: https://hyogen.info/content/931937536, skipping...\n",
            "No suitable 'style' div found for URL: https://hyogen.info/content/348421604, skipping...\n",
            "No suitable 'style' div found for URL: https://hyogen.info/content/165753540, skipping...\n",
            "No suitable 'style' div found for URL: https://hyogen.info/content/547131899, skipping...\n",
            "No suitable 'style' div found for URL: https://hyogen.info/content/469704315, skipping...\n",
            "No suitable 'style' div found for URL: https://hyogen.info/content/113727201, skipping...\n",
            "No suitable 'style' div found for URL: https://hyogen.info/content/254801974, skipping...\n",
            "どこかでハタハタでも焼いているのか、とても臭いにおいが流れて来る。の使い方：......正直に話をしてみた。仕事がみつかるまで、下で一緒にいていいと言ってくれた。 「あんた、青バスの車掌さんにならないかね、いいのになると七十円位這入るそうだが……」 　どこかでハタハタでも焼いているのか、とても臭いにおいが流れて来る。七十円もはいれば素敵なことだ。とにかくブラさがるところをこしらえなくてはならない……。十の電気のついた帳場のにあたって、お母アさんへ手紙を書く。 　――ビョ......\n",
            "熱いものが飛竜のように復一の胸を斜に飛び過ぎたの使い方：......船端で水をう音がした。復一はわざと瞳の焦点を外しながらちょっと女の様子を覗きすぐにまた眼を閉じた。月の光をたよりに女は、静かに泣顔をハンドミラーでっていた。熱いものがのように復一の胸を斜に飛び過ぎたが心に真佐子をうと、再び美しい朦朧の意識がのように彼を包んだ。秀江は思い返したように船べりへ手を置いて、今までのとげとげしい調子をねばるような笑いに代えて......\n",
            "No suitable 'style' div found for URL: https://hyogen.info/content/615157046, skipping...\n",
            "No suitable 'style' div found for URL: https://hyogen.info/content/487526122, skipping...\n",
            "No suitable 'style' div found for URL: https://hyogen.info/content/847216279, skipping...\n",
            "ただ星の下で眠りたかった。 　朝の光で目覚めたかった。の使い方：......ふとんを敷いた。ライナスのように毛布にくるまって眠る。冷蔵庫のぶーんという音が、私を孤独な思考から守った。そこでは、結構安らかに長い夜が行き、朝が来てくれた。　ただ星の下で眠りたかった。　朝の光で目覚めたかった。　それ以外のことは、すべてただ淡々と過ぎていった。　しかし！　そうしてばかりもいられなかった。現実はすごい。　祖母がいくらお金をきちんと残してくれたとはいえ、ひ......\n",
            "No suitable 'style' div found for URL: https://hyogen.info/content/852520653, skipping...\n",
            "No suitable 'style' div found for URL: https://hyogen.info/content/731281647, skipping...\n",
            "游ぐ子を監視する水泳教師のように、微笑を泛べながら二三間後を離れて随いて行った。の使い方：......んから好奇の眼で眺め、なるべく妨げないようにしていた。それで、かの女の転回を注意深く眼で追いながら、柳の根方でポケットからを取り出して火をいつけ、それからぐ子を監視する水泳教師のように、微笑を泛べながら二三間後を離れて随いて行った。 　無意志で歩いているかの女も、さすがにときどきは人に肩をかれ、またぱったり出会って同じけ方をしてみ合う逆コースを、だんだん煩わしく感じて来た。いつか左側......\n",
            "No suitable 'style' div found for URL: https://hyogen.info/content/842764615, skipping...\n",
            "やけに陽気なそのメロディは、風人の声に含まれているさみしさを一層際立たせた。の使い方：......界の話で、だから私は元気がなくなる。「ひーちゃん、好きな人とキスしたんだ」　男にしては小さなてのひらの上に載っているイヤフォンから音符がぽろぽろとこぼれている。やけに陽気なそのメロディは、風人の声に含まれているさみしさを一層際立たせた。「見ちゃったの？」　ううん、と風人は首を横に振る。「おれそのときトイレに入ってたんだけど、出たとき、なんかわかっちゃったんだよね」　ガタン、と右に揺られ、ゴトン......\n",
            "No suitable 'style' div found for URL: https://hyogen.info/content/219378453, skipping...\n",
            "「酒はやめた」「息子は病院だ」「あいつを痛い目に遭わせる」「許せるか？」脈絡なく、頭の中で感情の泡が破裂する。の使い方：......面が歪む。鏡に罅が入り、凹凸ができ歪むかのように崩れ、「昔は昔だ。本当に撃てるのか？」と言ってくる。「今はただの酒飲みで、息子を守ることもできなかっただろうに」「酒はやめた」「息子は病院だ」「あいつを痛い目に遭わせる」「許せるか？」脈絡なく、頭の中で感情の泡が破裂する。　黒のブルゾンのポケットから拳銃を出すと、持っていた紙袋から、筒状の器具を取り出す。サプレッサー、減音器だ。銃の先に、回転させながらはめる。銃声が完全に消えるわ......\n",
            "No suitable 'style' div found for URL: https://hyogen.info/content/727904360, skipping...\n",
            "憤怒のあまり気が狂いかけていたの使い方：......かねた怒髪公は鈴を鳴らして従僕を呼び、大きな乳鉢を取って来させた。　なにがなんでもこの無数の破片どもを容赦するわけにはいかなかった。それともこの時すでに怒髪公は憤怒のあまり気が狂いかけていたのかもしれない。　わめき叫ぶ鏡の破片を一つ、一つ、乳鉢の中に投げ入れ、砕いて潰して擂りまわした。　鏡は粉になっても叫び声を──あの親切で容赦ないアドバイスを吐き......\n",
            "No suitable 'style' div found for URL: https://hyogen.info/content/441343076, skipping...\n",
            "都会育ちだから、ひ弱で力仕事が得意なはずはない。の使い方：......させられていたらと思うと、たまらない気がした。子供のころに比べれば、体格もよくなっていたし、調子がいいから誰といっしょでもわりにうまくやるだろうけれど、やっぱり都会育ちだから、ひ弱で力仕事が得意なはずはない。「あだな細ぇ体でなあ」　同情する言葉を聞くたびに、耳を塞ぎたいような、なんともいえない心地がした。　　　　４　夏になって、新しい仕事が舞い込んだ。　田舎の村で、......\n",
            "No suitable 'style' div found for URL: https://hyogen.info/content/604895793, skipping...\n",
            "No suitable 'style' div found for URL: https://hyogen.info/content/936965325, skipping...\n",
            "No suitable 'style' div found for URL: https://hyogen.info/content/638271192, skipping...\n",
            "No suitable 'style' div found for URL: https://hyogen.info/content/215234118, skipping...\n",
            "彼は今、その大きい頭におよそ 不 釣合いな小さい 水兵帽 を 兜巾 のように 戴いているのだ。 咽 はそのゴム 紐 でしめ上げられていた。の使い方：......いうことなし絵のように想い浮べていた。恋という言葉を知らぬ彼には素より歌の意味は解らなかった。　真鶴の漁師の子で、彼は色の黒い、頭の大きい子供であった。　そして彼は今、その大きい頭におよそ不釣合いな小さい水兵帽を兜巾のように戴いているのだ。咽はそのゴム紐でしめ上げられていた。この様子は恋に思い悩んでいる者としてはいかにも不調和でおかしかった。しかし彼にとっては不調和でも、おかしくても、また滑稽でも、この水兵帽はそう軽々しく考えられる......\n",
            "No suitable 'style' div found for URL: https://hyogen.info/content/157865689, skipping...\n",
            "No suitable 'style' div found for URL: https://hyogen.info/content/854077747, skipping...\n",
            "息をのみこんだ。口の中が乾き気味になっている。興奮して体温があがったのだろうか。の使い方：......っぺたにキスをした唇に人差し指をのせて、「まんまだよ」　と答えた。「まんまって……見えるの？」「うん」「言葉が？」「うん」「どんなふうに……」　あたしはここで、息をのみこんだ。口の中が乾き気味になっている。興奮して体温があがったのだろうか。「どんなふうに見えるわけ？」「理穂」「うん？」「あんた、どうしてそんなに知りたがり屋なんだろうね。まるでガキじゃん」「上等じゃない。ガキばんざいだよ」　あたしは......\n",
            "No suitable 'style' div found for URL: https://hyogen.info/content/625066733, skipping...\n",
            "No suitable 'style' div found for URL: https://hyogen.info/content/568284585, skipping...\n",
            "No suitable 'style' div found for URL: https://hyogen.info/content/182307049, skipping...\n",
            "No suitable 'style' div found for URL: https://hyogen.info/content/781549614, skipping...\n",
            "No suitable 'style' div found for URL: https://hyogen.info/content/761098862, skipping...\n",
            "No suitable 'style' div found for URL: https://hyogen.info/content/635365170, skipping...\n"
          ]
        },
        {
          "output_type": "error",
          "ename": "KeyboardInterrupt",
          "evalue": "",
          "traceback": [
            "\u001b[0;31m---------------------------------------------------------------------------\u001b[0m",
            "\u001b[0;31mKeyboardInterrupt\u001b[0m                         Traceback (most recent call last)",
            "\u001b[0;32m<ipython-input-5-f03eecc86657>\u001b[0m in \u001b[0;36m<cell line: 8>\u001b[0;34m()\u001b[0m\n\u001b[1;32m     10\u001b[0m         \u001b[0murl\u001b[0m \u001b[0;34m=\u001b[0m \u001b[0murl\u001b[0m\u001b[0;34m.\u001b[0m\u001b[0mstrip\u001b[0m\u001b[0;34m(\u001b[0m\u001b[0;34m)\u001b[0m  \u001b[0;31m# 余計な空白や改行を削除\u001b[0m\u001b[0;34m\u001b[0m\u001b[0;34m\u001b[0m\u001b[0m\n\u001b[1;32m     11\u001b[0m         \u001b[0;32mif\u001b[0m \u001b[0murl\u001b[0m\u001b[0;34m:\u001b[0m  \u001b[0;31m# URLが空でないことを確認\u001b[0m\u001b[0;34m\u001b[0m\u001b[0;34m\u001b[0m\u001b[0m\n\u001b[0;32m---> 12\u001b[0;31m             \u001b[0mresponse\u001b[0m \u001b[0;34m=\u001b[0m \u001b[0mrequests\u001b[0m\u001b[0;34m.\u001b[0m\u001b[0mget\u001b[0m\u001b[0;34m(\u001b[0m\u001b[0murl\u001b[0m\u001b[0;34m)\u001b[0m\u001b[0;34m\u001b[0m\u001b[0;34m\u001b[0m\u001b[0m\n\u001b[0m\u001b[1;32m     13\u001b[0m             \u001b[0msoup\u001b[0m \u001b[0;34m=\u001b[0m \u001b[0mBeautifulSoup\u001b[0m\u001b[0;34m(\u001b[0m\u001b[0mresponse\u001b[0m\u001b[0;34m.\u001b[0m\u001b[0mcontent\u001b[0m\u001b[0;34m,\u001b[0m \u001b[0;34m'html.parser'\u001b[0m\u001b[0;34m)\u001b[0m\u001b[0;34m\u001b[0m\u001b[0;34m\u001b[0m\u001b[0m\n\u001b[1;32m     14\u001b[0m \u001b[0;34m\u001b[0m\u001b[0m\n",
            "\u001b[0;32m/usr/local/lib/python3.10/dist-packages/requests/api.py\u001b[0m in \u001b[0;36mget\u001b[0;34m(url, params, **kwargs)\u001b[0m\n\u001b[1;32m     71\u001b[0m     \"\"\"\n\u001b[1;32m     72\u001b[0m \u001b[0;34m\u001b[0m\u001b[0m\n\u001b[0;32m---> 73\u001b[0;31m     \u001b[0;32mreturn\u001b[0m \u001b[0mrequest\u001b[0m\u001b[0;34m(\u001b[0m\u001b[0;34m\"get\"\u001b[0m\u001b[0;34m,\u001b[0m \u001b[0murl\u001b[0m\u001b[0;34m,\u001b[0m \u001b[0mparams\u001b[0m\u001b[0;34m=\u001b[0m\u001b[0mparams\u001b[0m\u001b[0;34m,\u001b[0m \u001b[0;34m**\u001b[0m\u001b[0mkwargs\u001b[0m\u001b[0;34m)\u001b[0m\u001b[0;34m\u001b[0m\u001b[0;34m\u001b[0m\u001b[0m\n\u001b[0m\u001b[1;32m     74\u001b[0m \u001b[0;34m\u001b[0m\u001b[0m\n\u001b[1;32m     75\u001b[0m \u001b[0;34m\u001b[0m\u001b[0m\n",
            "\u001b[0;32m/usr/local/lib/python3.10/dist-packages/requests/api.py\u001b[0m in \u001b[0;36mrequest\u001b[0;34m(method, url, **kwargs)\u001b[0m\n\u001b[1;32m     57\u001b[0m     \u001b[0;31m# cases, and look like a memory leak in others.\u001b[0m\u001b[0;34m\u001b[0m\u001b[0;34m\u001b[0m\u001b[0m\n\u001b[1;32m     58\u001b[0m     \u001b[0;32mwith\u001b[0m \u001b[0msessions\u001b[0m\u001b[0;34m.\u001b[0m\u001b[0mSession\u001b[0m\u001b[0;34m(\u001b[0m\u001b[0;34m)\u001b[0m \u001b[0;32mas\u001b[0m \u001b[0msession\u001b[0m\u001b[0;34m:\u001b[0m\u001b[0;34m\u001b[0m\u001b[0;34m\u001b[0m\u001b[0m\n\u001b[0;32m---> 59\u001b[0;31m         \u001b[0;32mreturn\u001b[0m \u001b[0msession\u001b[0m\u001b[0;34m.\u001b[0m\u001b[0mrequest\u001b[0m\u001b[0;34m(\u001b[0m\u001b[0mmethod\u001b[0m\u001b[0;34m=\u001b[0m\u001b[0mmethod\u001b[0m\u001b[0;34m,\u001b[0m \u001b[0murl\u001b[0m\u001b[0;34m=\u001b[0m\u001b[0murl\u001b[0m\u001b[0;34m,\u001b[0m \u001b[0;34m**\u001b[0m\u001b[0mkwargs\u001b[0m\u001b[0;34m)\u001b[0m\u001b[0;34m\u001b[0m\u001b[0;34m\u001b[0m\u001b[0m\n\u001b[0m\u001b[1;32m     60\u001b[0m \u001b[0;34m\u001b[0m\u001b[0m\n\u001b[1;32m     61\u001b[0m \u001b[0;34m\u001b[0m\u001b[0m\n",
            "\u001b[0;32m/usr/local/lib/python3.10/dist-packages/requests/sessions.py\u001b[0m in \u001b[0;36mrequest\u001b[0;34m(self, method, url, params, data, headers, cookies, files, auth, timeout, allow_redirects, proxies, hooks, stream, verify, cert, json)\u001b[0m\n\u001b[1;32m    587\u001b[0m         }\n\u001b[1;32m    588\u001b[0m         \u001b[0msend_kwargs\u001b[0m\u001b[0;34m.\u001b[0m\u001b[0mupdate\u001b[0m\u001b[0;34m(\u001b[0m\u001b[0msettings\u001b[0m\u001b[0;34m)\u001b[0m\u001b[0;34m\u001b[0m\u001b[0;34m\u001b[0m\u001b[0m\n\u001b[0;32m--> 589\u001b[0;31m         \u001b[0mresp\u001b[0m \u001b[0;34m=\u001b[0m \u001b[0mself\u001b[0m\u001b[0;34m.\u001b[0m\u001b[0msend\u001b[0m\u001b[0;34m(\u001b[0m\u001b[0mprep\u001b[0m\u001b[0;34m,\u001b[0m \u001b[0;34m**\u001b[0m\u001b[0msend_kwargs\u001b[0m\u001b[0;34m)\u001b[0m\u001b[0;34m\u001b[0m\u001b[0;34m\u001b[0m\u001b[0m\n\u001b[0m\u001b[1;32m    590\u001b[0m \u001b[0;34m\u001b[0m\u001b[0m\n\u001b[1;32m    591\u001b[0m         \u001b[0;32mreturn\u001b[0m \u001b[0mresp\u001b[0m\u001b[0;34m\u001b[0m\u001b[0;34m\u001b[0m\u001b[0m\n",
            "\u001b[0;32m/usr/local/lib/python3.10/dist-packages/requests/sessions.py\u001b[0m in \u001b[0;36msend\u001b[0;34m(self, request, **kwargs)\u001b[0m\n\u001b[1;32m    745\u001b[0m \u001b[0;34m\u001b[0m\u001b[0m\n\u001b[1;32m    746\u001b[0m         \u001b[0;32mif\u001b[0m \u001b[0;32mnot\u001b[0m \u001b[0mstream\u001b[0m\u001b[0;34m:\u001b[0m\u001b[0;34m\u001b[0m\u001b[0;34m\u001b[0m\u001b[0m\n\u001b[0;32m--> 747\u001b[0;31m             \u001b[0mr\u001b[0m\u001b[0;34m.\u001b[0m\u001b[0mcontent\u001b[0m\u001b[0;34m\u001b[0m\u001b[0;34m\u001b[0m\u001b[0m\n\u001b[0m\u001b[1;32m    748\u001b[0m \u001b[0;34m\u001b[0m\u001b[0m\n\u001b[1;32m    749\u001b[0m         \u001b[0;32mreturn\u001b[0m \u001b[0mr\u001b[0m\u001b[0;34m\u001b[0m\u001b[0;34m\u001b[0m\u001b[0m\n",
            "\u001b[0;32m/usr/local/lib/python3.10/dist-packages/requests/models.py\u001b[0m in \u001b[0;36mcontent\u001b[0;34m(self)\u001b[0m\n\u001b[1;32m    897\u001b[0m                 \u001b[0mself\u001b[0m\u001b[0;34m.\u001b[0m\u001b[0m_content\u001b[0m \u001b[0;34m=\u001b[0m \u001b[0;32mNone\u001b[0m\u001b[0;34m\u001b[0m\u001b[0;34m\u001b[0m\u001b[0m\n\u001b[1;32m    898\u001b[0m             \u001b[0;32melse\u001b[0m\u001b[0;34m:\u001b[0m\u001b[0;34m\u001b[0m\u001b[0;34m\u001b[0m\u001b[0m\n\u001b[0;32m--> 899\u001b[0;31m                 \u001b[0mself\u001b[0m\u001b[0;34m.\u001b[0m\u001b[0m_content\u001b[0m \u001b[0;34m=\u001b[0m \u001b[0;34mb\"\"\u001b[0m\u001b[0;34m.\u001b[0m\u001b[0mjoin\u001b[0m\u001b[0;34m(\u001b[0m\u001b[0mself\u001b[0m\u001b[0;34m.\u001b[0m\u001b[0miter_content\u001b[0m\u001b[0;34m(\u001b[0m\u001b[0mCONTENT_CHUNK_SIZE\u001b[0m\u001b[0;34m)\u001b[0m\u001b[0;34m)\u001b[0m \u001b[0;32mor\u001b[0m \u001b[0;34mb\"\"\u001b[0m\u001b[0;34m\u001b[0m\u001b[0;34m\u001b[0m\u001b[0m\n\u001b[0m\u001b[1;32m    900\u001b[0m \u001b[0;34m\u001b[0m\u001b[0m\n\u001b[1;32m    901\u001b[0m         \u001b[0mself\u001b[0m\u001b[0;34m.\u001b[0m\u001b[0m_content_consumed\u001b[0m \u001b[0;34m=\u001b[0m \u001b[0;32mTrue\u001b[0m\u001b[0;34m\u001b[0m\u001b[0;34m\u001b[0m\u001b[0m\n",
            "\u001b[0;32m/usr/local/lib/python3.10/dist-packages/requests/models.py\u001b[0m in \u001b[0;36mgenerate\u001b[0;34m()\u001b[0m\n\u001b[1;32m    814\u001b[0m             \u001b[0;32mif\u001b[0m \u001b[0mhasattr\u001b[0m\u001b[0;34m(\u001b[0m\u001b[0mself\u001b[0m\u001b[0;34m.\u001b[0m\u001b[0mraw\u001b[0m\u001b[0;34m,\u001b[0m \u001b[0;34m\"stream\"\u001b[0m\u001b[0;34m)\u001b[0m\u001b[0;34m:\u001b[0m\u001b[0;34m\u001b[0m\u001b[0;34m\u001b[0m\u001b[0m\n\u001b[1;32m    815\u001b[0m                 \u001b[0;32mtry\u001b[0m\u001b[0;34m:\u001b[0m\u001b[0;34m\u001b[0m\u001b[0;34m\u001b[0m\u001b[0m\n\u001b[0;32m--> 816\u001b[0;31m                     \u001b[0;32myield\u001b[0m \u001b[0;32mfrom\u001b[0m \u001b[0mself\u001b[0m\u001b[0;34m.\u001b[0m\u001b[0mraw\u001b[0m\u001b[0;34m.\u001b[0m\u001b[0mstream\u001b[0m\u001b[0;34m(\u001b[0m\u001b[0mchunk_size\u001b[0m\u001b[0;34m,\u001b[0m \u001b[0mdecode_content\u001b[0m\u001b[0;34m=\u001b[0m\u001b[0;32mTrue\u001b[0m\u001b[0;34m)\u001b[0m\u001b[0;34m\u001b[0m\u001b[0;34m\u001b[0m\u001b[0m\n\u001b[0m\u001b[1;32m    817\u001b[0m                 \u001b[0;32mexcept\u001b[0m \u001b[0mProtocolError\u001b[0m \u001b[0;32mas\u001b[0m \u001b[0me\u001b[0m\u001b[0;34m:\u001b[0m\u001b[0;34m\u001b[0m\u001b[0;34m\u001b[0m\u001b[0m\n\u001b[1;32m    818\u001b[0m                     \u001b[0;32mraise\u001b[0m \u001b[0mChunkedEncodingError\u001b[0m\u001b[0;34m(\u001b[0m\u001b[0me\u001b[0m\u001b[0;34m)\u001b[0m\u001b[0;34m\u001b[0m\u001b[0;34m\u001b[0m\u001b[0m\n",
            "\u001b[0;32m/usr/local/lib/python3.10/dist-packages/urllib3/response.py\u001b[0m in \u001b[0;36mstream\u001b[0;34m(self, amt, decode_content)\u001b[0m\n\u001b[1;32m    931\u001b[0m         \"\"\"\n\u001b[1;32m    932\u001b[0m         \u001b[0;32mif\u001b[0m \u001b[0mself\u001b[0m\u001b[0;34m.\u001b[0m\u001b[0mchunked\u001b[0m \u001b[0;32mand\u001b[0m \u001b[0mself\u001b[0m\u001b[0;34m.\u001b[0m\u001b[0msupports_chunked_reads\u001b[0m\u001b[0;34m(\u001b[0m\u001b[0;34m)\u001b[0m\u001b[0;34m:\u001b[0m\u001b[0;34m\u001b[0m\u001b[0;34m\u001b[0m\u001b[0m\n\u001b[0;32m--> 933\u001b[0;31m             \u001b[0;32myield\u001b[0m \u001b[0;32mfrom\u001b[0m \u001b[0mself\u001b[0m\u001b[0;34m.\u001b[0m\u001b[0mread_chunked\u001b[0m\u001b[0;34m(\u001b[0m\u001b[0mamt\u001b[0m\u001b[0;34m,\u001b[0m \u001b[0mdecode_content\u001b[0m\u001b[0;34m=\u001b[0m\u001b[0mdecode_content\u001b[0m\u001b[0;34m)\u001b[0m\u001b[0;34m\u001b[0m\u001b[0;34m\u001b[0m\u001b[0m\n\u001b[0m\u001b[1;32m    934\u001b[0m         \u001b[0;32melse\u001b[0m\u001b[0;34m:\u001b[0m\u001b[0;34m\u001b[0m\u001b[0;34m\u001b[0m\u001b[0m\n\u001b[1;32m    935\u001b[0m             \u001b[0;32mwhile\u001b[0m \u001b[0;32mnot\u001b[0m \u001b[0mis_fp_closed\u001b[0m\u001b[0;34m(\u001b[0m\u001b[0mself\u001b[0m\u001b[0;34m.\u001b[0m\u001b[0m_fp\u001b[0m\u001b[0;34m)\u001b[0m \u001b[0;32mor\u001b[0m \u001b[0mlen\u001b[0m\u001b[0;34m(\u001b[0m\u001b[0mself\u001b[0m\u001b[0;34m.\u001b[0m\u001b[0m_decoded_buffer\u001b[0m\u001b[0;34m)\u001b[0m \u001b[0;34m>\u001b[0m \u001b[0;36m0\u001b[0m\u001b[0;34m:\u001b[0m\u001b[0;34m\u001b[0m\u001b[0;34m\u001b[0m\u001b[0m\n",
            "\u001b[0;32m/usr/local/lib/python3.10/dist-packages/urllib3/response.py\u001b[0m in \u001b[0;36mread_chunked\u001b[0;34m(self, amt, decode_content)\u001b[0m\n\u001b[1;32m   1074\u001b[0m                 \u001b[0;32mif\u001b[0m \u001b[0mself\u001b[0m\u001b[0;34m.\u001b[0m\u001b[0mchunk_left\u001b[0m \u001b[0;34m==\u001b[0m \u001b[0;36m0\u001b[0m\u001b[0;34m:\u001b[0m\u001b[0;34m\u001b[0m\u001b[0;34m\u001b[0m\u001b[0m\n\u001b[1;32m   1075\u001b[0m                     \u001b[0;32mbreak\u001b[0m\u001b[0;34m\u001b[0m\u001b[0;34m\u001b[0m\u001b[0m\n\u001b[0;32m-> 1076\u001b[0;31m                 \u001b[0mchunk\u001b[0m \u001b[0;34m=\u001b[0m \u001b[0mself\u001b[0m\u001b[0;34m.\u001b[0m\u001b[0m_handle_chunk\u001b[0m\u001b[0;34m(\u001b[0m\u001b[0mamt\u001b[0m\u001b[0;34m)\u001b[0m\u001b[0;34m\u001b[0m\u001b[0;34m\u001b[0m\u001b[0m\n\u001b[0m\u001b[1;32m   1077\u001b[0m                 decoded = self._decode(\n\u001b[1;32m   1078\u001b[0m                     \u001b[0mchunk\u001b[0m\u001b[0;34m,\u001b[0m \u001b[0mdecode_content\u001b[0m\u001b[0;34m=\u001b[0m\u001b[0mdecode_content\u001b[0m\u001b[0;34m,\u001b[0m \u001b[0mflush_decoder\u001b[0m\u001b[0;34m=\u001b[0m\u001b[0;32mFalse\u001b[0m\u001b[0;34m\u001b[0m\u001b[0;34m\u001b[0m\u001b[0m\n",
            "\u001b[0;32m/usr/local/lib/python3.10/dist-packages/urllib3/response.py\u001b[0m in \u001b[0;36m_handle_chunk\u001b[0;34m(self, amt)\u001b[0m\n\u001b[1;32m   1016\u001b[0m             \u001b[0mself\u001b[0m\u001b[0;34m.\u001b[0m\u001b[0mchunk_left\u001b[0m \u001b[0;34m=\u001b[0m \u001b[0;32mNone\u001b[0m\u001b[0;34m\u001b[0m\u001b[0;34m\u001b[0m\u001b[0m\n\u001b[1;32m   1017\u001b[0m         \u001b[0;32melif\u001b[0m \u001b[0mself\u001b[0m\u001b[0;34m.\u001b[0m\u001b[0mchunk_left\u001b[0m \u001b[0;32mis\u001b[0m \u001b[0;32mnot\u001b[0m \u001b[0;32mNone\u001b[0m \u001b[0;32mand\u001b[0m \u001b[0mamt\u001b[0m \u001b[0;34m<\u001b[0m \u001b[0mself\u001b[0m\u001b[0;34m.\u001b[0m\u001b[0mchunk_left\u001b[0m\u001b[0;34m:\u001b[0m\u001b[0;34m\u001b[0m\u001b[0;34m\u001b[0m\u001b[0m\n\u001b[0;32m-> 1018\u001b[0;31m             \u001b[0mvalue\u001b[0m \u001b[0;34m=\u001b[0m \u001b[0mself\u001b[0m\u001b[0;34m.\u001b[0m\u001b[0m_fp\u001b[0m\u001b[0;34m.\u001b[0m\u001b[0m_safe_read\u001b[0m\u001b[0;34m(\u001b[0m\u001b[0mamt\u001b[0m\u001b[0;34m)\u001b[0m  \u001b[0;31m# type: ignore[union-attr]\u001b[0m\u001b[0;34m\u001b[0m\u001b[0;34m\u001b[0m\u001b[0m\n\u001b[0m\u001b[1;32m   1019\u001b[0m             \u001b[0mself\u001b[0m\u001b[0;34m.\u001b[0m\u001b[0mchunk_left\u001b[0m \u001b[0;34m=\u001b[0m \u001b[0mself\u001b[0m\u001b[0;34m.\u001b[0m\u001b[0mchunk_left\u001b[0m \u001b[0;34m-\u001b[0m \u001b[0mamt\u001b[0m\u001b[0;34m\u001b[0m\u001b[0;34m\u001b[0m\u001b[0m\n\u001b[1;32m   1020\u001b[0m             \u001b[0mreturned_chunk\u001b[0m \u001b[0;34m=\u001b[0m \u001b[0mvalue\u001b[0m\u001b[0;34m\u001b[0m\u001b[0;34m\u001b[0m\u001b[0m\n",
            "\u001b[0;32m/usr/lib/python3.10/http/client.py\u001b[0m in \u001b[0;36m_safe_read\u001b[0;34m(self, amt)\u001b[0m\n\u001b[1;32m    629\u001b[0m         \u001b[0mIncompleteRead\u001b[0m \u001b[0mexception\u001b[0m \u001b[0mcan\u001b[0m \u001b[0mbe\u001b[0m \u001b[0mused\u001b[0m \u001b[0mto\u001b[0m \u001b[0mdetect\u001b[0m \u001b[0mthe\u001b[0m \u001b[0mproblem\u001b[0m\u001b[0;34m.\u001b[0m\u001b[0;34m\u001b[0m\u001b[0;34m\u001b[0m\u001b[0m\n\u001b[1;32m    630\u001b[0m         \"\"\"\n\u001b[0;32m--> 631\u001b[0;31m         \u001b[0mdata\u001b[0m \u001b[0;34m=\u001b[0m \u001b[0mself\u001b[0m\u001b[0;34m.\u001b[0m\u001b[0mfp\u001b[0m\u001b[0;34m.\u001b[0m\u001b[0mread\u001b[0m\u001b[0;34m(\u001b[0m\u001b[0mamt\u001b[0m\u001b[0;34m)\u001b[0m\u001b[0;34m\u001b[0m\u001b[0;34m\u001b[0m\u001b[0m\n\u001b[0m\u001b[1;32m    632\u001b[0m         \u001b[0;32mif\u001b[0m \u001b[0mlen\u001b[0m\u001b[0;34m(\u001b[0m\u001b[0mdata\u001b[0m\u001b[0;34m)\u001b[0m \u001b[0;34m<\u001b[0m \u001b[0mamt\u001b[0m\u001b[0;34m:\u001b[0m\u001b[0;34m\u001b[0m\u001b[0;34m\u001b[0m\u001b[0m\n\u001b[1;32m    633\u001b[0m             \u001b[0;32mraise\u001b[0m \u001b[0mIncompleteRead\u001b[0m\u001b[0;34m(\u001b[0m\u001b[0mdata\u001b[0m\u001b[0;34m,\u001b[0m \u001b[0mamt\u001b[0m\u001b[0;34m-\u001b[0m\u001b[0mlen\u001b[0m\u001b[0;34m(\u001b[0m\u001b[0mdata\u001b[0m\u001b[0;34m)\u001b[0m\u001b[0;34m)\u001b[0m\u001b[0;34m\u001b[0m\u001b[0;34m\u001b[0m\u001b[0m\n",
            "\u001b[0;32m/usr/lib/python3.10/socket.py\u001b[0m in \u001b[0;36mreadinto\u001b[0;34m(self, b)\u001b[0m\n\u001b[1;32m    703\u001b[0m         \u001b[0;32mwhile\u001b[0m \u001b[0;32mTrue\u001b[0m\u001b[0;34m:\u001b[0m\u001b[0;34m\u001b[0m\u001b[0;34m\u001b[0m\u001b[0m\n\u001b[1;32m    704\u001b[0m             \u001b[0;32mtry\u001b[0m\u001b[0;34m:\u001b[0m\u001b[0;34m\u001b[0m\u001b[0;34m\u001b[0m\u001b[0m\n\u001b[0;32m--> 705\u001b[0;31m                 \u001b[0;32mreturn\u001b[0m \u001b[0mself\u001b[0m\u001b[0;34m.\u001b[0m\u001b[0m_sock\u001b[0m\u001b[0;34m.\u001b[0m\u001b[0mrecv_into\u001b[0m\u001b[0;34m(\u001b[0m\u001b[0mb\u001b[0m\u001b[0;34m)\u001b[0m\u001b[0;34m\u001b[0m\u001b[0;34m\u001b[0m\u001b[0m\n\u001b[0m\u001b[1;32m    706\u001b[0m             \u001b[0;32mexcept\u001b[0m \u001b[0mtimeout\u001b[0m\u001b[0;34m:\u001b[0m\u001b[0;34m\u001b[0m\u001b[0;34m\u001b[0m\u001b[0m\n\u001b[1;32m    707\u001b[0m                 \u001b[0mself\u001b[0m\u001b[0;34m.\u001b[0m\u001b[0m_timeout_occurred\u001b[0m \u001b[0;34m=\u001b[0m \u001b[0;32mTrue\u001b[0m\u001b[0;34m\u001b[0m\u001b[0;34m\u001b[0m\u001b[0m\n",
            "\u001b[0;32m/usr/lib/python3.10/ssl.py\u001b[0m in \u001b[0;36mrecv_into\u001b[0;34m(self, buffer, nbytes, flags)\u001b[0m\n\u001b[1;32m   1301\u001b[0m                   \u001b[0;34m\"non-zero flags not allowed in calls to recv_into() on %s\"\u001b[0m \u001b[0;34m%\u001b[0m\u001b[0;34m\u001b[0m\u001b[0;34m\u001b[0m\u001b[0m\n\u001b[1;32m   1302\u001b[0m                   self.__class__)\n\u001b[0;32m-> 1303\u001b[0;31m             \u001b[0;32mreturn\u001b[0m \u001b[0mself\u001b[0m\u001b[0;34m.\u001b[0m\u001b[0mread\u001b[0m\u001b[0;34m(\u001b[0m\u001b[0mnbytes\u001b[0m\u001b[0;34m,\u001b[0m \u001b[0mbuffer\u001b[0m\u001b[0;34m)\u001b[0m\u001b[0;34m\u001b[0m\u001b[0;34m\u001b[0m\u001b[0m\n\u001b[0m\u001b[1;32m   1304\u001b[0m         \u001b[0;32melse\u001b[0m\u001b[0;34m:\u001b[0m\u001b[0;34m\u001b[0m\u001b[0;34m\u001b[0m\u001b[0m\n\u001b[1;32m   1305\u001b[0m             \u001b[0;32mreturn\u001b[0m \u001b[0msuper\u001b[0m\u001b[0;34m(\u001b[0m\u001b[0;34m)\u001b[0m\u001b[0;34m.\u001b[0m\u001b[0mrecv_into\u001b[0m\u001b[0;34m(\u001b[0m\u001b[0mbuffer\u001b[0m\u001b[0;34m,\u001b[0m \u001b[0mnbytes\u001b[0m\u001b[0;34m,\u001b[0m \u001b[0mflags\u001b[0m\u001b[0;34m)\u001b[0m\u001b[0;34m\u001b[0m\u001b[0;34m\u001b[0m\u001b[0m\n",
            "\u001b[0;32m/usr/lib/python3.10/ssl.py\u001b[0m in \u001b[0;36mread\u001b[0;34m(self, len, buffer)\u001b[0m\n\u001b[1;32m   1157\u001b[0m         \u001b[0;32mtry\u001b[0m\u001b[0;34m:\u001b[0m\u001b[0;34m\u001b[0m\u001b[0;34m\u001b[0m\u001b[0m\n\u001b[1;32m   1158\u001b[0m             \u001b[0;32mif\u001b[0m \u001b[0mbuffer\u001b[0m \u001b[0;32mis\u001b[0m \u001b[0;32mnot\u001b[0m \u001b[0;32mNone\u001b[0m\u001b[0;34m:\u001b[0m\u001b[0;34m\u001b[0m\u001b[0;34m\u001b[0m\u001b[0m\n\u001b[0;32m-> 1159\u001b[0;31m                 \u001b[0;32mreturn\u001b[0m \u001b[0mself\u001b[0m\u001b[0;34m.\u001b[0m\u001b[0m_sslobj\u001b[0m\u001b[0;34m.\u001b[0m\u001b[0mread\u001b[0m\u001b[0;34m(\u001b[0m\u001b[0mlen\u001b[0m\u001b[0;34m,\u001b[0m \u001b[0mbuffer\u001b[0m\u001b[0;34m)\u001b[0m\u001b[0;34m\u001b[0m\u001b[0;34m\u001b[0m\u001b[0m\n\u001b[0m\u001b[1;32m   1160\u001b[0m             \u001b[0;32melse\u001b[0m\u001b[0;34m:\u001b[0m\u001b[0;34m\u001b[0m\u001b[0;34m\u001b[0m\u001b[0m\n\u001b[1;32m   1161\u001b[0m                 \u001b[0;32mreturn\u001b[0m \u001b[0mself\u001b[0m\u001b[0;34m.\u001b[0m\u001b[0m_sslobj\u001b[0m\u001b[0;34m.\u001b[0m\u001b[0mread\u001b[0m\u001b[0;34m(\u001b[0m\u001b[0mlen\u001b[0m\u001b[0;34m)\u001b[0m\u001b[0;34m\u001b[0m\u001b[0;34m\u001b[0m\u001b[0m\n",
            "\u001b[0;31mKeyboardInterrupt\u001b[0m: "
          ]
        }
      ]
    }
  ],
  "metadata": {
    "colab": {
      "provenance": []
    },
    "kernelspec": {
      "display_name": "Python 3",
      "name": "python3"
    },
    "language_info": {
      "name": "python"
    }
  },
  "nbformat": 4,
  "nbformat_minor": 0
}