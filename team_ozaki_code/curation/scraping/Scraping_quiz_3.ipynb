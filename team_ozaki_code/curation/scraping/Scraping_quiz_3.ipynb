{
  "cells": [
    {
      "cell_type": "code",
      "execution_count": null,
      "metadata": {
        "colab": {
          "base_uri": "https://localhost:8080/"
        },
        "id": "c8RgJRwBeYP5",
        "outputId": "f60ed955-427d-4cbf-f11c-ceb0185a100b"
      },
      "outputs": [
        {
          "output_type": "stream",
          "name": "stdout",
          "text": [
            "Mounted at /content/drive\n"
          ]
        }
      ],
      "source": [
        "#for Google Colab\n",
        "import sys\n",
        "from google.colab import drive\n",
        "from IPython.display import Javascript\n",
        "from pprint import pprint\n",
        "\n",
        "drive.mount('/content/drive')\n",
        "\n",
        "###---- ROOT_PATHを記載 ----###\n",
        "ROOT_PATH = '/content/drive/MyDrive/Scraping/'\n",
        "sys.path.append(ROOT_PATH)"
      ]
    },
    {
      "cell_type": "code",
      "execution_count": null,
      "metadata": {
        "colab": {
          "base_uri": "https://localhost:8080/"
        },
        "id": "itCYtMaRkCiC",
        "outputId": "47785442-95aa-4f6d-ed32-75f02270ab58"
      },
      "outputs": [
        {
          "output_type": "stream",
          "name": "stdout",
          "text": [
            "\u001b[2K     \u001b[90m━━━━━━━━━━━━━━━━━━━━━━━━━━━━━━━━━━━━━━━━\u001b[0m \u001b[32m1.0/1.0 MB\u001b[0m \u001b[31m7.7 MB/s\u001b[0m eta \u001b[36m0:00:00\u001b[0m\n",
            "\u001b[2K     \u001b[90m━━━━━━━━━━━━━━━━━━━━━━━━━━━━━━━━━━━━━━━━\u001b[0m \u001b[32m837.8/837.8 kB\u001b[0m \u001b[31m10.4 MB/s\u001b[0m eta \u001b[36m0:00:00\u001b[0m\n",
            "\u001b[2K     \u001b[90m━━━━━━━━━━━━━━━━━━━━━━━━━━━━━━━━━━━━━━━━\u001b[0m \u001b[32m263.8/263.8 kB\u001b[0m \u001b[31m10.4 MB/s\u001b[0m eta \u001b[36m0:00:00\u001b[0m\n",
            "\u001b[2K     \u001b[90m━━━━━━━━━━━━━━━━━━━━━━━━━━━━━━━━━━━━━━━━\u001b[0m \u001b[32m295.0/295.0 kB\u001b[0m \u001b[31m11.2 MB/s\u001b[0m eta \u001b[36m0:00:00\u001b[0m\n",
            "\u001b[?25h"
          ]
        }
      ],
      "source": [
        "!pip install -q trafilatura\n",
        "!pip install -q beautifulsoup4\n",
        "!pip install -q requests"
      ]
    },
    {
      "cell_type": "code",
      "source": [
        "# http://www.zephyr.dti.ne.jp/~iechan/hinata/ronri.html"
      ],
      "metadata": {
        "id": "wxqdvGryXhiZ"
      },
      "execution_count": null,
      "outputs": []
    },
    {
      "cell_type": "code",
      "source": [],
      "metadata": {
        "id": "vi5wLCGUHqLX"
      },
      "execution_count": null,
      "outputs": []
    },
    {
      "cell_type": "code",
      "source": [
        "import requests\n",
        "from bs4 import BeautifulSoup\n",
        "from urllib.parse import urljoin\n",
        "\n",
        "# URLの指定\n",
        "base_url = 'http://www.zephyr.dti.ne.jp/~iechan/hinata/ronri.html'\n",
        "\n",
        "# URLからHTMLコンテンツを取得\n",
        "response = requests.get(base_url)\n",
        "soup = BeautifulSoup(response.content, 'html.parser')\n",
        "\n",
        "# すべてのaタグを見つけて、href属性を絶対パスに変換\n",
        "links = [urljoin(base_url, a.get('href')) for a in soup.find_all('a') if a.get('href')]\n",
        "\n",
        "# \"TOP.html\" を含むリンクを削除\n",
        "filtered_links = [link for link in links if 'TOP.html' not in link]\n",
        "\n",
        "# 絶対パスでのリンクを出力\n",
        "for link in filtered_links:\n",
        "    print(link)\n"
      ],
      "metadata": {
        "colab": {
          "base_uri": "https://localhost:8080/"
        },
        "id": "nnRm4cHQs8n4",
        "outputId": "60a0c2c5-0f2f-43a6-f53c-b2b21a4034ab"
      },
      "execution_count": null,
      "outputs": [
        {
          "output_type": "stream",
          "name": "stdout",
          "text": [
            "http://www.zephyr.dti.ne.jp/~iechan/ronri/ookami.html\n",
            "http://www.zephyr.dti.ne.jp/~iechan/ronri/8coin.html\n",
            "http://www.zephyr.dti.ne.jp/~iechan/ronri/100coin.html\n",
            "http://www.zephyr.dti.ne.jp/~iechan/ronri/kaze.html\n",
            "http://www.zephyr.dti.ne.jp/~iechan/ronri/Russian roulette.html\n",
            "http://www.zephyr.dti.ne.jp/~iechan/ronri/handsome.html\n",
            "http://www.zephyr.dti.ne.jp/~iechan/ronri/hitokui.html\n",
            "http://www.zephyr.dti.ne.jp/~iechan/ronri/sayuu.html\n",
            "http://www.zephyr.dti.ne.jp/~iechan/ronri/sannin.html\n",
            "http://www.zephyr.dti.ne.jp/~iechan/ronri/bijo.html\n",
            "http://www.zephyr.dti.ne.jp/~iechan/ronri/4boat.html\n",
            "http://www.zephyr.dti.ne.jp/~iechan/ronri/syouziki.html\n",
            "http://www.zephyr.dti.ne.jp/~iechan/ronri/satuzinikka.html\n",
            "http://www.zephyr.dti.ne.jp/~iechan/ronri/amagoi.html\n",
            "http://www.zephyr.dti.ne.jp/~iechan/ronri/threebottle.html\n",
            "http://www.zephyr.dti.ne.jp/~iechan/ronri/dounuts.html\n",
            "http://www.zephyr.dti.ne.jp/~iechan/ronri/nine.html\n",
            "http://www.zephyr.dti.ne.jp/~iechan/ronri/8bunkatu.html\n",
            "http://www.zephyr.dti.ne.jp/~iechan/ronri/lost1dollar.html\n",
            "http://www.zephyr.dti.ne.jp/~iechan/ronri/Alice.html\n",
            "http://www.zephyr.dti.ne.jp/~iechan/ronri/douke.html\n",
            "http://www.zephyr.dti.ne.jp/~iechan/ronri/zombie.html\n",
            "http://www.zephyr.dti.ne.jp/~iechan/ronri/zennounokami.html\n",
            "http://www.zephyr.dti.ne.jp/~iechan/ronri/speedup.html\n",
            "http://www.zephyr.dti.ne.jp/~iechan/ronri/portia.html\n",
            "http://www.zephyr.dti.ne.jp/~iechan/ronri/tento.html\n",
            "http://www.zephyr.dti.ne.jp/~iechan/ronri/wolfman.html\n",
            "http://www.zephyr.dti.ne.jp/~iechan/ronri/warizan.html\n",
            "http://www.zephyr.dti.ne.jp/~iechan/ronri/magicaltree.html\n",
            "http://www.zephyr.dti.ne.jp/~iechan/ronri/intiki.html\n",
            "http://www.zephyr.dti.ne.jp/~iechan/ronri/sindobato.html\n",
            "http://www.zephyr.dti.ne.jp/~iechan/ronri/sankuto.html\n",
            "http://www.zephyr.dti.ne.jp/~iechan/ronri/pakauma.html\n",
            "http://www.zephyr.dti.ne.jp/~iechan/ronri/yamawake.html\n",
            "http://www.zephyr.dti.ne.jp/~iechan/ronri/2rakuda.html\n",
            "http://www.zephyr.dti.ne.jp/~iechan/ronri/dozen.html\n",
            "http://www.zephyr.dti.ne.jp/~iechan/ronri/hutago.html\n",
            "http://www.zephyr.dti.ne.jp/~iechan/ronri/twocats.html\n",
            "http://www.zephyr.dti.ne.jp/~iechan/ronri/3box.html\n",
            "http://www.zephyr.dti.ne.jp/~iechan/ronri/mouke.html\n",
            "http://www.zephyr.dti.ne.jp/~iechan/ronri/harun.html\n",
            "http://www.zephyr.dti.ne.jp/~iechan/ronri/tubozan.html\n",
            "http://www.zephyr.dti.ne.jp/~iechan/ronri/cake.html\n",
            "http://www.zephyr.dti.ne.jp/~iechan/ronri/rubby.html\n",
            "http://www.zephyr.dti.ne.jp/~iechan/ronri/10murabito.html\n",
            "http://www.zephyr.dti.ne.jp/~iechan/ronri/3tannsu.htm\n",
            "http://www.zephyr.dti.ne.jp/~iechan/ronri/esukare.html\n",
            "http://www.zephyr.dti.ne.jp/~iechan/ronri/drink.html\n",
            "http://www.zephyr.dti.ne.jp/~iechan/ronri/sankaku.html\n",
            "http://www.zephyr.dti.ne.jp/~iechan/ronri/bindai.html\n",
            "http://www.zephyr.dti.ne.jp/~iechan/ronri/nisesatu.html\n",
            "http://www.zephyr.dti.ne.jp/~iechan/ronri/tanjoubi.html\n"
          ]
        }
      ]
    },
    {
      "cell_type": "code",
      "source": [
        "import requests, json\n",
        "from bs4 import BeautifulSoup, NavigableString, Tag\n",
        "from urllib.parse import urljoin\n",
        "\n",
        "def save_to_jsonl(data, file_path):\n",
        "    with open(file_path, 'a', encoding='utf-8') as file:\n",
        "        for entry in data:\n",
        "            json.dump(entry, file, ensure_ascii=False)\n",
        "            file.write('\\n')\n",
        "\n",
        "\n",
        "def crawl_and_extract(url):\n",
        "    response = requests.get(url)\n",
        "    if response.status_code == 200:\n",
        "        soup = BeautifulSoup(response.content, 'html.parser')\n",
        "\n",
        "        # H2の後のテキストを抽出\n",
        "        mondai_tag = soup.find('h2')\n",
        "        mondai = extract_text_until_anchor(mondai_tag)\n",
        "        # print(\"問題:\", mondai)\n",
        "\n",
        "        # H3の後のテキストを抽出\n",
        "        kaitou_tag = soup.find('h3')\n",
        "        kaitou = extract_text_until_anchor(kaitou_tag)\n",
        "        # print(\"解答:\", kaitou)\n",
        "\n",
        "\n",
        "        # mondai = extract_text_after_tag(soup, 'h2')\n",
        "        # kaitou = extract_text_after_tag(soup, 'h3')\n",
        "        text = f\"###問題\\n{mondai}\\n\\n###解答\\n{kaitou}\"\n",
        "        entry = {\"title\": soup.title.text if soup.title else \"\", \"url\": url, \"text\": text}\n",
        "        save_to_jsonl([entry], '/content/drive/MyDrive/Scraping/jsonl/quiz_3.jsonl')\n",
        "\n",
        "        return mondai, kaitou\n",
        "    return None, None\n",
        "\n",
        "def extract_text_until_anchor(tag):\n",
        "    texts = []\n",
        "    current = tag.next_sibling\n",
        "    while current and current.name != 'a':\n",
        "        if isinstance(current, NavigableString):\n",
        "            texts.append(current.strip())\n",
        "        elif isinstance(current, Tag):\n",
        "            if current.name == 'br':\n",
        "                texts.append('\\n')\n",
        "            else:\n",
        "                texts.append(current.get_text(strip=True))\n",
        "        current = current.next_sibling\n",
        "    return ' '.join(texts).strip()\n",
        "\n",
        "# URLリストファイルのパス\n",
        "url_file_path = '/content/drive/MyDrive/Scraping/input/quiz_2_url.txt'\n",
        "\n",
        "# URLリストを読み込む\n",
        "with open(url_file_path, 'r') as file:\n",
        "    urls = [line.strip() for line in file if line.strip()]\n",
        "\n",
        "filtered_links = list(set(filtered_links))\n",
        "\n",
        "# クロールしてテキストを抽出\n",
        "for url in filtered_links:\n",
        "    print(url)\n",
        "    mondai, kaitou = crawl_and_extract(url)\n",
        "    # if mondai and kaitou:\n",
        "        # print(f\"URL: {url}\")\n",
        "        # print(f\"###問題\\n{mondai}\\n\\n###解答\\n{kaitou}\")\n",
        "        # print(f\"問題: {mondai}\")\n",
        "        # print(f\"解答: {kaitou}\\n\")\n"
      ],
      "metadata": {
        "colab": {
          "base_uri": "https://localhost:8080/"
        },
        "id": "X91-xoSq9jng",
        "outputId": "81e605ea-728a-4530-f3c9-83e31706732c"
      },
      "execution_count": null,
      "outputs": [
        {
          "output_type": "stream",
          "name": "stdout",
          "text": [
            "http://www.zephyr.dti.ne.jp/~iechan/ronri/10murabito.html\n",
            "http://www.zephyr.dti.ne.jp/~iechan/ronri/yamawake.html\n",
            "http://www.zephyr.dti.ne.jp/~iechan/ronri/warizan.html\n",
            "http://www.zephyr.dti.ne.jp/~iechan/ronri/tubozan.html\n",
            "http://www.zephyr.dti.ne.jp/~iechan/ronri/sankuto.html\n",
            "http://www.zephyr.dti.ne.jp/~iechan/ronri/4boat.html\n",
            "http://www.zephyr.dti.ne.jp/~iechan/ronri/lost1dollar.html\n",
            "http://www.zephyr.dti.ne.jp/~iechan/ronri/drink.html\n",
            "http://www.zephyr.dti.ne.jp/~iechan/ronri/nisesatu.html\n",
            "http://www.zephyr.dti.ne.jp/~iechan/ronri/hutago.html\n",
            "http://www.zephyr.dti.ne.jp/~iechan/ronri/portia.html\n",
            "http://www.zephyr.dti.ne.jp/~iechan/ronri/cake.html\n",
            "http://www.zephyr.dti.ne.jp/~iechan/ronri/harun.html\n",
            "http://www.zephyr.dti.ne.jp/~iechan/ronri/bindai.html\n",
            "http://www.zephyr.dti.ne.jp/~iechan/ronri/dozen.html\n",
            "http://www.zephyr.dti.ne.jp/~iechan/ronri/rubby.html\n",
            "http://www.zephyr.dti.ne.jp/~iechan/ronri/mouke.html\n",
            "http://www.zephyr.dti.ne.jp/~iechan/ronri/sannin.html\n",
            "http://www.zephyr.dti.ne.jp/~iechan/ronri/3tannsu.htm\n",
            "http://www.zephyr.dti.ne.jp/~iechan/ronri/twocats.html\n",
            "http://www.zephyr.dti.ne.jp/~iechan/ronri/ookami.html\n",
            "http://www.zephyr.dti.ne.jp/~iechan/ronri/3box.html\n",
            "http://www.zephyr.dti.ne.jp/~iechan/ronri/sindobato.html\n",
            "http://www.zephyr.dti.ne.jp/~iechan/ronri/esukare.html\n",
            "http://www.zephyr.dti.ne.jp/~iechan/ronri/tento.html\n",
            "http://www.zephyr.dti.ne.jp/~iechan/ronri/satuzinikka.html\n",
            "http://www.zephyr.dti.ne.jp/~iechan/ronri/speedup.html\n",
            "http://www.zephyr.dti.ne.jp/~iechan/ronri/Alice.html\n",
            "http://www.zephyr.dti.ne.jp/~iechan/ronri/magicaltree.html\n",
            "http://www.zephyr.dti.ne.jp/~iechan/ronri/8bunkatu.html\n",
            "http://www.zephyr.dti.ne.jp/~iechan/ronri/wolfman.html\n",
            "http://www.zephyr.dti.ne.jp/~iechan/ronri/douke.html\n",
            "http://www.zephyr.dti.ne.jp/~iechan/ronri/dounuts.html\n",
            "http://www.zephyr.dti.ne.jp/~iechan/ronri/tanjoubi.html\n",
            "http://www.zephyr.dti.ne.jp/~iechan/ronri/nine.html\n",
            "http://www.zephyr.dti.ne.jp/~iechan/ronri/hitokui.html\n",
            "http://www.zephyr.dti.ne.jp/~iechan/ronri/100coin.html\n",
            "http://www.zephyr.dti.ne.jp/~iechan/ronri/sayuu.html\n",
            "http://www.zephyr.dti.ne.jp/~iechan/ronri/sankaku.html\n",
            "http://www.zephyr.dti.ne.jp/~iechan/ronri/handsome.html\n",
            "http://www.zephyr.dti.ne.jp/~iechan/ronri/threebottle.html\n",
            "http://www.zephyr.dti.ne.jp/~iechan/ronri/syouziki.html\n",
            "http://www.zephyr.dti.ne.jp/~iechan/ronri/8coin.html\n",
            "http://www.zephyr.dti.ne.jp/~iechan/ronri/zombie.html\n",
            "http://www.zephyr.dti.ne.jp/~iechan/ronri/intiki.html\n",
            "http://www.zephyr.dti.ne.jp/~iechan/ronri/zennounokami.html\n",
            "http://www.zephyr.dti.ne.jp/~iechan/ronri/Russian roulette.html\n",
            "http://www.zephyr.dti.ne.jp/~iechan/ronri/kaze.html\n",
            "http://www.zephyr.dti.ne.jp/~iechan/ronri/pakauma.html\n",
            "http://www.zephyr.dti.ne.jp/~iechan/ronri/2rakuda.html\n",
            "http://www.zephyr.dti.ne.jp/~iechan/ronri/bijo.html\n",
            "http://www.zephyr.dti.ne.jp/~iechan/ronri/amagoi.html\n"
          ]
        }
      ]
    }
  ],
  "metadata": {
    "colab": {
      "provenance": []
    },
    "kernelspec": {
      "display_name": "Python 3",
      "name": "python3"
    },
    "language_info": {
      "name": "python"
    }
  },
  "nbformat": 4,
  "nbformat_minor": 0
}