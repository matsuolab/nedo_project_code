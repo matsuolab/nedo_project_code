{
  "nbformat": 4,
  "nbformat_minor": 0,
  "metadata": {
    "colab": {
      "provenance": []
    },
    "kernelspec": {
      "name": "python3",
      "display_name": "Python 3"
    },
    "language_info": {
      "name": "python"
    }
  },
  "cells": [
    {
      "cell_type": "code",
      "source": [
        "from google.colab import drive\n",
        "drive.mount('/content/drive')"
      ],
      "metadata": {
        "colab": {
          "base_uri": "https://localhost:8080/"
        },
        "id": "hGEbaldZu2LO",
        "outputId": "dc7755a8-1f3d-4904-e627-e0d8781c20fa"
      },
      "execution_count": 23,
      "outputs": [
        {
          "output_type": "stream",
          "name": "stdout",
          "text": [
            "Drive already mounted at /content/drive; to attempt to forcibly remount, call drive.mount(\"/content/drive\", force_remount=True).\n"
          ]
        }
      ]
    },
    {
      "cell_type": "code",
      "source": [
        "root_dir = '/content/drive/MyDrive/wiki'\n",
        "input_dir = '/content/drive/MyDrive/wiki/input'\n",
        "input_merged_dir = '/content/drive/MyDrive/wiki/input_merged'\n",
        "output_dir = '/content/drive/MyDrive/wiki/output'\n",
        "merged_file = input_merged_dir + '/wiki_merged.jsonl'\n",
        "fasttext_mode_path = '/content/drive/MyDrive/wiki/lid.176.bin'\n",
        "kyujitai_path = '/content/drive/MyDrive/wiki/kyujitai_simplified.json'\n",
        "# merged_scraping_file = input_merged_dir + '/wiki_merged_scraping.jsonl'\n",
        "merged_noskip_file = input_merged_dir + '/wiki_merged_noskip.jsonl'\n",
        "merged_noskip_written_file = input_merged_dir + '/wiki_merged_noskip_written.jsonl'\n",
        "merged_noskip_written_taido_file = input_merged_dir + '/wiki_merged_noskip_written_taido.jsonl'\n",
        "merged_noskip_written_taido_iwaku_file = input_merged_dir + '/wiki_merged_noskip_written_taido_iwaku.jsonl'\n",
        "merged_noskip_written_taido_iwaku_edit_file = input_merged_dir + '/wiki_merged_noskip_written_taido_iwaku_edit.jsonl'\n",
        "merged_noskip_written_taido_iwaku_edit2_file = input_merged_dir + '/wiki_merged_noskip_written_taido_iwaku_edit2.jsonl'\n",
        "merged_noskip_written_taido_iwaku_edit2_jp_file = input_merged_dir + '/wiki_merged_noskip_written_taido_iwaku_edit2_jp.jsonl'\n",
        "merged_noskip_written_taido_iwaku_edit2_jp_noold_file = input_merged_dir + '/wiki_merged_noskip_written_taido_iwaku_edit2_jp_noold.jsonl'\n",
        "merged_noskip_written_taido_iwaku_edit2_jp_noold_edit3_file = input_merged_dir + '/wiki_merged_noskip_written_taido_iwaku_edit2_jp_noold_edit3.jsonl'\n",
        "merged_noskip_written_taido_iwaku_edit2_jp_noold_edit3_kana_file = input_merged_dir + '/wiki_merged_noskip_written_taido_iwaku_edit2_jp_noold_edit3_kana.jsonl'\n"
      ],
      "metadata": {
        "id": "aQMcEIs-AQqA"
      },
      "execution_count": 97,
      "outputs": []
    },
    {
      "cell_type": "code",
      "source": [
        "%cd $input_dir"
      ],
      "metadata": {
        "colab": {
          "base_uri": "https://localhost:8080/"
        },
        "id": "3P-zSG4gvbTa",
        "outputId": "d4e0da2f-73cd-4a81-edb9-e8841512a823"
      },
      "execution_count": 25,
      "outputs": [
        {
          "output_type": "stream",
          "name": "stdout",
          "text": [
            "/content/drive/MyDrive/wiki/input\n"
          ]
        }
      ]
    },
    {
      "cell_type": "code",
      "source": [
        "!ls -lR ."
      ],
      "metadata": {
        "colab": {
          "base_uri": "https://localhost:8080/"
        },
        "id": "eMlS7Gn5u2st",
        "outputId": "ff0f2a1d-41a9-4726-cc23-8e000fc2f187"
      },
      "execution_count": 4,
      "outputs": [
        {
          "output_type": "stream",
          "name": "stdout",
          "text": [
            ".:\n",
            "total 391149\n",
            "-rw------- 1 root root  97922414 Apr 23 23:00 wikibooks_ja.jsonl\n",
            "-rw------- 1 root root  11724611 Apr 21 09:33 wikinews_ja.jsonl\n",
            "-rw------- 1 root root 287716118 Apr 21 09:34 wikisource_ja.jsonl\n",
            "-rw------- 1 root root   3172250 Apr 21 09:33 wikiversity_ja.jsonl\n"
          ]
        }
      ]
    },
    {
      "cell_type": "code",
      "source": [
        "import os\n",
        "import json\n",
        "\n",
        "def merge_jsonl_files(directory, output_file, exclude_files):\n",
        "    merged_data = []\n",
        "    for root, dirs, files in os.walk(directory):\n",
        "        for file in files:\n",
        "            file_path = os.path.join(root, file)\n",
        "            # 統合対象外のファイルとディレクトリを除外\n",
        "            if file.endswith('.jsonl') and file_path not in exclude_files and 'merged' not in root:\n",
        "                try:\n",
        "                    with open(file_path, 'r', encoding='utf-8-sig') as f:\n",
        "                        for line_number, line in enumerate(f, start=1):\n",
        "                            try:\n",
        "                                if line.strip():  # 空行を無視\n",
        "                                    data = json.loads(line)\n",
        "                                    data['file'] = file_path  # ファイルパスを追加\n",
        "                                    merged_data.append(data)\n",
        "                            except json.JSONDecodeError as e:\n",
        "                                print(f\"Error decoding JSON from {file_path} at line {line_number}: {e}\")\n",
        "                except Exception as e:\n",
        "                    print(f\"Failed to read {file_path}: {e}\")\n",
        "\n",
        "    # 結果を一つのファイルに書き出す\n",
        "    with open(output_file, 'w', encoding='utf-8') as f_out:\n",
        "        for item in merged_data:\n",
        "            json.dump(item, f_out, ensure_ascii=False)\n",
        "            f_out.write('\\n')\n",
        "\n",
        "# 統合ファイルの保存先\n",
        "output_path = merged_file\n",
        "# 統合を行うディレクトリ\n",
        "directory_path = '.'\n",
        "\n",
        "# 統合対象外のファイルリスト\n",
        "exclude_files = [\n",
        "   os.path.join(directory_path, 'wikinews_ja.jsonl')\n",
        "]\n",
        "\n",
        "# ファイル統合関数を呼び出し\n",
        "merge_jsonl_files(directory_path, output_path, exclude_files)"
      ],
      "metadata": {
        "id": "oL2od28lvH1G"
      },
      "execution_count": 117,
      "outputs": []
    },
    {
      "cell_type": "code",
      "source": [
        "!ls -lR $input_merged_dir"
      ],
      "metadata": {
        "id": "E8GTDiyf5fan",
        "colab": {
          "base_uri": "https://localhost:8080/"
        },
        "outputId": "cab3e359-98f7-4a6e-d124-75073768068c"
      },
      "execution_count": 118,
      "outputs": [
        {
          "output_type": "stream",
          "name": "stdout",
          "text": [
            "/content/drive/MyDrive/wiki/input_merged:\n",
            "total 3566827\n",
            "-rw------- 1 root root   5072634 Apr 25 05:21 iwaku.jsonl\n",
            "-rw------- 1 root root   4280557 Apr 25 05:19 skip.jsonl\n",
            "-rw------- 1 root root    986009 Apr 25 05:20 taidogannen.jsonl\n",
            "-rw------- 1 root root 389894861 Apr 25 12:13 wiki_merged.jsonl\n",
            "-rw------- 1 root root 385614304 Apr 25 05:19 wiki_merged_noskip.jsonl\n",
            "-rw------- 1 root root 383241046 Apr 25 05:19 wiki_merged_noskip_written.jsonl\n",
            "-rw------- 1 root root 355160994 Apr 25 11:24 wiki_merged_noskip_written_taido_iwaku_edit2_jp.jsonl\n",
            "-rw------- 1 root root 236225423 Apr 25 11:25 wiki_merged_noskip_written_taido_iwaku_edit2_jp_noold_edit3.jsonl\n",
            "-rw------- 1 root root 231652201 Apr 25 11:55 wiki_merged_noskip_written_taido_iwaku_edit2_jp_noold_edit3_kana.jsonl\n",
            "-rw------- 1 root root 237738278 Apr 25 11:25 wiki_merged_noskip_written_taido_iwaku_edit2_jp_noold.jsonl\n",
            "-rw------- 1 root root 231652201 Apr 25 11:51 wiki_merged_noskip_written_taido_iwaku_edit2.jsonl\n",
            "-rw------- 1 root root 376316735 Apr 25 05:21 wiki_merged_noskip_written_taido_iwaku_edit.jsonl\n",
            "-rw------- 1 root root 377182403 Apr 25 05:21 wiki_merged_noskip_written_taido_iwaku.jsonl\n",
            "-rw------- 1 root root 382255037 Apr 25 05:20 wiki_merged_noskip_written_taido.jsonl\n",
            "-rw------- 1 root root  52781737 Apr 23 23:18 wiki_merged_scraping.jsonl\n",
            "-rw------- 1 root root   2373258 Apr 25 05:19 writing.jsonl\n"
          ]
        }
      ]
    },
    {
      "cell_type": "code",
      "source": [
        "!wc -l $merged_file"
      ],
      "metadata": {
        "colab": {
          "base_uri": "https://localhost:8080/"
        },
        "id": "bEPOcD0MBtzG",
        "outputId": "e090f7c2-6802-4fe3-8971-5f25e2106dad"
      },
      "execution_count": 119,
      "outputs": [
        {
          "output_type": "stream",
          "name": "stdout",
          "text": [
            "33375 /content/drive/MyDrive/wiki/input_merged/wiki_merged.jsonl\n"
          ]
        }
      ]
    },
    {
      "cell_type": "code",
      "source": [
        "!head $merged_file"
      ],
      "metadata": {
        "colab": {
          "base_uri": "https://localhost:8080/"
        },
        "id": "PSwhSGpUCwS-",
        "outputId": "696f876b-b50c-4f34-ba42-2ce781be8640"
      },
      "execution_count": 120,
      "outputs": [
        {
          "output_type": "stream",
          "name": "stdout",
          "text": [
            "{\"title\": \"2次方程式の解の公式の証明\", \"url\": \"https://ja.wikiversity.org/wiki/2%E6%AC%A1%E6%96%B9%E7%A8%8B%E5%BC%8F%E3%81%AE%E8%A7%A3%E3%81%AE%E5%85%AC%E5%BC%8F%E3%81%AE%E8%A8%BC%E6%98%8E\", \"text\": \"２次方程式(\\na\\nx\\n2\\n+\\nb\\nx\\n+\\nc\\n=\\n0\\n{\\\\displaystyle ax^{2}+bx+c=0}\\n) においての解の公式は、\\nx\\n=\\n−\\nb\\n±\\nb\\n2\\n−\\n4\\na\\nc\\n2\\na\\n{\\\\displaystyle x={\\\\frac {-b\\\\pm {\\\\sqrt {b^{2}-4ac}}}{2a}}}\\n特に、\\nb\\n=\\n2\\nb\\n′\\n{\\\\displaystyle b=2b'}\\n(\\na\\nx\\n2\\n+\\n2\\nb\\n′\\nx\\n+\\nc\\n=\\n0\\n{\\\\displaystyle ax^{2}+2b'x+c=0}\\n) においての解の公式は、\\nx\\n=\\n−\\nb\\n′\\n±\\nb\\n′\\n2\\n−\\na\\nc\\na\\n{\\\\displaystyle x={\\\\frac {-b'\\\\pm {\\\\sqrt {b'^{2}-ac}}}{a}}}\\n特に、\\na\\n=\\n1\\n{\\\\displaystyle a=1}\\n(\\nx\\n2\\n+\\nb\\nx\\n+\\nc\\n=\\n0\\n{\\\\displaystyle x^{2}+bx+c=0}\\n) においての解の公式は、\\nx\\n=\\n−\\nb\\n2\\n±\\nb\\n2\\n4\\n−\\nc\\n{\\\\displaystyle x=-{\\\\frac {b}{2}}\\\\pm {\\\\sqrt {{\\\\frac {b^{2}}{4}}-c}}}\\nとなることを証明する。\\na\\nx\\n2\\n+\\nb\\nx\\n+\\nc\\n=\\n0\\na\\nx\\n2\\n+\\nb\\nx\\n=\\n−\\nc\\n{\\\\displaystyle {\\\\begin{aligned}ax^{2}+bx+c&=0\\\\\\\\ax^{2}+bx&=-c\\\\end{aligned}}}\\n両辺に\\n4\\na\\n{\\\\displaystyle 4a}\\nをかけると、\\n4\\na\\n2\\nx\\n2\\n+\\n4\\na\\nb\\nx\\n=\\n−\\n4\\na\\nc\\n{\\\\displaystyle 4a^{2}x^{2}+4abx=-4ac}\\n両辺に\\nb\\n2\\n{\\\\displaystyle b^{2}}\\nを加えると、\\n4\\na\\n2\\nx\\n2\\n+\\n4\\na\\nb\\nx\\n+\\nb\\n2\\n=\\nb\\n2\\n−\\n4\\na\\nc\\n{\\\\displaystyle 4a^{2}x^{2}+4abx+b^{2}=b^{2}-4ac}\\nしたがって、\\n4\\na\\n2\\nx\\n2\\n+\\n4\\na\\nb\\nx\\n+\\nb\\n2\\n=\\nb\\n2\\n−\\n4\\na\\nc\\n(\\n2\\na\\nx\\n+\\nb\\n)\\n2\\n=\\nb\\n2\\n−\\n4\\na\\nc\\n2\\na\\nx\\n+\\nb\\n=\\n−\\nb\\n±\\nb\\n2\\n−\\n4\\na\\nc\\nx\\n=\\n−\\nb\\n±\\nb\\n2\\n−\\n4\\na\\nc\\n2\\na\\n{\\\\displaystyle {\\\\begin{aligned}4a^{2}x^{2}+4abx+b^{2}&=b^{2}-4ac\\\\\\\\(2ax+b)^{2}&=b^{2}-4ac\\\\\\\\2ax+b&=-b\\\\pm {\\\\sqrt {b^{2}-4ac}}\\\\\\\\x&={\\\\frac {-b\\\\pm {\\\\sqrt {b^{2}-4ac}}}{2a}}\\\\end{aligned}}}\\nとなり、2次関数の解の公式が導かれる。\\nまた、解の公式において、\\nb\\n=\\n2\\nb\\n′\\n{\\\\displaystyle b=2b'}\\nとすると、\\nx\\n=\\n−\\n2\\nb\\n′\\n±\\n(\\n2\\nb\\n′\\n)\\n2\\n−\\n4\\na\\nc\\n2\\na\\n=\\n−\\n2\\nb\\n′\\n±\\n4\\nb\\n′\\n2\\n−\\n4\\na\\nc\\n2\\na\\n=\\n−\\n2\\nb\\n′\\n±\\n2\\nb\\n′\\n2\\n−\\na\\nc\\n2\\na\\n=\\n−\\nb\\n′\\n±\\nb\\n′\\n2\\n−\\na\\nc\\na\\n{\\\\displaystyle {\\\\begin{aligned}x&={\\\\frac {-2b'\\\\pm {\\\\sqrt {(2b')^{2}-4ac}}}{2a}}\\\\\\\\&={\\\\frac {-2b'\\\\pm {\\\\sqrt {4b'^{2}-4ac}}}{2a}}\\\\\\\\&={\\\\frac {-2b'\\\\pm 2{\\\\sqrt {b'^{2}-ac}}}{2a}}\\\\\\\\&={\\\\frac {-b'\\\\pm {\\\\sqrt {b'^{2}-ac}}}{a}}\\\\end{aligned}}}\\nまた、解の公式において、\\na\\n=\\n1\\n{\\\\displaystyle a=1}\\nとすると、\\nx\\n=\\n−\\nb\\n±\\nb\\n2\\n−\\n4\\nc\\n2\\n=\\n−\\nb\\n2\\n±\\nb\\n2\\n−\\n4\\nc\\n4\\n=\\n−\\nb\\n2\\n±\\nb\\n2\\n4\\n−\\n4\\nc\\n4\\n=\\n−\\nb\\n2\\n±\\nb\\n2\\n4\\n−\\nc\\n{\\\\displaystyle {\\\\begin{aligned}x&={\\\\frac {-b\\\\pm {\\\\sqrt {b^{2}-4c}}}{2}}\\\\\\\\&=-{\\\\frac {b}{2}}\\\\pm {\\\\sqrt {\\\\frac {b^{2}-4c}{4}}}\\\\\\\\&=-{\\\\frac {b}{2}}\\\\pm {\\\\sqrt {{\\\\frac {b^{2}}{4}}-{\\\\frac {4c}{4}}}}\\\\\\\\&=-{\\\\frac {b}{2}}\\\\pm {\\\\sqrt {{\\\\frac {b^{2}}{4}}-c}}\\\\end{aligned}}}\", \"file\": \"./wikiversity_ja.jsonl\"}\n",
            "{\"title\": \"2重根号の計算の証明\", \"url\": \"https://ja.wikiversity.org/wiki/2%E9%87%8D%E6%A0%B9%E5%8F%B7%E3%81%AE%E8%A8%88%E7%AE%97%E3%81%AE%E8%A8%BC%E6%98%8E\", \"text\": \"a\\n>\\nb\\n>\\n0\\n{\\\\displaystyle a>b>0}\\nとしたとき、\\na\\n+\\nb\\n+\\n2\\na\\nb\\n=\\na\\n+\\nb\\n{\\\\displaystyle {\\\\sqrt {a+b+2{\\\\sqrt {ab}}}}={\\\\sqrt {a}}+{\\\\sqrt {b}}}\\n,\\na\\n+\\nb\\n−\\n2\\na\\nb\\n=\\na\\n−\\nb\\n{\\\\displaystyle {\\\\sqrt {a+b-2{\\\\sqrt {ab}}}}={\\\\sqrt {a}}-{\\\\sqrt {b}}}\\nとなることを証明する。\\na\\n+\\nb\\n+\\n2\\na\\nb\\n=\\n(\\na\\n)\\n2\\n+\\n2\\na\\nb\\n+\\n(\\nb\\n)\\n2\\n=\\n(\\na\\n+\\nb\\n)\\n2\\n=\\na\\n+\\nb\\n{\\\\displaystyle {\\\\begin{aligned}{\\\\sqrt {a+b+2{\\\\sqrt {ab}}}}&={\\\\sqrt {({\\\\sqrt {a}})^{2}+2{\\\\sqrt {a}}{\\\\sqrt {b}}+({\\\\sqrt {b}})^{2}}}\\\\\\\\&={\\\\sqrt {({\\\\sqrt {a}}+{\\\\sqrt {b}})^{2}}}\\\\\\\\&={\\\\sqrt {a}}+{\\\\sqrt {b}}\\\\end{aligned}}}\\n,\\na\\n+\\nb\\n−\\n2\\na\\nb\\n=\\n(\\na\\n)\\n2\\n−\\n2\\na\\nb\\n+\\n(\\nb\\n)\\n2\\n=\\n(\\na\\n−\\nb\\n)\\n2\\n=\\na\\n−\\nb\\n{\\\\displaystyle {\\\\begin{aligned}{\\\\sqrt {a+b-2{\\\\sqrt {ab}}}}&={\\\\sqrt {({\\\\sqrt {a}})^{2}-2{\\\\sqrt {a}}{\\\\sqrt {b}}+({\\\\sqrt {b}})^{2}}}\\\\\\\\&={\\\\sqrt {({\\\\sqrt {a}}-{\\\\sqrt {b}})^{2}}}\\\\\\\\&={\\\\sqrt {a}}-{\\\\sqrt {b}}\\\\end{aligned}}}\", \"file\": \"./wikiversity_ja.jsonl\"}\n",
            "{\"title\": \"C++\", \"url\": \"https://ja.wikiversity.org/wiki/C%2B%2B\", \"text\": \"Topic:C++\\n（C++から転送）\\nC++[編集]\\nこの専攻ではプログラミング言語、C++について学べます。\\nクラス一覧[編集]\\n- C++とは\\n- 環境構築\\n- C++の基礎1:hello, world!\\n- C++の基礎2:関数\\n- C++の基礎3:変数\\n- C++の基礎4:条件分岐\\n- C++の基礎5:繰り返し処理\\n- 構造体、共用体、列挙体\\n- 配列\\n- ポインタ\\n- 文字列\\n- その他基本的な機能\\n- プリプロセッサ\\n- 標準ライブラリ1\\n- クラス1:クラスの基礎\\n- クラス2:コンストラクタ、デストラクタ\\n- クラス3:staticメンバー変数、mutable\\n- クラス4:継承、仮想関数\\n- クラス5:多重継承\\n- newとdelete\\n- スコープ、extern\\n- inline、名前空間、リンケージ\\n- 右辺値参照、ムーブセマンティクス\\n- 型推論\\n- テンプレート1:テンプレートの基礎\\n- テンプレート2:関数テンプレート\\n- テンプレート3:クラステンプレート\\n- テンプレート4:特殊化\\n- テンプレート5:ムーブセマンティクスとテンプレート\\n- テンプレート6:依存名\\n- テンプレート7:可変引数テンプレート\\n- 例外1:例外\\n- 例外2:標準例外\\n- RTTI\", \"file\": \"./wikiversity_ja.jsonl\"}\n",
            "{\"title\": \"C++とは\", \"url\": \"https://ja.wikiversity.org/wiki/C%2B%2B%E3%81%A8%E3%81%AF\", \"text\": \"C++とは\\nC++とは[編集]\\nC++とは、C言語に恐るべき量の新機能を追加してできた、プログラミング言語です。C++は、とても高速・多機能・柔軟な反面、習得には困難を極めます。余りに言語仕様が複雑なため、ここではその一部しか解説できません。どれだけ難しいと言うと、C++の作者（ビャーネ・ストロヴストロップ）でさえ全貌を把握できないほどです。さらに、この言語正に文字通り「何でもあり」なのです。\\nC++の用途[編集]\\n元々、C++は大規模ソフトウェアのために開発されたこともあり、主に\\n- OS（オペレーティングシステム）\\n- 人工知能\\n- 組込みシステム\\n- 大規模業務システム\\n- デバイスドライバ\\n- IoTシステム\\n- ゲームエンジン\\nなどが守備範囲です。\\nC++の分類[編集]\\nこれは、一概には言えないのですが、C++は\\n- 手続き型プログラミング\\n- オブジェクト指向プログラミング\\n- ジェネリックプログラミング\\n- テンプレートメタプログラミング\\n- 並列型プログラミング\\n- 関数型プログラミング\\nの特徴を持つ、マルチパラダイムプログラミング言語です。\\nC++の特徴[編集]\\nまず、メリットですが、\\n- 実行速度が速い\\n- ハードウェアの深いところまで触れる\\n- 機能がとても多い\\n- プラットフォームを選ばない（言語仕様に環境依存の機能が少ない）\\n- どんなプログラムでもほぼ作れる\\n- C言語と互換性がある\\nなどがあります。後述しますが、元々OSを作るために開発されたC言語から派生しており、低水準から高水準まで広くサポートしているC言語の機能を大幅に強化し、（完全ではありませんが）（上位）互換性を保っています。ちなみに、低水準や高水準と言うのは、機械語に近い（人間に理解しにくい）か、遠いか（人間に理解しやすい）かで分かれます。例えば、\\n- amd64のアセンブラ\\nglobal foo foo: mov rax, rdi mov rdx, rsi add rax, rdx ret\\n- と\\n- C++\\nint foo(int x, int y) { return x + y; }\\nだったら間違いなく下のほうがわかりやすいと思います。これが低水準と高水準の違いです。\\nC++のバージョン[編集]\\n歴史的には、前述のストロヴストロップ氏が1979年にC++の前身、C with classes の開発、つまり45年前までさかのぼる。\", \"file\": \"./wikiversity_ja.jsonl\"}\n",
            "{\"title\": \"C++の基礎1:hello, world!\", \"url\": \"https://ja.wikiversity.org/wiki/C%2B%2B%E3%81%AE%E5%9F%BA%E7%A4%8E1%3Ahello%2C%20world%21\", \"text\": \"C++の基礎1:hello, world!\\nHello, world![編集]\\nここでは、実際にC++のプログラムを動かしていきたいと思います。それでは、以下のコードを入力してください。ファイル名は何でもいいです。\\n//hello, world!\\n#include<iostream>\\nint main(){\\nstd::cout << \\\"hello, world!\\\" << std::endl;\\n}\\n注意点としては、\\n- 全て半角文字で入力してください。\\n- 上記のプログラムに誤字・脱字はありません。\\nもし、コンパイルに成功したら\\n- Windowsの場合:ファイル名.exe\\n- macOS、Linuxの場合:ファイル名.o\\nという名前のファイルが出来ていると思います。それをダブルクリック（実行）すると、画面（後述するが、普通はコマンドプロンプトやターミナル）にhello, world!と表示されるはずです。\\n解説[編集]\\n理解しやすくするために、プログラムの各部分を詳しく説明します。\\n#include<iostream>:\\n#includeは、プログラム内で他のコードを使うための前処理指令です。\\n<iostream>は、C++言語の標準ライブラリの一部で、入力と出力を扱うための機能が含まれています。\\n-\\nint main() { ... }:\\nint main()は、このプログラムのメインの部分を定義しています。すべてのC++プログラムは、\\nmain()関数から始まります。\\nintは、\\nmain()関数が整数を返すことを意味しています。ここでは、プログラムの正常終了を示す整数を返しますが、今回は特に何も返しません。\\n-\\n{}:\\n{}は、ブロックと呼ばれ、プログラム内のコードをまとめるために使用されます。\\nmain()関数の本体は\\n{}で囲まれています。\\nstd::cout << \\\"hello, world!\\\" << std::endl;:\\nstd::coutは、C++で標準出力（通常はコンソール画面）にテキストを出力するための機能を提供します。\\n<<は、値をストリームに挿入するための演算子です。ここでは、文字列\\n\\\"hello, world!\\\"を\\nstd::coutに挿入しています。\\n\\\"hello, world!\\\"は、プログラムが出力する文字列です。\\n\\\" \\\"で囲まれたテキストは、文字列として扱われます。\\nstd::endlは、出力をフラッシュし、新しい行に移動します。つまり、これによりテキストがコンソールに表示され、次の出力が新しい行から始まるようになります。\\n-\\nこのプログラム全体では、単に \\\"hello, world!\\\" という文字列を表示するだけです。これは、プログラミングの初心者が始める最も基本的なプログラムの1つです。\", \"file\": \"./wikiversity_ja.jsonl\"}\n",
            "{\"title\": \"C++の基礎2:関数\", \"url\": \"https://ja.wikiversity.org/wiki/C%2B%2B%E3%81%AE%E5%9F%BA%E7%A4%8E2%3A%E9%96%A2%E6%95%B0\", \"text\": \"C++の基礎2:関数\\nここでは、C++の主な機能の一つである、関数について解説します。\\n概要[編集]\\n関数とは、複数の処理をまとめたものです。具体的に言うと、複数の処理をまとめて、『呼び出す（call）』ことでその処理を実行するものです。また、関数にデータを渡して、処理の内容を変えることも出来ます。\\n例[編集]\\n実際に関数を作ってみます。これは、 前のページで作成したhello, world!プログラムです。\\n//hello, world!\\n#include<iostream>\\nint main(){\\nstd::cout << \\\"hello, world!\\\" << std::endl;\\n}\\nこの内、hello, world!と表示する処理を関数にしてみましょう。\\n//hello, world!\\n#include<iostream>\\nvoid hello(){\\nstd::cout << \\\"hello, world!\\\" << std::endl;\\n}\\nint main(){\\nhello();\\n}\\nこれをコンパイルして実行してみてください。恐らく、最初のプログラムと同じようにhello, world!と表示されるはずです。\", \"file\": \"./wikiversity_ja.jsonl\"}\n",
            "{\"title\": \"C++の基礎3:変数\", \"url\": \"https://ja.wikiversity.org/wiki/C%2B%2B%E3%81%AE%E5%9F%BA%E7%A4%8E3%3A%E5%A4%89%E6%95%B0\", \"text\": \"C++の基礎3:変数\\n概要[編集]\\n変数とは、データを一時的に保存して置くためのものです。中からデータを取ってきたり、中にデータを入れたりすることができます\\n変数を使用するには、宣言をする必要があります\\n宣言[編集]\\n宣言とは、コンパイラに対して変数を使用するという合図を送る式のことです\\n具体的には、次のようにします\\nint variable;\\nこのように、データ型 変数名;のような書式で宣言をします\\nデータ型については、次の章で詳しく解説します。\\nデータ型[編集]\\nC++では、扱うデータの種類によって、データ型を設定しなければいけません\\nint型の最大範囲が-2147483648 〜 2147483647(※符号なし型ならば0 〜 4294967295)なので、滅多にlong型を使うことはないとは思いますが、int型で足りない範囲の整数値を扱う場合はlong型が使用できます。\\n文字列を扱う型について[編集]\\n文字列を扱う型として、char[]と、std::stringがあります。\\nC++の元となったCでは、文字列はchar型の配列(後述)として使用します。\\nしかし、そのままでは少々面倒くさいです。\\n例えば、次のような式はエラーになります。\\nchar str[10];\\nstr = \\\"qwerty\\\";\\nここで、String型を使用すると、楽に実装することが可能です\\n//Stringを使用した例\\n#include <iostream>\\n#include <string>\\nint main(void){\\nstd::String str;\\nstr = \\\"qwerty\\\";\\n}\\nStrin型を使用すると、このように直接代入ができたりと、利点があります。\\n注意！：std::String型はchar[]型ではありません。char[]型を引数に持つ関数などでは、std::stringをそのまま渡すことはできません。\", \"file\": \"./wikiversity_ja.jsonl\"}\n",
            "{\"title\": \"CAT:CSD\", \"url\": \"https://ja.wikiversity.org/wiki/CAT%3ACSD\", \"text\": \"カテゴリ:即時削除\\n（CAT:CSDから転送）\\nこのカテゴリ内にある項目は、即時削除の対象となっています。別名として カテゴリ:Candidates for speedy deletion があります。\\n即時削除については Wikiversity:削除の方針 を参照してください。\\nカテゴリ「即時削除」にあるページ\\nこのカテゴリには以下のページのみが含まれています。\\nこのカテゴリ内にある項目は、即時削除の対象となっています。別名として カテゴリ:Candidates for speedy deletion があります。\\n即時削除については Wikiversity:削除の方針 を参照してください。\\nこのカテゴリには以下のページのみが含まれています。\", \"file\": \"./wikiversity_ja.jsonl\"}\n",
            "{\"title\": \"CAT:SD\", \"url\": \"https://ja.wikiversity.org/wiki/CAT%3ASD\", \"text\": \"カテゴリ:即時削除\\n（CAT:SDから転送）\\nこのカテゴリ内にある項目は、即時削除の対象となっています。別名として カテゴリ:Candidates for speedy deletion があります。\\n即時削除については Wikiversity:削除の方針 を参照してください。\\nカテゴリ「即時削除」にあるページ\\nこのカテゴリには以下のページのみが含まれています。\\nこのカテゴリ内にある項目は、即時削除の対象となっています。別名として カテゴリ:Candidates for speedy deletion があります。\\n即時削除については Wikiversity:削除の方針 を参照してください。\\nこのカテゴリには以下のページのみが含まれています。\", \"file\": \"./wikiversity_ja.jsonl\"}\n",
            "{\"title\": \"CG\", \"url\": \"https://ja.wikiversity.org/wiki/CG\", \"text\": \"コンピュータグラフィックス\\n（CGから転送）\\nコンピュータグラフィックスは、コンピュータによる画像生成を扱うコンピュータサイエンスの一分野で、広義には画像処理や映像処理も扱います。 また、コンピュータグラフィックスによって作成された画像や映像もコンピュータグラフィックスと呼びます。\\n一方、コンピュータグラフィックスには、平面上で2次元的に記述できる構成要素を持つグラフィックを生成することも含まれる。 また、複雑な形状をいかに幾何学的にモデリングするか、そして、その形状から構築された仮想環境からいかに画像やアニメーションを計算（レンダリング）するかという問題も扱っています。\\nコンピュータグラフィックスの起源は、1950年代にコンピュータにグラフィック出力装置が搭載されたことに始まります。 その後、コンピュータのインタラクティブな操作を可能にする入力デバイスが開発され、CADやCAMなどの科学技術分野あるいは医療や航空宇宙など多くの産業への応用の道が開かれました。\\n2022年現在、コンピュータグラフィックスは、グラフィカルユーザーインターフェイスから印刷物、コンピュータゲーム、映画技術、医療まで幅広く応用され、ユビキタスな存在となっています。\", \"file\": \"./wikiversity_ja.jsonl\"}\n"
          ]
        }
      ]
    },
    {
      "cell_type": "code",
      "source": [
        "# 「コンテンツにスキップ」を含むtextを削除\n",
        "import json\n",
        "\n",
        "# JSONL ファイルの入力パス\n",
        "input_file_path = merged_file  # 入力ファイルのパスを適宜調整してください\n",
        "output_skip_path = input_merged_dir + '/skip.jsonl'  # スキップを含む出力ファイルのパス\n",
        "output_no_skip_path = merged_noskip_file  # スキップを含まない出力ファイルのパス\n",
        "\n",
        "# 入力ファイルを読み込んで、条件に合うデータを対応する出力ファイルに保存\n",
        "with open(input_file_path, 'r', encoding='utf-8') as infile, \\\n",
        "     open(output_skip_path, 'w', encoding='utf-8') as skipfile, \\\n",
        "     open(output_no_skip_path, 'w', encoding='utf-8') as noskipfile:\n",
        "    for line in infile:\n",
        "        data = json.loads(line)\n",
        "        text = data.get('text')\n",
        "        if text and 'コンテンツにスキップ' in text:\n",
        "            json.dump(data, skipfile, ensure_ascii=False)\n",
        "            skipfile.write('\\n')  # JSON Lines形式を保持\n",
        "        elif text:\n",
        "            json.dump(data, noskipfile, ensure_ascii=False)\n",
        "            noskipfile.write('\\n')  # JSON Lines形式を保持\n"
      ],
      "metadata": {
        "id": "YYIJwiAJDMD1"
      },
      "execution_count": 121,
      "outputs": []
    },
    {
      "cell_type": "code",
      "source": [
        "!wc -l $merged_file\n",
        "!wc -l $merged_noskip_file"
      ],
      "metadata": {
        "colab": {
          "base_uri": "https://localhost:8080/"
        },
        "id": "7cEBzfeCG-KC",
        "outputId": "23a274ec-de0d-4b46-81dc-11786ed4009a"
      },
      "execution_count": 122,
      "outputs": [
        {
          "output_type": "stream",
          "name": "stdout",
          "text": [
            "33375 /content/drive/MyDrive/wiki/input_merged/wiki_merged.jsonl\n",
            "31736 /content/drive/MyDrive/wiki/input_merged/wiki_merged_noskip.jsonl\n"
          ]
        }
      ]
    },
    {
      "cell_type": "code",
      "source": [
        "# 「まだ書きかけ…へどうぞ」を含むtextを削除\n",
        "import json\n",
        "\n",
        "# JSONL ファイルの入力パス\n",
        "input_file_path = merged_noskip_file  # 入力ファイルのパスを適宜調整してください\n",
        "output_skip_path = input_merged_dir + '/writing.jsonl'  # スキップを含む出力ファイルのパス\n",
        "output_no_skip_path = merged_noskip_written_file  # スキップを含まない出力ファイルのパス\n",
        "\n",
        "# 入力ファイルを読み込んで、条件に合うデータを対応する出力ファイルに保存\n",
        "with open(input_file_path, 'r', encoding='utf-8') as infile, \\\n",
        "     open(output_skip_path, 'w', encoding='utf-8') as skipfile, \\\n",
        "     open(output_no_skip_path, 'w', encoding='utf-8') as noskipfile:\n",
        "    for line in infile:\n",
        "        data = json.loads(line)\n",
        "        text = data.get('text')\n",
        "        if text and 'まだ書きかけ' in text:\n",
        "            json.dump(data, skipfile, ensure_ascii=False)\n",
        "            skipfile.write('\\n')  # JSON Lines形式を保持\n",
        "        elif text:\n",
        "            json.dump(data, noskipfile, ensure_ascii=False)\n",
        "            noskipfile.write('\\n')  # JSON Lines形式を保持\n"
      ],
      "metadata": {
        "id": "ysQ2es0nG-Ha"
      },
      "execution_count": 123,
      "outputs": []
    },
    {
      "cell_type": "code",
      "source": [
        "!wc -l $merged_file\n",
        "!wc -l $merged_noskip_file\n",
        "!wc -l $merged_noskip_written_file"
      ],
      "metadata": {
        "colab": {
          "base_uri": "https://localhost:8080/"
        },
        "id": "XYVzlDRGWasV",
        "outputId": "39b86512-c64b-4b92-ce06-d6980d05bae7"
      },
      "execution_count": 124,
      "outputs": [
        {
          "output_type": "stream",
          "name": "stdout",
          "text": [
            "33375 /content/drive/MyDrive/wiki/input_merged/wiki_merged.jsonl\n",
            "31736 /content/drive/MyDrive/wiki/input_merged/wiki_merged_noskip.jsonl\n",
            "30047 /content/drive/MyDrive/wiki/input_merged/wiki_merged_noskip_written.jsonl\n"
          ]
        }
      ]
    },
    {
      "cell_type": "code",
      "source": [
        "# 「大同元年」を含むtextを削除\n",
        "import json\n",
        "\n",
        "# JSONL ファイルの入力パス\n",
        "input_file_path = merged_noskip_written_file  # 入力ファイルのパスを適宜調整してください\n",
        "output_skip_path = input_merged_dir + '/taidogannen.jsonl'  # スキップを含む出力ファイルのパス\n",
        "output_no_skip_path = merged_noskip_written_taido_file  # スキップを含まない出力ファイルのパス\n",
        "\n",
        "# 入力ファイルを読み込んで、条件に合うデータを対応する出力ファイルに保存\n",
        "with open(input_file_path, 'r', encoding='utf-8') as infile, \\\n",
        "     open(output_skip_path, 'w', encoding='utf-8') as skipfile, \\\n",
        "     open(output_no_skip_path, 'w', encoding='utf-8') as noskipfile:\n",
        "    for line in infile:\n",
        "        data = json.loads(line)\n",
        "        text = data.get('text')\n",
        "        if text and '大同元年' in text:\n",
        "            json.dump(data, skipfile, ensure_ascii=False)\n",
        "            skipfile.write('\\n')  # JSON Lines形式を保持\n",
        "        elif text:\n",
        "            json.dump(data, noskipfile, ensure_ascii=False)\n",
        "            noskipfile.write('\\n')  # JSON Lines形式を保持"
      ],
      "metadata": {
        "id": "POSPg7PsWapG"
      },
      "execution_count": 125,
      "outputs": []
    },
    {
      "cell_type": "code",
      "source": [
        "!wc -l $merged_file\n",
        "!wc -l $merged_noskip_file\n",
        "!wc -l $merged_noskip_written_file\n",
        "!wc -l $merged_noskip_written_taido_file"
      ],
      "metadata": {
        "colab": {
          "base_uri": "https://localhost:8080/"
        },
        "id": "XF2tTyRhWaiw",
        "outputId": "6a9e1007-d15c-4891-e23d-d234a7349aae"
      },
      "execution_count": 126,
      "outputs": [
        {
          "output_type": "stream",
          "name": "stdout",
          "text": [
            "33375 /content/drive/MyDrive/wiki/input_merged/wiki_merged.jsonl\n",
            "31736 /content/drive/MyDrive/wiki/input_merged/wiki_merged_noskip.jsonl\n",
            "30047 /content/drive/MyDrive/wiki/input_merged/wiki_merged_noskip_written.jsonl\n",
            "30019 /content/drive/MyDrive/wiki/input_merged/wiki_merged_noskip_written_taido.jsonl\n"
          ]
        }
      ]
    },
    {
      "cell_type": "code",
      "source": [
        "# 「子曰く」を含むtextを削除\n",
        "import json\n",
        "\n",
        "# JSONL ファイルの入力パス\n",
        "input_file_path = merged_noskip_written_taido_file  # 入力ファイルのパスを適宜調整してください\n",
        "output_skip_path = input_merged_dir + '/iwaku.jsonl'  # スキップを含む出力ファイルのパス\n",
        "output_no_skip_path = merged_noskip_written_taido_iwaku_file  # スキップを含まない出力ファイルのパス\n",
        "\n",
        "# 入力ファイルを読み込んで、条件に合うデータを対応する出力ファイルに保存\n",
        "with open(input_file_path, 'r', encoding='utf-8') as infile, \\\n",
        "     open(output_skip_path, 'w', encoding='utf-8') as skipfile, \\\n",
        "     open(output_no_skip_path, 'w', encoding='utf-8') as noskipfile:\n",
        "    for line in infile:\n",
        "        data = json.loads(line)\n",
        "        text = data.get('text')\n",
        "        if text and '子曰く' in text:\n",
        "            json.dump(data, skipfile, ensure_ascii=False)\n",
        "            skipfile.write('\\n')  # JSON Lines形式を保持\n",
        "        elif text:\n",
        "            json.dump(data, noskipfile, ensure_ascii=False)\n",
        "            noskipfile.write('\\n')  # JSON Lines形式を保持"
      ],
      "metadata": {
        "id": "VeqbY5_QWafl"
      },
      "execution_count": 127,
      "outputs": []
    },
    {
      "cell_type": "code",
      "source": [
        "!wc -l $merged_file\n",
        "!wc -l $merged_noskip_file\n",
        "!wc -l $merged_noskip_written_file\n",
        "!wc -l $merged_noskip_written_taido_file\n",
        "!wc -l $merged_noskip_written_taido_iwaku_file"
      ],
      "metadata": {
        "colab": {
          "base_uri": "https://localhost:8080/"
        },
        "id": "M6tngk7pWacX",
        "outputId": "453f2a5b-126e-40a7-b616-b74146f3e7f9"
      },
      "execution_count": 128,
      "outputs": [
        {
          "output_type": "stream",
          "name": "stdout",
          "text": [
            "33375 /content/drive/MyDrive/wiki/input_merged/wiki_merged.jsonl\n",
            "31736 /content/drive/MyDrive/wiki/input_merged/wiki_merged_noskip.jsonl\n",
            "30047 /content/drive/MyDrive/wiki/input_merged/wiki_merged_noskip_written.jsonl\n",
            "30019 /content/drive/MyDrive/wiki/input_merged/wiki_merged_noskip_written_taido.jsonl\n",
            "29878 /content/drive/MyDrive/wiki/input_merged/wiki_merged_noskip_written_taido_iwaku.jsonl\n"
          ]
        }
      ]
    },
    {
      "cell_type": "code",
      "source": [
        "# ヘッダ等の文字列削除\n",
        "import json\n",
        "\n",
        "# JSONL ファイルの入力パス\n",
        "input_file_path = merged_noskip_written_taido_iwaku_file  # 入力ファイルのパスを適宜調整してください\n",
        "output_no_skip_path = merged_noskip_written_taido_iwaku_edit_file  # スキップを含まない出力ファイルのパス\n",
        "\n",
        "# 入力ファイルを読み込んで、条件に合うデータを対応する出力ファイルに保存\n",
        "with open(input_file_path, 'r', encoding='utf-8') as infile, \\\n",
        "     open(output_no_skip_path, 'w', encoding='utf-8') as noskipfile:\n",
        "    for line in infile:\n",
        "        data = json.loads(line)\n",
        "        text = data.get('text')\n",
        "        if text:\n",
        "            # 特定の文字列を削除\n",
        "            # text = text.replace('[編集]', '')\n",
        "            text = text.replace('数行の文章か目次があります。\\n:本文が少しあります。\\n:本文が半分ほどあります。\\n: 間もなく完成します。\\n: 一応完成しています。\\n', '')\n",
        "            text = text.replace('数行の文章か目次があります。\\n:本文が少しあります。\\n:本文が半分ほどあります。\\n:間もなく完成します。\\n:一応完成しています。\\n', '')\n",
        "            text = text.replace('大学の教科書\\n自然科学: 数学 - 物理学; 古典力学 量子力学 - 化学; 無機化学 有機化学 - 生物学; 植物学 研究技術 - 地球科学 - 医学; 解剖学\\n語学: 日本語 英語 エスペラント 朝鮮語 デンマーク語 ドイツ語 フランス語 ラテン語 ルーマニア語\\n人文科学: 歴史学; 日本史 中国史 世界史 歴史観 - 心理学 - 哲学 - 芸術; 音楽 美術 - 文学; 古典文学 漢詩\\n社会科学: 法学 - 経済学 - 地理学 - 教育学; 学校教育 教育史\\n情報技術: 情報工学; MS-DOS/PC DOS UNIX/Linux TeX/LaTeX CGI - プログラミング; BASIC C言語 C++ D言語 HTML Java JavaScript Lisp Mizar Perl PHP Python Ruby Scheme SVG\\n小・中・高校の教科書\\n小学: 国語 社会 算数 理科 英語\\n中学: 国語 社会 数学 理科 英語\\n高校: 国語 - 地歴 - 公民 - 数学; 公式集 - 理科; 物理 化学 地学 生物 - 外国語 - 情報\\n解説書・実用書・参考書\\n趣味: 料理本 - スポーツ - ゲーム\\n試験: 資格試験 - 入学試験\\nその他の本: 防災 - 生活と進路 - ウィキペディアの書き方 - ジョーク集\\n', '')\n",
        "            text = text.replace('大学の教科書\\n自然科学: 数学 - 物理学; 古典力学 量子力学 - 化学; 無機化学 有機化学 - 生物学; 植物学 研究技術 - 地球科学 - 医学; 解剖学\\n語学: 日本語 英語 エスペラント 朝鮮語 デンマーク語 ドイツ語 フランス語 ラテン語 ルーマニア語\\n人文科学: 歴史学; 日本史 中国史 世界史 歴史観 - 心理学 - 哲学 - 芸術; 音楽 美術 - 文学; 古典文学 漢詩\\n社会科学: 法学 - 経済学 - 地理学 - 教育学; 学校教育 教育史\\n情報技術: 情報工学; MS-DOS/PC DOS UNIX/Linux TeX/LaTeX CGI - プログラミング; BASIC C言語 C++ D言語 HTML Java JavaScript Lisp Mizar Perl PHP Python Ruby Scheme SVG\\n小・中・高校の教科書\\n小学: 国語 社会 算数 理科 英語\\n中学: 国語 社会 数学 理科 英語\\n高校: 国語 - 地歴 - 公民 - 数学; 公式集 - 理科; 物理 化学 地学 生物 - 外国語 - 情報\\n解説書・実用書・参考書\\n趣味: 料理本 - スポーツ - ゲーム\\n試験: 資格試験 - 入学試験\\nその他の本: 防災 - 生活と進路 - ウィキペディアの書き方 - ジョーク集', '')\n",
        "\n",
        "            # パンくずの削除\n",
        "            if text:\n",
        "                check_count = 0  # 改行のチェック回数を追跡\n",
        "                start = 0\n",
        "                found = False  # \">\"が見つかったかどうかのフラグ\n",
        "                while check_count < 2:  # 最初の2つの改行まで確認\n",
        "                    newline_index = text.find('\\n', start)\n",
        "                    if newline_index == -1:\n",
        "                        break  # 改行がなければループを終了\n",
        "                    segment = text[start:newline_index]  # 改行までのセグメントを取得\n",
        "                    if '>' in segment or '＞' in segment:\n",
        "                        text = text[newline_index + 1:]  # \">\"が含まれていた場合は削除\n",
        "                        found = True  # \">\"が見つかった\n",
        "                        start = 0  # 削除後のテキストの先頭から再チェック\n",
        "                    else:\n",
        "                        start = newline_index + 1  # 次のセグメントの開始位置を更新\n",
        "                    check_count += 1  # チェック回数をインクリメント\n",
        "\n",
        "                if found and start != 0:  # さらに次の改行をチェックする\n",
        "                    while True:\n",
        "                        newline_index = text.find('\\n', start)\n",
        "                        if newline_index == -1:\n",
        "                            break\n",
        "                        segment = text[start:newline_index]\n",
        "                        if '>' in segment or '＞' in segment:\n",
        "                            text = text[newline_index + 1:]  # 追加の \">\" が見つかった場合、削除\n",
        "                            start = 0  # 削除後のテキストの先頭から再チェック\n",
        "                        else:\n",
        "                            break  # \">\"が見つからなければ終了\n",
        "\n",
        "            data['text'] = text  # 更新されたテキストをデータに設定\n",
        "            json.dump(data, noskipfile, ensure_ascii=False)\n",
        "            noskipfile.write('\\n')\n"
      ],
      "metadata": {
        "id": "NHpBAsJ7WaYg"
      },
      "execution_count": 129,
      "outputs": []
    },
    {
      "cell_type": "code",
      "source": [
        "!wc -l $merged_file\n",
        "!wc -l $merged_noskip_file\n",
        "!wc -l $merged_noskip_written_file\n",
        "!wc -l $merged_noskip_written_taido_file\n",
        "!wc -l $merged_noskip_written_taido_iwaku_file\n",
        "!wc -l $merged_noskip_written_taido_iwaku_edit_file"
      ],
      "metadata": {
        "colab": {
          "base_uri": "https://localhost:8080/"
        },
        "id": "XwdlMXQibjG1",
        "outputId": "a39dc84c-3135-4661-b5f1-ff47f60b6530"
      },
      "execution_count": 130,
      "outputs": [
        {
          "output_type": "stream",
          "name": "stdout",
          "text": [
            "33375 /content/drive/MyDrive/wiki/input_merged/wiki_merged.jsonl\n",
            "31736 /content/drive/MyDrive/wiki/input_merged/wiki_merged_noskip.jsonl\n",
            "30047 /content/drive/MyDrive/wiki/input_merged/wiki_merged_noskip_written.jsonl\n",
            "30019 /content/drive/MyDrive/wiki/input_merged/wiki_merged_noskip_written_taido.jsonl\n",
            "29878 /content/drive/MyDrive/wiki/input_merged/wiki_merged_noskip_written_taido_iwaku.jsonl\n",
            "29878 /content/drive/MyDrive/wiki/input_merged/wiki_merged_noskip_written_taido_iwaku_edit.jsonl\n"
          ]
        }
      ]
    },
    {
      "cell_type": "code",
      "source": [
        "# URL重複はなさそう\n",
        "# import json\n",
        "\n",
        "# # JSONL ファイルの入力パス\n",
        "# input_file_path = merged_noskip_written_taido_iwaku_edit_file\n",
        "\n",
        "# # URLの出現回数を格納する辞書\n",
        "# url_counts = {}\n",
        "\n",
        "# # JSONL ファイルを読み込み、URLをカウント\n",
        "# with open(input_file_path, 'r', encoding='utf-8') as infile:\n",
        "#     for line in infile:\n",
        "#         data = json.loads(line)\n",
        "#         url = data.get('url')\n",
        "#         if url:\n",
        "#             if url in url_counts:\n",
        "#                 url_counts[url] += 1\n",
        "#             else:\n",
        "#                 url_counts[url] = 1\n",
        "\n",
        "# # 重複しているURL（1回以上登場するURL）を表示\n",
        "# for url, count in url_counts.items():\n",
        "#     if count > 1:\n",
        "#         print(f\"URL '{url}' appears {count} times.\")\n"
      ],
      "metadata": {
        "id": "GYyXF92PHmSl"
      },
      "execution_count": null,
      "outputs": []
    },
    {
      "cell_type": "code",
      "source": [
        "# ⑤の要件に対応\n",
        "import json\n",
        "\n",
        "# JSONL ファイルの入力パス\n",
        "input_file_path = merged_noskip_written_taido_iwaku_edit_file  # 入力ファイルのパスを適宜調整してください\n",
        "output_no_skip_path = merged_noskip_written_taido_iwaku_edit2_file  # スキップを含まない出力ファイルのパス\n",
        "\n",
        "# 文を識別するためのキーワード\n",
        "keywords = [\n",
        "    \"出典: フリー教科書『ウィキブックス（Wikibooks）』\",\n",
        "    \"コンメンタール\",\n",
        "    \"この文書ではルビが使用されています。ここでは「単語」の形で再現しています。一部の古いブラウザでは、ルビが正しく見えない場合があります。\",\n",
        "    \"クリエイティブ・コモンズ\",\n",
        "    \"パブリックドメイン\",\n",
        "    \"あなたは適切なクレジットを表示し、ライセンスへのリンクを提供し、変更があったらその旨を示さなければなりません。\",\n",
        "    \"ナビゲーションに移動 検索に移動\",\n",
        "    \"Public domainPublic domainfalsefalse\"\n",
        "]\n",
        "count = 0\n",
        "# 入力ファイルを読み込んで、条件に合うデータを対応する出力ファイルに保存\n",
        "with open(input_file_path, 'r', encoding='utf-8') as infile, \\\n",
        "     open(output_no_skip_path, 'w', encoding='utf-8') as noskipfile:\n",
        "    for line in infile:\n",
        "        data = json.loads(line)\n",
        "        text = data.get('text')\n",
        "        if text:\n",
        "\n",
        "          if (len(text)>300 and\n",
        "              not 'Wikibooks:即時削除' in text and\n",
        "              not '削除依頼中' in text and\n",
        "              not '当ページ「基本情報技術者試験」はまもなく削除される予定です。理由は以下の通りです。' in text and\n",
        "              not 'この作品はクリエイティブ・コモンズ 表示 3.0 非移植ライセンスのもとに利用を許諾されています。' in text and\n",
        "              not '著作権侵害のおそれ' in text and\n",
        "              not '現在、この項目の一部の版または全体について、削除の手続きに従って、削除が提案されています。' in text and\n",
        "              not '春二月、 天王、 家父をして 來りて 車を 求めしむ。三月 乙未、天王 崩ず[1]。' in text):\n",
        "\n",
        "              lines = text.split('\\n')\n",
        "              if lines and lines[0] == 'ダウンロード':\n",
        "              # if lines and lines[0].startswith('ダウンロード'):\n",
        "                  count += 1\n",
        "                  continue  # 先頭行が「ダウンロード」で始まるデータはスキップ\n",
        "\n",
        "              title = data.get('title')\n",
        "              if title:\n",
        "                  if '人口統計データ' in title:\n",
        "                      count += 1\n",
        "                      continue\n",
        "\n",
        "              # 改行の割合が15%以上であればデータ削除\n",
        "              newline_count = text.count('\\n')  # 改行の数をカウント\n",
        "              total_chars = len(text)  # テキストの総文字数\n",
        "              if total_chars > 0 and (newline_count / total_chars) >= 0.15:\n",
        "                  count += 1\n",
        "                  continue\n",
        "\n",
        "              text = text.replace('あなたは以下の条件に従う場合に限り、自由に\\n- 共有 – 本作品を複製、頒布、展示、実演できます。\\n- 再構成 – 二次的著作物を作成できます。\\nあなたの従うべき条件は以下の通りです。\\n', '')\n",
        "\n",
        "              # 文を\\nで分割し、指定の文を除外\n",
        "              lines = text.split('\\n')\n",
        "              updated_lines = [line for line in lines if all(keyword not in line for keyword in keywords)]\n",
        "\n",
        "              # 更新されたテキストを結合\n",
        "              updated_text = '\\n'.join(updated_lines)\n",
        "              data['text'] = updated_text\n",
        "\n",
        "              # data['text'] = text  # 更新されたテキストをデータに設定\n",
        "              json.dump(data, noskipfile, ensure_ascii=False)\n",
        "              noskipfile.write('\\n')\n",
        "          else:\n",
        "              count += 1\n",
        "              # print(data.get('title'))\n",
        "print(count)"
      ],
      "metadata": {
        "colab": {
          "base_uri": "https://localhost:8080/"
        },
        "id": "ahDidXBlGukK",
        "outputId": "929b6936-8def-4e11-c006-176453229516"
      },
      "execution_count": 131,
      "outputs": [
        {
          "output_type": "stream",
          "name": "stdout",
          "text": [
            "4069\n"
          ]
        }
      ]
    },
    {
      "cell_type": "code",
      "source": [
        "# import json\n",
        "\n",
        "# # JSONL ファイルの入力パス\n",
        "# input_file_path = merged_noskip_written_taido_iwaku_edit2_file  # 入力ファイルのパスを適宜調整してください\n",
        "# output_check_path = '/content/check.jsonl'  # 改行が10%以上含まれるデータを保存する出力ファイルのパス\n",
        "\n",
        "# cnt = 0\n",
        "# # 入力ファイルを読み込んで、特定の条件に合うデータを別のファイルに保存\n",
        "# with open(input_file_path, 'r', encoding='utf-8') as infile, \\\n",
        "#      open(output_check_path, 'w', encoding='utf-8') as outfile:\n",
        "#     for line in infile:\n",
        "#         data = json.loads(line)\n",
        "#         text = data.get('text', '')\n",
        "\n",
        "#         newline_count = text.count('\\n')  # 改行の数をカウント\n",
        "#         total_chars = len(text)  # テキストの総文字数\n",
        "\n",
        "#         # 改行の割合が10%以上であればファイルに保存\n",
        "#         if total_chars > 0 and (newline_count / total_chars) >= 0.15:\n",
        "#             json.dump(data, outfile, ensure_ascii=False)\n",
        "#             outfile.write('\\n')\n",
        "#             cnt += 1\n",
        "\n",
        "# print(\"Completed processing and saving data with newlines >= 10%.\")\n",
        "# print(cnt)\n",
        "# # 10 358\n",
        "# # 14 64\n",
        "# # 15 48\n",
        "# # 20 3"
      ],
      "metadata": {
        "colab": {
          "base_uri": "https://localhost:8080/"
        },
        "id": "ziXBxlBanHlJ",
        "outputId": "32c1b9e6-7d15-4df2-9ef1-1352133a4002"
      },
      "execution_count": 37,
      "outputs": [
        {
          "output_type": "stream",
          "name": "stdout",
          "text": [
            "Completed processing and saving data with newlines >= 10%.\n",
            "38\n"
          ]
        }
      ]
    },
    {
      "cell_type": "code",
      "source": [
        "# import json\n",
        "\n",
        "# # JSONL ファイルの入力パス\n",
        "# input_file_path = merged_noskip_written_taido_iwaku_edit2_file  # 入力ファイルのパスを適宜調整してください\n",
        "# output_file_path = '/content/creative_commons_entries.jsonl'  # クリエイティブ・コモンズを含むデータを保存するファイルのパス\n",
        "\n",
        "# # JSONL ファイルを読み込み、\"クリエイティブ・コモンズ\"を含むテキストを抽出して新しいファイルに保存\n",
        "# with open(input_file_path, 'r', encoding='utf-8') as infile, \\\n",
        "#      open(output_file_path, 'w', encoding='utf-8') as outfile:\n",
        "#     for line in infile:\n",
        "#         data = json.loads(line)\n",
        "#         text = data.get('text', '')\n",
        "\n",
        "#         # \"クリエイティブ・コモンズ\"がテキストに含まれる場合、そのデータを新しいファイルに出力\n",
        "#         if \"クリエイティブ・コモンズ\" in text:\n",
        "#             json.dump(data, outfile, ensure_ascii=False)\n",
        "#             outfile.write('\\n')\n",
        "\n",
        "# print(\"Completed extracting and writing entries containing 'クリエイティブ・コモンズ' to the output file.\")\n"
      ],
      "metadata": {
        "colab": {
          "base_uri": "https://localhost:8080/"
        },
        "id": "QJtm7rZSts3s",
        "outputId": "08e0ae96-d4db-4469-a7df-cd4b9d691286"
      },
      "execution_count": 21,
      "outputs": [
        {
          "output_type": "stream",
          "name": "stdout",
          "text": [
            "Completed extracting and writing entries containing 'クリエイティブ・コモンズ' to the output file.\n"
          ]
        }
      ]
    },
    {
      "cell_type": "code",
      "source": [
        "!wc -l $merged_file\n",
        "!wc -l $merged_noskip_file\n",
        "!wc -l $merged_noskip_written_file\n",
        "!wc -l $merged_noskip_written_taido_file\n",
        "!wc -l $merged_noskip_written_taido_iwaku_file\n",
        "!wc -l $merged_noskip_written_taido_iwaku_edit_file\n",
        "!wc -l $merged_noskip_written_taido_iwaku_edit2_file"
      ],
      "metadata": {
        "colab": {
          "base_uri": "https://localhost:8080/"
        },
        "id": "NYgKDQvOGufz",
        "outputId": "d9569f9e-9335-4b0f-cbe4-513d0f04a9b1"
      },
      "execution_count": 132,
      "outputs": [
        {
          "output_type": "stream",
          "name": "stdout",
          "text": [
            "33375 /content/drive/MyDrive/wiki/input_merged/wiki_merged.jsonl\n",
            "31736 /content/drive/MyDrive/wiki/input_merged/wiki_merged_noskip.jsonl\n",
            "30047 /content/drive/MyDrive/wiki/input_merged/wiki_merged_noskip_written.jsonl\n",
            "30019 /content/drive/MyDrive/wiki/input_merged/wiki_merged_noskip_written_taido.jsonl\n",
            "29878 /content/drive/MyDrive/wiki/input_merged/wiki_merged_noskip_written_taido_iwaku.jsonl\n",
            "29878 /content/drive/MyDrive/wiki/input_merged/wiki_merged_noskip_written_taido_iwaku_edit.jsonl\n",
            "25808 /content/drive/MyDrive/wiki/input_merged/wiki_merged_noskip_written_taido_iwaku_edit2.jsonl\n"
          ]
        }
      ]
    },
    {
      "cell_type": "code",
      "source": [
        "!pip install fasttext"
      ],
      "metadata": {
        "colab": {
          "base_uri": "https://localhost:8080/"
        },
        "id": "w_3FTmAUgTum",
        "outputId": "4c696a1f-d489-4be5-bea6-272600ae2b00"
      },
      "execution_count": 40,
      "outputs": [
        {
          "output_type": "stream",
          "name": "stdout",
          "text": [
            "Collecting fasttext\n",
            "  Downloading fasttext-0.9.2.tar.gz (68 kB)\n",
            "\u001b[?25l     \u001b[90m━━━━━━━━━━━━━━━━━━━━━━━━━━━━━━━━━━━━━━━━\u001b[0m \u001b[32m0.0/68.8 kB\u001b[0m \u001b[31m?\u001b[0m eta \u001b[36m-:--:--\u001b[0m\r\u001b[2K     \u001b[91m━━━━━━━━━━━━━━━━━━━━━━━\u001b[0m\u001b[91m╸\u001b[0m\u001b[90m━━━━━━━━━━━━━━━━\u001b[0m \u001b[32m41.0/68.8 kB\u001b[0m \u001b[31m1.1 MB/s\u001b[0m eta \u001b[36m0:00:01\u001b[0m\r\u001b[2K     \u001b[90m━━━━━━━━━━━━━━━━━━━━━━━━━━━━━━━━━━━━━━━━\u001b[0m \u001b[32m68.8/68.8 kB\u001b[0m \u001b[31m1.3 MB/s\u001b[0m eta \u001b[36m0:00:00\u001b[0m\n",
            "\u001b[?25h  Preparing metadata (setup.py) ... \u001b[?25l\u001b[?25hdone\n",
            "Collecting pybind11>=2.2 (from fasttext)\n",
            "  Using cached pybind11-2.12.0-py3-none-any.whl (234 kB)\n",
            "Requirement already satisfied: setuptools>=0.7.0 in /usr/local/lib/python3.10/dist-packages (from fasttext) (67.7.2)\n",
            "Requirement already satisfied: numpy in /usr/local/lib/python3.10/dist-packages (from fasttext) (1.25.2)\n",
            "Building wheels for collected packages: fasttext\n",
            "  Building wheel for fasttext (setup.py) ... \u001b[?25l\u001b[?25hdone\n",
            "  Created wheel for fasttext: filename=fasttext-0.9.2-cp310-cp310-linux_x86_64.whl size=4227141 sha256=9e3a6457c6152882cf5daa78878a81a33b86209fdf697949651a4ebcc18e99aa\n",
            "  Stored in directory: /root/.cache/pip/wheels/a5/13/75/f811c84a8ab36eedbaef977a6a58a98990e8e0f1967f98f394\n",
            "Successfully built fasttext\n",
            "Installing collected packages: pybind11, fasttext\n",
            "Successfully installed fasttext-0.9.2 pybind11-2.12.0\n"
          ]
        }
      ]
    },
    {
      "cell_type": "code",
      "source": [
        "# !wget https://dl.fbaipublicfiles.com/fasttext/supervised-models/lid.176.bin -P /content/drive/MyDrive/wiki"
      ],
      "metadata": {
        "colab": {
          "base_uri": "https://localhost:8080/"
        },
        "id": "y-p7jeUTgTrn",
        "outputId": "6d2569a6-3345-48eb-8933-3e67e432e8cb"
      },
      "execution_count": null,
      "outputs": [
        {
          "output_type": "stream",
          "name": "stdout",
          "text": [
            "--2024-04-24 05:21:27--  https://dl.fbaipublicfiles.com/fasttext/supervised-models/lid.176.bin\n",
            "Resolving dl.fbaipublicfiles.com (dl.fbaipublicfiles.com)... 3.162.163.11, 3.162.163.19, 3.162.163.34, ...\n",
            "Connecting to dl.fbaipublicfiles.com (dl.fbaipublicfiles.com)|3.162.163.11|:443... connected.\n",
            "HTTP request sent, awaiting response... 200 OK\n",
            "Length: 131266198 (125M) [application/octet-stream]\n",
            "Saving to: ‘/content/drive/MyDrive/wiki/lid.176.bin’\n",
            "\n",
            "lid.176.bin         100%[===================>] 125.18M  42.5MB/s    in 2.9s    \n",
            "\n",
            "2024-04-24 05:21:30 (42.5 MB/s) - ‘/content/drive/MyDrive/wiki/lid.176.bin’ saved [131266198/131266198]\n",
            "\n"
          ]
        }
      ]
    },
    {
      "cell_type": "code",
      "source": [
        "import json\n",
        "import fasttext\n",
        "\n",
        "# fastText モデルのロード\n",
        "model_path = fasttext_mode_path\n",
        "model = fasttext.load_model(model_path)\n",
        "\n",
        "# JSONL ファイルの入力パス\n",
        "input_file_path = merged_noskip_written_taido_iwaku_edit2_file\n",
        "output_file_path = merged_noskip_written_taido_iwaku_edit2_jp_file\n",
        "\n",
        "# ファイルを読み込み、日本語でない行のtitleとurlを出力\n",
        "with open(input_file_path, 'r', encoding='utf-8') as infile, open(output_file_path, 'w', encoding='utf-8') as outfile:\n",
        "    for line in infile:\n",
        "        data = json.loads(line)\n",
        "        text = data.get('text', '')\n",
        "\n",
        "        # 改行を削除\n",
        "        text = text.replace('\\n', ' ')  # 改行をスペースに置換して連結\n",
        "\n",
        "        prediction = model.predict(text, k=1)  # 最も可能性の高い言語を予測\n",
        "        language_code = prediction[0][0]\n",
        "\n",
        "        if language_code == '__label__ja':\n",
        "            json.dump(data, outfile, ensure_ascii=False)  # JSONデータを保存\n",
        "            outfile.write('\\n')\n",
        "            # title = data.get('title', 'No Title Provided')\n",
        "            # url = data.get('url', 'No URL Provided')\n",
        "            # print(f\"Title: {title}, URL: {url}\")\n",
        "\n",
        "print(\"Completed processing all lines.\")\n"
      ],
      "metadata": {
        "colab": {
          "base_uri": "https://localhost:8080/"
        },
        "id": "oEcxBG8ejZl4",
        "outputId": "9ec77d8b-8b71-4695-8a51-fecacf30fae8"
      },
      "execution_count": 133,
      "outputs": [
        {
          "output_type": "stream",
          "name": "stderr",
          "text": [
            "Warning : `load_model` does not return WordVectorModel or SupervisedModel any more, but a `FastText` object which is very similar.\n"
          ]
        },
        {
          "output_type": "stream",
          "name": "stdout",
          "text": [
            "Completed processing all lines.\n"
          ]
        }
      ]
    },
    {
      "cell_type": "code",
      "source": [
        "!wc -l $merged_file\n",
        "!wc -l $merged_noskip_file\n",
        "!wc -l $merged_noskip_written_file\n",
        "!wc -l $merged_noskip_written_taido_file\n",
        "!wc -l $merged_noskip_written_taido_iwaku_file\n",
        "!wc -l $merged_noskip_written_taido_iwaku_edit_file\n",
        "!wc -l $merged_noskip_written_taido_iwaku_edit2_file\n",
        "!wc -l $merged_noskip_written_taido_iwaku_edit2_jp_file"
      ],
      "metadata": {
        "colab": {
          "base_uri": "https://localhost:8080/"
        },
        "id": "NzJGRDHdgTlh",
        "outputId": "99699bb8-c307-449c-a5f9-2d300065b163"
      },
      "execution_count": 134,
      "outputs": [
        {
          "output_type": "stream",
          "name": "stdout",
          "text": [
            "33375 /content/drive/MyDrive/wiki/input_merged/wiki_merged.jsonl\n",
            "31736 /content/drive/MyDrive/wiki/input_merged/wiki_merged_noskip.jsonl\n",
            "30047 /content/drive/MyDrive/wiki/input_merged/wiki_merged_noskip_written.jsonl\n",
            "30019 /content/drive/MyDrive/wiki/input_merged/wiki_merged_noskip_written_taido.jsonl\n",
            "29878 /content/drive/MyDrive/wiki/input_merged/wiki_merged_noskip_written_taido_iwaku.jsonl\n",
            "29878 /content/drive/MyDrive/wiki/input_merged/wiki_merged_noskip_written_taido_iwaku_edit.jsonl\n",
            "25808 /content/drive/MyDrive/wiki/input_merged/wiki_merged_noskip_written_taido_iwaku_edit2.jsonl\n",
            "24696 /content/drive/MyDrive/wiki/input_merged/wiki_merged_noskip_written_taido_iwaku_edit2_jp.jsonl\n"
          ]
        }
      ]
    },
    {
      "cell_type": "code",
      "source": [
        "import json\n",
        "\n",
        "# JSON ファイルを読み込む\n",
        "def extract_old_characters():\n",
        "  with open(kyujitai_path, 'r', encoding='utf-8') as file:\n",
        "      data = json.load(file)\n",
        "      # print(data)\n",
        "      old_characters = [pair[1] for pair in data]\n",
        "      return old_characters\n",
        "\n",
        "# 旧字体のリストを取得\n",
        "old_characters = extract_old_characters()\n",
        "\n",
        "# 旧字体を表示\n",
        "print(old_characters)"
      ],
      "metadata": {
        "colab": {
          "base_uri": "https://localhost:8080/"
        },
        "id": "sZtRWW7xgTiH",
        "outputId": "7c1480df-4683-4006-c730-4d6c740ba89c"
      },
      "execution_count": 135,
      "outputs": [
        {
          "output_type": "stream",
          "name": "stdout",
          "text": [
            "['亞', '惡', '壓', '圍', '醫', '爲', '壹', '逸', '飮', '隱', '羽', '榮', '營', '銳', '衞', '益', '驛', '悅', '謁', '閱', '圓', '鹽', '緣', '艷', '應', '歐', '毆', '櫻', '奧', '橫', '溫', '穩', '假', '價', '禍', '畫', '會', '悔', '海', '繪', '壞', '懷', '慨', '槪', '擴', '殼', '覺', '學', '嶽', '樂', '喝', '渴', '褐', '罐', '卷', '陷', '勸', '寬', '漢', '關', '歡', '館', '觀', '顏', '氣', '祈', '既', '歸', '龜', '器', '僞', '戲', '犧', '舊', '據', '擧', '虛', '峽', '挾', '狹', '敎', '鄕', '響', '曉', '勤', '謹', '區', '驅', '勳', '薰', '徑', '莖', '契', '惠', '揭', '溪', '經', '螢', '輕', '繼', '鷄', '藝', '擊', '缺', '硏', '縣', '儉', '劍', '險', '圈', '檢', '獻', '權', '顯', '驗', '嚴', '戶', '吳', '娛', '廣', '效', '恆', '黃', '鑛', '號', '吿', '國', '黑', '穀', '碎', '濟', '齋', '歲', '劑', '殺', '雜', '參', '棧', '蠶', '慘', '產', '贊', '殘', '絲', '祉', '視', '齒', '飼', '兒', '辭', '濕', '實', '寫', '社', '舍', '者', '煮', '釋', '壽', '收', '臭', '從', '澁', '獸', '縱', '祝', '肅', '處', '暑', '署', '緖', '諸', '敍', '尙', '將', '祥', '稱', '涉', '燒', '證', '奬', '條', '狀', '乘', '淨', '剩', '疊', '繩', '壤', '孃', '讓', '釀', '觸', '囑', '神', '眞', '寢', '愼', '盡', '圖', '粹', '醉', '穗', '隨', '髓', '樞', '數', '瀨', '聲', '靑', '齊', '淸', '晴', '精', '靜', '稅', '竊', '攝', '節', '說', '絕', '專', '淺', '戰', '踐', '錢', '潛', '纖', '禪', '祖', '雙', '壯', '爭', '莊', '搜', '插', '巢', '曾', '瘦', '裝', '僧', '層', '總', '騷', '增', '憎', '藏', '贈', '臟', '卽', '屬', '續', '墮', '對', '體', '帶', '滯', '臺', '瀧', '擇', '澤', '脫', '擔', '單', '膽', '嘆', '團', '斷', '彈', '遲', '癡', '蟲', '晝', '鑄', '著', '廳', '徵', '聽', '懲', '敕', '鎭', '塚', '遞', '鐵', '點', '轉', '傳', '都', '燈', '當', '黨', '盜', '稻', '鬭', '德', '獨', '讀', '突', '屆', '內', '難', '貳', '腦', '腦', '霸', '拜', '廢', '賣', '梅', '麥', '發', '髮', '拔', '飯', '繁', '晚', '蠻', '卑', '祕', '碑', '濱', '賓', '頻', '敏', '甁', '侮', '福', '拂', '佛', '倂', '竝', '塀', '餠', '邊', '變', '勉', '步', '舖', '寶', '豐', '襃', '墨', '沒', '飜', '每', '萬', '滿', '免', '麵', '默', '彌', '譯', '藥', '與', '豫', '餘', '譽', '搖', '樣', '謠', '來', '賴', '亂', '覽', '欄', '龍', '隆', '旅', '虜', '兩', '獵', '綠', '淚', '壘', '類', '禮', '勵', '戾', '靈', '隸', '齡', '曆', '歷', '戀', '連', '廉', '練', '鍊', '爐', '勞', '郞', '朗', '廊', '樓', '籠', '錄', '灣', '堯', '巖', '摑', '彥', '檜', '槇', '渚', '猪', '琢', '瑤', '禰', '祐', '禱', '祿', '禎', '穰', '簞', '聰', '蓮', '蘭', '遙', '遼', '靖', '蘒', '啞', '噓', '穎', '鷗', '軀', '鶯', '攪', '麴', '鹼', '嚙', '繡', '蔣', '醬', '搔', '屛', '幷', '濾', '蘆', '蠟', '彎', '焰', '礦', '讚', '顚', '巓', '醱', '潑', '輛', '繫', '瀆', '儘', '藪', '蠅', '嬀', '驒']\n"
          ]
        }
      ]
    },
    {
      "cell_type": "code",
      "source": [
        "if '龍' in old_characters:\n",
        "    old_characters.remove('龍')\n",
        "    print(\"removed\")\n",
        "if '籠' in old_characters:\n",
        "    old_characters.remove('籠')\n",
        "    print(\"removed\")\n",
        "if '藪' in old_characters:\n",
        "    old_characters.remove('藪')\n",
        "    print(\"removed\")\n",
        "if '燈' in old_characters:\n",
        "    old_characters.remove('燈')\n",
        "    print(\"removed\")\n",
        "if '鶯' in old_characters:\n",
        "    old_characters.remove('鶯')\n",
        "    print(\"removed\")\n",
        "if '蠅' in old_characters:\n",
        "    old_characters.remove('蠅')\n",
        "    print(\"removed\")"
      ],
      "metadata": {
        "colab": {
          "base_uri": "https://localhost:8080/"
        },
        "id": "2s_Q8_C3wTa9",
        "outputId": "629df7f2-4cd0-46ea-c9bd-984a2cfb5f25"
      },
      "execution_count": 136,
      "outputs": [
        {
          "output_type": "stream",
          "name": "stdout",
          "text": [
            "removed\n",
            "removed\n",
            "removed\n",
            "removed\n",
            "removed\n",
            "removed\n"
          ]
        }
      ]
    },
    {
      "cell_type": "code",
      "source": [
        "# import json\n",
        "\n",
        "# # 旧字体のリスト\n",
        "# # old_characters = ['龍', '國', '讀', '體', '藝', '譯', '齒', '鄕', '廣', '樂', '兩', '靑', '飮', '發', '餘']\n",
        "\n",
        "# # JSONL ファイルの入力パス\n",
        "# input_file_path = merged_noskip_written_taido_iwaku_edit2_jp_file\n",
        "# # 旧字体が10個以上含まれるデータを保存する出力ファイルのパス\n",
        "# output_file_path_more_than_10 = '/content/kyuji03.jsonl'\n",
        "\n",
        "# # JSONL ファイルを読み込み、旧字体が10個以上のデータを新しいファイルに保存\n",
        "# with open(input_file_path, 'r', encoding='utf-8') as infile, \\\n",
        "#      open(output_file_path_more_than_10, 'w', encoding='utf-8') as outfile:\n",
        "#     for line in infile:\n",
        "#         data = json.loads(line)\n",
        "#         text = data.get('text', '')\n",
        "#         count = sum(text.count(character) for character in old_characters)\n",
        "\n",
        "#         # 旧字体が10個以上の場合にデータを保存\n",
        "#         if count == 3:\n",
        "#             json.dump(data, outfile, ensure_ascii=False)\n",
        "#             outfile.write('\\n')\n",
        "\n",
        "# print(\"Completed filtering and saving data with 10 or more old characters.\")\n"
      ],
      "metadata": {
        "colab": {
          "base_uri": "https://localhost:8080/"
        },
        "id": "hL7NMLcwsHSh",
        "outputId": "5b7ed8a1-4c9b-44f7-f607-cf2f802c8168"
      },
      "execution_count": 73,
      "outputs": [
        {
          "output_type": "stream",
          "name": "stdout",
          "text": [
            "Completed filtering and saving data with 10 or more old characters.\n"
          ]
        }
      ]
    },
    {
      "cell_type": "code",
      "source": [
        "# message = \"\""
      ],
      "metadata": {
        "id": "etemk-VLypeU"
      },
      "execution_count": 68,
      "outputs": []
    },
    {
      "cell_type": "code",
      "source": [
        "# # 旧字体を抽出して出力\n",
        "# found_characters = []\n",
        "# for character in old_characters:\n",
        "#     # 文字がメッセージに含まれている回数をカウント\n",
        "#     count = message.count(character)\n",
        "#     # 含まれている場合、その回数だけリストに追加\n",
        "#     found_characters.extend([character] * count)\n",
        "\n",
        "# # 抽出した旧字体を出力\n",
        "# print(\"抽出された旧字体：\", found_characters)"
      ],
      "metadata": {
        "colab": {
          "base_uri": "https://localhost:8080/"
        },
        "id": "Kc0DUMGmvD1O",
        "outputId": "6e6cc3f4-2e60-4d69-8669-ca0b183035dd"
      },
      "execution_count": 69,
      "outputs": [
        {
          "output_type": "stream",
          "name": "stdout",
          "text": [
            "抽出された旧字体： ['鶯', '蠅', '蠅', '蠅', '蠅']\n"
          ]
        }
      ]
    },
    {
      "cell_type": "code",
      "source": [
        "# 旧字体の探索\n",
        "# merged_noskip_written_taido_iwaku_edit_file\n",
        "\n",
        "import json\n",
        "\n",
        "# 旧字体のリスト\n",
        "# old_characters = ['龍', '國', '讀', '體', '藝', '譯', '齒', '鄕', '廣', '樂', '兩', '靑', '飮', '發', '餘']\n",
        "\n",
        "# JSONL ファイルの入力パス\n",
        "# input_file_path = merged_noskip_written_taido_iwaku_edit_file\n",
        "input_file_path = merged_noskip_written_taido_iwaku_edit2_jp_file\n",
        "output_file_path = merged_noskip_written_taido_iwaku_edit2_jp_noold_file\n",
        "\n",
        "# JSONL ファイルを読み込み、旧字体が10個未満のデータを新しいファイルに保存\n",
        "with open(input_file_path, 'r', encoding='utf-8') as infile, \\\n",
        "     open(output_file_path, 'w', encoding='utf-8') as outfile:\n",
        "    for line in infile:\n",
        "        data = json.loads(line)\n",
        "        text = data.get('text', '')\n",
        "        count = sum(text.count(character) for character in old_characters)\n",
        "\n",
        "        # 旧字体が4個未満の場合にデータを保存\n",
        "        if count < 4:\n",
        "            json.dump(data, outfile, ensure_ascii=False)\n",
        "            outfile.write('\\n')\n",
        "\n",
        "print(\"Completed filtering and saving data with less than 10 old characters.\")\n"
      ],
      "metadata": {
        "colab": {
          "base_uri": "https://localhost:8080/"
        },
        "id": "IJsBRrmh8qAD",
        "outputId": "817aed0a-b436-47a7-9f98-534111c9aca2"
      },
      "execution_count": 137,
      "outputs": [
        {
          "output_type": "stream",
          "name": "stdout",
          "text": [
            "Completed filtering and saving data with less than 10 old characters.\n"
          ]
        }
      ]
    },
    {
      "cell_type": "code",
      "source": [
        "!wc -l $merged_file\n",
        "!wc -l $merged_noskip_file\n",
        "!wc -l $merged_noskip_written_file\n",
        "!wc -l $merged_noskip_written_taido_file\n",
        "!wc -l $merged_noskip_written_taido_iwaku_file\n",
        "!wc -l $merged_noskip_written_taido_iwaku_edit_file\n",
        "!wc -l $merged_noskip_written_taido_iwaku_edit2_file\n",
        "!wc -l $merged_noskip_written_taido_iwaku_edit2_jp_file\n",
        "!wc -l $merged_noskip_written_taido_iwaku_edit2_jp_noold_file"
      ],
      "metadata": {
        "colab": {
          "base_uri": "https://localhost:8080/"
        },
        "id": "RKM6JORF6Sy7",
        "outputId": "1da6c085-e312-4107-8b18-40b84009228b"
      },
      "execution_count": 138,
      "outputs": [
        {
          "output_type": "stream",
          "name": "stdout",
          "text": [
            "33375 /content/drive/MyDrive/wiki/input_merged/wiki_merged.jsonl\n",
            "31736 /content/drive/MyDrive/wiki/input_merged/wiki_merged_noskip.jsonl\n",
            "30047 /content/drive/MyDrive/wiki/input_merged/wiki_merged_noskip_written.jsonl\n",
            "30019 /content/drive/MyDrive/wiki/input_merged/wiki_merged_noskip_written_taido.jsonl\n",
            "29878 /content/drive/MyDrive/wiki/input_merged/wiki_merged_noskip_written_taido_iwaku.jsonl\n",
            "29878 /content/drive/MyDrive/wiki/input_merged/wiki_merged_noskip_written_taido_iwaku_edit.jsonl\n",
            "25808 /content/drive/MyDrive/wiki/input_merged/wiki_merged_noskip_written_taido_iwaku_edit2.jsonl\n",
            "24696 /content/drive/MyDrive/wiki/input_merged/wiki_merged_noskip_written_taido_iwaku_edit2_jp.jsonl\n",
            "19551 /content/drive/MyDrive/wiki/input_merged/wiki_merged_noskip_written_taido_iwaku_edit2_jp_noold.jsonl\n"
          ]
        }
      ]
    },
    {
      "cell_type": "code",
      "source": [
        "#\n",
        "import json\n",
        "\n",
        "# JSONL ファイルの入力パス\n",
        "input_file_path = merged_noskip_written_taido_iwaku_edit2_jp_noold_file  # 入力ファイルのパスを適宜調整してください\n",
        "output_file_path = merged_noskip_written_taido_iwaku_edit2_jp_noold_edit3_file  # スキップを含まない出力ファイルのパス\n",
        "\n",
        "# 削除するトリガーとなる文字列のリスト\n",
        "triggers = [\"出典[編集]\", \"関連記事[編集]\", \"関連項目[編集]\", \"注釈[編集]\", \"情報源[編集]\"]\n",
        "\n",
        "# JSONL ファイルを読み込み、特定の文字列以降を削除\n",
        "with open(input_file_path, 'r', encoding='utf-8') as infile, open(output_file_path, 'w', encoding='utf-8') as outfile:\n",
        "    for line in infile:\n",
        "        data = json.loads(line)\n",
        "        text = data.get('text', '')\n",
        "\n",
        "        # 各トリガー文字列についてチェックし、最初に見つかった場所でテキストを切り捨てる\n",
        "        earliest_index = len(text)  # テキストの長さを初期のインデックスとする\n",
        "        for trigger in triggers:\n",
        "            index = text.find(trigger)\n",
        "            if index != -1:\n",
        "                earliest_index = min(earliest_index, index)  # 最も早く見つかったインデックスを更新\n",
        "\n",
        "        # 何れかのトリガーが見つかった場合、その位置以前のテキストを保持\n",
        "        if earliest_index < len(text):\n",
        "            text = text[:earliest_index]\n",
        "\n",
        "        text = text.replace('[編集]', '')\n",
        "\n",
        "        data['text'] = text  # 更新されたテキストをデータに設定\n",
        "        json.dump(data, outfile, ensure_ascii=False)\n",
        "        outfile.write('\\n')\n",
        "\n",
        "print(\"Completed processing and writing to the output file.\")"
      ],
      "metadata": {
        "id": "luFC2hCZgTZn",
        "colab": {
          "base_uri": "https://localhost:8080/"
        },
        "outputId": "5bb7763a-f70c-449e-e6dd-3738f2dd7a0e"
      },
      "execution_count": 139,
      "outputs": [
        {
          "output_type": "stream",
          "name": "stdout",
          "text": [
            "Completed processing and writing to the output file.\n"
          ]
        }
      ]
    },
    {
      "cell_type": "code",
      "source": [
        "!wc -l $merged_file\n",
        "!wc -l $merged_noskip_file\n",
        "!wc -l $merged_noskip_written_file\n",
        "!wc -l $merged_noskip_written_taido_file\n",
        "!wc -l $merged_noskip_written_taido_iwaku_file\n",
        "!wc -l $merged_noskip_written_taido_iwaku_edit_file\n",
        "!wc -l $merged_noskip_written_taido_iwaku_edit2_file\n",
        "!wc -l $merged_noskip_written_taido_iwaku_edit2_jp_file\n",
        "!wc -l $merged_noskip_written_taido_iwaku_edit2_jp_noold_file\n",
        "!wc -l $merged_noskip_written_taido_iwaku_edit2_jp_noold_edit3_file"
      ],
      "metadata": {
        "id": "fE7ktyEYGuUc",
        "colab": {
          "base_uri": "https://localhost:8080/"
        },
        "outputId": "ba4d8f66-c609-4dd0-95da-bb029d68acf5"
      },
      "execution_count": 140,
      "outputs": [
        {
          "output_type": "stream",
          "name": "stdout",
          "text": [
            "33375 /content/drive/MyDrive/wiki/input_merged/wiki_merged.jsonl\n",
            "31736 /content/drive/MyDrive/wiki/input_merged/wiki_merged_noskip.jsonl\n",
            "30047 /content/drive/MyDrive/wiki/input_merged/wiki_merged_noskip_written.jsonl\n",
            "30019 /content/drive/MyDrive/wiki/input_merged/wiki_merged_noskip_written_taido.jsonl\n",
            "29878 /content/drive/MyDrive/wiki/input_merged/wiki_merged_noskip_written_taido_iwaku.jsonl\n",
            "29878 /content/drive/MyDrive/wiki/input_merged/wiki_merged_noskip_written_taido_iwaku_edit.jsonl\n",
            "25808 /content/drive/MyDrive/wiki/input_merged/wiki_merged_noskip_written_taido_iwaku_edit2.jsonl\n",
            "24696 /content/drive/MyDrive/wiki/input_merged/wiki_merged_noskip_written_taido_iwaku_edit2_jp.jsonl\n",
            "19551 /content/drive/MyDrive/wiki/input_merged/wiki_merged_noskip_written_taido_iwaku_edit2_jp_noold.jsonl\n",
            "19551 /content/drive/MyDrive/wiki/input_merged/wiki_merged_noskip_written_taido_iwaku_edit2_jp_noold_edit3.jsonl\n"
          ]
        }
      ]
    },
    {
      "cell_type": "code",
      "source": [
        "!pip install regex"
      ],
      "metadata": {
        "colab": {
          "base_uri": "https://localhost:8080/"
        },
        "id": "2_XsGffAm-8a",
        "outputId": "3ef06e3b-b6a5-4c3b-f10a-63b9acb24b3e"
      },
      "execution_count": 96,
      "outputs": [
        {
          "output_type": "stream",
          "name": "stdout",
          "text": [
            "Requirement already satisfied: regex in /usr/local/lib/python3.10/dist-packages (2023.12.25)\n"
          ]
        }
      ]
    },
    {
      "cell_type": "code",
      "source": [
        "import regex\n",
        "import json\n",
        "\n",
        "# JSONL ファイルの入力パス\n",
        "input_file_path = merged_noskip_written_taido_iwaku_edit2_jp_noold_edit3_file  # 入力ファイルのパスを適宜調整してください\n",
        "output_file_path = merged_noskip_written_taido_iwaku_edit2_jp_noold_edit3_kana_file  # スキップを含まない出力ファイルのパス\n",
        "\n",
        "# ファイルを読み込んで、特定の条件に合わないデータを保存\n",
        "with open(input_file_path, 'r', encoding='utf-8') as infile, \\\n",
        "     open(output_file_path, 'w', encoding='utf-8') as outfile:\n",
        "    for line in infile:\n",
        "        data = json.loads(line)\n",
        "        text = data.get('text', '')\n",
        "\n",
        "        # ひらがなの割合を計算\n",
        "        hiragana_count = len(regex.findall(r\"\\p{Script=Hiragana}\", text))\n",
        "        total_count = len(text)\n",
        "        hiragana_fraction = hiragana_count / total_count if total_count > 0 else 0.0\n",
        "\n",
        "        # カタカナの割合を計算\n",
        "        katakana_count = len(regex.findall(r\"\\p{Script=Katakana}\", text))\n",
        "        katakana_fraction = katakana_count / total_count if total_count > 0 else 0.0\n",
        "\n",
        "        # ひらがなが0.1より多く、かつカタカナが0.4未満の場合のみ保存\n",
        "        if hiragana_fraction > 0.1 and katakana_fraction < 0.4:\n",
        "            # print(hiragana_fraction, ' ', katakana_fraction)\n",
        "            json.dump(data, outfile, ensure_ascii=False)\n",
        "            outfile.write('\\n')\n",
        "\n",
        "print(\"Completed filtering data based on hiragana and katakana fractions.\")\n"
      ],
      "metadata": {
        "colab": {
          "base_uri": "https://localhost:8080/"
        },
        "id": "O15FtBYXBe7O",
        "outputId": "d79e516f-a975-4b4a-e86c-3b5a259e4824"
      },
      "execution_count": 141,
      "outputs": [
        {
          "output_type": "stream",
          "name": "stdout",
          "text": [
            "Completed filtering data based on hiragana and katakana fractions.\n"
          ]
        }
      ]
    },
    {
      "cell_type": "code",
      "source": [
        "!wc -l $merged_file\n",
        "!wc -l $merged_noskip_file\n",
        "!wc -l $merged_noskip_written_file\n",
        "!wc -l $merged_noskip_written_taido_file\n",
        "!wc -l $merged_noskip_written_taido_iwaku_file\n",
        "!wc -l $merged_noskip_written_taido_iwaku_edit_file\n",
        "!wc -l $merged_noskip_written_taido_iwaku_edit2_file\n",
        "!wc -l $merged_noskip_written_taido_iwaku_edit2_jp_file\n",
        "!wc -l $merged_noskip_written_taido_iwaku_edit2_jp_noold_file\n",
        "!wc -l $merged_noskip_written_taido_iwaku_edit2_jp_noold_edit3_file\n",
        "!wc -l $merged_noskip_written_taido_iwaku_edit2_jp_noold_edit3_kana_file\n",
        "# !ls -l /content/drive/MyDrive/wiki/input_merged/"
      ],
      "metadata": {
        "colab": {
          "base_uri": "https://localhost:8080/"
        },
        "id": "nQPGtFSNBe4I",
        "outputId": "85083119-fbb0-4e11-c81b-c52214610bf0"
      },
      "execution_count": 142,
      "outputs": [
        {
          "output_type": "stream",
          "name": "stdout",
          "text": [
            "33375 /content/drive/MyDrive/wiki/input_merged/wiki_merged.jsonl\n",
            "31736 /content/drive/MyDrive/wiki/input_merged/wiki_merged_noskip.jsonl\n",
            "30047 /content/drive/MyDrive/wiki/input_merged/wiki_merged_noskip_written.jsonl\n",
            "30019 /content/drive/MyDrive/wiki/input_merged/wiki_merged_noskip_written_taido.jsonl\n",
            "29878 /content/drive/MyDrive/wiki/input_merged/wiki_merged_noskip_written_taido_iwaku.jsonl\n",
            "29878 /content/drive/MyDrive/wiki/input_merged/wiki_merged_noskip_written_taido_iwaku_edit.jsonl\n",
            "25808 /content/drive/MyDrive/wiki/input_merged/wiki_merged_noskip_written_taido_iwaku_edit2.jsonl\n",
            "24696 /content/drive/MyDrive/wiki/input_merged/wiki_merged_noskip_written_taido_iwaku_edit2_jp.jsonl\n",
            "19551 /content/drive/MyDrive/wiki/input_merged/wiki_merged_noskip_written_taido_iwaku_edit2_jp_noold.jsonl\n",
            "19551 /content/drive/MyDrive/wiki/input_merged/wiki_merged_noskip_written_taido_iwaku_edit2_jp_noold_edit3.jsonl\n",
            "18552 /content/drive/MyDrive/wiki/input_merged/wiki_merged_noskip_written_taido_iwaku_edit2_jp_noold_edit3_kana.jsonl\n"
          ]
        }
      ]
    },
    {
      "cell_type": "code",
      "source": [],
      "metadata": {
        "id": "xkCLZXLzBevK"
      },
      "execution_count": null,
      "outputs": []
    },
    {
      "cell_type": "code",
      "source": [],
      "metadata": {
        "id": "qWf0nSsWm-16"
      },
      "execution_count": null,
      "outputs": []
    },
    {
      "cell_type": "code",
      "source": [],
      "metadata": {
        "id": "DAE7FRmRm-ux"
      },
      "execution_count": null,
      "outputs": []
    },
    {
      "cell_type": "code",
      "source": [],
      "metadata": {
        "id": "3JOArDMsGuQ2"
      },
      "execution_count": null,
      "outputs": []
    },
    {
      "cell_type": "code",
      "source": [],
      "metadata": {
        "id": "YSKeeKkuGuMm"
      },
      "execution_count": null,
      "outputs": []
    },
    {
      "cell_type": "code",
      "source": [],
      "metadata": {
        "id": "6FHMr7jmbjD7"
      },
      "execution_count": null,
      "outputs": []
    },
    {
      "cell_type": "code",
      "source": [
        "# # 一部の行で検証用\n",
        "# import json\n",
        "\n",
        "# # JSONL ファイルの入力パス\n",
        "# input_file_path = merged_noskip_written_taido_iwaku_file  # 入力ファイルのパスを適宜調整してください\n",
        "# output_no_skip_path = merged_noskip_written_taido_iwaku_edit_file  # スキップを含まない出力ファイルのパス\n",
        "\n",
        "# # 指定した行範囲を処理\n",
        "# start_line = 29841\n",
        "# end_line = 29850\n",
        "\n",
        "# # 入力ファイルを読み込んで、条件に合うデータを対応する出力ファイルに保存\n",
        "# with open(input_file_path, 'r', encoding='utf-8') as infile, \\\n",
        "#      open(output_no_skip_path, 'w', encoding='utf-8') as noskipfile:\n",
        "#     for current_line_number, line in enumerate(infile, 1):\n",
        "#         if current_line_number >= start_line and current_line_number <= end_line:\n",
        "#             data = json.loads(line)\n",
        "#             text = data.get('text')\n",
        "#             if text:\n",
        "#                 # '[編集]' とその他の特定の文字列を削除\n",
        "#                 text = text.replace('[編集]', '')\n",
        "#                 text = text.replace('数行の文章か目次があります。\\n:本文が少しあります。\\n:本文が半分ほどあります。\\n: 間もなく完成します。\\n: 一応完成しています。\\n', '')\n",
        "#                 text = text.replace('数行の文章か目次があります。\\n:本文が少しあります。\\n:本文が半分ほどあります。\\n:間もなく完成します。\\n:一応完成しています。\\n', '')\n",
        "#                 text = text.replace('大学の教科書\\n自然科学: 数学 - 物理学; 古典力学 量子力学 - 化学; 無機化学 有機化学 - 生物学; 植物学 研究技術 - 地球科学 - 医学; 解剖学\\n語学: 日本語 英語 エスペラント 朝鮮語 デンマーク語 ドイツ語 フランス語 ラテン語 ルーマニア語\\n人文科学: 歴史学; 日本史 中国史 世界史 歴史観 - 心理学 - 哲学 - 芸術; 音楽 美術 - 文学; 古典文学 漢詩\\n社会科学: 法学 - 経済学 - 地理学 - 教育学; 学校教育 教育史\\n情報技術: 情報工学; MS-DOS/PC DOS UNIX/Linux TeX/LaTeX CGI - プログラミング; BASIC C言語 C++ D言語 HTML Java JavaScript Lisp Mizar Perl PHP Python Ruby Scheme SVG\\n小・中・高校の教科書\\n小学: 国語 社会 算数 理科 英語\\n中学: 国語 社会 数学 理科 英語\\n高校: 国語 - 地歴 - 公民 - 数学; 公式集 - 理科; 物理 化学 地学 生物 - 外国語 - 情報\\n解説書・実用書・参考書\\n趣味: 料理本 - スポーツ - ゲーム\\n試験: 資格試験 - 入学試験\\nその他の本: 防災 - 生活と進路 - ウィキペディアの書き方 - ジョーク集\\n', '')\n",
        "#                 text = text.replace('大学の教科書\\n自然科学: 数学 - 物理学; 古典力学 量子力学 - 化学; 無機化学 有機化学 - 生物学; 植物学 研究技術 - 地球科学 - 医学; 解剖学\\n語学: 日本語 英語 エスペラント 朝鮮語 デンマーク語 ドイツ語 フランス語 ラテン語 ルーマニア語\\n人文科学: 歴史学; 日本史 中国史 世界史 歴史観 - 心理学 - 哲学 - 芸術; 音楽 美術 - 文学; 古典文学 漢詩\\n社会科学: 法学 - 経済学 - 地理学 - 教育学; 学校教育 教育史\\n情報技術: 情報工学; MS-DOS/PC DOS UNIX/Linux TeX/LaTeX CGI - プログラミング; BASIC C言語 C++ D言語 HTML Java JavaScript Lisp Mizar Perl PHP Python Ruby Scheme SVG\\n小・中・高校の教科書\\n小学: 国語 社会 算数 理科 英語\\n中学: 国語 社会 数学 理科 英語\\n高校: 国語 - 地歴 - 公民 - 数学; 公式集 - 理科; 物理 化学 地学 生物 - 外国語 - 情報\\n解説書・実用書・参考書\\n趣味: 料理本 - スポーツ - ゲーム\\n試験: 資格試験 - 入学試験\\nその他の本: 防災 - 生活と進路 - ウィキペディアの書き方 - ジョーク集', '')\n",
        "\n",
        "#                 while True:\n",
        "#                     first_newline_index = text.find('\\n')\n",
        "#                     if first_newline_index == -1:  # 改行が見つからない場合はループを抜ける\n",
        "#                         break\n",
        "#                     segment = text[:first_newline_index]\n",
        "#                     if '＞' in segment:\n",
        "#                         text = text[first_newline_index + 1:]  # 最初の改行後のテキストを保持\n",
        "#                     else:\n",
        "#                         break  # '>'が含まれない場合はループを抜ける\n",
        "\n",
        "#                 data['text'] = text  # 更新されたテキストをデータに設定\n",
        "#                 json.dump(data, noskipfile, ensure_ascii=False)\n",
        "#                 noskipfile.write('\\n')\n"
      ],
      "metadata": {
        "id": "vEWx46HCopJJ"
      },
      "execution_count": null,
      "outputs": []
    },
    {
      "cell_type": "code",
      "source": [],
      "metadata": {
        "id": "uV5FpKJJG-EG"
      },
      "execution_count": null,
      "outputs": []
    },
    {
      "cell_type": "code",
      "source": [
        "# !pip install -q trafilatura\n",
        "# !pip install -q beautifulsoup4\n",
        "# !pip install -q requests"
      ],
      "metadata": {
        "colab": {
          "base_uri": "https://localhost:8080/"
        },
        "id": "_ORN-wfqG-AC",
        "outputId": "fb5bca8c-e278-4202-9108-be842f2c4326"
      },
      "execution_count": null,
      "outputs": [
        {
          "output_type": "stream",
          "name": "stdout",
          "text": [
            "\u001b[2K     \u001b[90m━━━━━━━━━━━━━━━━━━━━━━━━━━━━━━━━━━━━━━━━\u001b[0m \u001b[32m1.0/1.0 MB\u001b[0m \u001b[31m6.1 MB/s\u001b[0m eta \u001b[36m0:00:00\u001b[0m\n",
            "\u001b[2K     \u001b[90m━━━━━━━━━━━━━━━━━━━━━━━━━━━━━━━━━━━━━━━━\u001b[0m \u001b[32m837.8/837.8 kB\u001b[0m \u001b[31m40.8 MB/s\u001b[0m eta \u001b[36m0:00:00\u001b[0m\n",
            "\u001b[2K     \u001b[90m━━━━━━━━━━━━━━━━━━━━━━━━━━━━━━━━━━━━━━━━\u001b[0m \u001b[32m263.8/263.8 kB\u001b[0m \u001b[31m22.7 MB/s\u001b[0m eta \u001b[36m0:00:00\u001b[0m\n",
            "\u001b[2K     \u001b[90m━━━━━━━━━━━━━━━━━━━━━━━━━━━━━━━━━━━━━━━━\u001b[0m \u001b[32m295.0/295.0 kB\u001b[0m \u001b[31m23.3 MB/s\u001b[0m eta \u001b[36m0:00:00\u001b[0m\n",
            "\u001b[?25h"
          ]
        }
      ]
    },
    {
      "cell_type": "code",
      "source": [
        "# スクレイピングで取っても、簡単にきれいになりそうにもなかった。\n",
        "# import requests\n",
        "# from bs4 import BeautifulSoup\n",
        "# import json\n",
        "\n",
        "# def scrape_content(url):\n",
        "#     try:\n",
        "#         response = requests.get(url)\n",
        "#         if response.status_code == 200:\n",
        "#             soup = BeautifulSoup(response.content, 'html.parser')\n",
        "#             content_div = soup.find('div', {'class': 'mw-content-ltr mw-parser-output', 'lang': 'ja', 'dir': 'ltr'})\n",
        "#             if content_div:\n",
        "#                 return content_div.get_text(strip=True)\n",
        "#             else:\n",
        "#                 print(f\"No content found for URL: {url}\")\n",
        "#                 return None\n",
        "#         else:\n",
        "#             print(f\"Failed to fetch URL: {url} with status code: {response.status_code}\")\n",
        "#             return None\n",
        "#     except requests.RequestException as e:\n",
        "#         print(f\"Error fetching URL: {url}, Error: {e}\")\n",
        "#         return None\n",
        "\n",
        "# # JSONL ファイルのパス\n",
        "# input_file_path = merged_file  # 入力ファイルのパスを適宜調整してください\n",
        "# output_file_path = merged_scraping_file  # 出力ファイルのパス\n",
        "\n",
        "# # 出力ファイルを開く\n",
        "# with open(output_file_path, 'w', encoding='utf-8') as outfile:\n",
        "#     # 入力ファイルを読み込む\n",
        "#     with open(input_file_path, 'r', encoding='utf-8') as infile:\n",
        "#         line_count = 0\n",
        "#         for line in infile:\n",
        "#             data = json.loads(line)\n",
        "#             url = data.get('url')\n",
        "#             if url:\n",
        "#                 text = scrape_content(url)\n",
        "#                 if text is not None:\n",
        "#                     # 結果をJSON形式で保存\n",
        "#                     json.dump({'url': url, 'text': text}, outfile, ensure_ascii=False)\n",
        "#                     outfile.write('\\n')  # JSON Lines形式のために改行を追加\n",
        "#             else:\n",
        "#                 print(\"URL not found in the record.\")\n",
        "#             line_count += 1\n",
        "#             if line_count % 500 == 0:\n",
        "#                 print(f\"Processed {line_count} records.\")"
      ],
      "metadata": {
        "colab": {
          "base_uri": "https://localhost:8080/",
          "height": 478
        },
        "id": "Fmva1Mn3G98O",
        "outputId": "34e15ec9-6a32-439c-ea75-7d09cc24a016"
      },
      "execution_count": null,
      "outputs": [
        {
          "output_type": "stream",
          "name": "stdout",
          "text": [
            "Processed 500 records.\n",
            "Processed 1000 records.\n",
            "Processed 1500 records.\n",
            "Processed 2000 records.\n",
            "Processed 2500 records.\n",
            "Processed 3000 records.\n",
            "Processed 3500 records.\n"
          ]
        },
        {
          "output_type": "error",
          "ename": "KeyboardInterrupt",
          "evalue": "",
          "traceback": [
            "\u001b[0;31m---------------------------------------------------------------------------\u001b[0m",
            "\u001b[0;31mKeyboardInterrupt\u001b[0m                         Traceback (most recent call last)",
            "\u001b[0;32m<ipython-input-23-e256d33ae235>\u001b[0m in \u001b[0;36m<cell line: 28>\u001b[0;34m()\u001b[0m\n\u001b[1;32m     34\u001b[0m             \u001b[0murl\u001b[0m \u001b[0;34m=\u001b[0m \u001b[0mdata\u001b[0m\u001b[0;34m.\u001b[0m\u001b[0mget\u001b[0m\u001b[0;34m(\u001b[0m\u001b[0;34m'url'\u001b[0m\u001b[0;34m)\u001b[0m\u001b[0;34m\u001b[0m\u001b[0;34m\u001b[0m\u001b[0m\n\u001b[1;32m     35\u001b[0m             \u001b[0;32mif\u001b[0m \u001b[0murl\u001b[0m\u001b[0;34m:\u001b[0m\u001b[0;34m\u001b[0m\u001b[0;34m\u001b[0m\u001b[0m\n\u001b[0;32m---> 36\u001b[0;31m                 \u001b[0mtext\u001b[0m \u001b[0;34m=\u001b[0m \u001b[0mscrape_content\u001b[0m\u001b[0;34m(\u001b[0m\u001b[0murl\u001b[0m\u001b[0;34m)\u001b[0m\u001b[0;34m\u001b[0m\u001b[0;34m\u001b[0m\u001b[0m\n\u001b[0m\u001b[1;32m     37\u001b[0m                 \u001b[0;32mif\u001b[0m \u001b[0mtext\u001b[0m \u001b[0;32mis\u001b[0m \u001b[0;32mnot\u001b[0m \u001b[0;32mNone\u001b[0m\u001b[0;34m:\u001b[0m\u001b[0;34m\u001b[0m\u001b[0;34m\u001b[0m\u001b[0m\n\u001b[1;32m     38\u001b[0m                     \u001b[0;31m# 結果をJSON形式で保存\u001b[0m\u001b[0;34m\u001b[0m\u001b[0;34m\u001b[0m\u001b[0m\n",
            "\u001b[0;32m<ipython-input-23-e256d33ae235>\u001b[0m in \u001b[0;36mscrape_content\u001b[0;34m(url)\u001b[0m\n\u001b[1;32m      5\u001b[0m \u001b[0;32mdef\u001b[0m \u001b[0mscrape_content\u001b[0m\u001b[0;34m(\u001b[0m\u001b[0murl\u001b[0m\u001b[0;34m)\u001b[0m\u001b[0;34m:\u001b[0m\u001b[0;34m\u001b[0m\u001b[0;34m\u001b[0m\u001b[0m\n\u001b[1;32m      6\u001b[0m     \u001b[0;32mtry\u001b[0m\u001b[0;34m:\u001b[0m\u001b[0;34m\u001b[0m\u001b[0;34m\u001b[0m\u001b[0m\n\u001b[0;32m----> 7\u001b[0;31m         \u001b[0mresponse\u001b[0m \u001b[0;34m=\u001b[0m \u001b[0mrequests\u001b[0m\u001b[0;34m.\u001b[0m\u001b[0mget\u001b[0m\u001b[0;34m(\u001b[0m\u001b[0murl\u001b[0m\u001b[0;34m)\u001b[0m\u001b[0;34m\u001b[0m\u001b[0;34m\u001b[0m\u001b[0m\n\u001b[0m\u001b[1;32m      8\u001b[0m         \u001b[0;32mif\u001b[0m \u001b[0mresponse\u001b[0m\u001b[0;34m.\u001b[0m\u001b[0mstatus_code\u001b[0m \u001b[0;34m==\u001b[0m \u001b[0;36m200\u001b[0m\u001b[0;34m:\u001b[0m\u001b[0;34m\u001b[0m\u001b[0;34m\u001b[0m\u001b[0m\n\u001b[1;32m      9\u001b[0m             \u001b[0msoup\u001b[0m \u001b[0;34m=\u001b[0m \u001b[0mBeautifulSoup\u001b[0m\u001b[0;34m(\u001b[0m\u001b[0mresponse\u001b[0m\u001b[0;34m.\u001b[0m\u001b[0mcontent\u001b[0m\u001b[0;34m,\u001b[0m \u001b[0;34m'html.parser'\u001b[0m\u001b[0;34m)\u001b[0m\u001b[0;34m\u001b[0m\u001b[0;34m\u001b[0m\u001b[0m\n",
            "\u001b[0;32m/usr/local/lib/python3.10/dist-packages/requests/api.py\u001b[0m in \u001b[0;36mget\u001b[0;34m(url, params, **kwargs)\u001b[0m\n\u001b[1;32m     71\u001b[0m     \"\"\"\n\u001b[1;32m     72\u001b[0m \u001b[0;34m\u001b[0m\u001b[0m\n\u001b[0;32m---> 73\u001b[0;31m     \u001b[0;32mreturn\u001b[0m \u001b[0mrequest\u001b[0m\u001b[0;34m(\u001b[0m\u001b[0;34m\"get\"\u001b[0m\u001b[0;34m,\u001b[0m \u001b[0murl\u001b[0m\u001b[0;34m,\u001b[0m \u001b[0mparams\u001b[0m\u001b[0;34m=\u001b[0m\u001b[0mparams\u001b[0m\u001b[0;34m,\u001b[0m \u001b[0;34m**\u001b[0m\u001b[0mkwargs\u001b[0m\u001b[0;34m)\u001b[0m\u001b[0;34m\u001b[0m\u001b[0;34m\u001b[0m\u001b[0m\n\u001b[0m\u001b[1;32m     74\u001b[0m \u001b[0;34m\u001b[0m\u001b[0m\n\u001b[1;32m     75\u001b[0m \u001b[0;34m\u001b[0m\u001b[0m\n",
            "\u001b[0;32m/usr/local/lib/python3.10/dist-packages/requests/api.py\u001b[0m in \u001b[0;36mrequest\u001b[0;34m(method, url, **kwargs)\u001b[0m\n\u001b[1;32m     57\u001b[0m     \u001b[0;31m# cases, and look like a memory leak in others.\u001b[0m\u001b[0;34m\u001b[0m\u001b[0;34m\u001b[0m\u001b[0m\n\u001b[1;32m     58\u001b[0m     \u001b[0;32mwith\u001b[0m \u001b[0msessions\u001b[0m\u001b[0;34m.\u001b[0m\u001b[0mSession\u001b[0m\u001b[0;34m(\u001b[0m\u001b[0;34m)\u001b[0m \u001b[0;32mas\u001b[0m \u001b[0msession\u001b[0m\u001b[0;34m:\u001b[0m\u001b[0;34m\u001b[0m\u001b[0;34m\u001b[0m\u001b[0m\n\u001b[0;32m---> 59\u001b[0;31m         \u001b[0;32mreturn\u001b[0m \u001b[0msession\u001b[0m\u001b[0;34m.\u001b[0m\u001b[0mrequest\u001b[0m\u001b[0;34m(\u001b[0m\u001b[0mmethod\u001b[0m\u001b[0;34m=\u001b[0m\u001b[0mmethod\u001b[0m\u001b[0;34m,\u001b[0m \u001b[0murl\u001b[0m\u001b[0;34m=\u001b[0m\u001b[0murl\u001b[0m\u001b[0;34m,\u001b[0m \u001b[0;34m**\u001b[0m\u001b[0mkwargs\u001b[0m\u001b[0;34m)\u001b[0m\u001b[0;34m\u001b[0m\u001b[0;34m\u001b[0m\u001b[0m\n\u001b[0m\u001b[1;32m     60\u001b[0m \u001b[0;34m\u001b[0m\u001b[0m\n\u001b[1;32m     61\u001b[0m \u001b[0;34m\u001b[0m\u001b[0m\n",
            "\u001b[0;32m/usr/local/lib/python3.10/dist-packages/requests/sessions.py\u001b[0m in \u001b[0;36mrequest\u001b[0;34m(self, method, url, params, data, headers, cookies, files, auth, timeout, allow_redirects, proxies, hooks, stream, verify, cert, json)\u001b[0m\n\u001b[1;32m    587\u001b[0m         }\n\u001b[1;32m    588\u001b[0m         \u001b[0msend_kwargs\u001b[0m\u001b[0;34m.\u001b[0m\u001b[0mupdate\u001b[0m\u001b[0;34m(\u001b[0m\u001b[0msettings\u001b[0m\u001b[0;34m)\u001b[0m\u001b[0;34m\u001b[0m\u001b[0;34m\u001b[0m\u001b[0m\n\u001b[0;32m--> 589\u001b[0;31m         \u001b[0mresp\u001b[0m \u001b[0;34m=\u001b[0m \u001b[0mself\u001b[0m\u001b[0;34m.\u001b[0m\u001b[0msend\u001b[0m\u001b[0;34m(\u001b[0m\u001b[0mprep\u001b[0m\u001b[0;34m,\u001b[0m \u001b[0;34m**\u001b[0m\u001b[0msend_kwargs\u001b[0m\u001b[0;34m)\u001b[0m\u001b[0;34m\u001b[0m\u001b[0;34m\u001b[0m\u001b[0m\n\u001b[0m\u001b[1;32m    590\u001b[0m \u001b[0;34m\u001b[0m\u001b[0m\n\u001b[1;32m    591\u001b[0m         \u001b[0;32mreturn\u001b[0m \u001b[0mresp\u001b[0m\u001b[0;34m\u001b[0m\u001b[0;34m\u001b[0m\u001b[0m\n",
            "\u001b[0;32m/usr/local/lib/python3.10/dist-packages/requests/sessions.py\u001b[0m in \u001b[0;36msend\u001b[0;34m(self, request, **kwargs)\u001b[0m\n\u001b[1;32m    701\u001b[0m \u001b[0;34m\u001b[0m\u001b[0m\n\u001b[1;32m    702\u001b[0m         \u001b[0;31m# Send the request\u001b[0m\u001b[0;34m\u001b[0m\u001b[0;34m\u001b[0m\u001b[0m\n\u001b[0;32m--> 703\u001b[0;31m         \u001b[0mr\u001b[0m \u001b[0;34m=\u001b[0m \u001b[0madapter\u001b[0m\u001b[0;34m.\u001b[0m\u001b[0msend\u001b[0m\u001b[0;34m(\u001b[0m\u001b[0mrequest\u001b[0m\u001b[0;34m,\u001b[0m \u001b[0;34m**\u001b[0m\u001b[0mkwargs\u001b[0m\u001b[0;34m)\u001b[0m\u001b[0;34m\u001b[0m\u001b[0;34m\u001b[0m\u001b[0m\n\u001b[0m\u001b[1;32m    704\u001b[0m \u001b[0;34m\u001b[0m\u001b[0m\n\u001b[1;32m    705\u001b[0m         \u001b[0;31m# Total elapsed time of the request (approximately)\u001b[0m\u001b[0;34m\u001b[0m\u001b[0;34m\u001b[0m\u001b[0m\n",
            "\u001b[0;32m/usr/local/lib/python3.10/dist-packages/requests/adapters.py\u001b[0m in \u001b[0;36msend\u001b[0;34m(self, request, stream, timeout, verify, cert, proxies)\u001b[0m\n\u001b[1;32m    484\u001b[0m \u001b[0;34m\u001b[0m\u001b[0m\n\u001b[1;32m    485\u001b[0m         \u001b[0;32mtry\u001b[0m\u001b[0;34m:\u001b[0m\u001b[0;34m\u001b[0m\u001b[0;34m\u001b[0m\u001b[0m\n\u001b[0;32m--> 486\u001b[0;31m             resp = conn.urlopen(\n\u001b[0m\u001b[1;32m    487\u001b[0m                 \u001b[0mmethod\u001b[0m\u001b[0;34m=\u001b[0m\u001b[0mrequest\u001b[0m\u001b[0;34m.\u001b[0m\u001b[0mmethod\u001b[0m\u001b[0;34m,\u001b[0m\u001b[0;34m\u001b[0m\u001b[0;34m\u001b[0m\u001b[0m\n\u001b[1;32m    488\u001b[0m                 \u001b[0murl\u001b[0m\u001b[0;34m=\u001b[0m\u001b[0murl\u001b[0m\u001b[0;34m,\u001b[0m\u001b[0;34m\u001b[0m\u001b[0;34m\u001b[0m\u001b[0m\n",
            "\u001b[0;32m/usr/local/lib/python3.10/dist-packages/urllib3/connectionpool.py\u001b[0m in \u001b[0;36murlopen\u001b[0;34m(self, method, url, body, headers, retries, redirect, assert_same_host, timeout, pool_timeout, release_conn, chunked, body_pos, preload_content, decode_content, **response_kw)\u001b[0m\n\u001b[1;32m    789\u001b[0m \u001b[0;34m\u001b[0m\u001b[0m\n\u001b[1;32m    790\u001b[0m             \u001b[0;31m# Make the request on the HTTPConnection object\u001b[0m\u001b[0;34m\u001b[0m\u001b[0;34m\u001b[0m\u001b[0m\n\u001b[0;32m--> 791\u001b[0;31m             response = self._make_request(\n\u001b[0m\u001b[1;32m    792\u001b[0m                 \u001b[0mconn\u001b[0m\u001b[0;34m,\u001b[0m\u001b[0;34m\u001b[0m\u001b[0;34m\u001b[0m\u001b[0m\n\u001b[1;32m    793\u001b[0m                 \u001b[0mmethod\u001b[0m\u001b[0;34m,\u001b[0m\u001b[0;34m\u001b[0m\u001b[0;34m\u001b[0m\u001b[0m\n",
            "\u001b[0;32m/usr/local/lib/python3.10/dist-packages/urllib3/connectionpool.py\u001b[0m in \u001b[0;36m_make_request\u001b[0;34m(self, conn, method, url, body, headers, retries, timeout, chunked, response_conn, preload_content, decode_content, enforce_content_length)\u001b[0m\n\u001b[1;32m    535\u001b[0m         \u001b[0;31m# Receive the response from the server\u001b[0m\u001b[0;34m\u001b[0m\u001b[0;34m\u001b[0m\u001b[0m\n\u001b[1;32m    536\u001b[0m         \u001b[0;32mtry\u001b[0m\u001b[0;34m:\u001b[0m\u001b[0;34m\u001b[0m\u001b[0;34m\u001b[0m\u001b[0m\n\u001b[0;32m--> 537\u001b[0;31m             \u001b[0mresponse\u001b[0m \u001b[0;34m=\u001b[0m \u001b[0mconn\u001b[0m\u001b[0;34m.\u001b[0m\u001b[0mgetresponse\u001b[0m\u001b[0;34m(\u001b[0m\u001b[0;34m)\u001b[0m\u001b[0;34m\u001b[0m\u001b[0;34m\u001b[0m\u001b[0m\n\u001b[0m\u001b[1;32m    538\u001b[0m         \u001b[0;32mexcept\u001b[0m \u001b[0;34m(\u001b[0m\u001b[0mBaseSSLError\u001b[0m\u001b[0;34m,\u001b[0m \u001b[0mOSError\u001b[0m\u001b[0;34m)\u001b[0m \u001b[0;32mas\u001b[0m \u001b[0me\u001b[0m\u001b[0;34m:\u001b[0m\u001b[0;34m\u001b[0m\u001b[0;34m\u001b[0m\u001b[0m\n\u001b[1;32m    539\u001b[0m             \u001b[0mself\u001b[0m\u001b[0;34m.\u001b[0m\u001b[0m_raise_timeout\u001b[0m\u001b[0;34m(\u001b[0m\u001b[0merr\u001b[0m\u001b[0;34m=\u001b[0m\u001b[0me\u001b[0m\u001b[0;34m,\u001b[0m \u001b[0murl\u001b[0m\u001b[0;34m=\u001b[0m\u001b[0murl\u001b[0m\u001b[0;34m,\u001b[0m \u001b[0mtimeout_value\u001b[0m\u001b[0;34m=\u001b[0m\u001b[0mread_timeout\u001b[0m\u001b[0;34m)\u001b[0m\u001b[0;34m\u001b[0m\u001b[0;34m\u001b[0m\u001b[0m\n",
            "\u001b[0;32m/usr/local/lib/python3.10/dist-packages/urllib3/connection.py\u001b[0m in \u001b[0;36mgetresponse\u001b[0;34m(self)\u001b[0m\n\u001b[1;32m    459\u001b[0m \u001b[0;34m\u001b[0m\u001b[0m\n\u001b[1;32m    460\u001b[0m         \u001b[0;31m# Get the response from http.client.HTTPConnection\u001b[0m\u001b[0;34m\u001b[0m\u001b[0;34m\u001b[0m\u001b[0m\n\u001b[0;32m--> 461\u001b[0;31m         \u001b[0mhttplib_response\u001b[0m \u001b[0;34m=\u001b[0m \u001b[0msuper\u001b[0m\u001b[0;34m(\u001b[0m\u001b[0;34m)\u001b[0m\u001b[0;34m.\u001b[0m\u001b[0mgetresponse\u001b[0m\u001b[0;34m(\u001b[0m\u001b[0;34m)\u001b[0m\u001b[0;34m\u001b[0m\u001b[0;34m\u001b[0m\u001b[0m\n\u001b[0m\u001b[1;32m    462\u001b[0m \u001b[0;34m\u001b[0m\u001b[0m\n\u001b[1;32m    463\u001b[0m         \u001b[0;32mtry\u001b[0m\u001b[0;34m:\u001b[0m\u001b[0;34m\u001b[0m\u001b[0;34m\u001b[0m\u001b[0m\n",
            "\u001b[0;32m/usr/lib/python3.10/http/client.py\u001b[0m in \u001b[0;36mgetresponse\u001b[0;34m(self)\u001b[0m\n\u001b[1;32m   1373\u001b[0m         \u001b[0;32mtry\u001b[0m\u001b[0;34m:\u001b[0m\u001b[0;34m\u001b[0m\u001b[0;34m\u001b[0m\u001b[0m\n\u001b[1;32m   1374\u001b[0m             \u001b[0;32mtry\u001b[0m\u001b[0;34m:\u001b[0m\u001b[0;34m\u001b[0m\u001b[0;34m\u001b[0m\u001b[0m\n\u001b[0;32m-> 1375\u001b[0;31m                 \u001b[0mresponse\u001b[0m\u001b[0;34m.\u001b[0m\u001b[0mbegin\u001b[0m\u001b[0;34m(\u001b[0m\u001b[0;34m)\u001b[0m\u001b[0;34m\u001b[0m\u001b[0;34m\u001b[0m\u001b[0m\n\u001b[0m\u001b[1;32m   1376\u001b[0m             \u001b[0;32mexcept\u001b[0m \u001b[0mConnectionError\u001b[0m\u001b[0;34m:\u001b[0m\u001b[0;34m\u001b[0m\u001b[0;34m\u001b[0m\u001b[0m\n\u001b[1;32m   1377\u001b[0m                 \u001b[0mself\u001b[0m\u001b[0;34m.\u001b[0m\u001b[0mclose\u001b[0m\u001b[0;34m(\u001b[0m\u001b[0;34m)\u001b[0m\u001b[0;34m\u001b[0m\u001b[0;34m\u001b[0m\u001b[0m\n",
            "\u001b[0;32m/usr/lib/python3.10/http/client.py\u001b[0m in \u001b[0;36mbegin\u001b[0;34m(self)\u001b[0m\n\u001b[1;32m    316\u001b[0m         \u001b[0;31m# read until we get a non-100 response\u001b[0m\u001b[0;34m\u001b[0m\u001b[0;34m\u001b[0m\u001b[0m\n\u001b[1;32m    317\u001b[0m         \u001b[0;32mwhile\u001b[0m \u001b[0;32mTrue\u001b[0m\u001b[0;34m:\u001b[0m\u001b[0;34m\u001b[0m\u001b[0;34m\u001b[0m\u001b[0m\n\u001b[0;32m--> 318\u001b[0;31m             \u001b[0mversion\u001b[0m\u001b[0;34m,\u001b[0m \u001b[0mstatus\u001b[0m\u001b[0;34m,\u001b[0m \u001b[0mreason\u001b[0m \u001b[0;34m=\u001b[0m \u001b[0mself\u001b[0m\u001b[0;34m.\u001b[0m\u001b[0m_read_status\u001b[0m\u001b[0;34m(\u001b[0m\u001b[0;34m)\u001b[0m\u001b[0;34m\u001b[0m\u001b[0;34m\u001b[0m\u001b[0m\n\u001b[0m\u001b[1;32m    319\u001b[0m             \u001b[0;32mif\u001b[0m \u001b[0mstatus\u001b[0m \u001b[0;34m!=\u001b[0m \u001b[0mCONTINUE\u001b[0m\u001b[0;34m:\u001b[0m\u001b[0;34m\u001b[0m\u001b[0;34m\u001b[0m\u001b[0m\n\u001b[1;32m    320\u001b[0m                 \u001b[0;32mbreak\u001b[0m\u001b[0;34m\u001b[0m\u001b[0;34m\u001b[0m\u001b[0m\n",
            "\u001b[0;32m/usr/lib/python3.10/http/client.py\u001b[0m in \u001b[0;36m_read_status\u001b[0;34m(self)\u001b[0m\n\u001b[1;32m    277\u001b[0m \u001b[0;34m\u001b[0m\u001b[0m\n\u001b[1;32m    278\u001b[0m     \u001b[0;32mdef\u001b[0m \u001b[0m_read_status\u001b[0m\u001b[0;34m(\u001b[0m\u001b[0mself\u001b[0m\u001b[0;34m)\u001b[0m\u001b[0;34m:\u001b[0m\u001b[0;34m\u001b[0m\u001b[0;34m\u001b[0m\u001b[0m\n\u001b[0;32m--> 279\u001b[0;31m         \u001b[0mline\u001b[0m \u001b[0;34m=\u001b[0m \u001b[0mstr\u001b[0m\u001b[0;34m(\u001b[0m\u001b[0mself\u001b[0m\u001b[0;34m.\u001b[0m\u001b[0mfp\u001b[0m\u001b[0;34m.\u001b[0m\u001b[0mreadline\u001b[0m\u001b[0;34m(\u001b[0m\u001b[0m_MAXLINE\u001b[0m \u001b[0;34m+\u001b[0m \u001b[0;36m1\u001b[0m\u001b[0;34m)\u001b[0m\u001b[0;34m,\u001b[0m \u001b[0;34m\"iso-8859-1\"\u001b[0m\u001b[0;34m)\u001b[0m\u001b[0;34m\u001b[0m\u001b[0;34m\u001b[0m\u001b[0m\n\u001b[0m\u001b[1;32m    280\u001b[0m         \u001b[0;32mif\u001b[0m \u001b[0mlen\u001b[0m\u001b[0;34m(\u001b[0m\u001b[0mline\u001b[0m\u001b[0;34m)\u001b[0m \u001b[0;34m>\u001b[0m \u001b[0m_MAXLINE\u001b[0m\u001b[0;34m:\u001b[0m\u001b[0;34m\u001b[0m\u001b[0;34m\u001b[0m\u001b[0m\n\u001b[1;32m    281\u001b[0m             \u001b[0;32mraise\u001b[0m \u001b[0mLineTooLong\u001b[0m\u001b[0;34m(\u001b[0m\u001b[0;34m\"status line\"\u001b[0m\u001b[0;34m)\u001b[0m\u001b[0;34m\u001b[0m\u001b[0;34m\u001b[0m\u001b[0m\n",
            "\u001b[0;32m/usr/lib/python3.10/socket.py\u001b[0m in \u001b[0;36mreadinto\u001b[0;34m(self, b)\u001b[0m\n\u001b[1;32m    703\u001b[0m         \u001b[0;32mwhile\u001b[0m \u001b[0;32mTrue\u001b[0m\u001b[0;34m:\u001b[0m\u001b[0;34m\u001b[0m\u001b[0;34m\u001b[0m\u001b[0m\n\u001b[1;32m    704\u001b[0m             \u001b[0;32mtry\u001b[0m\u001b[0;34m:\u001b[0m\u001b[0;34m\u001b[0m\u001b[0;34m\u001b[0m\u001b[0m\n\u001b[0;32m--> 705\u001b[0;31m                 \u001b[0;32mreturn\u001b[0m \u001b[0mself\u001b[0m\u001b[0;34m.\u001b[0m\u001b[0m_sock\u001b[0m\u001b[0;34m.\u001b[0m\u001b[0mrecv_into\u001b[0m\u001b[0;34m(\u001b[0m\u001b[0mb\u001b[0m\u001b[0;34m)\u001b[0m\u001b[0;34m\u001b[0m\u001b[0;34m\u001b[0m\u001b[0m\n\u001b[0m\u001b[1;32m    706\u001b[0m             \u001b[0;32mexcept\u001b[0m \u001b[0mtimeout\u001b[0m\u001b[0;34m:\u001b[0m\u001b[0;34m\u001b[0m\u001b[0;34m\u001b[0m\u001b[0m\n\u001b[1;32m    707\u001b[0m                 \u001b[0mself\u001b[0m\u001b[0;34m.\u001b[0m\u001b[0m_timeout_occurred\u001b[0m \u001b[0;34m=\u001b[0m \u001b[0;32mTrue\u001b[0m\u001b[0;34m\u001b[0m\u001b[0;34m\u001b[0m\u001b[0m\n",
            "\u001b[0;32m/usr/lib/python3.10/ssl.py\u001b[0m in \u001b[0;36mrecv_into\u001b[0;34m(self, buffer, nbytes, flags)\u001b[0m\n\u001b[1;32m   1301\u001b[0m                   \u001b[0;34m\"non-zero flags not allowed in calls to recv_into() on %s\"\u001b[0m \u001b[0;34m%\u001b[0m\u001b[0;34m\u001b[0m\u001b[0;34m\u001b[0m\u001b[0m\n\u001b[1;32m   1302\u001b[0m                   self.__class__)\n\u001b[0;32m-> 1303\u001b[0;31m             \u001b[0;32mreturn\u001b[0m \u001b[0mself\u001b[0m\u001b[0;34m.\u001b[0m\u001b[0mread\u001b[0m\u001b[0;34m(\u001b[0m\u001b[0mnbytes\u001b[0m\u001b[0;34m,\u001b[0m \u001b[0mbuffer\u001b[0m\u001b[0;34m)\u001b[0m\u001b[0;34m\u001b[0m\u001b[0;34m\u001b[0m\u001b[0m\n\u001b[0m\u001b[1;32m   1304\u001b[0m         \u001b[0;32melse\u001b[0m\u001b[0;34m:\u001b[0m\u001b[0;34m\u001b[0m\u001b[0;34m\u001b[0m\u001b[0m\n\u001b[1;32m   1305\u001b[0m             \u001b[0;32mreturn\u001b[0m \u001b[0msuper\u001b[0m\u001b[0;34m(\u001b[0m\u001b[0;34m)\u001b[0m\u001b[0;34m.\u001b[0m\u001b[0mrecv_into\u001b[0m\u001b[0;34m(\u001b[0m\u001b[0mbuffer\u001b[0m\u001b[0;34m,\u001b[0m \u001b[0mnbytes\u001b[0m\u001b[0;34m,\u001b[0m \u001b[0mflags\u001b[0m\u001b[0;34m)\u001b[0m\u001b[0;34m\u001b[0m\u001b[0;34m\u001b[0m\u001b[0m\n",
            "\u001b[0;32m/usr/lib/python3.10/ssl.py\u001b[0m in \u001b[0;36mread\u001b[0;34m(self, len, buffer)\u001b[0m\n\u001b[1;32m   1157\u001b[0m         \u001b[0;32mtry\u001b[0m\u001b[0;34m:\u001b[0m\u001b[0;34m\u001b[0m\u001b[0;34m\u001b[0m\u001b[0m\n\u001b[1;32m   1158\u001b[0m             \u001b[0;32mif\u001b[0m \u001b[0mbuffer\u001b[0m \u001b[0;32mis\u001b[0m \u001b[0;32mnot\u001b[0m \u001b[0;32mNone\u001b[0m\u001b[0;34m:\u001b[0m\u001b[0;34m\u001b[0m\u001b[0;34m\u001b[0m\u001b[0m\n\u001b[0;32m-> 1159\u001b[0;31m                 \u001b[0;32mreturn\u001b[0m \u001b[0mself\u001b[0m\u001b[0;34m.\u001b[0m\u001b[0m_sslobj\u001b[0m\u001b[0;34m.\u001b[0m\u001b[0mread\u001b[0m\u001b[0;34m(\u001b[0m\u001b[0mlen\u001b[0m\u001b[0;34m,\u001b[0m \u001b[0mbuffer\u001b[0m\u001b[0;34m)\u001b[0m\u001b[0;34m\u001b[0m\u001b[0;34m\u001b[0m\u001b[0m\n\u001b[0m\u001b[1;32m   1160\u001b[0m             \u001b[0;32melse\u001b[0m\u001b[0;34m:\u001b[0m\u001b[0;34m\u001b[0m\u001b[0;34m\u001b[0m\u001b[0m\n\u001b[1;32m   1161\u001b[0m                 \u001b[0;32mreturn\u001b[0m \u001b[0mself\u001b[0m\u001b[0;34m.\u001b[0m\u001b[0m_sslobj\u001b[0m\u001b[0;34m.\u001b[0m\u001b[0mread\u001b[0m\u001b[0;34m(\u001b[0m\u001b[0mlen\u001b[0m\u001b[0;34m)\u001b[0m\u001b[0;34m\u001b[0m\u001b[0;34m\u001b[0m\u001b[0m\n",
            "\u001b[0;31mKeyboardInterrupt\u001b[0m: "
          ]
        }
      ]
    },
    {
      "cell_type": "code",
      "source": [],
      "metadata": {
        "id": "PRDf_cEKHVcL"
      },
      "execution_count": null,
      "outputs": []
    }
  ]
}